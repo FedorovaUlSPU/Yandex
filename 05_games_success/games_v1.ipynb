{
 "cells": [
  {
   "cell_type": "markdown",
   "id": "cab5fd3a",
   "metadata": {},
   "source": [
    "# Описание проекта\n",
    "Вы работаете в интернет-магазине «Стримчик», который продаёт по всему миру компьютерные игры. Из открытых источников доступны исторические данные о продажах игр, оценки пользователей и экспертов, жанры и платформы (например, Xbox или PlayStation). Вам нужно выявить определяющие успешность игры закономерности. Это позволит сделать ставку на потенциально популярный продукт и спланировать рекламные кампании.\n"
   ]
  },
  {
   "cell_type": "markdown",
   "id": "94490bae",
   "metadata": {},
   "source": [
    "# Описание данных\n",
    "•\tName — название игры <br>\n",
    "•\tPlatform — платформа <br>\n",
    "•\tYear_of_Release — год выпуска <br>\n",
    "•\tGenre — жанр игры <br>\n",
    "•\tNA_sales — продажи в Северной Америке (миллионы проданных копий) <br>\n",
    "•\tEU_sales — продажи в Европе (миллионы проданных копий) <br>\n",
    "•\tJP_sales — продажи в Японии (миллионы проданных копий) <br>\n",
    "•\tOther_sales — продажи в других странах (миллионы проданных копий) <br>\n",
    "•\tCritic_Score — оценка критиков (максимум 100) <br>\n",
    "•\tUser_Score — оценка пользователей (максимум 10) <br>\n",
    "•\tRating — рейтинг от организации ESRB (англ. Entertainment Software Rating Board). Эта ассоциация определяет рейтинг компьютерных игр и присваивает им подходящую возрастную категорию.\n"
   ]
  },
  {
   "cell_type": "markdown",
   "id": "6d25034d",
   "metadata": {},
   "source": [
    "# План работы\n",
    "1. [Открытие данных](#start)\n",
    "2. [Подготовка данных](#preprocessing)\n",
    "3. [Анализ данных](#analysys)\n",
    "4. [Составление портрета пользователя по регионам](#portrait)\n",
    "    * [Северная Америка](#na)\n",
    "    * [Европа](#eu)\n",
    "    * [Япония](#jp)\n",
    "5. [Проверка гипотез](#hypoths)\n",
    "    * [Гипотеза 1. Средние пользовательские рейтинги платформ Xbox One и PC одинаковые](#hyp1)\n",
    "    * [Гипотеза 2. Средние пользовательские рейтинги жанров Action и Sports разные](#hyp2)\n",
    "6. [Общий вывод](#conclusions)"
   ]
  },
  {
   "cell_type": "markdown",
   "id": "7bda48e9",
   "metadata": {},
   "source": [
    "<a id=\"start\"><h1>1. Открытие данных</h1> </a>"
   ]
  },
  {
   "cell_type": "code",
   "execution_count": 1,
   "id": "ed00e9b3",
   "metadata": {},
   "outputs": [],
   "source": [
    "import pandas as pd\n",
    "import numpy as np\n",
    "from scipy import stats as st\n",
    "import matplotlib.pyplot as plt \n",
    "import seaborn as sns\n",
    "import math"
   ]
  },
  {
   "cell_type": "code",
   "execution_count": 2,
   "id": "06448151",
   "metadata": {},
   "outputs": [
    {
     "name": "stdout",
     "output_type": "stream",
     "text": [
      "<class 'pandas.core.frame.DataFrame'>\n",
      "RangeIndex: 16715 entries, 0 to 16714\n",
      "Data columns (total 11 columns):\n",
      "Name               16713 non-null object\n",
      "Platform           16715 non-null object\n",
      "Year_of_Release    16446 non-null float64\n",
      "Genre              16713 non-null object\n",
      "NA_sales           16715 non-null float64\n",
      "EU_sales           16715 non-null float64\n",
      "JP_sales           16715 non-null float64\n",
      "Other_sales        16715 non-null float64\n",
      "Critic_Score       8137 non-null float64\n",
      "User_Score         10014 non-null object\n",
      "Rating             9949 non-null object\n",
      "dtypes: float64(6), object(5)\n",
      "memory usage: 1.4+ MB\n"
     ]
    },
    {
     "data": {
      "text/html": [
       "<div>\n",
       "<style scoped>\n",
       "    .dataframe tbody tr th:only-of-type {\n",
       "        vertical-align: middle;\n",
       "    }\n",
       "\n",
       "    .dataframe tbody tr th {\n",
       "        vertical-align: top;\n",
       "    }\n",
       "\n",
       "    .dataframe thead th {\n",
       "        text-align: right;\n",
       "    }\n",
       "</style>\n",
       "<table border=\"1\" class=\"dataframe\">\n",
       "  <thead>\n",
       "    <tr style=\"text-align: right;\">\n",
       "      <th></th>\n",
       "      <th>Name</th>\n",
       "      <th>Platform</th>\n",
       "      <th>Year_of_Release</th>\n",
       "      <th>Genre</th>\n",
       "      <th>NA_sales</th>\n",
       "      <th>EU_sales</th>\n",
       "      <th>JP_sales</th>\n",
       "      <th>Other_sales</th>\n",
       "      <th>Critic_Score</th>\n",
       "      <th>User_Score</th>\n",
       "      <th>Rating</th>\n",
       "    </tr>\n",
       "  </thead>\n",
       "  <tbody>\n",
       "    <tr>\n",
       "      <td>0</td>\n",
       "      <td>Wii Sports</td>\n",
       "      <td>Wii</td>\n",
       "      <td>2006.0</td>\n",
       "      <td>Sports</td>\n",
       "      <td>41.36</td>\n",
       "      <td>28.96</td>\n",
       "      <td>3.77</td>\n",
       "      <td>8.45</td>\n",
       "      <td>76.0</td>\n",
       "      <td>8</td>\n",
       "      <td>E</td>\n",
       "    </tr>\n",
       "    <tr>\n",
       "      <td>1</td>\n",
       "      <td>Super Mario Bros.</td>\n",
       "      <td>NES</td>\n",
       "      <td>1985.0</td>\n",
       "      <td>Platform</td>\n",
       "      <td>29.08</td>\n",
       "      <td>3.58</td>\n",
       "      <td>6.81</td>\n",
       "      <td>0.77</td>\n",
       "      <td>NaN</td>\n",
       "      <td>NaN</td>\n",
       "      <td>NaN</td>\n",
       "    </tr>\n",
       "    <tr>\n",
       "      <td>2</td>\n",
       "      <td>Mario Kart Wii</td>\n",
       "      <td>Wii</td>\n",
       "      <td>2008.0</td>\n",
       "      <td>Racing</td>\n",
       "      <td>15.68</td>\n",
       "      <td>12.76</td>\n",
       "      <td>3.79</td>\n",
       "      <td>3.29</td>\n",
       "      <td>82.0</td>\n",
       "      <td>8.3</td>\n",
       "      <td>E</td>\n",
       "    </tr>\n",
       "    <tr>\n",
       "      <td>3</td>\n",
       "      <td>Wii Sports Resort</td>\n",
       "      <td>Wii</td>\n",
       "      <td>2009.0</td>\n",
       "      <td>Sports</td>\n",
       "      <td>15.61</td>\n",
       "      <td>10.93</td>\n",
       "      <td>3.28</td>\n",
       "      <td>2.95</td>\n",
       "      <td>80.0</td>\n",
       "      <td>8</td>\n",
       "      <td>E</td>\n",
       "    </tr>\n",
       "    <tr>\n",
       "      <td>4</td>\n",
       "      <td>Pokemon Red/Pokemon Blue</td>\n",
       "      <td>GB</td>\n",
       "      <td>1996.0</td>\n",
       "      <td>Role-Playing</td>\n",
       "      <td>11.27</td>\n",
       "      <td>8.89</td>\n",
       "      <td>10.22</td>\n",
       "      <td>1.00</td>\n",
       "      <td>NaN</td>\n",
       "      <td>NaN</td>\n",
       "      <td>NaN</td>\n",
       "    </tr>\n",
       "  </tbody>\n",
       "</table>\n",
       "</div>"
      ],
      "text/plain": [
       "                       Name Platform  Year_of_Release         Genre  NA_sales  \\\n",
       "0                Wii Sports      Wii           2006.0        Sports     41.36   \n",
       "1         Super Mario Bros.      NES           1985.0      Platform     29.08   \n",
       "2            Mario Kart Wii      Wii           2008.0        Racing     15.68   \n",
       "3         Wii Sports Resort      Wii           2009.0        Sports     15.61   \n",
       "4  Pokemon Red/Pokemon Blue       GB           1996.0  Role-Playing     11.27   \n",
       "\n",
       "   EU_sales  JP_sales  Other_sales  Critic_Score User_Score Rating  \n",
       "0     28.96      3.77         8.45          76.0          8      E  \n",
       "1      3.58      6.81         0.77           NaN        NaN    NaN  \n",
       "2     12.76      3.79         3.29          82.0        8.3      E  \n",
       "3     10.93      3.28         2.95          80.0          8      E  \n",
       "4      8.89     10.22         1.00           NaN        NaN    NaN  "
      ]
     },
     "execution_count": 2,
     "metadata": {},
     "output_type": "execute_result"
    }
   ],
   "source": [
    "data = pd.read_csv('games.csv')\n",
    "data.info()\n",
    "data.head()"
   ]
  },
  {
   "cell_type": "code",
   "execution_count": 3,
   "id": "62c5d78e",
   "metadata": {},
   "outputs": [
    {
     "data": {
      "text/html": [
       "<div>\n",
       "<style scoped>\n",
       "    .dataframe tbody tr th:only-of-type {\n",
       "        vertical-align: middle;\n",
       "    }\n",
       "\n",
       "    .dataframe tbody tr th {\n",
       "        vertical-align: top;\n",
       "    }\n",
       "\n",
       "    .dataframe thead th {\n",
       "        text-align: right;\n",
       "    }\n",
       "</style>\n",
       "<table border=\"1\" class=\"dataframe\">\n",
       "  <thead>\n",
       "    <tr style=\"text-align: right;\">\n",
       "      <th></th>\n",
       "      <th>Year_of_Release</th>\n",
       "      <th>NA_sales</th>\n",
       "      <th>EU_sales</th>\n",
       "      <th>JP_sales</th>\n",
       "      <th>Other_sales</th>\n",
       "      <th>Critic_Score</th>\n",
       "    </tr>\n",
       "  </thead>\n",
       "  <tbody>\n",
       "    <tr>\n",
       "      <td>count</td>\n",
       "      <td>16446.000000</td>\n",
       "      <td>16715.000000</td>\n",
       "      <td>16715.000000</td>\n",
       "      <td>16715.000000</td>\n",
       "      <td>16715.000000</td>\n",
       "      <td>8137.000000</td>\n",
       "    </tr>\n",
       "    <tr>\n",
       "      <td>mean</td>\n",
       "      <td>2006.484616</td>\n",
       "      <td>0.263377</td>\n",
       "      <td>0.145060</td>\n",
       "      <td>0.077617</td>\n",
       "      <td>0.047342</td>\n",
       "      <td>68.967679</td>\n",
       "    </tr>\n",
       "    <tr>\n",
       "      <td>std</td>\n",
       "      <td>5.877050</td>\n",
       "      <td>0.813604</td>\n",
       "      <td>0.503339</td>\n",
       "      <td>0.308853</td>\n",
       "      <td>0.186731</td>\n",
       "      <td>13.938165</td>\n",
       "    </tr>\n",
       "    <tr>\n",
       "      <td>min</td>\n",
       "      <td>1980.000000</td>\n",
       "      <td>0.000000</td>\n",
       "      <td>0.000000</td>\n",
       "      <td>0.000000</td>\n",
       "      <td>0.000000</td>\n",
       "      <td>13.000000</td>\n",
       "    </tr>\n",
       "    <tr>\n",
       "      <td>25%</td>\n",
       "      <td>2003.000000</td>\n",
       "      <td>0.000000</td>\n",
       "      <td>0.000000</td>\n",
       "      <td>0.000000</td>\n",
       "      <td>0.000000</td>\n",
       "      <td>60.000000</td>\n",
       "    </tr>\n",
       "    <tr>\n",
       "      <td>50%</td>\n",
       "      <td>2007.000000</td>\n",
       "      <td>0.080000</td>\n",
       "      <td>0.020000</td>\n",
       "      <td>0.000000</td>\n",
       "      <td>0.010000</td>\n",
       "      <td>71.000000</td>\n",
       "    </tr>\n",
       "    <tr>\n",
       "      <td>75%</td>\n",
       "      <td>2010.000000</td>\n",
       "      <td>0.240000</td>\n",
       "      <td>0.110000</td>\n",
       "      <td>0.040000</td>\n",
       "      <td>0.030000</td>\n",
       "      <td>79.000000</td>\n",
       "    </tr>\n",
       "    <tr>\n",
       "      <td>max</td>\n",
       "      <td>2016.000000</td>\n",
       "      <td>41.360000</td>\n",
       "      <td>28.960000</td>\n",
       "      <td>10.220000</td>\n",
       "      <td>10.570000</td>\n",
       "      <td>98.000000</td>\n",
       "    </tr>\n",
       "  </tbody>\n",
       "</table>\n",
       "</div>"
      ],
      "text/plain": [
       "       Year_of_Release      NA_sales      EU_sales      JP_sales  \\\n",
       "count     16446.000000  16715.000000  16715.000000  16715.000000   \n",
       "mean       2006.484616      0.263377      0.145060      0.077617   \n",
       "std           5.877050      0.813604      0.503339      0.308853   \n",
       "min        1980.000000      0.000000      0.000000      0.000000   \n",
       "25%        2003.000000      0.000000      0.000000      0.000000   \n",
       "50%        2007.000000      0.080000      0.020000      0.000000   \n",
       "75%        2010.000000      0.240000      0.110000      0.040000   \n",
       "max        2016.000000     41.360000     28.960000     10.220000   \n",
       "\n",
       "        Other_sales  Critic_Score  \n",
       "count  16715.000000   8137.000000  \n",
       "mean       0.047342     68.967679  \n",
       "std        0.186731     13.938165  \n",
       "min        0.000000     13.000000  \n",
       "25%        0.000000     60.000000  \n",
       "50%        0.010000     71.000000  \n",
       "75%        0.030000     79.000000  \n",
       "max       10.570000     98.000000  "
      ]
     },
     "execution_count": 3,
     "metadata": {},
     "output_type": "execute_result"
    }
   ],
   "source": [
    "data.describe()"
   ]
  },
  {
   "cell_type": "markdown",
   "id": "7fce6d95",
   "metadata": {},
   "source": [
    "<a id=\"preprocessing\"><h1>2. Подготовка данных</h1> </a>"
   ]
  },
  {
   "cell_type": "markdown",
   "id": "f413dd3c",
   "metadata": {},
   "source": [
    "Заменим названия столбцов (приведем к нижнему регистру)"
   ]
  },
  {
   "cell_type": "code",
   "execution_count": 4,
   "id": "4d1be301",
   "metadata": {},
   "outputs": [
    {
     "data": {
      "text/plain": [
       "Index(['Name', 'Platform', 'Year_of_Release', 'Genre', 'NA_sales', 'EU_sales',\n",
       "       'JP_sales', 'Other_sales', 'Critic_Score', 'User_Score', 'Rating'],\n",
       "      dtype='object')"
      ]
     },
     "execution_count": 4,
     "metadata": {},
     "output_type": "execute_result"
    }
   ],
   "source": [
    "data.columns\n"
   ]
  },
  {
   "cell_type": "code",
   "execution_count": 5,
   "id": "47b91259",
   "metadata": {},
   "outputs": [],
   "source": [
    "data.columns = data.columns.str.lower()"
   ]
  },
  {
   "cell_type": "markdown",
   "id": "a13b16f2",
   "metadata": {},
   "source": [
    "Опишите, в каких столбцах заменили тип данных и почему;"
   ]
  },
  {
   "cell_type": "markdown",
   "id": "9d113d1a",
   "metadata": {},
   "source": [
    "Обработаем пропуски"
   ]
  },
  {
   "cell_type": "code",
   "execution_count": 6,
   "id": "96ce804a",
   "metadata": {},
   "outputs": [
    {
     "data": {
      "text/plain": [
       "269"
      ]
     },
     "execution_count": 6,
     "metadata": {},
     "output_type": "execute_result"
    }
   ],
   "source": [
    "data[data['year_of_release'].isnull()].head()\n",
    "len(data[data['year_of_release'].isnull()])"
   ]
  },
  {
   "cell_type": "code",
   "execution_count": 7,
   "id": "3cbf3d9c",
   "metadata": {},
   "outputs": [],
   "source": [
    "#Для 4 ячеек поставим год вручную, взяв его из названия, оставшиеся удалим, их  мало\n",
    "data.loc[183,'year_of_release'] = 2004\n",
    "data.loc[377,'year_of_release'] = 2004\n",
    "data.loc[475,'year_of_release'] = 2006\n",
    "data.loc[1650,'year_of_release'] = 2003\n"
   ]
  },
  {
   "cell_type": "code",
   "execution_count": 8,
   "id": "9430bb94",
   "metadata": {},
   "outputs": [
    {
     "data": {
      "text/plain": [
       "2"
      ]
     },
     "execution_count": 8,
     "metadata": {},
     "output_type": "execute_result"
    }
   ],
   "source": [
    "len(data[data['name'].isnull()])"
   ]
  },
  {
   "cell_type": "code",
   "execution_count": 9,
   "id": "b919bf4d",
   "metadata": {},
   "outputs": [
    {
     "data": {
      "text/plain": [
       "2"
      ]
     },
     "execution_count": 9,
     "metadata": {},
     "output_type": "execute_result"
    }
   ],
   "source": [
    "len(data[data['genre'].isnull()])"
   ]
  },
  {
   "cell_type": "code",
   "execution_count": 10,
   "id": "e69d676e",
   "metadata": {},
   "outputs": [],
   "source": [
    "#пропуски в жанрах и названиях - всего по 2 строки, удаляем\n",
    "data.dropna(subset=['name', 'genre', 'year_of_release'], inplace=True)"
   ]
  },
  {
   "cell_type": "markdown",
   "id": "2a15eb36",
   "metadata": {},
   "source": [
    "В столбце 'user_score' содержится значения \"tbd\", заменим их на NaN -  \"Будет определено\""
   ]
  },
  {
   "cell_type": "code",
   "execution_count": 11,
   "id": "b3881e29",
   "metadata": {},
   "outputs": [],
   "source": [
    "data.loc[data['user_score'] =='tbd','user_score'] = np.nan"
   ]
  },
  {
   "cell_type": "code",
   "execution_count": 12,
   "id": "19275043",
   "metadata": {},
   "outputs": [
    {
     "name": "stdout",
     "output_type": "stream",
     "text": [
      "<class 'pandas.core.frame.DataFrame'>\n",
      "Int64Index: 16448 entries, 0 to 16714\n",
      "Data columns (total 11 columns):\n",
      "name               16448 non-null object\n",
      "platform           16448 non-null object\n",
      "year_of_release    16448 non-null float64\n",
      "genre              16448 non-null object\n",
      "na_sales           16448 non-null float64\n",
      "eu_sales           16448 non-null float64\n",
      "jp_sales           16448 non-null float64\n",
      "other_sales        16448 non-null float64\n",
      "critic_score       7986 non-null float64\n",
      "user_score         7466 non-null object\n",
      "rating             9771 non-null object\n",
      "dtypes: float64(6), object(5)\n",
      "memory usage: 1.5+ MB\n"
     ]
    }
   ],
   "source": [
    "data.info()"
   ]
  },
  {
   "cell_type": "markdown",
   "id": "70ca9df2",
   "metadata": {},
   "source": [
    "Пропуски в `critic_score`, `user_score`, `rating` заполнять значениями или удалять нельзя - это повлияет на результаты анализа. Они появились в результате того, что по неокторым играм еще нет оценок. Заменим эти пропуски на значение \"отзыв ожидается\" - `rp` (review pending)"
   ]
  },
  {
   "cell_type": "code",
   "execution_count": 13,
   "id": "027ab3ac",
   "metadata": {},
   "outputs": [],
   "source": [
    "data.loc[data.loc[:,'rating'].isnull(),'rating'] = 'Unknown'"
   ]
  },
  {
   "cell_type": "code",
   "execution_count": 14,
   "id": "8a534ea9",
   "metadata": {},
   "outputs": [
    {
     "data": {
      "text/plain": [
       "0"
      ]
     },
     "execution_count": 14,
     "metadata": {},
     "output_type": "execute_result"
    }
   ],
   "source": [
    "data.duplicated().sum()\n",
    "#дубликатов нет"
   ]
  },
  {
   "cell_type": "markdown",
   "id": "a79eb6cb",
   "metadata": {},
   "source": [
    "Преобразуем данные в нужные типы"
   ]
  },
  {
   "cell_type": "code",
   "execution_count": 15,
   "id": "5dc97ce6",
   "metadata": {},
   "outputs": [],
   "source": [
    "data['year_of_release'] = data['year_of_release'].astype('int')\n",
    "#data['user_score'] = data['user_score'].astype('float')\n",
    "data['user_score'] = pd.to_numeric(data['user_score'], errors='coerce')\n",
    "data['critic_score'] = pd.to_numeric(data['critic_score'], errors='coerce')"
   ]
  },
  {
   "cell_type": "markdown",
   "id": "7aaa5c73",
   "metadata": {},
   "source": [
    "Посчитаем суммарные продажи во всех регионах и запишем их в отдельный столбец"
   ]
  },
  {
   "cell_type": "code",
   "execution_count": 16,
   "id": "ed0294b4",
   "metadata": {},
   "outputs": [
    {
     "data": {
      "text/html": [
       "<div>\n",
       "<style scoped>\n",
       "    .dataframe tbody tr th:only-of-type {\n",
       "        vertical-align: middle;\n",
       "    }\n",
       "\n",
       "    .dataframe tbody tr th {\n",
       "        vertical-align: top;\n",
       "    }\n",
       "\n",
       "    .dataframe thead th {\n",
       "        text-align: right;\n",
       "    }\n",
       "</style>\n",
       "<table border=\"1\" class=\"dataframe\">\n",
       "  <thead>\n",
       "    <tr style=\"text-align: right;\">\n",
       "      <th></th>\n",
       "      <th>name</th>\n",
       "      <th>platform</th>\n",
       "      <th>year_of_release</th>\n",
       "      <th>genre</th>\n",
       "      <th>na_sales</th>\n",
       "      <th>eu_sales</th>\n",
       "      <th>jp_sales</th>\n",
       "      <th>other_sales</th>\n",
       "      <th>critic_score</th>\n",
       "      <th>user_score</th>\n",
       "      <th>rating</th>\n",
       "      <th>total_sales</th>\n",
       "    </tr>\n",
       "  </thead>\n",
       "  <tbody>\n",
       "    <tr>\n",
       "      <td>0</td>\n",
       "      <td>Wii Sports</td>\n",
       "      <td>Wii</td>\n",
       "      <td>2006</td>\n",
       "      <td>Sports</td>\n",
       "      <td>41.36</td>\n",
       "      <td>28.96</td>\n",
       "      <td>3.77</td>\n",
       "      <td>8.45</td>\n",
       "      <td>76.0</td>\n",
       "      <td>8.0</td>\n",
       "      <td>E</td>\n",
       "      <td>82.54</td>\n",
       "    </tr>\n",
       "    <tr>\n",
       "      <td>1</td>\n",
       "      <td>Super Mario Bros.</td>\n",
       "      <td>NES</td>\n",
       "      <td>1985</td>\n",
       "      <td>Platform</td>\n",
       "      <td>29.08</td>\n",
       "      <td>3.58</td>\n",
       "      <td>6.81</td>\n",
       "      <td>0.77</td>\n",
       "      <td>NaN</td>\n",
       "      <td>NaN</td>\n",
       "      <td>Unknown</td>\n",
       "      <td>40.24</td>\n",
       "    </tr>\n",
       "    <tr>\n",
       "      <td>2</td>\n",
       "      <td>Mario Kart Wii</td>\n",
       "      <td>Wii</td>\n",
       "      <td>2008</td>\n",
       "      <td>Racing</td>\n",
       "      <td>15.68</td>\n",
       "      <td>12.76</td>\n",
       "      <td>3.79</td>\n",
       "      <td>3.29</td>\n",
       "      <td>82.0</td>\n",
       "      <td>8.3</td>\n",
       "      <td>E</td>\n",
       "      <td>35.52</td>\n",
       "    </tr>\n",
       "    <tr>\n",
       "      <td>3</td>\n",
       "      <td>Wii Sports Resort</td>\n",
       "      <td>Wii</td>\n",
       "      <td>2009</td>\n",
       "      <td>Sports</td>\n",
       "      <td>15.61</td>\n",
       "      <td>10.93</td>\n",
       "      <td>3.28</td>\n",
       "      <td>2.95</td>\n",
       "      <td>80.0</td>\n",
       "      <td>8.0</td>\n",
       "      <td>E</td>\n",
       "      <td>32.77</td>\n",
       "    </tr>\n",
       "    <tr>\n",
       "      <td>4</td>\n",
       "      <td>Pokemon Red/Pokemon Blue</td>\n",
       "      <td>GB</td>\n",
       "      <td>1996</td>\n",
       "      <td>Role-Playing</td>\n",
       "      <td>11.27</td>\n",
       "      <td>8.89</td>\n",
       "      <td>10.22</td>\n",
       "      <td>1.00</td>\n",
       "      <td>NaN</td>\n",
       "      <td>NaN</td>\n",
       "      <td>Unknown</td>\n",
       "      <td>31.38</td>\n",
       "    </tr>\n",
       "  </tbody>\n",
       "</table>\n",
       "</div>"
      ],
      "text/plain": [
       "                       name platform  year_of_release         genre  na_sales  \\\n",
       "0                Wii Sports      Wii             2006        Sports     41.36   \n",
       "1         Super Mario Bros.      NES             1985      Platform     29.08   \n",
       "2            Mario Kart Wii      Wii             2008        Racing     15.68   \n",
       "3         Wii Sports Resort      Wii             2009        Sports     15.61   \n",
       "4  Pokemon Red/Pokemon Blue       GB             1996  Role-Playing     11.27   \n",
       "\n",
       "   eu_sales  jp_sales  other_sales  critic_score  user_score   rating  \\\n",
       "0     28.96      3.77         8.45          76.0         8.0        E   \n",
       "1      3.58      6.81         0.77           NaN         NaN  Unknown   \n",
       "2     12.76      3.79         3.29          82.0         8.3        E   \n",
       "3     10.93      3.28         2.95          80.0         8.0        E   \n",
       "4      8.89     10.22         1.00           NaN         NaN  Unknown   \n",
       "\n",
       "   total_sales  \n",
       "0        82.54  \n",
       "1        40.24  \n",
       "2        35.52  \n",
       "3        32.77  \n",
       "4        31.38  "
      ]
     },
     "execution_count": 16,
     "metadata": {},
     "output_type": "execute_result"
    }
   ],
   "source": [
    "data['total_sales'] = data.apply(lambda row: sum(row[['na_sales','eu_sales','jp_sales','other_sales']]),axis =1)\n",
    "data.head()"
   ]
  },
  {
   "cell_type": "markdown",
   "id": "0293547a",
   "metadata": {},
   "source": [
    "<div class=\"alert alert-block alert-info\">\n",
    "    \n",
    "\n",
    "Выводы по шагу предобработки:<br>\n",
    "    1. Названия столбцов приведены к нижнему регистру<br>\n",
    "    2. Обработаны пропуски: <br>\n",
    "    ---сроки с пропущенными годами, названиями, жанрами удалены, т.к.их количество незначительно;<br>\n",
    "    ---пропуски в рейтинге заменены на Unknown - \"неизвестный рейтинг\";<br>\n",
    "    ---значения \"tbd\" в 'user_score' заменены на NaN - \"Будет определено\"<br>\n",
    "    3. Данные преобразованы в нужные типы<br>\n",
    "    4. Посчитаны суммарные продажи во всех регионах и записаны в отдельный столбец<br>\n",
    "    5. Проведена проверка на дубликаты<br>\n",
    "    \n",
    "</div>"
   ]
  },
  {
   "cell_type": "markdown",
   "id": "43beefbe",
   "metadata": {},
   "source": [
    "<a id=\"analysys\"><h1>3. Исследовательский анализ данных</h1> </a>"
   ]
  },
  {
   "cell_type": "markdown",
   "id": "2641f650",
   "metadata": {},
   "source": [
    "Определим, сколько игр выпускалось в разные годы"
   ]
  },
  {
   "cell_type": "code",
   "execution_count": 17,
   "id": "9f7a6df8",
   "metadata": {},
   "outputs": [],
   "source": [
    "years_groupby = data.groupby('year_of_release').agg({'name':'count'})"
   ]
  },
  {
   "cell_type": "code",
   "execution_count": 18,
   "id": "9ee1e336",
   "metadata": {},
   "outputs": [
    {
     "data": {
      "text/plain": [
       "<matplotlib.axes._subplots.AxesSubplot at 0x1f50859b208>"
      ]
     },
     "execution_count": 18,
     "metadata": {},
     "output_type": "execute_result"
    },
    {
     "data": {
      "image/png": "[encoded data removed]",
      "text/plain": [
       "<Figure size 1800x720 with 1 Axes>"
      ]
     },
     "metadata": {
      "needs_background": "light"
     },
     "output_type": "display_data"
    }
   ],
   "source": [
    "years_groupby.loc[1992:].plot(y = 'name', kind= 'bar', figsize = (25,10), color = 'b')"
   ]
  },
  {
   "cell_type": "markdown",
   "id": "deb57ef7",
   "metadata": {},
   "source": [
    "Данные по всем периодам не важны. До 1995 было мало компаний и мало охвата игроков, как и качественных оценок от критиков. Больше всего игр было выпущено в период с 2002 по 2011 год."
   ]
  },
  {
   "cell_type": "markdown",
   "id": "756ab57e",
   "metadata": {},
   "source": [
    "Определим, как менялись продажи по платформам. Выберем платформы с наибольшими суммарными продажами и построим распределение по годам. "
   ]
  },
  {
   "cell_type": "code",
   "execution_count": 19,
   "id": "dcca1639",
   "metadata": {},
   "outputs": [
    {
     "data": {
      "text/html": [
       "<div>\n",
       "<style scoped>\n",
       "    .dataframe tbody tr th:only-of-type {\n",
       "        vertical-align: middle;\n",
       "    }\n",
       "\n",
       "    .dataframe tbody tr th {\n",
       "        vertical-align: top;\n",
       "    }\n",
       "\n",
       "    .dataframe thead th {\n",
       "        text-align: right;\n",
       "    }\n",
       "</style>\n",
       "<table border=\"1\" class=\"dataframe\">\n",
       "  <thead>\n",
       "    <tr style=\"text-align: right;\">\n",
       "      <th></th>\n",
       "      <th>total_sales</th>\n",
       "    </tr>\n",
       "    <tr>\n",
       "      <th>platform</th>\n",
       "      <th></th>\n",
       "    </tr>\n",
       "  </thead>\n",
       "  <tbody>\n",
       "    <tr>\n",
       "      <td>PS2</td>\n",
       "      <td>1246.52</td>\n",
       "    </tr>\n",
       "    <tr>\n",
       "      <td>X360</td>\n",
       "      <td>961.24</td>\n",
       "    </tr>\n",
       "    <tr>\n",
       "      <td>PS3</td>\n",
       "      <td>931.34</td>\n",
       "    </tr>\n",
       "    <tr>\n",
       "      <td>Wii</td>\n",
       "      <td>891.18</td>\n",
       "    </tr>\n",
       "    <tr>\n",
       "      <td>DS</td>\n",
       "      <td>802.78</td>\n",
       "    </tr>\n",
       "    <tr>\n",
       "      <td>PS</td>\n",
       "      <td>727.58</td>\n",
       "    </tr>\n",
       "    <tr>\n",
       "      <td>PS4</td>\n",
       "      <td>314.14</td>\n",
       "    </tr>\n",
       "    <tr>\n",
       "      <td>GBA</td>\n",
       "      <td>312.88</td>\n",
       "    </tr>\n",
       "    <tr>\n",
       "      <td>PSP</td>\n",
       "      <td>289.53</td>\n",
       "    </tr>\n",
       "    <tr>\n",
       "      <td>3DS</td>\n",
       "      <td>257.81</td>\n",
       "    </tr>\n",
       "    <tr>\n",
       "      <td>PC</td>\n",
       "      <td>255.76</td>\n",
       "    </tr>\n",
       "    <tr>\n",
       "      <td>GB</td>\n",
       "      <td>254.43</td>\n",
       "    </tr>\n",
       "    <tr>\n",
       "      <td>XB</td>\n",
       "      <td>251.57</td>\n",
       "    </tr>\n",
       "    <tr>\n",
       "      <td>NES</td>\n",
       "      <td>251.05</td>\n",
       "    </tr>\n",
       "    <tr>\n",
       "      <td>N64</td>\n",
       "      <td>218.01</td>\n",
       "    </tr>\n",
       "    <tr>\n",
       "      <td>SNES</td>\n",
       "      <td>200.04</td>\n",
       "    </tr>\n",
       "    <tr>\n",
       "      <td>GC</td>\n",
       "      <td>196.73</td>\n",
       "    </tr>\n",
       "    <tr>\n",
       "      <td>XOne</td>\n",
       "      <td>159.32</td>\n",
       "    </tr>\n",
       "    <tr>\n",
       "      <td>2600</td>\n",
       "      <td>86.48</td>\n",
       "    </tr>\n",
       "    <tr>\n",
       "      <td>WiiU</td>\n",
       "      <td>82.19</td>\n",
       "    </tr>\n",
       "    <tr>\n",
       "      <td>PSV</td>\n",
       "      <td>53.81</td>\n",
       "    </tr>\n",
       "    <tr>\n",
       "      <td>SAT</td>\n",
       "      <td>33.59</td>\n",
       "    </tr>\n",
       "    <tr>\n",
       "      <td>GEN</td>\n",
       "      <td>28.35</td>\n",
       "    </tr>\n",
       "    <tr>\n",
       "      <td>DC</td>\n",
       "      <td>15.95</td>\n",
       "    </tr>\n",
       "    <tr>\n",
       "      <td>SCD</td>\n",
       "      <td>1.86</td>\n",
       "    </tr>\n",
       "    <tr>\n",
       "      <td>NG</td>\n",
       "      <td>1.44</td>\n",
       "    </tr>\n",
       "    <tr>\n",
       "      <td>WS</td>\n",
       "      <td>1.42</td>\n",
       "    </tr>\n",
       "    <tr>\n",
       "      <td>TG16</td>\n",
       "      <td>0.16</td>\n",
       "    </tr>\n",
       "    <tr>\n",
       "      <td>3DO</td>\n",
       "      <td>0.10</td>\n",
       "    </tr>\n",
       "    <tr>\n",
       "      <td>GG</td>\n",
       "      <td>0.04</td>\n",
       "    </tr>\n",
       "    <tr>\n",
       "      <td>PCFX</td>\n",
       "      <td>0.03</td>\n",
       "    </tr>\n",
       "  </tbody>\n",
       "</table>\n",
       "</div>"
      ],
      "text/plain": [
       "          total_sales\n",
       "platform             \n",
       "PS2           1246.52\n",
       "X360           961.24\n",
       "PS3            931.34\n",
       "Wii            891.18\n",
       "DS             802.78\n",
       "PS             727.58\n",
       "PS4            314.14\n",
       "GBA            312.88\n",
       "PSP            289.53\n",
       "3DS            257.81\n",
       "PC             255.76\n",
       "GB             254.43\n",
       "XB             251.57\n",
       "NES            251.05\n",
       "N64            218.01\n",
       "SNES           200.04\n",
       "GC             196.73\n",
       "XOne           159.32\n",
       "2600            86.48\n",
       "WiiU            82.19\n",
       "PSV             53.81\n",
       "SAT             33.59\n",
       "GEN             28.35\n",
       "DC              15.95\n",
       "SCD              1.86\n",
       "NG               1.44\n",
       "WS               1.42\n",
       "TG16             0.16\n",
       "3DO              0.10\n",
       "GG               0.04\n",
       "PCFX             0.03"
      ]
     },
     "execution_count": 19,
     "metadata": {},
     "output_type": "execute_result"
    }
   ],
   "source": [
    "platform_sales = pd.pivot_table(data, index=['platform'], values='total_sales', aggfunc='sum')\n",
    "platform_sales = platform_sales.sort_values('total_sales',ascending=False)\n",
    "platform_sales"
   ]
  },
  {
   "cell_type": "markdown",
   "id": "ed7d0090",
   "metadata": {},
   "source": [
    "Из сводной таблицы хорошо видно лидеров: это 6 платформ."
   ]
  },
  {
   "cell_type": "code",
   "execution_count": 20,
   "id": "44d584f3",
   "metadata": {},
   "outputs": [
    {
     "data": {
      "text/plain": [
       "['PS2', 'X360', 'PS3', 'Wii', 'DS', 'PS']"
      ]
     },
     "execution_count": 20,
     "metadata": {},
     "output_type": "execute_result"
    }
   ],
   "source": [
    "best_6pl = list(platform_sales.index[:6])\n",
    "best_6pl"
   ]
  },
  {
   "cell_type": "code",
   "execution_count": 21,
   "id": "4db6cbe5",
   "metadata": {},
   "outputs": [
    {
     "name": "stdout",
     "output_type": "stream",
     "text": [
      "Платформа  PS2\n",
      "                          total_sales\n",
      "platform year_of_release             \n",
      "PS2      2000                   39.17\n",
      "         2001                  166.43\n",
      "         2002                  205.38\n",
      "         2003                  185.53\n",
      "         2004                  220.55\n",
      "         2005                  160.66\n",
      "         2006                  106.42\n",
      "         2007                   75.99\n",
      "         2008                   53.90\n",
      "         2009                   26.40\n",
      "         2010                    5.64\n",
      "         2011                    0.45\n",
      "\n",
      "Платформа  X360\n",
      "                          total_sales\n",
      "platform year_of_release             \n",
      "X360     2005                    8.25\n",
      "         2006                   51.62\n",
      "         2007                   95.41\n",
      "         2008                  135.26\n",
      "         2009                  120.29\n",
      "         2010                  170.03\n",
      "         2011                  143.84\n",
      "         2012                   99.74\n",
      "         2013                   88.58\n",
      "         2014                   34.74\n",
      "         2015                   11.96\n",
      "         2016                    1.52\n",
      "\n",
      "Платформа  PS3\n",
      "                          total_sales\n",
      "platform year_of_release             \n",
      "PS3      2006                   20.96\n",
      "         2007                   73.19\n",
      "         2008                  118.52\n",
      "         2009                  130.93\n",
      "         2010                  142.17\n",
      "         2011                  156.78\n",
      "         2012                  107.36\n",
      "         2013                  113.25\n",
      "         2014                   47.76\n",
      "         2015                   16.82\n",
      "         2016                    3.60\n",
      "\n",
      "Платформа  Wii\n",
      "                          total_sales\n",
      "platform year_of_release             \n",
      "Wii      2006                  137.15\n",
      "         2007                  152.77\n",
      "         2008                  171.32\n",
      "         2009                  206.97\n",
      "         2010                  127.95\n",
      "         2011                   59.65\n",
      "         2012                   21.71\n",
      "         2013                    8.59\n",
      "         2014                    3.75\n",
      "         2015                    1.14\n",
      "         2016                    0.18\n",
      "\n",
      "Платформа  DS\n",
      "                          total_sales\n",
      "platform year_of_release             \n",
      "DS       1985                    0.02\n",
      "         2004                   17.27\n",
      "         2005                  130.14\n",
      "         2006                  119.81\n",
      "         2007                  146.94\n",
      "         2008                  145.31\n",
      "         2009                  119.54\n",
      "         2010                   85.02\n",
      "         2011                   26.18\n",
      "         2012                   11.01\n",
      "         2013                    1.54\n",
      "\n",
      "Платформа  PS\n",
      "                          total_sales\n",
      "platform year_of_release             \n",
      "PS       1994                    6.03\n",
      "         1995                   35.96\n",
      "         1996                   94.70\n",
      "         1997                  136.17\n",
      "         1998                  169.49\n",
      "         1999                  144.53\n",
      "         2000                   96.37\n",
      "         2001                   35.59\n",
      "         2002                    6.67\n",
      "         2003                    2.07\n",
      "\n"
     ]
    }
   ],
   "source": [
    "for platform in best_6pl:\n",
    "    print('Платформа ',platform)\n",
    "    platform_sales = pd.pivot_table(data.query('platform == @platform'), index=['platform','year_of_release'], values='total_sales', aggfunc='sum')\n",
    "    print(platform_sales)\n",
    "    print()"
   ]
  },
  {
   "cell_type": "markdown",
   "id": "0eace314",
   "metadata": {},
   "source": [
    "Для платформ, которые пользуются популярностью, срок активного использования равен 5-7 лет. У компании Sony хорошо прослеживается преемственность PS - PS2 - PS3 - PS4 по годам."
   ]
  },
  {
   "cell_type": "code",
   "execution_count": 22,
   "id": "09df980f",
   "metadata": {},
   "outputs": [
    {
     "data": {
      "text/html": [
       "<div>\n",
       "<style scoped>\n",
       "    .dataframe tbody tr th:only-of-type {\n",
       "        vertical-align: middle;\n",
       "    }\n",
       "\n",
       "    .dataframe tbody tr th {\n",
       "        vertical-align: top;\n",
       "    }\n",
       "\n",
       "    .dataframe thead th {\n",
       "        text-align: right;\n",
       "    }\n",
       "</style>\n",
       "<table border=\"1\" class=\"dataframe\">\n",
       "  <thead>\n",
       "    <tr style=\"text-align: right;\">\n",
       "      <th></th>\n",
       "      <th></th>\n",
       "      <th>total_sales</th>\n",
       "      <th>years</th>\n",
       "    </tr>\n",
       "    <tr>\n",
       "      <th>platform</th>\n",
       "      <th>year_of_release</th>\n",
       "      <th></th>\n",
       "      <th></th>\n",
       "    </tr>\n",
       "  </thead>\n",
       "  <tbody>\n",
       "    <tr>\n",
       "      <td rowspan=\"5\" valign=\"top\">2600</td>\n",
       "      <td>1980</td>\n",
       "      <td>11.38</td>\n",
       "      <td>1980</td>\n",
       "    </tr>\n",
       "    <tr>\n",
       "      <td>1981</td>\n",
       "      <td>35.68</td>\n",
       "      <td>1981</td>\n",
       "    </tr>\n",
       "    <tr>\n",
       "      <td>1982</td>\n",
       "      <td>28.88</td>\n",
       "      <td>1982</td>\n",
       "    </tr>\n",
       "    <tr>\n",
       "      <td>1983</td>\n",
       "      <td>5.84</td>\n",
       "      <td>1983</td>\n",
       "    </tr>\n",
       "    <tr>\n",
       "      <td>1984</td>\n",
       "      <td>0.27</td>\n",
       "      <td>1984</td>\n",
       "    </tr>\n",
       "    <tr>\n",
       "      <td>...</td>\n",
       "      <td>...</td>\n",
       "      <td>...</td>\n",
       "      <td>...</td>\n",
       "    </tr>\n",
       "    <tr>\n",
       "      <td>XB</td>\n",
       "      <td>2008</td>\n",
       "      <td>0.18</td>\n",
       "      <td>2008</td>\n",
       "    </tr>\n",
       "    <tr>\n",
       "      <td rowspan=\"4\" valign=\"top\">XOne</td>\n",
       "      <td>2013</td>\n",
       "      <td>18.96</td>\n",
       "      <td>2013</td>\n",
       "    </tr>\n",
       "    <tr>\n",
       "      <td>2014</td>\n",
       "      <td>54.07</td>\n",
       "      <td>2014</td>\n",
       "    </tr>\n",
       "    <tr>\n",
       "      <td>2015</td>\n",
       "      <td>60.14</td>\n",
       "      <td>2015</td>\n",
       "    </tr>\n",
       "    <tr>\n",
       "      <td>2016</td>\n",
       "      <td>26.15</td>\n",
       "      <td>2016</td>\n",
       "    </tr>\n",
       "  </tbody>\n",
       "</table>\n",
       "<p>238 rows × 2 columns</p>\n",
       "</div>"
      ],
      "text/plain": [
       "                          total_sales  years\n",
       "platform year_of_release                    \n",
       "2600     1980                   11.38   1980\n",
       "         1981                   35.68   1981\n",
       "         1982                   28.88   1982\n",
       "         1983                    5.84   1983\n",
       "         1984                    0.27   1984\n",
       "...                               ...    ...\n",
       "XB       2008                    0.18   2008\n",
       "XOne     2013                   18.96   2013\n",
       "         2014                   54.07   2014\n",
       "         2015                   60.14   2015\n",
       "         2016                   26.15   2016\n",
       "\n",
       "[238 rows x 2 columns]"
      ]
     },
     "execution_count": 22,
     "metadata": {},
     "output_type": "execute_result"
    }
   ],
   "source": [
    "platform_pivot_table_years = data.pivot_table(index=['platform','year_of_release'], values = 'total_sales', aggfunc = 'sum')\n",
    "platform_pivot_table_years['years'] =  platform_pivot_table_years.index\n",
    "platform_pivot_table_years['years'] = platform_pivot_table_years['years'].apply (lambda row: row[1]).astype('int')\n",
    "platform_pivot_table_years"
   ]
  },
  {
   "cell_type": "code",
   "execution_count": 23,
   "id": "9af35fec",
   "metadata": {},
   "outputs": [
    {
     "data": {
      "image/png": "[encoded data removed]",
      "text/plain": [
       "<Figure size 720x360 with 1 Axes>"
      ]
     },
     "metadata": {
      "needs_background": "light"
     },
     "output_type": "display_data"
    }
   ],
   "source": [
    "fig, ax = plt.subplots(figsize =(10,5))\n",
    "for platform in best_6pl:\n",
    "    platform_pivot_table_years.loc[platform].plot('years','total_sales', ax=ax)\n",
    "ax.legend(best_6pl,prop = {'size':10})\n",
    "ax.set_xlim([2000,2017])\n",
    "ax.set_xticks(np.arange(2000,2017))\n",
    "ax.set_xticklabels(range(2000,2017))\n",
    "plt.show()"
   ]
  },
  {
   "cell_type": "markdown",
   "id": "d25bf504",
   "metadata": {},
   "source": [
    "Большинство студий разработчиков создают игры за 2-4 года, так что в 2017 попадут игры, разработка которых ведется с 2013 года. Появление на рынке новой платформы PS4 говорит от том, что она просуществует 2-4 года и топ продаж для этой платформы ожидается на 2017 год.\n",
    "Вывод: актуальный период по продажам - 2013 - 2016 год."
   ]
  },
  {
   "cell_type": "code",
   "execution_count": 24,
   "id": "56021e2c",
   "metadata": {},
   "outputs": [
    {
     "name": "stdout",
     "output_type": "stream",
     "text": [
      "<class 'pandas.core.frame.DataFrame'>\n",
      "Int64Index: 2233 entries, 16 to 16714\n",
      "Data columns (total 12 columns):\n",
      "name               2233 non-null object\n",
      "platform           2233 non-null object\n",
      "year_of_release    2233 non-null int32\n",
      "genre              2233 non-null object\n",
      "na_sales           2233 non-null float64\n",
      "eu_sales           2233 non-null float64\n",
      "jp_sales           2233 non-null float64\n",
      "other_sales        2233 non-null float64\n",
      "critic_score       991 non-null float64\n",
      "user_score         1192 non-null float64\n",
      "rating             2233 non-null object\n",
      "total_sales        2233 non-null float64\n",
      "dtypes: float64(7), int32(1), object(4)\n",
      "memory usage: 218.1+ KB\n"
     ]
    }
   ],
   "source": [
    "actual_data = data.query('year_of_release > 2012')\n",
    "actual_data.info()"
   ]
  },
  {
   "cell_type": "markdown",
   "id": "0c3e2927",
   "metadata": {},
   "source": [
    "Определим, какие платформы лидируют по продажам в актуальный период? "
   ]
  },
  {
   "cell_type": "code",
   "execution_count": 25,
   "id": "1af6c394",
   "metadata": {},
   "outputs": [
    {
     "data": {
      "text/html": [
       "<div>\n",
       "<style scoped>\n",
       "    .dataframe tbody tr th:only-of-type {\n",
       "        vertical-align: middle;\n",
       "    }\n",
       "\n",
       "    .dataframe tbody tr th {\n",
       "        vertical-align: top;\n",
       "    }\n",
       "\n",
       "    .dataframe thead th {\n",
       "        text-align: right;\n",
       "    }\n",
       "</style>\n",
       "<table border=\"1\" class=\"dataframe\">\n",
       "  <thead>\n",
       "    <tr style=\"text-align: right;\">\n",
       "      <th></th>\n",
       "      <th></th>\n",
       "      <th>total_sales</th>\n",
       "    </tr>\n",
       "    <tr>\n",
       "      <th>platform</th>\n",
       "      <th>year_of_release</th>\n",
       "      <th></th>\n",
       "    </tr>\n",
       "  </thead>\n",
       "  <tbody>\n",
       "    <tr>\n",
       "      <td rowspan=\"4\" valign=\"top\">3DS</td>\n",
       "      <td>2013</td>\n",
       "      <td>56.57</td>\n",
       "    </tr>\n",
       "    <tr>\n",
       "      <td>2014</td>\n",
       "      <td>43.76</td>\n",
       "    </tr>\n",
       "    <tr>\n",
       "      <td>2015</td>\n",
       "      <td>27.78</td>\n",
       "    </tr>\n",
       "    <tr>\n",
       "      <td>2016</td>\n",
       "      <td>15.14</td>\n",
       "    </tr>\n",
       "    <tr>\n",
       "      <td>DS</td>\n",
       "      <td>2013</td>\n",
       "      <td>1.54</td>\n",
       "    </tr>\n",
       "    <tr>\n",
       "      <td rowspan=\"4\" valign=\"top\">PC</td>\n",
       "      <td>2013</td>\n",
       "      <td>12.38</td>\n",
       "    </tr>\n",
       "    <tr>\n",
       "      <td>2014</td>\n",
       "      <td>13.28</td>\n",
       "    </tr>\n",
       "    <tr>\n",
       "      <td>2015</td>\n",
       "      <td>8.52</td>\n",
       "    </tr>\n",
       "    <tr>\n",
       "      <td>2016</td>\n",
       "      <td>5.25</td>\n",
       "    </tr>\n",
       "    <tr>\n",
       "      <td rowspan=\"4\" valign=\"top\">PS3</td>\n",
       "      <td>2013</td>\n",
       "      <td>113.25</td>\n",
       "    </tr>\n",
       "    <tr>\n",
       "      <td>2014</td>\n",
       "      <td>47.76</td>\n",
       "    </tr>\n",
       "    <tr>\n",
       "      <td>2015</td>\n",
       "      <td>16.82</td>\n",
       "    </tr>\n",
       "    <tr>\n",
       "      <td>2016</td>\n",
       "      <td>3.60</td>\n",
       "    </tr>\n",
       "    <tr>\n",
       "      <td rowspan=\"4\" valign=\"top\">PS4</td>\n",
       "      <td>2013</td>\n",
       "      <td>25.99</td>\n",
       "    </tr>\n",
       "    <tr>\n",
       "      <td>2014</td>\n",
       "      <td>100.00</td>\n",
       "    </tr>\n",
       "    <tr>\n",
       "      <td>2015</td>\n",
       "      <td>118.90</td>\n",
       "    </tr>\n",
       "    <tr>\n",
       "      <td>2016</td>\n",
       "      <td>69.25</td>\n",
       "    </tr>\n",
       "    <tr>\n",
       "      <td rowspan=\"3\" valign=\"top\">PSP</td>\n",
       "      <td>2013</td>\n",
       "      <td>3.14</td>\n",
       "    </tr>\n",
       "    <tr>\n",
       "      <td>2014</td>\n",
       "      <td>0.24</td>\n",
       "    </tr>\n",
       "    <tr>\n",
       "      <td>2015</td>\n",
       "      <td>0.12</td>\n",
       "    </tr>\n",
       "    <tr>\n",
       "      <td rowspan=\"4\" valign=\"top\">PSV</td>\n",
       "      <td>2013</td>\n",
       "      <td>10.59</td>\n",
       "    </tr>\n",
       "    <tr>\n",
       "      <td>2014</td>\n",
       "      <td>11.90</td>\n",
       "    </tr>\n",
       "    <tr>\n",
       "      <td>2015</td>\n",
       "      <td>6.25</td>\n",
       "    </tr>\n",
       "    <tr>\n",
       "      <td>2016</td>\n",
       "      <td>4.25</td>\n",
       "    </tr>\n",
       "    <tr>\n",
       "      <td rowspan=\"4\" valign=\"top\">Wii</td>\n",
       "      <td>2013</td>\n",
       "      <td>8.59</td>\n",
       "    </tr>\n",
       "    <tr>\n",
       "      <td>2014</td>\n",
       "      <td>3.75</td>\n",
       "    </tr>\n",
       "    <tr>\n",
       "      <td>2015</td>\n",
       "      <td>1.14</td>\n",
       "    </tr>\n",
       "    <tr>\n",
       "      <td>2016</td>\n",
       "      <td>0.18</td>\n",
       "    </tr>\n",
       "    <tr>\n",
       "      <td rowspan=\"4\" valign=\"top\">WiiU</td>\n",
       "      <td>2013</td>\n",
       "      <td>21.65</td>\n",
       "    </tr>\n",
       "    <tr>\n",
       "      <td>2014</td>\n",
       "      <td>22.03</td>\n",
       "    </tr>\n",
       "    <tr>\n",
       "      <td>2015</td>\n",
       "      <td>16.35</td>\n",
       "    </tr>\n",
       "    <tr>\n",
       "      <td>2016</td>\n",
       "      <td>4.60</td>\n",
       "    </tr>\n",
       "    <tr>\n",
       "      <td rowspan=\"4\" valign=\"top\">X360</td>\n",
       "      <td>2013</td>\n",
       "      <td>88.58</td>\n",
       "    </tr>\n",
       "    <tr>\n",
       "      <td>2014</td>\n",
       "      <td>34.74</td>\n",
       "    </tr>\n",
       "    <tr>\n",
       "      <td>2015</td>\n",
       "      <td>11.96</td>\n",
       "    </tr>\n",
       "    <tr>\n",
       "      <td>2016</td>\n",
       "      <td>1.52</td>\n",
       "    </tr>\n",
       "    <tr>\n",
       "      <td rowspan=\"4\" valign=\"top\">XOne</td>\n",
       "      <td>2013</td>\n",
       "      <td>18.96</td>\n",
       "    </tr>\n",
       "    <tr>\n",
       "      <td>2014</td>\n",
       "      <td>54.07</td>\n",
       "    </tr>\n",
       "    <tr>\n",
       "      <td>2015</td>\n",
       "      <td>60.14</td>\n",
       "    </tr>\n",
       "    <tr>\n",
       "      <td>2016</td>\n",
       "      <td>26.15</td>\n",
       "    </tr>\n",
       "  </tbody>\n",
       "</table>\n",
       "</div>"
      ],
      "text/plain": [
       "                          total_sales\n",
       "platform year_of_release             \n",
       "3DS      2013                   56.57\n",
       "         2014                   43.76\n",
       "         2015                   27.78\n",
       "         2016                   15.14\n",
       "DS       2013                    1.54\n",
       "PC       2013                   12.38\n",
       "         2014                   13.28\n",
       "         2015                    8.52\n",
       "         2016                    5.25\n",
       "PS3      2013                  113.25\n",
       "         2014                   47.76\n",
       "         2015                   16.82\n",
       "         2016                    3.60\n",
       "PS4      2013                   25.99\n",
       "         2014                  100.00\n",
       "         2015                  118.90\n",
       "         2016                   69.25\n",
       "PSP      2013                    3.14\n",
       "         2014                    0.24\n",
       "         2015                    0.12\n",
       "PSV      2013                   10.59\n",
       "         2014                   11.90\n",
       "         2015                    6.25\n",
       "         2016                    4.25\n",
       "Wii      2013                    8.59\n",
       "         2014                    3.75\n",
       "         2015                    1.14\n",
       "         2016                    0.18\n",
       "WiiU     2013                   21.65\n",
       "         2014                   22.03\n",
       "         2015                   16.35\n",
       "         2016                    4.60\n",
       "X360     2013                   88.58\n",
       "         2014                   34.74\n",
       "         2015                   11.96\n",
       "         2016                    1.52\n",
       "XOne     2013                   18.96\n",
       "         2014                   54.07\n",
       "         2015                   60.14\n",
       "         2016                   26.15"
      ]
     },
     "execution_count": 25,
     "metadata": {},
     "output_type": "execute_result"
    }
   ],
   "source": [
    "best_sales_platform = pd.pivot_table(actual_data, index=['platform','year_of_release'], \n",
    "                                     values='total_sales', aggfunc = 'sum')\n",
    "best_sales_platform"
   ]
  },
  {
   "cell_type": "code",
   "execution_count": 26,
   "id": "644b9767",
   "metadata": {},
   "outputs": [
    {
     "data": {
      "text/html": [
       "<div>\n",
       "<style scoped>\n",
       "    .dataframe tbody tr th:only-of-type {\n",
       "        vertical-align: middle;\n",
       "    }\n",
       "\n",
       "    .dataframe tbody tr th {\n",
       "        vertical-align: top;\n",
       "    }\n",
       "\n",
       "    .dataframe thead th {\n",
       "        text-align: right;\n",
       "    }\n",
       "</style>\n",
       "<table border=\"1\" class=\"dataframe\">\n",
       "  <thead>\n",
       "    <tr style=\"text-align: right;\">\n",
       "      <th></th>\n",
       "      <th>total_sales</th>\n",
       "    </tr>\n",
       "    <tr>\n",
       "      <th>platform</th>\n",
       "      <th></th>\n",
       "    </tr>\n",
       "  </thead>\n",
       "  <tbody>\n",
       "    <tr>\n",
       "      <td>PS4</td>\n",
       "      <td>314.14</td>\n",
       "    </tr>\n",
       "    <tr>\n",
       "      <td>PS3</td>\n",
       "      <td>181.43</td>\n",
       "    </tr>\n",
       "    <tr>\n",
       "      <td>XOne</td>\n",
       "      <td>159.32</td>\n",
       "    </tr>\n",
       "    <tr>\n",
       "      <td>3DS</td>\n",
       "      <td>143.25</td>\n",
       "    </tr>\n",
       "    <tr>\n",
       "      <td>X360</td>\n",
       "      <td>136.80</td>\n",
       "    </tr>\n",
       "    <tr>\n",
       "      <td>WiiU</td>\n",
       "      <td>64.63</td>\n",
       "    </tr>\n",
       "    <tr>\n",
       "      <td>PC</td>\n",
       "      <td>39.43</td>\n",
       "    </tr>\n",
       "    <tr>\n",
       "      <td>PSV</td>\n",
       "      <td>32.99</td>\n",
       "    </tr>\n",
       "    <tr>\n",
       "      <td>Wii</td>\n",
       "      <td>13.66</td>\n",
       "    </tr>\n",
       "    <tr>\n",
       "      <td>PSP</td>\n",
       "      <td>3.50</td>\n",
       "    </tr>\n",
       "    <tr>\n",
       "      <td>DS</td>\n",
       "      <td>1.54</td>\n",
       "    </tr>\n",
       "  </tbody>\n",
       "</table>\n",
       "</div>"
      ],
      "text/plain": [
       "          total_sales\n",
       "platform             \n",
       "PS4            314.14\n",
       "PS3            181.43\n",
       "XOne           159.32\n",
       "3DS            143.25\n",
       "X360           136.80\n",
       "WiiU            64.63\n",
       "PC              39.43\n",
       "PSV             32.99\n",
       "Wii             13.66\n",
       "PSP              3.50\n",
       "DS               1.54"
      ]
     },
     "execution_count": 26,
     "metadata": {},
     "output_type": "execute_result"
    }
   ],
   "source": [
    "best_actual = pd.pivot_table(actual_data, index='platform', \n",
    "                                     values='total_sales', aggfunc = 'sum')\n",
    "best_actual.sort_values('total_sales', ascending=False)"
   ]
  },
  {
   "cell_type": "markdown",
   "id": "42ccc1ff",
   "metadata": {},
   "source": [
    "Самые прибыльные платформы: PS4, PS3, XOne, X360 и 3DS. Продажи растут: PS4, XOne, 3DS, WiiU и PSV. Продажи падают: PS3, X360, DS, Wii и PSP."
   ]
  },
  {
   "cell_type": "markdown",
   "id": "f6de1601",
   "metadata": {},
   "source": [
    "Построим график «ящик с усами» по глобальным продажам игр в разбивке по платформам. "
   ]
  },
  {
   "cell_type": "code",
   "execution_count": 27,
   "id": "a63a0eea",
   "metadata": {},
   "outputs": [
    {
     "data": {
      "text/plain": [
       "<matplotlib.axes._subplots.AxesSubplot at 0x1f508694088>"
      ]
     },
     "execution_count": 27,
     "metadata": {},
     "output_type": "execute_result"
    },
    {
     "data": {
      "image/png": "[encoded data removed]",
      "text/plain": [
       "<Figure size 1080x360 with 1 Axes>"
      ]
     },
     "metadata": {
      "needs_background": "light"
     },
     "output_type": "display_data"
    }
   ],
   "source": [
    "top_quantile = actual_data['total_sales'].quantile(0.75)\n",
    "low_quantile = actual_data['total_sales'].quantile(0.25)\n",
    "threshold = top_quantile + 2*low_quantile\n",
    "fig, ax = plt.subplots(figsize =(15,5))\n",
    "sns.boxplot(x = 'platform', \n",
    "            y = 'total_sales',\n",
    "            data = actual_data.query('total_sales <= @threshold'),ax=ax)  "
   ]
  },
  {
   "cell_type": "markdown",
   "id": "62100ad6",
   "metadata": {},
   "source": [
    "У платформ PS4, PS3 и Wii большая часть значений больше медианного. Наиболее равномерно распределены значения у платформы ХOne, DS"
   ]
  },
  {
   "cell_type": "markdown",
   "id": "489b4bd2",
   "metadata": {},
   "source": [
    "Определим, как влияют на продажи внутри одной популярной платформы (PS4) отзывы пользователей и критиков. Построим диаграмму рассеяния и посчитаем корреляцию между отзывами и продажами. "
   ]
  },
  {
   "cell_type": "code",
   "execution_count": 28,
   "id": "04ef2c40",
   "metadata": {},
   "outputs": [],
   "source": [
    "ps4_total_sales = actual_data.query('platform == \"PS4\"')['total_sales']\n",
    "ps4_critic_score = actual_data.query('platform == \"PS4\"')['critic_score']\n",
    "ps4_user_score = actual_data.query('platform == \"PS4\"')['user_score']"
   ]
  },
  {
   "cell_type": "code",
   "execution_count": 29,
   "id": "50c8b4ef",
   "metadata": {},
   "outputs": [
    {
     "data": {
      "text/plain": [
       "31       NaN\n",
       "42       8.3\n",
       "77       4.3\n",
       "87       NaN\n",
       "92       5.7\n",
       "        ... \n",
       "16500    7.5\n",
       "16503    NaN\n",
       "16526    7.9\n",
       "16530    5.5\n",
       "16585    NaN\n",
       "Name: user_score, Length: 392, dtype: float64"
      ]
     },
     "execution_count": 29,
     "metadata": {},
     "output_type": "execute_result"
    }
   ],
   "source": [
    "ps4_user_score"
   ]
  },
  {
   "cell_type": "code",
   "execution_count": 30,
   "id": "b8a74f19",
   "metadata": {},
   "outputs": [
    {
     "name": "stdout",
     "output_type": "stream",
     "text": [
      "0.4065679020617816\n",
      "-0.03195711020455643\n"
     ]
    }
   ],
   "source": [
    "print(ps4_critic_score.corr(ps4_total_sales))\n",
    "print(ps4_user_score.corr(ps4_total_sales))"
   ]
  },
  {
   "cell_type": "code",
   "execution_count": 31,
   "id": "24bde572",
   "metadata": {},
   "outputs": [
    {
     "data": {
      "text/html": [
       "<div>\n",
       "<style scoped>\n",
       "    .dataframe tbody tr th:only-of-type {\n",
       "        vertical-align: middle;\n",
       "    }\n",
       "\n",
       "    .dataframe tbody tr th {\n",
       "        vertical-align: top;\n",
       "    }\n",
       "\n",
       "    .dataframe thead th {\n",
       "        text-align: right;\n",
       "    }\n",
       "</style>\n",
       "<table border=\"1\" class=\"dataframe\">\n",
       "  <thead>\n",
       "    <tr style=\"text-align: right;\">\n",
       "      <th></th>\n",
       "      <th>name</th>\n",
       "      <th>platform</th>\n",
       "      <th>year_of_release</th>\n",
       "      <th>genre</th>\n",
       "      <th>na_sales</th>\n",
       "      <th>eu_sales</th>\n",
       "      <th>jp_sales</th>\n",
       "      <th>other_sales</th>\n",
       "      <th>critic_score</th>\n",
       "      <th>user_score</th>\n",
       "      <th>rating</th>\n",
       "      <th>total_sales</th>\n",
       "    </tr>\n",
       "  </thead>\n",
       "  <tbody>\n",
       "    <tr>\n",
       "      <td>31</td>\n",
       "      <td>Call of Duty: Black Ops 3</td>\n",
       "      <td>PS4</td>\n",
       "      <td>2015</td>\n",
       "      <td>Shooter</td>\n",
       "      <td>6.03</td>\n",
       "      <td>5.86</td>\n",
       "      <td>0.36</td>\n",
       "      <td>2.38</td>\n",
       "      <td>NaN</td>\n",
       "      <td>NaN</td>\n",
       "      <td>Unknown</td>\n",
       "      <td>14.63</td>\n",
       "    </tr>\n",
       "    <tr>\n",
       "      <td>42</td>\n",
       "      <td>Grand Theft Auto V</td>\n",
       "      <td>PS4</td>\n",
       "      <td>2014</td>\n",
       "      <td>Action</td>\n",
       "      <td>3.96</td>\n",
       "      <td>6.31</td>\n",
       "      <td>0.38</td>\n",
       "      <td>1.97</td>\n",
       "      <td>97.0</td>\n",
       "      <td>8.3</td>\n",
       "      <td>M</td>\n",
       "      <td>12.62</td>\n",
       "    </tr>\n",
       "    <tr>\n",
       "      <td>77</td>\n",
       "      <td>FIFA 16</td>\n",
       "      <td>PS4</td>\n",
       "      <td>2015</td>\n",
       "      <td>Sports</td>\n",
       "      <td>1.12</td>\n",
       "      <td>6.12</td>\n",
       "      <td>0.06</td>\n",
       "      <td>1.28</td>\n",
       "      <td>82.0</td>\n",
       "      <td>4.3</td>\n",
       "      <td>E</td>\n",
       "      <td>8.58</td>\n",
       "    </tr>\n",
       "    <tr>\n",
       "      <td>87</td>\n",
       "      <td>Star Wars Battlefront (2015)</td>\n",
       "      <td>PS4</td>\n",
       "      <td>2015</td>\n",
       "      <td>Shooter</td>\n",
       "      <td>2.99</td>\n",
       "      <td>3.49</td>\n",
       "      <td>0.22</td>\n",
       "      <td>1.28</td>\n",
       "      <td>NaN</td>\n",
       "      <td>NaN</td>\n",
       "      <td>Unknown</td>\n",
       "      <td>7.98</td>\n",
       "    </tr>\n",
       "    <tr>\n",
       "      <td>92</td>\n",
       "      <td>Call of Duty: Advanced Warfare</td>\n",
       "      <td>PS4</td>\n",
       "      <td>2014</td>\n",
       "      <td>Shooter</td>\n",
       "      <td>2.81</td>\n",
       "      <td>3.48</td>\n",
       "      <td>0.14</td>\n",
       "      <td>1.23</td>\n",
       "      <td>83.0</td>\n",
       "      <td>5.7</td>\n",
       "      <td>M</td>\n",
       "      <td>7.66</td>\n",
       "    </tr>\n",
       "  </tbody>\n",
       "</table>\n",
       "</div>"
      ],
      "text/plain": [
       "                              name platform  year_of_release    genre  \\\n",
       "31       Call of Duty: Black Ops 3      PS4             2015  Shooter   \n",
       "42              Grand Theft Auto V      PS4             2014   Action   \n",
       "77                         FIFA 16      PS4             2015   Sports   \n",
       "87    Star Wars Battlefront (2015)      PS4             2015  Shooter   \n",
       "92  Call of Duty: Advanced Warfare      PS4             2014  Shooter   \n",
       "\n",
       "    na_sales  eu_sales  jp_sales  other_sales  critic_score  user_score  \\\n",
       "31      6.03      5.86      0.36         2.38           NaN         NaN   \n",
       "42      3.96      6.31      0.38         1.97          97.0         8.3   \n",
       "77      1.12      6.12      0.06         1.28          82.0         4.3   \n",
       "87      2.99      3.49      0.22         1.28           NaN         NaN   \n",
       "92      2.81      3.48      0.14         1.23          83.0         5.7   \n",
       "\n",
       "     rating  total_sales  \n",
       "31  Unknown        14.63  \n",
       "42        M        12.62  \n",
       "77        E         8.58  \n",
       "87  Unknown         7.98  \n",
       "92        M         7.66  "
      ]
     },
     "execution_count": 31,
     "metadata": {},
     "output_type": "execute_result"
    }
   ],
   "source": [
    "PS4_actual_data = actual_data.query('platform ==\"PS4\"')\n",
    "PS4_actual_data.head()"
   ]
  },
  {
   "cell_type": "code",
   "execution_count": 32,
   "id": "a8df3e8d",
   "metadata": {},
   "outputs": [
    {
     "data": {
      "text/html": [
       "<div>\n",
       "<style scoped>\n",
       "    .dataframe tbody tr th:only-of-type {\n",
       "        vertical-align: middle;\n",
       "    }\n",
       "\n",
       "    .dataframe tbody tr th {\n",
       "        vertical-align: top;\n",
       "    }\n",
       "\n",
       "    .dataframe thead th {\n",
       "        text-align: right;\n",
       "    }\n",
       "</style>\n",
       "<table border=\"1\" class=\"dataframe\">\n",
       "  <thead>\n",
       "    <tr style=\"text-align: right;\">\n",
       "      <th></th>\n",
       "      <th>total_sales</th>\n",
       "      <th>critic_score</th>\n",
       "      <th>user_score</th>\n",
       "    </tr>\n",
       "  </thead>\n",
       "  <tbody>\n",
       "    <tr>\n",
       "      <td>31</td>\n",
       "      <td>14.63</td>\n",
       "      <td>NaN</td>\n",
       "      <td>NaN</td>\n",
       "    </tr>\n",
       "    <tr>\n",
       "      <td>42</td>\n",
       "      <td>12.62</td>\n",
       "      <td>97.0</td>\n",
       "      <td>8.3</td>\n",
       "    </tr>\n",
       "    <tr>\n",
       "      <td>77</td>\n",
       "      <td>8.58</td>\n",
       "      <td>82.0</td>\n",
       "      <td>4.3</td>\n",
       "    </tr>\n",
       "    <tr>\n",
       "      <td>87</td>\n",
       "      <td>7.98</td>\n",
       "      <td>NaN</td>\n",
       "      <td>NaN</td>\n",
       "    </tr>\n",
       "    <tr>\n",
       "      <td>92</td>\n",
       "      <td>7.66</td>\n",
       "      <td>83.0</td>\n",
       "      <td>5.7</td>\n",
       "    </tr>\n",
       "    <tr>\n",
       "      <td>...</td>\n",
       "      <td>...</td>\n",
       "      <td>...</td>\n",
       "      <td>...</td>\n",
       "    </tr>\n",
       "    <tr>\n",
       "      <td>16500</td>\n",
       "      <td>0.01</td>\n",
       "      <td>69.0</td>\n",
       "      <td>7.5</td>\n",
       "    </tr>\n",
       "    <tr>\n",
       "      <td>16503</td>\n",
       "      <td>0.01</td>\n",
       "      <td>NaN</td>\n",
       "      <td>NaN</td>\n",
       "    </tr>\n",
       "    <tr>\n",
       "      <td>16526</td>\n",
       "      <td>0.01</td>\n",
       "      <td>61.0</td>\n",
       "      <td>7.9</td>\n",
       "    </tr>\n",
       "    <tr>\n",
       "      <td>16530</td>\n",
       "      <td>0.01</td>\n",
       "      <td>51.0</td>\n",
       "      <td>5.5</td>\n",
       "    </tr>\n",
       "    <tr>\n",
       "      <td>16585</td>\n",
       "      <td>0.01</td>\n",
       "      <td>NaN</td>\n",
       "      <td>NaN</td>\n",
       "    </tr>\n",
       "  </tbody>\n",
       "</table>\n",
       "<p>392 rows × 3 columns</p>\n",
       "</div>"
      ],
      "text/plain": [
       "       total_sales  critic_score  user_score\n",
       "31           14.63           NaN         NaN\n",
       "42           12.62          97.0         8.3\n",
       "77            8.58          82.0         4.3\n",
       "87            7.98           NaN         NaN\n",
       "92            7.66          83.0         5.7\n",
       "...            ...           ...         ...\n",
       "16500         0.01          69.0         7.5\n",
       "16503         0.01           NaN         NaN\n",
       "16526         0.01          61.0         7.9\n",
       "16530         0.01          51.0         5.5\n",
       "16585         0.01           NaN         NaN\n",
       "\n",
       "[392 rows x 3 columns]"
      ]
     },
     "execution_count": 32,
     "metadata": {},
     "output_type": "execute_result"
    }
   ],
   "source": [
    "PS4_sales = PS4_actual_data.loc[:,['total_sales', 'critic_score', 'user_score']]\n",
    "PS4_sales"
   ]
  },
  {
   "cell_type": "code",
   "execution_count": 33,
   "id": "eb356e79",
   "metadata": {},
   "outputs": [
    {
     "data": {
      "text/html": [
       "<div>\n",
       "<style scoped>\n",
       "    .dataframe tbody tr th:only-of-type {\n",
       "        vertical-align: middle;\n",
       "    }\n",
       "\n",
       "    .dataframe tbody tr th {\n",
       "        vertical-align: top;\n",
       "    }\n",
       "\n",
       "    .dataframe thead th {\n",
       "        text-align: right;\n",
       "    }\n",
       "</style>\n",
       "<table border=\"1\" class=\"dataframe\">\n",
       "  <thead>\n",
       "    <tr style=\"text-align: right;\">\n",
       "      <th></th>\n",
       "      <th>total_sales</th>\n",
       "      <th>critic_score</th>\n",
       "      <th>user_score</th>\n",
       "    </tr>\n",
       "  </thead>\n",
       "  <tbody>\n",
       "    <tr>\n",
       "      <td>total_sales</td>\n",
       "      <td>1.000000</td>\n",
       "      <td>0.406568</td>\n",
       "      <td>-0.031957</td>\n",
       "    </tr>\n",
       "    <tr>\n",
       "      <td>critic_score</td>\n",
       "      <td>0.406568</td>\n",
       "      <td>1.000000</td>\n",
       "      <td>0.557654</td>\n",
       "    </tr>\n",
       "    <tr>\n",
       "      <td>user_score</td>\n",
       "      <td>-0.031957</td>\n",
       "      <td>0.557654</td>\n",
       "      <td>1.000000</td>\n",
       "    </tr>\n",
       "  </tbody>\n",
       "</table>\n",
       "</div>"
      ],
      "text/plain": [
       "              total_sales  critic_score  user_score\n",
       "total_sales      1.000000      0.406568   -0.031957\n",
       "critic_score     0.406568      1.000000    0.557654\n",
       "user_score      -0.031957      0.557654    1.000000"
      ]
     },
     "execution_count": 33,
     "metadata": {},
     "output_type": "execute_result"
    }
   ],
   "source": [
    "PS4_sales.corr()"
   ]
  },
  {
   "cell_type": "code",
   "execution_count": 34,
   "id": "0a158e65",
   "metadata": {},
   "outputs": [
    {
     "data": {
      "text/plain": [
       "array([[<matplotlib.axes._subplots.AxesSubplot object at 0x000001F50AEAD108>,\n",
       "        <matplotlib.axes._subplots.AxesSubplot object at 0x000001F50AED96C8>,\n",
       "        <matplotlib.axes._subplots.AxesSubplot object at 0x000001F50AD40808>],\n",
       "       [<matplotlib.axes._subplots.AxesSubplot object at 0x000001F50AD7A048>,\n",
       "        <matplotlib.axes._subplots.AxesSubplot object at 0x000001F50ADAFBC8>,\n",
       "        <matplotlib.axes._subplots.AxesSubplot object at 0x000001F50ADEA748>],\n",
       "       [<matplotlib.axes._subplots.AxesSubplot object at 0x000001F50AE23208>,\n",
       "        <matplotlib.axes._subplots.AxesSubplot object at 0x000001F50AE59D88>,\n",
       "        <matplotlib.axes._subplots.AxesSubplot object at 0x000001F50AE63888>]],\n",
       "      dtype=object)"
      ]
     },
     "execution_count": 34,
     "metadata": {},
     "output_type": "execute_result"
    },
    {
     "data": {
      "image/png": "[encoded data removed]",
      "text/plain": [
       "<Figure size 1080x1080 with 9 Axes>"
      ]
     },
     "metadata": {
      "needs_background": "light"
     },
     "output_type": "display_data"
    }
   ],
   "source": [
    "pd.plotting.scatter_matrix(PS4_sales, figsize=(15, 15))"
   ]
  },
  {
   "cell_type": "markdown",
   "id": "f7018075",
   "metadata": {},
   "source": [
    "Заметна прямая корреляция прибыли от отценки критиков; от оценки пользователей - очень слабая отрицательная, не стоит обращать на неё внимание.\n",
    "Для сравнения, посмотрим на ближайшего конкурента - платформу PS3"
   ]
  },
  {
   "cell_type": "code",
   "execution_count": 35,
   "id": "a6756a9c",
   "metadata": {},
   "outputs": [
    {
     "name": "stdout",
     "output_type": "stream",
     "text": [
      "0.3342853393371919\n",
      "0.0023944027357566907\n"
     ]
    }
   ],
   "source": [
    "ps3_total_sales = actual_data.query('platform == \"PS3\"')['total_sales']\n",
    "ps3_critic_score = actual_data.query('platform == \"PS3\"')['critic_score']\n",
    "ps3_user_score = actual_data.query('platform == \"PS3\"')['user_score']\n",
    "print(ps3_critic_score.corr(ps3_total_sales))\n",
    "print(ps3_user_score.corr(ps3_total_sales))"
   ]
  },
  {
   "cell_type": "markdown",
   "id": "3781ea7a",
   "metadata": {},
   "source": [
    "И здесь тенденция сохраняется - продажи имеют прямую зависимость от оценок экспертов и не зависят от оценок пользователей."
   ]
  },
  {
   "cell_type": "markdown",
   "id": "fcedba5b",
   "metadata": {},
   "source": [
    "Определим общее распределение игр по жанрам"
   ]
  },
  {
   "cell_type": "code",
   "execution_count": 36,
   "id": "727e7f22",
   "metadata": {},
   "outputs": [
    {
     "data": {
      "text/html": [
       "<div>\n",
       "<style scoped>\n",
       "    .dataframe tbody tr th:only-of-type {\n",
       "        vertical-align: middle;\n",
       "    }\n",
       "\n",
       "    .dataframe tbody tr th {\n",
       "        vertical-align: top;\n",
       "    }\n",
       "\n",
       "    .dataframe thead th {\n",
       "        text-align: right;\n",
       "    }\n",
       "</style>\n",
       "<table border=\"1\" class=\"dataframe\">\n",
       "  <thead>\n",
       "    <tr style=\"text-align: right;\">\n",
       "      <th></th>\n",
       "      <th>total_sales</th>\n",
       "    </tr>\n",
       "    <tr>\n",
       "      <th>genre</th>\n",
       "      <th></th>\n",
       "    </tr>\n",
       "  </thead>\n",
       "  <tbody>\n",
       "    <tr>\n",
       "      <td>Action</td>\n",
       "      <td>321.87</td>\n",
       "    </tr>\n",
       "    <tr>\n",
       "      <td>Shooter</td>\n",
       "      <td>232.98</td>\n",
       "    </tr>\n",
       "    <tr>\n",
       "      <td>Sports</td>\n",
       "      <td>150.65</td>\n",
       "    </tr>\n",
       "    <tr>\n",
       "      <td>Role-Playing</td>\n",
       "      <td>145.89</td>\n",
       "    </tr>\n",
       "    <tr>\n",
       "      <td>Misc</td>\n",
       "      <td>62.82</td>\n",
       "    </tr>\n",
       "    <tr>\n",
       "      <td>Platform</td>\n",
       "      <td>42.63</td>\n",
       "    </tr>\n",
       "    <tr>\n",
       "      <td>Racing</td>\n",
       "      <td>39.89</td>\n",
       "    </tr>\n",
       "    <tr>\n",
       "      <td>Fighting</td>\n",
       "      <td>35.31</td>\n",
       "    </tr>\n",
       "    <tr>\n",
       "      <td>Adventure</td>\n",
       "      <td>23.64</td>\n",
       "    </tr>\n",
       "    <tr>\n",
       "      <td>Simulation</td>\n",
       "      <td>21.76</td>\n",
       "    </tr>\n",
       "    <tr>\n",
       "      <td>Strategy</td>\n",
       "      <td>10.08</td>\n",
       "    </tr>\n",
       "    <tr>\n",
       "      <td>Puzzle</td>\n",
       "      <td>3.17</td>\n",
       "    </tr>\n",
       "  </tbody>\n",
       "</table>\n",
       "</div>"
      ],
      "text/plain": [
       "              total_sales\n",
       "genre                    \n",
       "Action             321.87\n",
       "Shooter            232.98\n",
       "Sports             150.65\n",
       "Role-Playing       145.89\n",
       "Misc                62.82\n",
       "Platform            42.63\n",
       "Racing              39.89\n",
       "Fighting            35.31\n",
       "Adventure           23.64\n",
       "Simulation          21.76\n",
       "Strategy            10.08\n",
       "Puzzle               3.17"
      ]
     },
     "execution_count": 36,
     "metadata": {},
     "output_type": "execute_result"
    }
   ],
   "source": [
    "genre_pivot_table = pd.pivot_table(actual_data, index='genre', values='total_sales', aggfunc='sum')\n",
    "genre_pivot_table.sort_values('total_sales', ascending=False)"
   ]
  },
  {
   "cell_type": "markdown",
   "id": "e95027c2",
   "metadata": {},
   "source": [
    "Самые прибыльные жанры в рассмотренном временном срезе - это экшн, шутеры, спортивные и ролевые игры (Action, Shooter, Sports, Role-Playing).\n",
    "Самые неприбыльные - стратегии и головоломки."
   ]
  },
  {
   "cell_type": "code",
   "execution_count": 37,
   "id": "b859d5c5",
   "metadata": {},
   "outputs": [
    {
     "data": {
      "text/html": [
       "<div>\n",
       "<style scoped>\n",
       "    .dataframe tbody tr th:only-of-type {\n",
       "        vertical-align: middle;\n",
       "    }\n",
       "\n",
       "    .dataframe tbody tr th {\n",
       "        vertical-align: top;\n",
       "    }\n",
       "\n",
       "    .dataframe thead th {\n",
       "        text-align: right;\n",
       "    }\n",
       "</style>\n",
       "<table border=\"1\" class=\"dataframe\">\n",
       "  <thead>\n",
       "    <tr style=\"text-align: right;\">\n",
       "      <th></th>\n",
       "      <th>count</th>\n",
       "      <th>median</th>\n",
       "      <th>mean</th>\n",
       "      <th>sum</th>\n",
       "    </tr>\n",
       "    <tr>\n",
       "      <th>genre</th>\n",
       "      <th></th>\n",
       "      <th></th>\n",
       "      <th></th>\n",
       "      <th></th>\n",
       "    </tr>\n",
       "  </thead>\n",
       "  <tbody>\n",
       "    <tr>\n",
       "      <td>Action</td>\n",
       "      <td>766</td>\n",
       "      <td>0.110</td>\n",
       "      <td>0.420196</td>\n",
       "      <td>321.87</td>\n",
       "    </tr>\n",
       "    <tr>\n",
       "      <td>Shooter</td>\n",
       "      <td>187</td>\n",
       "      <td>0.450</td>\n",
       "      <td>1.245882</td>\n",
       "      <td>232.98</td>\n",
       "    </tr>\n",
       "    <tr>\n",
       "      <td>Sports</td>\n",
       "      <td>214</td>\n",
       "      <td>0.240</td>\n",
       "      <td>0.703972</td>\n",
       "      <td>150.65</td>\n",
       "    </tr>\n",
       "    <tr>\n",
       "      <td>Role-Playing</td>\n",
       "      <td>292</td>\n",
       "      <td>0.125</td>\n",
       "      <td>0.499623</td>\n",
       "      <td>145.89</td>\n",
       "    </tr>\n",
       "    <tr>\n",
       "      <td>Misc</td>\n",
       "      <td>155</td>\n",
       "      <td>0.100</td>\n",
       "      <td>0.405290</td>\n",
       "      <td>62.82</td>\n",
       "    </tr>\n",
       "    <tr>\n",
       "      <td>Platform</td>\n",
       "      <td>74</td>\n",
       "      <td>0.225</td>\n",
       "      <td>0.576081</td>\n",
       "      <td>42.63</td>\n",
       "    </tr>\n",
       "    <tr>\n",
       "      <td>Racing</td>\n",
       "      <td>85</td>\n",
       "      <td>0.120</td>\n",
       "      <td>0.469294</td>\n",
       "      <td>39.89</td>\n",
       "    </tr>\n",
       "    <tr>\n",
       "      <td>Fighting</td>\n",
       "      <td>80</td>\n",
       "      <td>0.125</td>\n",
       "      <td>0.441375</td>\n",
       "      <td>35.31</td>\n",
       "    </tr>\n",
       "    <tr>\n",
       "      <td>Adventure</td>\n",
       "      <td>245</td>\n",
       "      <td>0.030</td>\n",
       "      <td>0.096490</td>\n",
       "      <td>23.64</td>\n",
       "    </tr>\n",
       "    <tr>\n",
       "      <td>Simulation</td>\n",
       "      <td>62</td>\n",
       "      <td>0.100</td>\n",
       "      <td>0.350968</td>\n",
       "      <td>21.76</td>\n",
       "    </tr>\n",
       "    <tr>\n",
       "      <td>Strategy</td>\n",
       "      <td>56</td>\n",
       "      <td>0.080</td>\n",
       "      <td>0.180000</td>\n",
       "      <td>10.08</td>\n",
       "    </tr>\n",
       "    <tr>\n",
       "      <td>Puzzle</td>\n",
       "      <td>17</td>\n",
       "      <td>0.060</td>\n",
       "      <td>0.186471</td>\n",
       "      <td>3.17</td>\n",
       "    </tr>\n",
       "  </tbody>\n",
       "</table>\n",
       "</div>"
      ],
      "text/plain": [
       "              count  median      mean     sum\n",
       "genre                                        \n",
       "Action          766   0.110  0.420196  321.87\n",
       "Shooter         187   0.450  1.245882  232.98\n",
       "Sports          214   0.240  0.703972  150.65\n",
       "Role-Playing    292   0.125  0.499623  145.89\n",
       "Misc            155   0.100  0.405290   62.82\n",
       "Platform         74   0.225  0.576081   42.63\n",
       "Racing           85   0.120  0.469294   39.89\n",
       "Fighting         80   0.125  0.441375   35.31\n",
       "Adventure       245   0.030  0.096490   23.64\n",
       "Simulation       62   0.100  0.350968   21.76\n",
       "Strategy         56   0.080  0.180000   10.08\n",
       "Puzzle           17   0.060  0.186471    3.17"
      ]
     },
     "execution_count": 37,
     "metadata": {},
     "output_type": "execute_result"
    }
   ],
   "source": [
    "genre_analysis = actual_data.groupby('genre').agg({'name':'count','total_sales':['median','mean','sum']})\n",
    "genre_analysis.columns = ['count','median','mean','sum']\n",
    "genre_analysis = genre_analysis.sort_values(by = 'sum', ascending = False)\n",
    "genre_analysis"
   ]
  },
  {
   "cell_type": "markdown",
   "id": "0298f326",
   "metadata": {},
   "source": [
    "<div class=\"alert alert-block alert-info\">\n",
    "    \n",
    "по среднему и медиане стало заметно, что например симуляторы, хотя и имеют высокое среднее значение, выпускались в малом количестве, а потому и суммарный доход был невелик. А вот в жанре adventure было выпущено много игр, но они имеют маленькое медианное значение продаж. \n",
    "</div>"
   ]
  },
  {
   "cell_type": "code",
   "execution_count": 38,
   "id": "b657d78d",
   "metadata": {},
   "outputs": [
    {
     "data": {
      "text/html": [
       "<div>\n",
       "<style scoped>\n",
       "    .dataframe tbody tr th:only-of-type {\n",
       "        vertical-align: middle;\n",
       "    }\n",
       "\n",
       "    .dataframe tbody tr th {\n",
       "        vertical-align: top;\n",
       "    }\n",
       "\n",
       "    .dataframe thead th {\n",
       "        text-align: right;\n",
       "    }\n",
       "</style>\n",
       "<table border=\"1\" class=\"dataframe\">\n",
       "  <thead>\n",
       "    <tr style=\"text-align: right;\">\n",
       "      <th></th>\n",
       "      <th>count</th>\n",
       "      <th>median</th>\n",
       "      <th>mean</th>\n",
       "      <th>sum</th>\n",
       "    </tr>\n",
       "    <tr>\n",
       "      <th>genre</th>\n",
       "      <th></th>\n",
       "      <th></th>\n",
       "      <th></th>\n",
       "      <th></th>\n",
       "    </tr>\n",
       "  </thead>\n",
       "  <tbody>\n",
       "    <tr>\n",
       "      <td>Shooter</td>\n",
       "      <td>187</td>\n",
       "      <td>0.450</td>\n",
       "      <td>1.245882</td>\n",
       "      <td>232.98</td>\n",
       "    </tr>\n",
       "    <tr>\n",
       "      <td>Sports</td>\n",
       "      <td>214</td>\n",
       "      <td>0.240</td>\n",
       "      <td>0.703972</td>\n",
       "      <td>150.65</td>\n",
       "    </tr>\n",
       "    <tr>\n",
       "      <td>Platform</td>\n",
       "      <td>74</td>\n",
       "      <td>0.225</td>\n",
       "      <td>0.576081</td>\n",
       "      <td>42.63</td>\n",
       "    </tr>\n",
       "    <tr>\n",
       "      <td>Role-Playing</td>\n",
       "      <td>292</td>\n",
       "      <td>0.125</td>\n",
       "      <td>0.499623</td>\n",
       "      <td>145.89</td>\n",
       "    </tr>\n",
       "    <tr>\n",
       "      <td>Racing</td>\n",
       "      <td>85</td>\n",
       "      <td>0.120</td>\n",
       "      <td>0.469294</td>\n",
       "      <td>39.89</td>\n",
       "    </tr>\n",
       "    <tr>\n",
       "      <td>Fighting</td>\n",
       "      <td>80</td>\n",
       "      <td>0.125</td>\n",
       "      <td>0.441375</td>\n",
       "      <td>35.31</td>\n",
       "    </tr>\n",
       "    <tr>\n",
       "      <td>Action</td>\n",
       "      <td>766</td>\n",
       "      <td>0.110</td>\n",
       "      <td>0.420196</td>\n",
       "      <td>321.87</td>\n",
       "    </tr>\n",
       "    <tr>\n",
       "      <td>Misc</td>\n",
       "      <td>155</td>\n",
       "      <td>0.100</td>\n",
       "      <td>0.405290</td>\n",
       "      <td>62.82</td>\n",
       "    </tr>\n",
       "    <tr>\n",
       "      <td>Simulation</td>\n",
       "      <td>62</td>\n",
       "      <td>0.100</td>\n",
       "      <td>0.350968</td>\n",
       "      <td>21.76</td>\n",
       "    </tr>\n",
       "    <tr>\n",
       "      <td>Puzzle</td>\n",
       "      <td>17</td>\n",
       "      <td>0.060</td>\n",
       "      <td>0.186471</td>\n",
       "      <td>3.17</td>\n",
       "    </tr>\n",
       "    <tr>\n",
       "      <td>Strategy</td>\n",
       "      <td>56</td>\n",
       "      <td>0.080</td>\n",
       "      <td>0.180000</td>\n",
       "      <td>10.08</td>\n",
       "    </tr>\n",
       "    <tr>\n",
       "      <td>Adventure</td>\n",
       "      <td>245</td>\n",
       "      <td>0.030</td>\n",
       "      <td>0.096490</td>\n",
       "      <td>23.64</td>\n",
       "    </tr>\n",
       "  </tbody>\n",
       "</table>\n",
       "</div>"
      ],
      "text/plain": [
       "              count  median      mean     sum\n",
       "genre                                        \n",
       "Shooter         187   0.450  1.245882  232.98\n",
       "Sports          214   0.240  0.703972  150.65\n",
       "Platform         74   0.225  0.576081   42.63\n",
       "Role-Playing    292   0.125  0.499623  145.89\n",
       "Racing           85   0.120  0.469294   39.89\n",
       "Fighting         80   0.125  0.441375   35.31\n",
       "Action          766   0.110  0.420196  321.87\n",
       "Misc            155   0.100  0.405290   62.82\n",
       "Simulation       62   0.100  0.350968   21.76\n",
       "Puzzle           17   0.060  0.186471    3.17\n",
       "Strategy         56   0.080  0.180000   10.08\n",
       "Adventure       245   0.030  0.096490   23.64"
      ]
     },
     "execution_count": 38,
     "metadata": {},
     "output_type": "execute_result"
    }
   ],
   "source": [
    "genre_analysis = genre_analysis.sort_values(by = 'mean', ascending = False)\n",
    "genre_analysis"
   ]
  },
  {
   "cell_type": "markdown",
   "id": "7cc85db9",
   "metadata": {},
   "source": [
    "<div class=\"alert alert-block alert-info\">\n",
    "    \n",
    "\n",
    "По средним продажам жанры - лидеры - это шутеры, спортивные и platform-игры. \n",
    "</div>"
   ]
  },
  {
   "cell_type": "markdown",
   "id": "551d9ea1",
   "metadata": {},
   "source": [
    "<div class=\"alert alert-block alert-info\">\n",
    "\n",
    "Выводы по шагу:\n",
    "    \n",
    "    1.  Больше всего игр было выпущено в период с 2002 по 2011 год.\n",
    "    2. Самые прибыльные платформы: PS4, PS3, XOne, X360 и 3DS. Продажи растут: PS4, XOne, 3DS, WiiU и PSV. Продажи падают: PS3, X360, DS, Wii и PSP.\n",
    "    3. Актуальный период по продажам - 2013 - 2016 год.\n",
    "    4. Для проанализированных платформ PS4 и PS3 заметна прямая корреляция прибыли от оценки критиков; от оценки пользователей - очень слабая отрицательная, не стоит обращать на неё внимание.\n",
    "    5. Среди самых прибыльных жанров: Shooters, Sports, Platform.\n",
    "</div>"
   ]
  },
  {
   "cell_type": "markdown",
   "id": "91a0d715",
   "metadata": {},
   "source": [
    "<a id=\"portrait\"><h1>4. Составление портрета пользователя по регионам</h1> </a>"
   ]
  },
  {
   "cell_type": "markdown",
   "id": "ce7d317c",
   "metadata": {},
   "source": [
    "<a id=\"na\"><h1>Северная Америка</h1> </a>"
   ]
  },
  {
   "cell_type": "markdown",
   "id": "74ac4998",
   "metadata": {},
   "source": [
    "Самые популярные платформы (топ-5) "
   ]
  },
  {
   "cell_type": "code",
   "execution_count": 39,
   "id": "00c3276e",
   "metadata": {},
   "outputs": [
    {
     "name": "stdout",
     "output_type": "stream",
     "text": [
      "<class 'pandas.core.frame.DataFrame'>\n",
      "Int64Index: 1309 entries, 16 to 16672\n",
      "Data columns (total 12 columns):\n",
      "name               1309 non-null object\n",
      "platform           1309 non-null object\n",
      "year_of_release    1309 non-null int32\n",
      "genre              1309 non-null object\n",
      "na_sales           1309 non-null float64\n",
      "eu_sales           1309 non-null float64\n",
      "jp_sales           1309 non-null float64\n",
      "other_sales        1309 non-null float64\n",
      "critic_score       809 non-null float64\n",
      "user_score         974 non-null float64\n",
      "rating             1309 non-null object\n",
      "total_sales        1309 non-null float64\n",
      "dtypes: float64(7), int32(1), object(4)\n",
      "memory usage: 127.8+ KB\n"
     ]
    }
   ],
   "source": [
    "na_actual = actual_data.query('na_sales > 0')\n",
    "na_actual.info()"
   ]
  },
  {
   "cell_type": "code",
   "execution_count": 40,
   "id": "509d9a89",
   "metadata": {},
   "outputs": [
    {
     "data": {
      "text/html": [
       "<div>\n",
       "<style scoped>\n",
       "    .dataframe tbody tr th:only-of-type {\n",
       "        vertical-align: middle;\n",
       "    }\n",
       "\n",
       "    .dataframe tbody tr th {\n",
       "        vertical-align: top;\n",
       "    }\n",
       "\n",
       "    .dataframe thead th {\n",
       "        text-align: right;\n",
       "    }\n",
       "</style>\n",
       "<table border=\"1\" class=\"dataframe\">\n",
       "  <thead>\n",
       "    <tr style=\"text-align: right;\">\n",
       "      <th></th>\n",
       "      <th>na_sales</th>\n",
       "    </tr>\n",
       "    <tr>\n",
       "      <th>platform</th>\n",
       "      <th></th>\n",
       "    </tr>\n",
       "  </thead>\n",
       "  <tbody>\n",
       "    <tr>\n",
       "      <td>PS4</td>\n",
       "      <td>108.74</td>\n",
       "    </tr>\n",
       "    <tr>\n",
       "      <td>XOne</td>\n",
       "      <td>93.12</td>\n",
       "    </tr>\n",
       "    <tr>\n",
       "      <td>X360</td>\n",
       "      <td>81.66</td>\n",
       "    </tr>\n",
       "    <tr>\n",
       "      <td>PS3</td>\n",
       "      <td>63.50</td>\n",
       "    </tr>\n",
       "    <tr>\n",
       "      <td>3DS</td>\n",
       "      <td>38.20</td>\n",
       "    </tr>\n",
       "    <tr>\n",
       "      <td>WiiU</td>\n",
       "      <td>29.21</td>\n",
       "    </tr>\n",
       "    <tr>\n",
       "      <td>PC</td>\n",
       "      <td>11.11</td>\n",
       "    </tr>\n",
       "    <tr>\n",
       "      <td>Wii</td>\n",
       "      <td>6.56</td>\n",
       "    </tr>\n",
       "    <tr>\n",
       "      <td>PSV</td>\n",
       "      <td>5.04</td>\n",
       "    </tr>\n",
       "    <tr>\n",
       "      <td>DS</td>\n",
       "      <td>0.57</td>\n",
       "    </tr>\n",
       "  </tbody>\n",
       "</table>\n",
       "</div>"
      ],
      "text/plain": [
       "          na_sales\n",
       "platform          \n",
       "PS4         108.74\n",
       "XOne         93.12\n",
       "X360         81.66\n",
       "PS3          63.50\n",
       "3DS          38.20\n",
       "WiiU         29.21\n",
       "PC           11.11\n",
       "Wii           6.56\n",
       "PSV           5.04\n",
       "DS            0.57"
      ]
     },
     "execution_count": 40,
     "metadata": {},
     "output_type": "execute_result"
    }
   ],
   "source": [
    "na_platform = pd.pivot_table(na_actual, index='platform', values='na_sales',\n",
    "                                        aggfunc='sum').sort_values('na_sales', ascending=False)\n",
    "na_platform"
   ]
  },
  {
   "cell_type": "markdown",
   "id": "d6d442d7",
   "metadata": {},
   "source": [
    "Топ 5 по Северной Америке: PS4, XOne, X360, PS3 и 3DS. Заметна сильная конкуренция между Microsoft и Sony"
   ]
  },
  {
   "cell_type": "markdown",
   "id": "284666e1",
   "metadata": {},
   "source": [
    "Самые популярные жанры (топ-5) "
   ]
  },
  {
   "cell_type": "code",
   "execution_count": 41,
   "id": "bb6c5abd",
   "metadata": {},
   "outputs": [
    {
     "data": {
      "text/html": [
       "<div>\n",
       "<style scoped>\n",
       "    .dataframe tbody tr th:only-of-type {\n",
       "        vertical-align: middle;\n",
       "    }\n",
       "\n",
       "    .dataframe tbody tr th {\n",
       "        vertical-align: top;\n",
       "    }\n",
       "\n",
       "    .dataframe thead th {\n",
       "        text-align: right;\n",
       "    }\n",
       "</style>\n",
       "<table border=\"1\" class=\"dataframe\">\n",
       "  <thead>\n",
       "    <tr style=\"text-align: right;\">\n",
       "      <th></th>\n",
       "      <th>na_sales</th>\n",
       "    </tr>\n",
       "    <tr>\n",
       "      <th>genre</th>\n",
       "      <th></th>\n",
       "    </tr>\n",
       "  </thead>\n",
       "  <tbody>\n",
       "    <tr>\n",
       "      <td>Action</td>\n",
       "      <td>126.05</td>\n",
       "    </tr>\n",
       "    <tr>\n",
       "      <td>Shooter</td>\n",
       "      <td>109.74</td>\n",
       "    </tr>\n",
       "    <tr>\n",
       "      <td>Sports</td>\n",
       "      <td>65.27</td>\n",
       "    </tr>\n",
       "    <tr>\n",
       "      <td>Role-Playing</td>\n",
       "      <td>46.40</td>\n",
       "    </tr>\n",
       "    <tr>\n",
       "      <td>Misc</td>\n",
       "      <td>27.49</td>\n",
       "    </tr>\n",
       "    <tr>\n",
       "      <td>Platform</td>\n",
       "      <td>18.14</td>\n",
       "    </tr>\n",
       "    <tr>\n",
       "      <td>Fighting</td>\n",
       "      <td>15.55</td>\n",
       "    </tr>\n",
       "    <tr>\n",
       "      <td>Racing</td>\n",
       "      <td>12.96</td>\n",
       "    </tr>\n",
       "    <tr>\n",
       "      <td>Adventure</td>\n",
       "      <td>7.14</td>\n",
       "    </tr>\n",
       "    <tr>\n",
       "      <td>Simulation</td>\n",
       "      <td>4.86</td>\n",
       "    </tr>\n",
       "    <tr>\n",
       "      <td>Strategy</td>\n",
       "      <td>3.28</td>\n",
       "    </tr>\n",
       "    <tr>\n",
       "      <td>Puzzle</td>\n",
       "      <td>0.83</td>\n",
       "    </tr>\n",
       "  </tbody>\n",
       "</table>\n",
       "</div>"
      ],
      "text/plain": [
       "              na_sales\n",
       "genre                 \n",
       "Action          126.05\n",
       "Shooter         109.74\n",
       "Sports           65.27\n",
       "Role-Playing     46.40\n",
       "Misc             27.49\n",
       "Platform         18.14\n",
       "Fighting         15.55\n",
       "Racing           12.96\n",
       "Adventure         7.14\n",
       "Simulation        4.86\n",
       "Strategy          3.28\n",
       "Puzzle            0.83"
      ]
     },
     "execution_count": 41,
     "metadata": {},
     "output_type": "execute_result"
    }
   ],
   "source": [
    "na_genre = pd.pivot_table(na_actual, index='genre', values='na_sales',\n",
    "                                        aggfunc='sum').sort_values('na_sales', ascending=False)\n",
    "na_genre"
   ]
  },
  {
   "cell_type": "markdown",
   "id": "622ac2fb",
   "metadata": {},
   "source": [
    "Топ 5 жанров по Северной Америке: Action, Shooter, Sports, Role-Playing и Misc, причем экшн и шутеры лидируют с заметным отрывом"
   ]
  },
  {
   "cell_type": "markdown",
   "id": "b60a22d5",
   "metadata": {},
   "source": [
    "Влияет ли рейтинг ESRB на продажи в регионе Северная Америка?"
   ]
  },
  {
   "cell_type": "code",
   "execution_count": 42,
   "id": "7815fdfb",
   "metadata": {},
   "outputs": [
    {
     "data": {
      "text/html": [
       "<div>\n",
       "<style scoped>\n",
       "    .dataframe tbody tr th:only-of-type {\n",
       "        vertical-align: middle;\n",
       "    }\n",
       "\n",
       "    .dataframe tbody tr th {\n",
       "        vertical-align: top;\n",
       "    }\n",
       "\n",
       "    .dataframe thead th {\n",
       "        text-align: right;\n",
       "    }\n",
       "</style>\n",
       "<table border=\"1\" class=\"dataframe\">\n",
       "  <thead>\n",
       "    <tr style=\"text-align: right;\">\n",
       "      <th></th>\n",
       "      <th>na_sales</th>\n",
       "    </tr>\n",
       "    <tr>\n",
       "      <th>rating</th>\n",
       "      <th></th>\n",
       "    </tr>\n",
       "  </thead>\n",
       "  <tbody>\n",
       "    <tr>\n",
       "      <td>M</td>\n",
       "      <td>165.21</td>\n",
       "    </tr>\n",
       "    <tr>\n",
       "      <td>Unknown</td>\n",
       "      <td>89.42</td>\n",
       "    </tr>\n",
       "    <tr>\n",
       "      <td>E</td>\n",
       "      <td>79.05</td>\n",
       "    </tr>\n",
       "    <tr>\n",
       "      <td>E10+</td>\n",
       "      <td>54.24</td>\n",
       "    </tr>\n",
       "    <tr>\n",
       "      <td>T</td>\n",
       "      <td>49.79</td>\n",
       "    </tr>\n",
       "  </tbody>\n",
       "</table>\n",
       "</div>"
      ],
      "text/plain": [
       "         na_sales\n",
       "rating           \n",
       "M          165.21\n",
       "Unknown     89.42\n",
       "E           79.05\n",
       "E10+        54.24\n",
       "T           49.79"
      ]
     },
     "execution_count": 42,
     "metadata": {},
     "output_type": "execute_result"
    }
   ],
   "source": [
    "na_rating = pd.pivot_table(na_actual, index='rating', values='na_sales',\n",
    "                                        aggfunc='sum').sort_values('na_sales', ascending=False)\n",
    "na_rating"
   ]
  },
  {
   "cell_type": "markdown",
   "id": "c6f03af5",
   "metadata": {},
   "source": [
    "В регионе Северная Америка популярны игры с возрастным рейтингом 17+. "
   ]
  },
  {
   "cell_type": "markdown",
   "id": "3f667837",
   "metadata": {},
   "source": [
    "Портрет пользователя из Северной Америки: от 17 лет, любит играть или на PS4, или на XOne, любит экшены и шутеры."
   ]
  },
  {
   "cell_type": "markdown",
   "id": "8c7803b9",
   "metadata": {},
   "source": [
    "<a id=\"eu\"><h1>Европа</h1> </a>"
   ]
  },
  {
   "cell_type": "markdown",
   "id": "d5ebebe2",
   "metadata": {},
   "source": [
    "Самые популярные платформы (топ-5) "
   ]
  },
  {
   "cell_type": "code",
   "execution_count": 43,
   "id": "316b420c",
   "metadata": {},
   "outputs": [
    {
     "name": "stdout",
     "output_type": "stream",
     "text": [
      "<class 'pandas.core.frame.DataFrame'>\n",
      "Int64Index: 1422 entries, 16 to 16692\n",
      "Data columns (total 12 columns):\n",
      "name               1422 non-null object\n",
      "platform           1422 non-null object\n",
      "year_of_release    1422 non-null int32\n",
      "genre              1422 non-null object\n",
      "na_sales           1422 non-null float64\n",
      "eu_sales           1422 non-null float64\n",
      "jp_sales           1422 non-null float64\n",
      "other_sales        1422 non-null float64\n",
      "critic_score       872 non-null float64\n",
      "user_score         1047 non-null float64\n",
      "rating             1422 non-null object\n",
      "total_sales        1422 non-null float64\n",
      "dtypes: float64(7), int32(1), object(4)\n",
      "memory usage: 138.9+ KB\n"
     ]
    }
   ],
   "source": [
    "eu_actual = actual_data.query('eu_sales > 0')\n",
    "eu_actual.info()"
   ]
  },
  {
   "cell_type": "code",
   "execution_count": 44,
   "id": "4c88b167",
   "metadata": {},
   "outputs": [
    {
     "data": {
      "text/html": [
       "<div>\n",
       "<style scoped>\n",
       "    .dataframe tbody tr th:only-of-type {\n",
       "        vertical-align: middle;\n",
       "    }\n",
       "\n",
       "    .dataframe tbody tr th {\n",
       "        vertical-align: top;\n",
       "    }\n",
       "\n",
       "    .dataframe thead th {\n",
       "        text-align: right;\n",
       "    }\n",
       "</style>\n",
       "<table border=\"1\" class=\"dataframe\">\n",
       "  <thead>\n",
       "    <tr style=\"text-align: right;\">\n",
       "      <th></th>\n",
       "      <th>eu_sales</th>\n",
       "    </tr>\n",
       "    <tr>\n",
       "      <th>platform</th>\n",
       "      <th></th>\n",
       "    </tr>\n",
       "  </thead>\n",
       "  <tbody>\n",
       "    <tr>\n",
       "      <td>PS4</td>\n",
       "      <td>141.09</td>\n",
       "    </tr>\n",
       "    <tr>\n",
       "      <td>PS3</td>\n",
       "      <td>67.81</td>\n",
       "    </tr>\n",
       "    <tr>\n",
       "      <td>XOne</td>\n",
       "      <td>51.59</td>\n",
       "    </tr>\n",
       "    <tr>\n",
       "      <td>X360</td>\n",
       "      <td>42.52</td>\n",
       "    </tr>\n",
       "    <tr>\n",
       "      <td>3DS</td>\n",
       "      <td>30.96</td>\n",
       "    </tr>\n",
       "    <tr>\n",
       "      <td>PC</td>\n",
       "      <td>25.36</td>\n",
       "    </tr>\n",
       "    <tr>\n",
       "      <td>WiiU</td>\n",
       "      <td>19.85</td>\n",
       "    </tr>\n",
       "    <tr>\n",
       "      <td>PSV</td>\n",
       "      <td>6.10</td>\n",
       "    </tr>\n",
       "    <tr>\n",
       "      <td>Wii</td>\n",
       "      <td>5.93</td>\n",
       "    </tr>\n",
       "    <tr>\n",
       "      <td>DS</td>\n",
       "      <td>0.85</td>\n",
       "    </tr>\n",
       "    <tr>\n",
       "      <td>PSP</td>\n",
       "      <td>0.17</td>\n",
       "    </tr>\n",
       "  </tbody>\n",
       "</table>\n",
       "</div>"
      ],
      "text/plain": [
       "          eu_sales\n",
       "platform          \n",
       "PS4         141.09\n",
       "PS3          67.81\n",
       "XOne         51.59\n",
       "X360         42.52\n",
       "3DS          30.96\n",
       "PC           25.36\n",
       "WiiU         19.85\n",
       "PSV           6.10\n",
       "Wii           5.93\n",
       "DS            0.85\n",
       "PSP           0.17"
      ]
     },
     "execution_count": 44,
     "metadata": {},
     "output_type": "execute_result"
    }
   ],
   "source": [
    "eu_platform = pd.pivot_table(eu_actual, index='platform', values='eu_sales',\n",
    "                                        aggfunc='sum').sort_values('eu_sales', ascending=False)\n",
    "eu_platform"
   ]
  },
  {
   "cell_type": "markdown",
   "id": "f1526da6",
   "metadata": {},
   "source": [
    "Топ 5 платформ по Европейскому региону: PS4, PS3, XOne, X360 и 3DS. Здесь нет такой сильной конкуренции между производителями, как в Америке, и лидер один - это PS4 (Sony Interactive Entertainment)"
   ]
  },
  {
   "cell_type": "markdown",
   "id": "672f74fa",
   "metadata": {},
   "source": [
    "Самые популярные жанры (топ-5) "
   ]
  },
  {
   "cell_type": "code",
   "execution_count": 45,
   "id": "ad8129de",
   "metadata": {},
   "outputs": [
    {
     "data": {
      "text/html": [
       "<div>\n",
       "<style scoped>\n",
       "    .dataframe tbody tr th:only-of-type {\n",
       "        vertical-align: middle;\n",
       "    }\n",
       "\n",
       "    .dataframe tbody tr th {\n",
       "        vertical-align: top;\n",
       "    }\n",
       "\n",
       "    .dataframe thead th {\n",
       "        text-align: right;\n",
       "    }\n",
       "</style>\n",
       "<table border=\"1\" class=\"dataframe\">\n",
       "  <thead>\n",
       "    <tr style=\"text-align: right;\">\n",
       "      <th></th>\n",
       "      <th>eu_sales</th>\n",
       "    </tr>\n",
       "    <tr>\n",
       "      <th>genre</th>\n",
       "      <th></th>\n",
       "    </tr>\n",
       "  </thead>\n",
       "  <tbody>\n",
       "    <tr>\n",
       "      <td>Action</td>\n",
       "      <td>118.13</td>\n",
       "    </tr>\n",
       "    <tr>\n",
       "      <td>Shooter</td>\n",
       "      <td>87.86</td>\n",
       "    </tr>\n",
       "    <tr>\n",
       "      <td>Sports</td>\n",
       "      <td>60.52</td>\n",
       "    </tr>\n",
       "    <tr>\n",
       "      <td>Role-Playing</td>\n",
       "      <td>36.97</td>\n",
       "    </tr>\n",
       "    <tr>\n",
       "      <td>Racing</td>\n",
       "      <td>20.19</td>\n",
       "    </tr>\n",
       "    <tr>\n",
       "      <td>Misc</td>\n",
       "      <td>20.04</td>\n",
       "    </tr>\n",
       "    <tr>\n",
       "      <td>Platform</td>\n",
       "      <td>15.58</td>\n",
       "    </tr>\n",
       "    <tr>\n",
       "      <td>Simulation</td>\n",
       "      <td>10.92</td>\n",
       "    </tr>\n",
       "    <tr>\n",
       "      <td>Fighting</td>\n",
       "      <td>8.55</td>\n",
       "    </tr>\n",
       "    <tr>\n",
       "      <td>Adventure</td>\n",
       "      <td>8.25</td>\n",
       "    </tr>\n",
       "    <tr>\n",
       "      <td>Strategy</td>\n",
       "      <td>4.22</td>\n",
       "    </tr>\n",
       "    <tr>\n",
       "      <td>Puzzle</td>\n",
       "      <td>1.00</td>\n",
       "    </tr>\n",
       "  </tbody>\n",
       "</table>\n",
       "</div>"
      ],
      "text/plain": [
       "              eu_sales\n",
       "genre                 \n",
       "Action          118.13\n",
       "Shooter          87.86\n",
       "Sports           60.52\n",
       "Role-Playing     36.97\n",
       "Racing           20.19\n",
       "Misc             20.04\n",
       "Platform         15.58\n",
       "Simulation       10.92\n",
       "Fighting          8.55\n",
       "Adventure         8.25\n",
       "Strategy          4.22\n",
       "Puzzle            1.00"
      ]
     },
     "execution_count": 45,
     "metadata": {},
     "output_type": "execute_result"
    }
   ],
   "source": [
    "eu_genre = pd.pivot_table(eu_actual, index='genre', values='eu_sales',\n",
    "                                        aggfunc='sum').sort_values('eu_sales', ascending=False)\n",
    "eu_genre"
   ]
  },
  {
   "cell_type": "markdown",
   "id": "4bfff871",
   "metadata": {},
   "source": [
    "Европейские игроки, как и американские, предпочитают играть в экшены и шутеры"
   ]
  },
  {
   "cell_type": "markdown",
   "id": "29cebcb7",
   "metadata": {},
   "source": [
    "Влияет ли рейтинг ESRB на продажи в регионе Европа?"
   ]
  },
  {
   "cell_type": "code",
   "execution_count": 46,
   "id": "591ea8c5",
   "metadata": {},
   "outputs": [
    {
     "data": {
      "text/html": [
       "<div>\n",
       "<style scoped>\n",
       "    .dataframe tbody tr th:only-of-type {\n",
       "        vertical-align: middle;\n",
       "    }\n",
       "\n",
       "    .dataframe tbody tr th {\n",
       "        vertical-align: top;\n",
       "    }\n",
       "\n",
       "    .dataframe thead th {\n",
       "        text-align: right;\n",
       "    }\n",
       "</style>\n",
       "<table border=\"1\" class=\"dataframe\">\n",
       "  <thead>\n",
       "    <tr style=\"text-align: right;\">\n",
       "      <th></th>\n",
       "      <th>eu_sales</th>\n",
       "    </tr>\n",
       "    <tr>\n",
       "      <th>rating</th>\n",
       "      <th></th>\n",
       "    </tr>\n",
       "  </thead>\n",
       "  <tbody>\n",
       "    <tr>\n",
       "      <td>M</td>\n",
       "      <td>145.32</td>\n",
       "    </tr>\n",
       "    <tr>\n",
       "      <td>E</td>\n",
       "      <td>83.36</td>\n",
       "    </tr>\n",
       "    <tr>\n",
       "      <td>Unknown</td>\n",
       "      <td>78.91</td>\n",
       "    </tr>\n",
       "    <tr>\n",
       "      <td>E10+</td>\n",
       "      <td>42.69</td>\n",
       "    </tr>\n",
       "    <tr>\n",
       "      <td>T</td>\n",
       "      <td>41.95</td>\n",
       "    </tr>\n",
       "  </tbody>\n",
       "</table>\n",
       "</div>"
      ],
      "text/plain": [
       "         eu_sales\n",
       "rating           \n",
       "M          145.32\n",
       "E           83.36\n",
       "Unknown     78.91\n",
       "E10+        42.69\n",
       "T           41.95"
      ]
     },
     "execution_count": 46,
     "metadata": {},
     "output_type": "execute_result"
    }
   ],
   "source": [
    "eu_rating = pd.pivot_table(eu_actual, index='rating', values='eu_sales',\n",
    "                                        aggfunc='sum').sort_values('eu_sales', ascending=False)\n",
    "eu_rating"
   ]
  },
  {
   "cell_type": "markdown",
   "id": "b7b65593",
   "metadata": {},
   "source": [
    "Возрастной рейтинг похож на ситуацию в Америке, рынок тоже ориентирован на игроков 17+"
   ]
  },
  {
   "cell_type": "markdown",
   "id": "362e56ca",
   "metadata": {},
   "source": [
    "Портрет пользователя из Европы: от 17 лет, любит играть или на PS4, или на PS3, любит экшены и шутеры."
   ]
  },
  {
   "cell_type": "markdown",
   "id": "95c87501",
   "metadata": {},
   "source": [
    "<a id=\"jp\"><h1>Япония</h1> </a>"
   ]
  },
  {
   "cell_type": "markdown",
   "id": "4e15b568",
   "metadata": {},
   "source": [
    "Самые популярные платформы (топ-5) "
   ]
  },
  {
   "cell_type": "code",
   "execution_count": 47,
   "id": "65f4f0b7",
   "metadata": {},
   "outputs": [
    {
     "name": "stdout",
     "output_type": "stream",
     "text": [
      "<class 'pandas.core.frame.DataFrame'>\n",
      "Int64Index: 1187 entries, 16 to 16714\n",
      "Data columns (total 12 columns):\n",
      "name               1187 non-null object\n",
      "platform           1187 non-null object\n",
      "year_of_release    1187 non-null int32\n",
      "genre              1187 non-null object\n",
      "na_sales           1187 non-null float64\n",
      "eu_sales           1187 non-null float64\n",
      "jp_sales           1187 non-null float64\n",
      "other_sales        1187 non-null float64\n",
      "critic_score       410 non-null float64\n",
      "user_score         462 non-null float64\n",
      "rating             1187 non-null object\n",
      "total_sales        1187 non-null float64\n",
      "dtypes: float64(7), int32(1), object(4)\n",
      "memory usage: 115.9+ KB\n"
     ]
    }
   ],
   "source": [
    "jp_actual = actual_data.query('jp_sales > 0')\n",
    "jp_actual.info()"
   ]
  },
  {
   "cell_type": "code",
   "execution_count": 48,
   "id": "8ca8ab94",
   "metadata": {},
   "outputs": [
    {
     "data": {
      "text/html": [
       "<div>\n",
       "<style scoped>\n",
       "    .dataframe tbody tr th:only-of-type {\n",
       "        vertical-align: middle;\n",
       "    }\n",
       "\n",
       "    .dataframe tbody tr th {\n",
       "        vertical-align: top;\n",
       "    }\n",
       "\n",
       "    .dataframe thead th {\n",
       "        text-align: right;\n",
       "    }\n",
       "</style>\n",
       "<table border=\"1\" class=\"dataframe\">\n",
       "  <thead>\n",
       "    <tr style=\"text-align: right;\">\n",
       "      <th></th>\n",
       "      <th>jp_sales</th>\n",
       "    </tr>\n",
       "    <tr>\n",
       "      <th>platform</th>\n",
       "      <th></th>\n",
       "    </tr>\n",
       "  </thead>\n",
       "  <tbody>\n",
       "    <tr>\n",
       "      <td>3DS</td>\n",
       "      <td>67.81</td>\n",
       "    </tr>\n",
       "    <tr>\n",
       "      <td>PS3</td>\n",
       "      <td>23.35</td>\n",
       "    </tr>\n",
       "    <tr>\n",
       "      <td>PSV</td>\n",
       "      <td>18.59</td>\n",
       "    </tr>\n",
       "    <tr>\n",
       "      <td>PS4</td>\n",
       "      <td>15.96</td>\n",
       "    </tr>\n",
       "    <tr>\n",
       "      <td>WiiU</td>\n",
       "      <td>10.88</td>\n",
       "    </tr>\n",
       "    <tr>\n",
       "      <td>PSP</td>\n",
       "      <td>3.29</td>\n",
       "    </tr>\n",
       "    <tr>\n",
       "      <td>X360</td>\n",
       "      <td>0.51</td>\n",
       "    </tr>\n",
       "    <tr>\n",
       "      <td>XOne</td>\n",
       "      <td>0.34</td>\n",
       "    </tr>\n",
       "    <tr>\n",
       "      <td>Wii</td>\n",
       "      <td>0.05</td>\n",
       "    </tr>\n",
       "  </tbody>\n",
       "</table>\n",
       "</div>"
      ],
      "text/plain": [
       "          jp_sales\n",
       "platform          \n",
       "3DS          67.81\n",
       "PS3          23.35\n",
       "PSV          18.59\n",
       "PS4          15.96\n",
       "WiiU         10.88\n",
       "PSP           3.29\n",
       "X360          0.51\n",
       "XOne          0.34\n",
       "Wii           0.05"
      ]
     },
     "execution_count": 48,
     "metadata": {},
     "output_type": "execute_result"
    }
   ],
   "source": [
    "jp_platform = pd.pivot_table(jp_actual, index='platform', values='jp_sales',\n",
    "                                        aggfunc='sum').sort_values('jp_sales', ascending=False)\n",
    "jp_platform"
   ]
  },
  {
   "cell_type": "markdown",
   "id": "fe3b5bd7",
   "metadata": {},
   "source": [
    "В Японии лидером является производитель Nintendo (3DS). Вообще же топ 5 по платформам в Японии: 3DS, PS3, PSV, PS4 и WiiU"
   ]
  },
  {
   "cell_type": "markdown",
   "id": "972daf6e",
   "metadata": {},
   "source": [
    "Самые популярные жанры (топ-5) "
   ]
  },
  {
   "cell_type": "code",
   "execution_count": 49,
   "id": "c7baa646",
   "metadata": {},
   "outputs": [
    {
     "data": {
      "text/html": [
       "<div>\n",
       "<style scoped>\n",
       "    .dataframe tbody tr th:only-of-type {\n",
       "        vertical-align: middle;\n",
       "    }\n",
       "\n",
       "    .dataframe tbody tr th {\n",
       "        vertical-align: top;\n",
       "    }\n",
       "\n",
       "    .dataframe thead th {\n",
       "        text-align: right;\n",
       "    }\n",
       "</style>\n",
       "<table border=\"1\" class=\"dataframe\">\n",
       "  <thead>\n",
       "    <tr style=\"text-align: right;\">\n",
       "      <th></th>\n",
       "      <th>jp_sales</th>\n",
       "    </tr>\n",
       "    <tr>\n",
       "      <th>genre</th>\n",
       "      <th></th>\n",
       "    </tr>\n",
       "  </thead>\n",
       "  <tbody>\n",
       "    <tr>\n",
       "      <td>Role-Playing</td>\n",
       "      <td>51.04</td>\n",
       "    </tr>\n",
       "    <tr>\n",
       "      <td>Action</td>\n",
       "      <td>40.49</td>\n",
       "    </tr>\n",
       "    <tr>\n",
       "      <td>Misc</td>\n",
       "      <td>9.20</td>\n",
       "    </tr>\n",
       "    <tr>\n",
       "      <td>Fighting</td>\n",
       "      <td>7.65</td>\n",
       "    </tr>\n",
       "    <tr>\n",
       "      <td>Shooter</td>\n",
       "      <td>6.61</td>\n",
       "    </tr>\n",
       "    <tr>\n",
       "      <td>Adventure</td>\n",
       "      <td>5.82</td>\n",
       "    </tr>\n",
       "    <tr>\n",
       "      <td>Sports</td>\n",
       "      <td>5.41</td>\n",
       "    </tr>\n",
       "    <tr>\n",
       "      <td>Platform</td>\n",
       "      <td>4.79</td>\n",
       "    </tr>\n",
       "    <tr>\n",
       "      <td>Simulation</td>\n",
       "      <td>4.52</td>\n",
       "    </tr>\n",
       "    <tr>\n",
       "      <td>Racing</td>\n",
       "      <td>2.30</td>\n",
       "    </tr>\n",
       "    <tr>\n",
       "      <td>Strategy</td>\n",
       "      <td>1.77</td>\n",
       "    </tr>\n",
       "    <tr>\n",
       "      <td>Puzzle</td>\n",
       "      <td>1.18</td>\n",
       "    </tr>\n",
       "  </tbody>\n",
       "</table>\n",
       "</div>"
      ],
      "text/plain": [
       "              jp_sales\n",
       "genre                 \n",
       "Role-Playing     51.04\n",
       "Action           40.49\n",
       "Misc              9.20\n",
       "Fighting          7.65\n",
       "Shooter           6.61\n",
       "Adventure         5.82\n",
       "Sports            5.41\n",
       "Platform          4.79\n",
       "Simulation        4.52\n",
       "Racing            2.30\n",
       "Strategy          1.77\n",
       "Puzzle            1.18"
      ]
     },
     "execution_count": 49,
     "metadata": {},
     "output_type": "execute_result"
    }
   ],
   "source": [
    "jp_genre = pd.pivot_table(jp_actual, index='genre', values='jp_sales',\n",
    "                                        aggfunc='sum').sort_values('jp_sales', ascending=False)\n",
    "jp_genre"
   ]
  },
  {
   "cell_type": "markdown",
   "id": "29c63ba0",
   "metadata": {},
   "source": [
    "Топ 5 по жанрам Японии: Role-Playing, Action, Misc, Fighting и Shooter. Игрокам этого региона больше нравятся игры \"со смыслом\" - ролевые, экшен, аркады"
   ]
  },
  {
   "cell_type": "markdown",
   "id": "24dfcae8",
   "metadata": {},
   "source": [
    "Влияет ли рейтинг ESRB на продажи в регионе Европа?"
   ]
  },
  {
   "cell_type": "code",
   "execution_count": 50,
   "id": "161ee41b",
   "metadata": {},
   "outputs": [
    {
     "data": {
      "text/html": [
       "<div>\n",
       "<style scoped>\n",
       "    .dataframe tbody tr th:only-of-type {\n",
       "        vertical-align: middle;\n",
       "    }\n",
       "\n",
       "    .dataframe tbody tr th {\n",
       "        vertical-align: top;\n",
       "    }\n",
       "\n",
       "    .dataframe thead th {\n",
       "        text-align: right;\n",
       "    }\n",
       "</style>\n",
       "<table border=\"1\" class=\"dataframe\">\n",
       "  <thead>\n",
       "    <tr style=\"text-align: right;\">\n",
       "      <th></th>\n",
       "      <th>jp_sales</th>\n",
       "    </tr>\n",
       "    <tr>\n",
       "      <th>rating</th>\n",
       "      <th></th>\n",
       "    </tr>\n",
       "  </thead>\n",
       "  <tbody>\n",
       "    <tr>\n",
       "      <td>Unknown</td>\n",
       "      <td>85.05</td>\n",
       "    </tr>\n",
       "    <tr>\n",
       "      <td>T</td>\n",
       "      <td>20.59</td>\n",
       "    </tr>\n",
       "    <tr>\n",
       "      <td>E</td>\n",
       "      <td>15.14</td>\n",
       "    </tr>\n",
       "    <tr>\n",
       "      <td>M</td>\n",
       "      <td>14.11</td>\n",
       "    </tr>\n",
       "    <tr>\n",
       "      <td>E10+</td>\n",
       "      <td>5.89</td>\n",
       "    </tr>\n",
       "  </tbody>\n",
       "</table>\n",
       "</div>"
      ],
      "text/plain": [
       "         jp_sales\n",
       "rating           \n",
       "Unknown     85.05\n",
       "T           20.59\n",
       "E           15.14\n",
       "M           14.11\n",
       "E10+         5.89"
      ]
     },
     "execution_count": 50,
     "metadata": {},
     "output_type": "execute_result"
    }
   ],
   "source": [
    "jp_rating = pd.pivot_table(jp_actual, index='rating', values='jp_sales',\n",
    "                                        aggfunc='sum').sort_values('jp_sales', ascending=False)\n",
    "jp_rating"
   ]
  },
  {
   "cell_type": "markdown",
   "id": "ca069000",
   "metadata": {},
   "source": [
    "Среди игр с имеющимся рейтингом, лидирует рейтинг Т - подростки 13+. Производители ориентируются на подростков"
   ]
  },
  {
   "cell_type": "markdown",
   "id": "7b1d95be",
   "metadata": {},
   "source": [
    "Портрет пользователя из Японии: от 13 лет, любит играть или на 3DS, или на PS3, любит ролевые игры и экшены."
   ]
  },
  {
   "cell_type": "markdown",
   "id": "e21404d9",
   "metadata": {},
   "source": [
    "<table class=\"blueTable\">\n",
    "<thead>\n",
    "<tr>\n",
    "<th>Регион</th>\n",
    "<th>Платформы</th>\n",
    "<th>Жанры</th>\n",
    "<th>ESRB</th>\n",
    "<th>Портрет пользователя</th>\n",
    "</tr>\n",
    "</thead>\n",
    "<tfoot>\n",
    "<tr>\n",
    "<td colspan=\"5\">\n",
    "<div class=\"links\"><a href=\"#\">&laquo;</a> <a class=\"active\" href=\"#\">1</a> <a href=\"#\">2</a> <a href=\"#\">3</a> <a href=\"#\">4</a> <a href=\"#\">&raquo;</a></div>\n",
    "</td>\n",
    "</tr>\n",
    "</tfoot>\n",
    "<tbody>\n",
    "<tr>\n",
    "<td>Сев.Америка</td>\n",
    "<td><span style=\"color: #000000; font-size: 14px; background-color: #ffffff;\">PS4, XOne, X360, PS3, 3DS</span></td>\n",
    "<td><span style=\"color: #000000; font-size: 14px; background-color: #ffffff;\">Action, Shooter, Sports, Role-Playing,Misc</span></td>\n",
    "<td><span style=\"color: #000000; font-size: 14px; background-color: #ffffff;\">17+</span></td>\n",
    "<td><span style=\"color: #000000; font-size: 14px; background-color: #ffffff;\">от 17 лет, любит играть или на PS4, или на XOne, любит экшены и шутеры</span></td>\n",
    "</tr>\n",
    "<tr>\n",
    "<td>Европа</td>\n",
    "<td><span style=\"color: #000000; font-size: 14px; background-color: #ffffff;\">PS4, PS3, XOne, X360, 3DS</span></td>\n",
    "<td><span style=\"color: #000000; font-size: 14px; background-color: #ffffff;\">Action, Shooter, Sports, Role-Playing, Racing</span></td>\n",
    "<td><span style=\"color: #000000; font-size: 14px; background-color: #ffffff;\">17+</span></td>\n",
    "<td><span style=\"color: #000000; font-size: 14px; background-color: #ffffff;\">от 17 лет, любит играть или на PS4, или на PS3, любит экшены и шутеры</span></td>\n",
    "</tr>\n",
    "<tr>\n",
    "<td>Япония</td>\n",
    "<td><span style=\"color: #000000; font-size: 14px; background-color: #ffffff;\">3DS, PS3, PSV, PS4,WiiU</span></td>\n",
    "<td><span style=\"color: #000000; font-size: 14px; background-color: #ffffff;\">Role-Playing, Action, Misc, Fighting, Shooter</span></td>\n",
    "<td><span style=\"color: #000000; font-size: 14px; background-color: #ffffff;\">13+</span></td>\n",
    "<td><span style=\"color: #000000; font-size: 14px; background-color: #ffffff;\">от 13 лет, любит играть или на 3DS, или на PS3, любит ролевые игры и экшены</span></td>\n",
    "</tr>\n",
    "</tbody>\n",
    "</table>"
   ]
  },
  {
   "cell_type": "markdown",
   "id": "c6df16e3",
   "metadata": {},
   "source": [
    "<a id=\"hypoths\"><h1>5. Проверка гипотез</h1> </a>"
   ]
  },
  {
   "cell_type": "markdown",
   "id": "413c9304",
   "metadata": {},
   "source": [
    "<a id=\"hyp1\">Гипотеза 1. Средние пользовательские рейтинги платформ Xbox One и PC одинаковые </a>"
   ]
  },
  {
   "cell_type": "markdown",
   "id": "4acff8ed",
   "metadata": {},
   "source": [
    "Нулевая гипотеза: Средние пользовательские рейтинги платформ Xbox One и PC одинаковые<br>\n",
    "Альтернативная гипотеза : Средние пользовательские рейтинги платформ Xbox One и PC отличаются"
   ]
  },
  {
   "cell_type": "code",
   "execution_count": 51,
   "id": "0c246518",
   "metadata": {},
   "outputs": [
    {
     "data": {
      "text/plain": [
       "count    976.000000\n",
       "mean       6.739037\n",
       "std        1.500462\n",
       "min        1.000000\n",
       "25%        6.000000\n",
       "50%        7.100000\n",
       "75%        7.825000\n",
       "max        9.300000\n",
       "Name: user_score, dtype: float64"
      ]
     },
     "execution_count": 51,
     "metadata": {},
     "output_type": "execute_result"
    }
   ],
   "source": [
    "#не будем учитывать игры с неуказанным рейтингом\n",
    "actual_data_no_rp = actual_data.query('user_score != \"rp\"').dropna()\n",
    "actual_data_no_rp['user_score'].describe()"
   ]
  },
  {
   "cell_type": "code",
   "execution_count": 52,
   "id": "eba98dad",
   "metadata": {},
   "outputs": [
    {
     "name": "stdout",
     "output_type": "stream",
     "text": [
      "1.79639911308204\n",
      "2.932444842801986\n"
     ]
    }
   ],
   "source": [
    "xone_user_score = actual_data_no_rp.query('platform == \"XOne\"')['user_score']\n",
    "pc_user_score = actual_data_no_rp.query('platform == \"PC\"')['user_score']\n",
    "xone_var = xone_user_score.var()\n",
    "pc_var = pc_user_score.var()\n",
    "print(xone_var)\n",
    "print(pc_var)\n"
   ]
  },
  {
   "cell_type": "code",
   "execution_count": 53,
   "id": "c923aa05",
   "metadata": {},
   "outputs": [
    {
     "name": "stdout",
     "output_type": "stream",
     "text": [
      "6.538181818181818\n",
      "6.3020270270270276\n"
     ]
    }
   ],
   "source": [
    "mean_xone = xone_user_score.mean()\n",
    "mean_pc = pc_user_score.mean()\n",
    "print(mean_xone)\n",
    "print(mean_pc)"
   ]
  },
  {
   "cell_type": "markdown",
   "id": "bc1882b7",
   "metadata": {},
   "source": [
    "ВидНо, что дисперсии выборок отличается более чем на 10%, поэтому берем аргумент equal_var=False в Т-тесте."
   ]
  },
  {
   "cell_type": "code",
   "execution_count": 54,
   "id": "15e5f019",
   "metadata": {},
   "outputs": [
    {
     "name": "stdout",
     "output_type": "stream",
     "text": [
      "р-значение:  0.1788264826340131\n",
      "Не получилось отвергнуть нулевую гипотезу\n"
     ]
    }
   ],
   "source": [
    "alpha = 0.05\n",
    "\n",
    "result_1 = st.ttest_ind(xone_user_score, pc_user_score, equal_var=False)\n",
    "prob1 = result_1.pvalue\n",
    "print('р-значение: ',prob1)\n",
    "if prob1 < alpha:\n",
    "    print(\"Отвергаем нулевую гипотезу\")\n",
    "else:\n",
    "    print(\"Не получилось отвергнуть нулевую гипотезу\")"
   ]
  },
  {
   "cell_type": "markdown",
   "id": "f7f13f90",
   "metadata": {},
   "source": [
    "Опровергнуть нулевую гипотезу о равнстве генеральных совокупностей с альфа= 5% не получилось, соответственно по альтернативной гипотезе средние пользовательские рейтинги могут отличатся"
   ]
  },
  {
   "cell_type": "markdown",
   "id": "5554ecb6",
   "metadata": {},
   "source": [
    "<a id=\"hyp2\">Гипотеза 2. Средние пользовательские рейтинги жанров Action и Sports разные </a>"
   ]
  },
  {
   "cell_type": "markdown",
   "id": "d745de83",
   "metadata": {},
   "source": [
    "Нулевая гипотеза: Средние пользовательские рейтинги жанров Action и Sports одинаковые <br>\n",
    "Альтернативна гипотеза: Средние пользовательские рейтинги жанров Action и Sports разные."
   ]
  },
  {
   "cell_type": "markdown",
   "id": "1b67bbcf",
   "metadata": {},
   "source": [
    "<div class=\"alert alert-block alert-success\">\n",
    "\n",
    "    \n",
    "### Комментарий от ревьюера v_1\n",
    "\n",
    "Отлично, гипотезы сформулированы верно\n",
    "    \n",
    "</div>"
   ]
  },
  {
   "cell_type": "code",
   "execution_count": 55,
   "id": "29dc25ee",
   "metadata": {},
   "outputs": [
    {
     "name": "stdout",
     "output_type": "stream",
     "text": [
      "1.6462144328163746\n",
      "2.1316396997497913\n"
     ]
    }
   ],
   "source": [
    "action_user_score = actual_data_no_rp.query('genre == \"Action\"')['user_score']\n",
    "sports_user_score = actual_data_no_rp.query('genre == \"Sports\"')['user_score']\n",
    "xone_var = action_user_score.var()\n",
    "pc_var = sports_user_score.var()\n",
    "print(xone_var)\n",
    "print(pc_var)"
   ]
  },
  {
   "cell_type": "code",
   "execution_count": 56,
   "id": "1cc33d9a",
   "metadata": {},
   "outputs": [
    {
     "name": "stdout",
     "output_type": "stream",
     "text": [
      "р-значение:  1.0496920005008586e-13\n",
      "Отвергаем нулевую гипотезу\n"
     ]
    }
   ],
   "source": [
    "result_2 = st.ttest_ind(action_user_score, sports_user_score, equal_var=False)\n",
    "prob2 = result_2.pvalue\n",
    "print('р-значение: ',prob2)\n",
    "if prob2 < alpha:\n",
    "    print(\"Отвергаем нулевую гипотезу\")\n",
    "else:\n",
    "    print(\"Не получилось отвергнуть нулевую гипотезу\")"
   ]
  },
  {
   "cell_type": "markdown",
   "id": "706f5b15",
   "metadata": {},
   "source": [
    "Средние пользовательские рейтинги жанров Action (экшен-игры) и Sports (спорт) разные. У нас получилось опровергнуть нулевую гипотезу о равнстве генеральных совокупностей с альфа= 5%, соответственно делать какие либо выводы по данным от разных жанров мы не можем."
   ]
  },
  {
   "cell_type": "markdown",
   "id": "a6e4e3dc",
   "metadata": {},
   "source": [
    "<a id=\"conclusions\"><h1>6. Общий вывод</h1> </a>"
   ]
  },
  {
   "cell_type": "markdown",
   "id": "b1ed6bbe",
   "metadata": {},
   "source": [
    "Рынок видеоигр неоднороден – между регионами продаж и платформами есть заметные различия, которые, вероятно, объясняются разными предпочтениями пользователей.  Для каждого региона и платформы есть свои топовые жанры и свой предел продаж.\n",
    "Везде, кроме Японии, игры на стационарных консолях продаются лучше, чем на портативных и компьютерах (в Японии – лидер портативные консоли). Везде, кроме Японии, лучше всего продаются шутеры (в Японии – RPG). В среднем наибольшие продажи будут на платформе Sony PlayStation 4, у этой же платформы и рекорд по максимальным продажам. Если сделать прогноз о наиболее прибыльной игре - стоит выбрать шутер для Sony PlayStation 4, с маркировкой 17+, и стремиться получить по ней хорошие оценки критиков.\n"
   ]
  },
  {
   "cell_type": "markdown",
   "id": "ce33f71a",
   "metadata": {},
   "source": [
    "<div class=\"alert alert-block alert-info\">\n",
    "\n",
    "    Рынок видеоигр неоднороден – между регионами продаж и платформами есть заметные различия, которые, вероятно, объясняются разными предпочтениями пользователей.<br>\n",
    "    Для каждого региона и платформы есть свои топовые жанры и свой предел продаж:\n",
    "    \n",
    "    1. Везде, кроме Японии, игры на стационарных консолях продаются лучше, чем на портативных и компьютерах (в Японии – лидер портативные консоли). \n",
    "    2. Везде, кроме Японии, лучше всего продаются шутеры (в Японии – RPG). \n",
    "    3. В среднем наибольшие продажи будут на платформе Sony PlayStation 4, у этой же платформы и рекорд по максимальным продажам. \n",
    "    4. Если сделать прогноз о наиболее прибыльной игре - стоит выбрать шутер для Sony PlayStation 4, с маркировкой 17+, и стремиться получить по ней хорошие оценки критиков.\n",
    "</div>"
   ]
  },
  {
   "cell_type": "code",
   "execution_count": null,
   "id": "b9c07be6",
   "metadata": {},
   "outputs": [],
   "source": []
  }
 ],
 "metadata": {
  "ExecuteTimeLog": [
   {
    "duration": 11,
    "start_time": "2022-01-27T12:20:22.913Z"
   },
   {
    "duration": 73,
    "start_time": "2022-01-27T12:20:22.926Z"
   },
   {
    "duration": 31,
    "start_time": "2022-01-27T12:20:23.001Z"
   },
   {
    "duration": 4,
    "start_time": "2022-01-27T12:20:23.033Z"
   },
   {
    "duration": 10,
    "start_time": "2022-01-27T12:20:23.039Z"
   },
   {
    "duration": 10,
    "start_time": "2022-01-27T12:20:23.051Z"
   },
   {
    "duration": 8,
    "start_time": "2022-01-27T12:20:23.062Z"
   },
   {
    "duration": 8,
    "start_time": "2022-01-27T12:20:23.072Z"
   },
   {
    "duration": 7,
    "start_time": "2022-01-27T12:20:23.107Z"
   },
   {
    "duration": 15,
    "start_time": "2022-01-27T12:20:23.116Z"
   },
   {
    "duration": 12,
    "start_time": "2022-01-27T12:20:23.134Z"
   },
   {
    "duration": 16,
    "start_time": "2022-01-27T12:20:23.148Z"
   },
   {
    "duration": 16,
    "start_time": "2022-01-27T12:20:23.166Z"
   },
   {
    "duration": 33,
    "start_time": "2022-01-27T12:20:23.184Z"
   },
   {
    "duration": 23,
    "start_time": "2022-01-27T12:20:23.218Z"
   },
   {
    "duration": 6601,
    "start_time": "2022-01-27T12:20:23.243Z"
   },
   {
    "duration": 9,
    "start_time": "2022-01-27T12:20:29.846Z"
   },
   {
    "duration": 550,
    "start_time": "2022-01-27T12:20:29.857Z"
   },
   {
    "duration": 17,
    "start_time": "2022-01-27T12:20:30.409Z"
   },
   {
    "duration": 5,
    "start_time": "2022-01-27T12:20:30.428Z"
   },
   {
    "duration": 96,
    "start_time": "2022-01-27T12:20:30.434Z"
   },
   {
    "duration": 11,
    "start_time": "2022-01-27T12:20:30.532Z"
   },
   {
    "duration": 33,
    "start_time": "2022-01-27T12:20:30.545Z"
   },
   {
    "duration": 28,
    "start_time": "2022-01-27T12:20:30.580Z"
   },
   {
    "duration": 412,
    "start_time": "2022-01-27T12:20:30.610Z"
   },
   {
    "duration": 11,
    "start_time": "2022-01-27T12:20:31.024Z"
   },
   {
    "duration": 21,
    "start_time": "2022-01-27T12:20:31.037Z"
   },
   {
    "duration": 10,
    "start_time": "2022-01-27T12:20:31.060Z"
   },
   {
    "duration": 44,
    "start_time": "2022-01-27T12:20:31.076Z"
   },
   {
    "duration": 26,
    "start_time": "2022-01-27T12:20:31.122Z"
   },
   {
    "duration": 10,
    "start_time": "2022-01-27T12:20:31.151Z"
   },
   {
    "duration": 1214,
    "start_time": "2022-01-27T12:20:31.163Z"
   },
   {
    "duration": 13,
    "start_time": "2022-01-27T12:20:32.379Z"
   },
   {
    "duration": 15,
    "start_time": "2022-01-27T12:20:32.408Z"
   },
   {
    "duration": 14,
    "start_time": "2022-01-27T12:20:32.425Z"
   },
   {
    "duration": 17,
    "start_time": "2022-01-27T12:20:32.442Z"
   },
   {
    "duration": 48,
    "start_time": "2022-01-27T12:20:32.461Z"
   },
   {
    "duration": 15,
    "start_time": "2022-01-27T12:20:32.511Z"
   },
   {
    "duration": 16,
    "start_time": "2022-01-27T12:20:32.528Z"
   },
   {
    "duration": 14,
    "start_time": "2022-01-27T12:20:32.546Z"
   },
   {
    "duration": 19,
    "start_time": "2022-01-27T12:20:32.561Z"
   },
   {
    "duration": 34,
    "start_time": "2022-01-27T12:20:32.583Z"
   },
   {
    "duration": 10,
    "start_time": "2022-01-27T12:20:32.619Z"
   },
   {
    "duration": 23,
    "start_time": "2022-01-27T12:20:32.630Z"
   },
   {
    "duration": 18,
    "start_time": "2022-01-27T12:20:32.655Z"
   },
   {
    "duration": 45,
    "start_time": "2022-01-27T12:20:32.675Z"
   },
   {
    "duration": 15,
    "start_time": "2022-01-27T12:20:32.722Z"
   },
   {
    "duration": 10,
    "start_time": "2022-01-27T12:20:32.739Z"
   },
   {
    "duration": 9,
    "start_time": "2022-01-27T12:20:32.751Z"
   },
   {
    "duration": 12,
    "start_time": "2022-01-27T12:20:32.762Z"
   },
   {
    "duration": 42,
    "start_time": "2022-01-27T12:20:32.776Z"
   },
   {
    "duration": 16,
    "start_time": "2022-01-27T12:20:32.820Z"
   },
   {
    "duration": 1175,
    "start_time": "2022-02-09T09:07:11.494Z"
   },
   {
    "duration": 55,
    "start_time": "2022-02-09T09:07:12.671Z"
   },
   {
    "duration": 27,
    "start_time": "2022-02-09T09:07:12.728Z"
   },
   {
    "duration": 4,
    "start_time": "2022-02-09T09:07:12.757Z"
   },
   {
    "duration": 20,
    "start_time": "2022-02-09T09:07:12.762Z"
   },
   {
    "duration": 21,
    "start_time": "2022-02-09T09:07:12.783Z"
   },
   {
    "duration": 35,
    "start_time": "2022-02-09T09:07:12.806Z"
   },
   {
    "duration": 16,
    "start_time": "2022-02-09T09:07:12.844Z"
   },
   {
    "duration": 19,
    "start_time": "2022-02-09T09:07:12.863Z"
   },
   {
    "duration": 21,
    "start_time": "2022-02-09T09:07:12.884Z"
   },
   {
    "duration": 10,
    "start_time": "2022-02-09T09:07:12.906Z"
   },
   {
    "duration": 15,
    "start_time": "2022-02-09T09:07:12.918Z"
   },
   {
    "duration": 19,
    "start_time": "2022-02-09T09:07:12.935Z"
   },
   {
    "duration": 15,
    "start_time": "2022-02-09T09:07:12.956Z"
   },
   {
    "duration": 24,
    "start_time": "2022-02-09T09:07:12.973Z"
   },
   {
    "duration": 6511,
    "start_time": "2022-02-09T09:07:12.999Z"
   },
   {
    "duration": 7,
    "start_time": "2022-02-09T09:07:19.519Z"
   },
   {
    "duration": 526,
    "start_time": "2022-02-09T09:07:19.528Z"
   },
   {
    "duration": 17,
    "start_time": "2022-02-09T09:07:20.056Z"
   },
   {
    "duration": 5,
    "start_time": "2022-02-09T09:07:20.075Z"
   },
   {
    "duration": 100,
    "start_time": "2022-02-09T09:07:20.082Z"
   },
   {
    "duration": 10,
    "start_time": "2022-02-09T09:07:20.184Z"
   },
   {
    "duration": 34,
    "start_time": "2022-02-09T09:07:20.198Z"
   },
   {
    "duration": 14,
    "start_time": "2022-02-09T09:07:20.234Z"
   },
   {
    "duration": 385,
    "start_time": "2022-02-09T09:07:20.249Z"
   },
   {
    "duration": 10,
    "start_time": "2022-02-09T09:07:20.637Z"
   },
   {
    "duration": 17,
    "start_time": "2022-02-09T09:07:20.649Z"
   },
   {
    "duration": 22,
    "start_time": "2022-02-09T09:07:20.668Z"
   },
   {
    "duration": 46,
    "start_time": "2022-02-09T09:07:20.691Z"
   },
   {
    "duration": 36,
    "start_time": "2022-02-09T09:07:20.739Z"
   },
   {
    "duration": 14,
    "start_time": "2022-02-09T09:07:20.778Z"
   },
   {
    "duration": 1287,
    "start_time": "2022-02-09T09:07:20.794Z"
   },
   {
    "duration": 12,
    "start_time": "2022-02-09T09:07:22.083Z"
   },
   {
    "duration": 27,
    "start_time": "2022-02-09T09:07:22.096Z"
   },
   {
    "duration": 12,
    "start_time": "2022-02-09T09:07:22.125Z"
   },
   {
    "duration": 14,
    "start_time": "2022-02-09T09:07:22.138Z"
   },
   {
    "duration": 13,
    "start_time": "2022-02-09T09:07:22.153Z"
   },
   {
    "duration": 17,
    "start_time": "2022-02-09T09:07:22.168Z"
   },
   {
    "duration": 37,
    "start_time": "2022-02-09T09:07:22.187Z"
   },
   {
    "duration": 15,
    "start_time": "2022-02-09T09:07:22.227Z"
   },
   {
    "duration": 19,
    "start_time": "2022-02-09T09:07:22.244Z"
   },
   {
    "duration": 18,
    "start_time": "2022-02-09T09:07:22.265Z"
   },
   {
    "duration": 35,
    "start_time": "2022-02-09T09:07:22.285Z"
   },
   {
    "duration": 16,
    "start_time": "2022-02-09T09:07:22.322Z"
   },
   {
    "duration": 14,
    "start_time": "2022-02-09T09:07:22.340Z"
   },
   {
    "duration": 14,
    "start_time": "2022-02-09T09:07:22.356Z"
   },
   {
    "duration": 47,
    "start_time": "2022-02-09T09:07:22.372Z"
   },
   {
    "duration": 10,
    "start_time": "2022-02-09T09:07:22.422Z"
   },
   {
    "duration": 22,
    "start_time": "2022-02-09T09:07:22.434Z"
   },
   {
    "duration": 8,
    "start_time": "2022-02-09T09:07:22.458Z"
   },
   {
    "duration": 12,
    "start_time": "2022-02-09T09:07:22.468Z"
   },
   {
    "duration": 13,
    "start_time": "2022-02-09T09:07:22.482Z"
   },
   {
    "duration": 1148,
    "start_time": "2022-02-09T09:13:35.809Z"
   },
   {
    "duration": 52,
    "start_time": "2022-02-09T09:13:36.959Z"
   },
   {
    "duration": 35,
    "start_time": "2022-02-09T09:13:37.014Z"
   },
   {
    "duration": 4,
    "start_time": "2022-02-09T09:13:37.052Z"
   },
   {
    "duration": 36,
    "start_time": "2022-02-09T09:13:37.058Z"
   },
   {
    "duration": 33,
    "start_time": "2022-02-09T09:13:37.096Z"
   },
   {
    "duration": 39,
    "start_time": "2022-02-09T09:13:37.131Z"
   },
   {
    "duration": 24,
    "start_time": "2022-02-09T09:13:37.173Z"
   },
   {
    "duration": 41,
    "start_time": "2022-02-09T09:13:37.199Z"
   },
   {
    "duration": 43,
    "start_time": "2022-02-09T09:13:37.242Z"
   },
   {
    "duration": 30,
    "start_time": "2022-02-09T09:13:37.287Z"
   },
   {
    "duration": 43,
    "start_time": "2022-02-09T09:13:37.318Z"
   },
   {
    "duration": 17,
    "start_time": "2022-02-09T09:13:37.363Z"
   },
   {
    "duration": 33,
    "start_time": "2022-02-09T09:13:37.381Z"
   },
   {
    "duration": 45,
    "start_time": "2022-02-09T09:13:37.416Z"
   },
   {
    "duration": 15,
    "start_time": "2022-02-09T09:13:37.463Z"
   },
   {
    "duration": 6440,
    "start_time": "2022-02-09T09:13:37.480Z"
   },
   {
    "duration": 6,
    "start_time": "2022-02-09T09:13:43.922Z"
   },
   {
    "duration": 543,
    "start_time": "2022-02-09T09:13:43.930Z"
   },
   {
    "duration": 15,
    "start_time": "2022-02-09T09:13:44.474Z"
   },
   {
    "duration": 4,
    "start_time": "2022-02-09T09:13:44.491Z"
   },
   {
    "duration": 101,
    "start_time": "2022-02-09T09:13:44.497Z"
   },
   {
    "duration": 9,
    "start_time": "2022-02-09T09:13:44.602Z"
   },
   {
    "duration": 18,
    "start_time": "2022-02-09T09:13:44.613Z"
   },
   {
    "duration": 14,
    "start_time": "2022-02-09T09:13:44.633Z"
   },
   {
    "duration": 380,
    "start_time": "2022-02-09T09:13:44.649Z"
   },
   {
    "duration": 10,
    "start_time": "2022-02-09T09:13:45.031Z"
   },
   {
    "duration": 23,
    "start_time": "2022-02-09T09:13:45.043Z"
   },
   {
    "duration": 27,
    "start_time": "2022-02-09T09:13:45.067Z"
   },
   {
    "duration": 40,
    "start_time": "2022-02-09T09:13:45.096Z"
   },
   {
    "duration": 58,
    "start_time": "2022-02-09T09:13:45.138Z"
   },
   {
    "duration": 30,
    "start_time": "2022-02-09T09:13:45.197Z"
   },
   {
    "duration": 1320,
    "start_time": "2022-02-09T09:13:45.229Z"
   },
   {
    "duration": 14,
    "start_time": "2022-02-09T09:13:46.551Z"
   },
   {
    "duration": 37,
    "start_time": "2022-02-09T09:13:46.567Z"
   },
   {
    "duration": 14,
    "start_time": "2022-02-09T09:13:46.606Z"
   },
   {
    "duration": 41,
    "start_time": "2022-02-09T09:13:46.622Z"
   },
   {
    "duration": 42,
    "start_time": "2022-02-09T09:13:46.665Z"
   },
   {
    "duration": 17,
    "start_time": "2022-02-09T09:13:46.709Z"
   },
   {
    "duration": 18,
    "start_time": "2022-02-09T09:13:46.728Z"
   },
   {
    "duration": 40,
    "start_time": "2022-02-09T09:13:46.748Z"
   },
   {
    "duration": 33,
    "start_time": "2022-02-09T09:13:46.790Z"
   },
   {
    "duration": 24,
    "start_time": "2022-02-09T09:13:46.824Z"
   },
   {
    "duration": 40,
    "start_time": "2022-02-09T09:13:46.850Z"
   },
   {
    "duration": 23,
    "start_time": "2022-02-09T09:13:46.892Z"
   },
   {
    "duration": 24,
    "start_time": "2022-02-09T09:13:46.917Z"
   },
   {
    "duration": 35,
    "start_time": "2022-02-09T09:13:46.942Z"
   },
   {
    "duration": 47,
    "start_time": "2022-02-09T09:13:46.979Z"
   },
   {
    "duration": 30,
    "start_time": "2022-02-09T09:13:47.028Z"
   },
   {
    "duration": 30,
    "start_time": "2022-02-09T09:13:47.060Z"
   },
   {
    "duration": 16,
    "start_time": "2022-02-09T09:13:47.091Z"
   },
   {
    "duration": 35,
    "start_time": "2022-02-09T09:13:47.109Z"
   },
   {
    "duration": 20,
    "start_time": "2022-02-09T09:13:47.146Z"
   },
   {
    "duration": 6,
    "start_time": "2022-02-09T09:14:03.894Z"
   },
   {
    "duration": 484,
    "start_time": "2022-02-09T09:23:09.234Z"
   },
   {
    "duration": 380,
    "start_time": "2022-02-09T09:24:02.619Z"
   },
   {
    "duration": 382,
    "start_time": "2022-02-09T09:24:14.638Z"
   },
   {
    "duration": 6854,
    "start_time": "2022-02-09T09:24:39.226Z"
   },
   {
    "duration": 7413,
    "start_time": "2022-02-09T09:25:25.332Z"
   },
   {
    "duration": 369,
    "start_time": "2022-02-09T09:26:32.846Z"
   },
   {
    "duration": 15,
    "start_time": "2022-02-09T09:26:56.934Z"
   },
   {
    "duration": 18,
    "start_time": "2022-02-09T09:27:01.209Z"
   },
   {
    "duration": 28,
    "start_time": "2022-02-09T09:27:10.027Z"
   },
   {
    "duration": 292,
    "start_time": "2022-02-09T09:28:20.536Z"
   },
   {
    "duration": 17,
    "start_time": "2022-02-09T09:32:04.286Z"
   },
   {
    "duration": 294,
    "start_time": "2022-02-09T09:34:40.771Z"
   },
   {
    "duration": 14,
    "start_time": "2022-02-09T09:35:45.120Z"
   },
   {
    "duration": 17,
    "start_time": "2022-02-09T09:38:44.451Z"
   },
   {
    "duration": 10,
    "start_time": "2022-02-09T09:41:15.328Z"
   },
   {
    "duration": 1208,
    "start_time": "2022-02-09T10:02:27.154Z"
   },
   {
    "duration": 73,
    "start_time": "2022-02-09T10:02:28.364Z"
   },
   {
    "duration": 32,
    "start_time": "2022-02-09T10:02:28.440Z"
   },
   {
    "duration": 4,
    "start_time": "2022-02-09T10:02:28.474Z"
   },
   {
    "duration": 7,
    "start_time": "2022-02-09T10:02:28.479Z"
   },
   {
    "duration": 32,
    "start_time": "2022-02-09T10:02:28.488Z"
   },
   {
    "duration": 10,
    "start_time": "2022-02-09T10:02:28.521Z"
   },
   {
    "duration": 6,
    "start_time": "2022-02-09T10:02:28.533Z"
   },
   {
    "duration": 6,
    "start_time": "2022-02-09T10:02:28.541Z"
   },
   {
    "duration": 14,
    "start_time": "2022-02-09T10:02:28.549Z"
   },
   {
    "duration": 9,
    "start_time": "2022-02-09T10:02:28.564Z"
   },
   {
    "duration": 12,
    "start_time": "2022-02-09T10:02:28.574Z"
   },
   {
    "duration": 32,
    "start_time": "2022-02-09T10:02:28.587Z"
   },
   {
    "duration": 14,
    "start_time": "2022-02-09T10:02:28.621Z"
   },
   {
    "duration": 19,
    "start_time": "2022-02-09T10:02:28.637Z"
   },
   {
    "duration": 9,
    "start_time": "2022-02-09T10:02:28.657Z"
   },
   {
    "duration": 6569,
    "start_time": "2022-02-09T10:02:28.667Z"
   },
   {
    "duration": 7,
    "start_time": "2022-02-09T10:02:35.237Z"
   },
   {
    "duration": 548,
    "start_time": "2022-02-09T10:02:35.246Z"
   },
   {
    "duration": 30,
    "start_time": "2022-02-09T10:02:35.796Z"
   },
   {
    "duration": 3,
    "start_time": "2022-02-09T10:02:35.828Z"
   },
   {
    "duration": 92,
    "start_time": "2022-02-09T10:02:35.833Z"
   },
   {
    "duration": 21,
    "start_time": "2022-02-09T10:02:35.929Z"
   },
   {
    "duration": 325,
    "start_time": "2022-02-09T10:02:35.952Z"
   },
   {
    "duration": 10,
    "start_time": "2022-02-09T10:02:36.279Z"
   },
   {
    "duration": 34,
    "start_time": "2022-02-09T10:02:36.291Z"
   },
   {
    "duration": 14,
    "start_time": "2022-02-09T10:02:36.327Z"
   },
   {
    "duration": 382,
    "start_time": "2022-02-09T10:02:36.343Z"
   },
   {
    "duration": 9,
    "start_time": "2022-02-09T10:02:36.727Z"
   },
   {
    "duration": 14,
    "start_time": "2022-02-09T10:02:36.738Z"
   },
   {
    "duration": 10,
    "start_time": "2022-02-09T10:02:36.755Z"
   },
   {
    "duration": 20,
    "start_time": "2022-02-09T10:02:36.767Z"
   },
   {
    "duration": 39,
    "start_time": "2022-02-09T10:02:36.789Z"
   },
   {
    "duration": 9,
    "start_time": "2022-02-09T10:02:36.830Z"
   },
   {
    "duration": 1365,
    "start_time": "2022-02-09T10:02:36.842Z"
   },
   {
    "duration": 16,
    "start_time": "2022-02-09T10:02:38.209Z"
   },
   {
    "duration": 14,
    "start_time": "2022-02-09T10:02:38.227Z"
   },
   {
    "duration": 17,
    "start_time": "2022-02-09T10:02:38.242Z"
   },
   {
    "duration": 9,
    "start_time": "2022-02-09T10:02:38.261Z"
   },
   {
    "duration": 50,
    "start_time": "2022-02-09T10:02:38.272Z"
   },
   {
    "duration": 18,
    "start_time": "2022-02-09T10:02:38.324Z"
   },
   {
    "duration": 16,
    "start_time": "2022-02-09T10:02:38.343Z"
   },
   {
    "duration": 13,
    "start_time": "2022-02-09T10:02:38.361Z"
   },
   {
    "duration": 42,
    "start_time": "2022-02-09T10:02:38.376Z"
   },
   {
    "duration": 13,
    "start_time": "2022-02-09T10:02:38.420Z"
   },
   {
    "duration": 14,
    "start_time": "2022-02-09T10:02:38.435Z"
   },
   {
    "duration": 12,
    "start_time": "2022-02-09T10:02:38.451Z"
   },
   {
    "duration": 10,
    "start_time": "2022-02-09T10:02:38.465Z"
   },
   {
    "duration": 54,
    "start_time": "2022-02-09T10:02:38.477Z"
   },
   {
    "duration": 15,
    "start_time": "2022-02-09T10:02:38.534Z"
   },
   {
    "duration": 15,
    "start_time": "2022-02-09T10:02:38.551Z"
   },
   {
    "duration": 13,
    "start_time": "2022-02-09T10:02:38.569Z"
   },
   {
    "duration": 11,
    "start_time": "2022-02-09T10:02:38.619Z"
   },
   {
    "duration": 22,
    "start_time": "2022-02-09T10:02:38.632Z"
   },
   {
    "duration": 27,
    "start_time": "2022-02-09T10:02:38.656Z"
   },
   {
    "duration": 28,
    "start_time": "2022-02-09T10:02:38.685Z"
   },
   {
    "duration": 12,
    "start_time": "2022-02-09T10:02:38.715Z"
   },
   {
    "duration": 73,
    "start_time": "2022-02-09T10:06:38.960Z"
   }
  ],
  "kernelspec": {
   "display_name": "Python 3 (ipykernel)",
   "language": "python",
   "name": "python3"
  },
  "language_info": {
   "codemirror_mode": {
    "name": "ipython",
    "version": 3
   },
   "file_extension": ".py",
   "mimetype": "text/x-python",
   "name": "python",
   "nbconvert_exporter": "python",
   "pygments_lexer": "ipython3",
   "version": "3.7.8"
  },
  "toc": {
   "base_numbering": 1,
   "nav_menu": {},
   "number_sections": false,
   "sideBar": true,
   "skip_h1_title": false,
   "title_cell": "Table of Contents",
   "title_sidebar": "Contents",
   "toc_cell": false,
   "toc_position": {
    "height": "calc(100% - 180px)",
    "left": "10px",
    "top": "150px",
    "width": "289.6px"
   },
   "toc_section_display": true,
   "toc_window_display": true
  }
 },
 "nbformat": 4,
 "nbformat_minor": 5
}
