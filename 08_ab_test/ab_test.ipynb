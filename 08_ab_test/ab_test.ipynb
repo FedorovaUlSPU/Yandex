{
 "cells": [
  {
   "cell_type": "markdown",
   "metadata": {
    "toc": true
   },
   "source": [
    "<h1>План работы<span class=\"tocSkip\"></span></h1>\n",
    "<div class=\"toc\"><ul class=\"toc-item\"><li><span><a href=\"#Описание-проекта\" data-toc-modified-id=\"Описание-проекта-1\">Описание проекта</a></span></li><li><span><a href=\"#Описание-данных\" data-toc-modified-id=\"Описание-данных-2\">Описание данных</a></span><ul class=\"toc-item\"><li><span><a href=\"#Гипотезы-(hypothesis.csv)\" data-toc-modified-id=\"Гипотезы-(hypothesis.csv)-2.1\">Гипотезы (hypothesis.csv)</a></span></li><li><span><a href=\"#Заказы-(orders.csv)\" data-toc-modified-id=\"Заказы-(orders.csv)-2.2\">Заказы (orders.csv)</a></span></li><li><span><a href=\"#Пользователи-(visitors.csv)\" data-toc-modified-id=\"Пользователи-(visitors.csv)-2.3\">Пользователи (visitors.csv)</a></span></li></ul></li><li><span><a href=\"#Подготовка-к-решению\" data-toc-modified-id=\"Подготовка-к-решению-3\">Подготовка к решению</a></span></li><li><span><a href=\"#Часть-1.-Приоритизация-гипотез.\" data-toc-modified-id=\"Часть-1.-Приоритизация-гипотез.-4\">Часть 1. Приоритизация гипотез.</a></span><ul class=\"toc-item\"><li><span><a href=\"#Применим-фреймворк-ICE-для-приоритизации-гипотез.-Отсортируем-их-по-убыванию-приоритета.\" data-toc-modified-id=\"Применим-фреймворк-ICE-для-приоритизации-гипотез.-Отсортируем-их-по-убыванию-приоритета.-4.1\">Применим фреймворк ICE для приоритизации гипотез. Отсортируем их по убыванию приоритета.</a></span></li><li><span><a href=\"#Применим-фреймворк-RICE-для-приоритизации-гипотез.-Отсортируем-их-по-убыванию-приоритета.\" data-toc-modified-id=\"Применим-фреймворк-RICE-для-приоритизации-гипотез.-Отсортируем-их-по-убыванию-приоритета.-4.2\">Применим фреймворк RICE для приоритизации гипотез. Отсортируем их по убыванию приоритета.</a></span></li><li><span><a href=\"#Как-изменилась-приоритизация-гипотез-при-применении-RICE-вместо-ICE?-Почему-так-произошло?\" data-toc-modified-id=\"Как-изменилась-приоритизация-гипотез-при-применении-RICE-вместо-ICE?-Почему-так-произошло?-4.3\">Как изменилась приоритизация гипотез при применении RICE вместо ICE? Почему так произошло?</a></span></li><li><span><a href=\"#Вывод-по-1-части\" data-toc-modified-id=\"Вывод-по-1-части-4.4\">Вывод по 1 части</a></span></li></ul></li><li><span><a href=\"#Часть-2.-Анализ-A/B-теста.\" data-toc-modified-id=\"Часть-2.-Анализ-A/B-теста.-5\">Часть 2. Анализ A/B-теста.</a></span><ul class=\"toc-item\"><li><span><a href=\"#Подготовка-данных\" data-toc-modified-id=\"Подготовка-данных-5.1\">Подготовка данных</a></span></li><li><span><a href=\"#1.-График-кумулятивной-выручки-по-группам.\" data-toc-modified-id=\"1.-График-кумулятивной-выручки-по-группам.-5.2\">1. График кумулятивной выручки по группам.</a></span></li><li><span><a href=\"#2.-График-кумулятивного-среднего-чека-по-группам.\" data-toc-modified-id=\"2.-График-кумулятивного-среднего-чека-по-группам.-5.3\">2. График кумулятивного среднего чека по группам.</a></span></li><li><span><a href=\"#3.-График-относительного-изменения-кумулятивного-среднего-чека-группы-B-к-группе-A.\" data-toc-modified-id=\"3.-График-относительного-изменения-кумулятивного-среднего-чека-группы-B-к-группе-A.-5.4\">3. График относительного изменения кумулятивного среднего чека группы B к группе A.</a></span></li><li><span><a href=\"#4.-График-кумулятивной-конверсии-по-группам.\" data-toc-modified-id=\"4.-График-кумулятивной-конверсии-по-группам.-5.5\">4. График кумулятивной конверсии по группам.</a></span></li><li><span><a href=\"#5.-График-относительного-изменения-кумулятивной-конверсии-группы-B-к-группе-A.\" data-toc-modified-id=\"5.-График-относительного-изменения-кумулятивной-конверсии-группы-B-к-группе-A.-5.6\">5. График относительного изменения кумулятивной конверсии группы B к группе A.</a></span></li><li><span><a href=\"#6.-Точечный-график-количества-заказов-по-пользователям.\" data-toc-modified-id=\"6.-Точечный-график-количества-заказов-по-пользователям.-5.7\">6. Точечный график количества заказов по пользователям.</a></span></li><li><span><a href=\"#7.-95-й-и-99-й-перцентили-количества-заказов-на-пользователя.-Граница-для-определения-аномальных-пользователей.\" data-toc-modified-id=\"7.-95-й-и-99-й-перцентили-количества-заказов-на-пользователя.-Граница-для-определения-аномальных-пользователей.-5.8\">7. 95-й и 99-й перцентили количества заказов на пользователя. Граница для определения аномальных пользователей.</a></span></li><li><span><a href=\"#8.-Точечный-график-стоимостей-заказов.\" data-toc-modified-id=\"8.-Точечный-график-стоимостей-заказов.-5.9\">8. Точечный график стоимостей заказов.</a></span></li><li><span><a href=\"#9.-95-й-и-99-й-перцентили-стоимости-заказов.-Граница-для-определения-аномальных-заказов.\" data-toc-modified-id=\"9.-95-й-и-99-й-перцентили-стоимости-заказов.-Граница-для-определения-аномальных-заказов.-5.10\">9. 95-й и 99-й перцентили стоимости заказов. Граница для определения аномальных заказов.</a></span></li><li><span><a href=\"#10.-Статистическая-значимость-различий-в-конверсии-между-группами-по-«сырым»-данным.\" data-toc-modified-id=\"10.-Статистическая-значимость-различий-в-конверсии-между-группами-по-«сырым»-данным.-5.11\">10. Статистическая значимость различий в конверсии между группами по «сырым» данным.</a></span></li><li><span><a href=\"#11.-Статистическая-значимость-различий-в-среднем-чеке-заказа-между-группами-по-«сырым»-данным.\" data-toc-modified-id=\"11.-Статистическая-значимость-различий-в-среднем-чеке-заказа-между-группами-по-«сырым»-данным.-5.12\">11. Статистическая значимость различий в среднем чеке заказа между группами по «сырым» данным.</a></span></li><li><span><a href=\"#12.-Статистическая-значимость-различий-в-конверсии-между-группами-по-«очищенным»-данным.\" data-toc-modified-id=\"12.-Статистическая-значимость-различий-в-конверсии-между-группами-по-«очищенным»-данным.-5.13\">12. Статистическая значимость различий в конверсии между группами по «очищенным» данным.</a></span></li><li><span><a href=\"#13.-Статистическая-значимость-различий-в-среднем-чеке-заказа-между-группами-по-«очищенным»-данным.\" data-toc-modified-id=\"13.-Статистическая-значимость-различий-в-среднем-чеке-заказа-между-группами-по-«очищенным»-данным.-5.14\">13. Статистическая значимость различий в среднем чеке заказа между группами по «очищенным» данным.</a></span></li><li><span><a href=\"#14.-Решение-по-результатам-теста.\" data-toc-modified-id=\"14.-Решение-по-результатам-теста.-5.15\">14. Решение по результатам теста.</a></span></li></ul></li><li><span><a href=\"#Общий-вывод\" data-toc-modified-id=\"Общий-вывод-6\">Общий вывод</a></span></li><li><span><a href=\"#Общий-комментарий\" data-toc-modified-id=\"Общий-комментарий-7\">Общий комментарий</a></span></li></ul></div>"
   ]
  },
  {
   "cell_type": "markdown",
   "metadata": {},
   "source": [
    "##  Описание проекта\n",
    "Вы — аналитик крупного интернет-магазина. Вместе с отделом маркетинга вы подготовили список гипотез для увеличения выручки.\n",
    "Приоритизируйте гипотезы, запустите A/B-тест и проанализируйте результаты.\n"
   ]
  },
  {
   "cell_type": "markdown",
   "metadata": {},
   "source": [
    "## Описание данных\n",
    "\n",
    "### Гипотезы (hypothesis.csv)\n",
    "`Hypothesis` — краткое описание гипотезы; <br>\n",
    "`Reach` — охват пользователей по 10-балльной шкале; <br>\n",
    "`Impact` — влияние на пользователей по 10-балльной шкале; <br>\n",
    "`Confidence` — уверенность в гипотезе по 10-балльной шкале; <br>\n",
    "`Efforts` — затраты ресурсов на проверку гипотезы по 10-балльной шкале. Чем больше значение Efforts, тем дороже проверка гипотезы.\n",
    "\n",
    "### Заказы (orders.csv)\n",
    "`transactionId` — идентификатор заказа; <br>\n",
    "`visitorId` — идентификатор пользователя, совершившего заказ; <br>\n",
    "`date` — дата, когда был совершён заказ; <br>\n",
    "`revenue` — выручка заказа; <br>\n",
    "`group` — группа A/B-теста, в которую попал заказ.\n",
    "\n",
    "### Пользователи (visitors.csv)\n",
    "`date` — дата; <br>\n",
    "`group` — группа A/B-теста; <br>\n",
    "`visitors` — количество пользователей в указанную дату в указанной группе A/B-теста"
   ]
  },
  {
   "cell_type": "markdown",
   "metadata": {},
   "source": [
    "## Подготовка к решению"
   ]
  },
  {
   "cell_type": "code",
   "execution_count": 1,
   "metadata": {},
   "outputs": [],
   "source": [
    "import pandas as pd\n",
    "import numpy as np\n",
    "import scipy.stats as stats\n",
    "import seaborn as sns\n",
    "import matplotlib.pyplot as plt\n",
    "import datetime as dt\n"
   ]
  },
  {
   "cell_type": "code",
   "execution_count": 2,
   "metadata": {},
   "outputs": [
    {
     "data": {
      "text/html": [
       "<div>\n",
       "<style scoped>\n",
       "    .dataframe tbody tr th:only-of-type {\n",
       "        vertical-align: middle;\n",
       "    }\n",
       "\n",
       "    .dataframe tbody tr th {\n",
       "        vertical-align: top;\n",
       "    }\n",
       "\n",
       "    .dataframe thead th {\n",
       "        text-align: right;\n",
       "    }\n",
       "</style>\n",
       "<table border=\"1\" class=\"dataframe\">\n",
       "  <thead>\n",
       "    <tr style=\"text-align: right;\">\n",
       "      <th></th>\n",
       "      <th>hypothesis</th>\n",
       "      <th>reach</th>\n",
       "      <th>impact</th>\n",
       "      <th>confidence</th>\n",
       "      <th>efforts</th>\n",
       "    </tr>\n",
       "  </thead>\n",
       "  <tbody>\n",
       "    <tr>\n",
       "      <td>0</td>\n",
       "      <td>Добавить два новых канала привлечения трафика,...</td>\n",
       "      <td>3</td>\n",
       "      <td>10</td>\n",
       "      <td>8</td>\n",
       "      <td>6</td>\n",
       "    </tr>\n",
       "    <tr>\n",
       "      <td>1</td>\n",
       "      <td>Запустить собственную службу доставки, что сок...</td>\n",
       "      <td>2</td>\n",
       "      <td>5</td>\n",
       "      <td>4</td>\n",
       "      <td>10</td>\n",
       "    </tr>\n",
       "    <tr>\n",
       "      <td>2</td>\n",
       "      <td>Добавить блоки рекомендаций товаров на сайт ин...</td>\n",
       "      <td>8</td>\n",
       "      <td>3</td>\n",
       "      <td>7</td>\n",
       "      <td>3</td>\n",
       "    </tr>\n",
       "    <tr>\n",
       "      <td>3</td>\n",
       "      <td>Изменить структура категорий, что увеличит кон...</td>\n",
       "      <td>8</td>\n",
       "      <td>3</td>\n",
       "      <td>3</td>\n",
       "      <td>8</td>\n",
       "    </tr>\n",
       "    <tr>\n",
       "      <td>4</td>\n",
       "      <td>Изменить цвет фона главной страницы, чтобы уве...</td>\n",
       "      <td>3</td>\n",
       "      <td>1</td>\n",
       "      <td>1</td>\n",
       "      <td>1</td>\n",
       "    </tr>\n",
       "    <tr>\n",
       "      <td>5</td>\n",
       "      <td>Добавить страницу отзывов клиентов о магазине,...</td>\n",
       "      <td>3</td>\n",
       "      <td>2</td>\n",
       "      <td>2</td>\n",
       "      <td>3</td>\n",
       "    </tr>\n",
       "    <tr>\n",
       "      <td>6</td>\n",
       "      <td>Показать на главной странице баннеры с актуаль...</td>\n",
       "      <td>5</td>\n",
       "      <td>3</td>\n",
       "      <td>8</td>\n",
       "      <td>3</td>\n",
       "    </tr>\n",
       "    <tr>\n",
       "      <td>7</td>\n",
       "      <td>Добавить форму подписки на все основные страни...</td>\n",
       "      <td>10</td>\n",
       "      <td>7</td>\n",
       "      <td>8</td>\n",
       "      <td>5</td>\n",
       "    </tr>\n",
       "    <tr>\n",
       "      <td>8</td>\n",
       "      <td>Запустить акцию, дающую скидку на товар в день...</td>\n",
       "      <td>1</td>\n",
       "      <td>9</td>\n",
       "      <td>9</td>\n",
       "      <td>5</td>\n",
       "    </tr>\n",
       "  </tbody>\n",
       "</table>\n",
       "</div>"
      ],
      "text/plain": [
       "                                          hypothesis  reach  impact  \\\n",
       "0  Добавить два новых канала привлечения трафика,...      3      10   \n",
       "1  Запустить собственную службу доставки, что сок...      2       5   \n",
       "2  Добавить блоки рекомендаций товаров на сайт ин...      8       3   \n",
       "3  Изменить структура категорий, что увеличит кон...      8       3   \n",
       "4  Изменить цвет фона главной страницы, чтобы уве...      3       1   \n",
       "5  Добавить страницу отзывов клиентов о магазине,...      3       2   \n",
       "6  Показать на главной странице баннеры с актуаль...      5       3   \n",
       "7  Добавить форму подписки на все основные страни...     10       7   \n",
       "8  Запустить акцию, дающую скидку на товар в день...      1       9   \n",
       "\n",
       "   confidence  efforts  \n",
       "0           8        6  \n",
       "1           4       10  \n",
       "2           7        3  \n",
       "3           3        8  \n",
       "4           1        1  \n",
       "5           2        3  \n",
       "6           8        3  \n",
       "7           8        5  \n",
       "8           9        5  "
      ]
     },
     "execution_count": 2,
     "metadata": {},
     "output_type": "execute_result"
    }
   ],
   "source": [
    "hypothesis = pd.read_csv('hypothesis.csv')\n",
    "hypothesis.columns = ['hypothesis', 'reach', 'impact', 'confidence', 'efforts']\n",
    "hypothesis"
   ]
  },
  {
   "cell_type": "code",
   "execution_count": null,
   "metadata": {},
   "outputs": [],
   "source": []
  },
  {
   "cell_type": "markdown",
   "metadata": {},
   "source": [
    "## Часть 1. Приоритизация гипотез.\n"
   ]
  },
  {
   "cell_type": "markdown",
   "metadata": {},
   "source": [
    "### Применим фреймворк ICE для приоритизации гипотез. Отсортируем их по убыванию приоритета.\n"
   ]
  },
  {
   "cell_type": "code",
   "execution_count": 3,
   "metadata": {},
   "outputs": [
    {
     "data": {
      "text/html": [
       "<div>\n",
       "<style scoped>\n",
       "    .dataframe tbody tr th:only-of-type {\n",
       "        vertical-align: middle;\n",
       "    }\n",
       "\n",
       "    .dataframe tbody tr th {\n",
       "        vertical-align: top;\n",
       "    }\n",
       "\n",
       "    .dataframe thead th {\n",
       "        text-align: right;\n",
       "    }\n",
       "</style>\n",
       "<table border=\"1\" class=\"dataframe\">\n",
       "  <thead>\n",
       "    <tr style=\"text-align: right;\">\n",
       "      <th></th>\n",
       "      <th>hypothesis</th>\n",
       "      <th>ICE</th>\n",
       "    </tr>\n",
       "  </thead>\n",
       "  <tbody>\n",
       "    <tr>\n",
       "      <td>8</td>\n",
       "      <td>Запустить акцию, дающую скидку на товар в день...</td>\n",
       "      <td>16.20</td>\n",
       "    </tr>\n",
       "    <tr>\n",
       "      <td>0</td>\n",
       "      <td>Добавить два новых канала привлечения трафика,...</td>\n",
       "      <td>13.33</td>\n",
       "    </tr>\n",
       "    <tr>\n",
       "      <td>7</td>\n",
       "      <td>Добавить форму подписки на все основные страни...</td>\n",
       "      <td>11.20</td>\n",
       "    </tr>\n",
       "    <tr>\n",
       "      <td>6</td>\n",
       "      <td>Показать на главной странице баннеры с актуаль...</td>\n",
       "      <td>8.00</td>\n",
       "    </tr>\n",
       "    <tr>\n",
       "      <td>2</td>\n",
       "      <td>Добавить блоки рекомендаций товаров на сайт ин...</td>\n",
       "      <td>7.00</td>\n",
       "    </tr>\n",
       "    <tr>\n",
       "      <td>1</td>\n",
       "      <td>Запустить собственную службу доставки, что сок...</td>\n",
       "      <td>2.00</td>\n",
       "    </tr>\n",
       "    <tr>\n",
       "      <td>5</td>\n",
       "      <td>Добавить страницу отзывов клиентов о магазине,...</td>\n",
       "      <td>1.33</td>\n",
       "    </tr>\n",
       "    <tr>\n",
       "      <td>3</td>\n",
       "      <td>Изменить структура категорий, что увеличит кон...</td>\n",
       "      <td>1.12</td>\n",
       "    </tr>\n",
       "    <tr>\n",
       "      <td>4</td>\n",
       "      <td>Изменить цвет фона главной страницы, чтобы уве...</td>\n",
       "      <td>1.00</td>\n",
       "    </tr>\n",
       "  </tbody>\n",
       "</table>\n",
       "</div>"
      ],
      "text/plain": [
       "                                          hypothesis    ICE\n",
       "8  Запустить акцию, дающую скидку на товар в день...  16.20\n",
       "0  Добавить два новых канала привлечения трафика,...  13.33\n",
       "7  Добавить форму подписки на все основные страни...  11.20\n",
       "6  Показать на главной странице баннеры с актуаль...   8.00\n",
       "2  Добавить блоки рекомендаций товаров на сайт ин...   7.00\n",
       "1  Запустить собственную службу доставки, что сок...   2.00\n",
       "5  Добавить страницу отзывов клиентов о магазине,...   1.33\n",
       "3  Изменить структура категорий, что увеличит кон...   1.12\n",
       "4  Изменить цвет фона главной страницы, чтобы уве...   1.00"
      ]
     },
     "execution_count": 3,
     "metadata": {},
     "output_type": "execute_result"
    }
   ],
   "source": [
    "hypothesis['ICE'] = hypothesis['impact'] * hypothesis['confidence'] / hypothesis['efforts']\n",
    "hypothesis_ICE = hypothesis[['hypothesis', 'ICE']].sort_values(by='ICE', ascending=False).round(2)\n",
    "hypothesis_ICE"
   ]
  },
  {
   "cell_type": "markdown",
   "metadata": {},
   "source": [
    "### Применим фреймворк RICE для приоритизации гипотез. Отсортируем их по убыванию приоритета."
   ]
  },
  {
   "cell_type": "code",
   "execution_count": 4,
   "metadata": {},
   "outputs": [
    {
     "data": {
      "text/html": [
       "<div>\n",
       "<style scoped>\n",
       "    .dataframe tbody tr th:only-of-type {\n",
       "        vertical-align: middle;\n",
       "    }\n",
       "\n",
       "    .dataframe tbody tr th {\n",
       "        vertical-align: top;\n",
       "    }\n",
       "\n",
       "    .dataframe thead th {\n",
       "        text-align: right;\n",
       "    }\n",
       "</style>\n",
       "<table border=\"1\" class=\"dataframe\">\n",
       "  <thead>\n",
       "    <tr style=\"text-align: right;\">\n",
       "      <th></th>\n",
       "      <th>hypothesis</th>\n",
       "      <th>RICE</th>\n",
       "    </tr>\n",
       "  </thead>\n",
       "  <tbody>\n",
       "    <tr>\n",
       "      <td>7</td>\n",
       "      <td>Добавить форму подписки на все основные страни...</td>\n",
       "      <td>112.0</td>\n",
       "    </tr>\n",
       "    <tr>\n",
       "      <td>2</td>\n",
       "      <td>Добавить блоки рекомендаций товаров на сайт ин...</td>\n",
       "      <td>56.0</td>\n",
       "    </tr>\n",
       "    <tr>\n",
       "      <td>0</td>\n",
       "      <td>Добавить два новых канала привлечения трафика,...</td>\n",
       "      <td>40.0</td>\n",
       "    </tr>\n",
       "    <tr>\n",
       "      <td>6</td>\n",
       "      <td>Показать на главной странице баннеры с актуаль...</td>\n",
       "      <td>40.0</td>\n",
       "    </tr>\n",
       "    <tr>\n",
       "      <td>8</td>\n",
       "      <td>Запустить акцию, дающую скидку на товар в день...</td>\n",
       "      <td>16.2</td>\n",
       "    </tr>\n",
       "    <tr>\n",
       "      <td>3</td>\n",
       "      <td>Изменить структура категорий, что увеличит кон...</td>\n",
       "      <td>9.0</td>\n",
       "    </tr>\n",
       "    <tr>\n",
       "      <td>1</td>\n",
       "      <td>Запустить собственную службу доставки, что сок...</td>\n",
       "      <td>4.0</td>\n",
       "    </tr>\n",
       "    <tr>\n",
       "      <td>5</td>\n",
       "      <td>Добавить страницу отзывов клиентов о магазине,...</td>\n",
       "      <td>4.0</td>\n",
       "    </tr>\n",
       "    <tr>\n",
       "      <td>4</td>\n",
       "      <td>Изменить цвет фона главной страницы, чтобы уве...</td>\n",
       "      <td>3.0</td>\n",
       "    </tr>\n",
       "  </tbody>\n",
       "</table>\n",
       "</div>"
      ],
      "text/plain": [
       "                                          hypothesis   RICE\n",
       "7  Добавить форму подписки на все основные страни...  112.0\n",
       "2  Добавить блоки рекомендаций товаров на сайт ин...   56.0\n",
       "0  Добавить два новых канала привлечения трафика,...   40.0\n",
       "6  Показать на главной странице баннеры с актуаль...   40.0\n",
       "8  Запустить акцию, дающую скидку на товар в день...   16.2\n",
       "3  Изменить структура категорий, что увеличит кон...    9.0\n",
       "1  Запустить собственную службу доставки, что сок...    4.0\n",
       "5  Добавить страницу отзывов клиентов о магазине,...    4.0\n",
       "4  Изменить цвет фона главной страницы, чтобы уве...    3.0"
      ]
     },
     "execution_count": 4,
     "metadata": {},
     "output_type": "execute_result"
    }
   ],
   "source": [
    "hypothesis['RICE'] = hypothesis['reach'] * hypothesis['impact'] * hypothesis['confidence'] / hypothesis['efforts']\n",
    "hypothesis_RICE = hypothesis[['hypothesis', 'RICE']].sort_values(by='RICE', ascending=False)\n",
    "hypothesis_RICE"
   ]
  },
  {
   "cell_type": "markdown",
   "metadata": {},
   "source": [
    "### Как изменилась приоритизация гипотез при применении RICE вместо ICE? Почему так произошло?"
   ]
  },
  {
   "cell_type": "code",
   "execution_count": 5,
   "metadata": {},
   "outputs": [
    {
     "data": {
      "text/html": [
       "<div>\n",
       "<style scoped>\n",
       "    .dataframe tbody tr th:only-of-type {\n",
       "        vertical-align: middle;\n",
       "    }\n",
       "\n",
       "    .dataframe tbody tr th {\n",
       "        vertical-align: top;\n",
       "    }\n",
       "\n",
       "    .dataframe thead th {\n",
       "        text-align: right;\n",
       "    }\n",
       "</style>\n",
       "<table border=\"1\" class=\"dataframe\">\n",
       "  <thead>\n",
       "    <tr style=\"text-align: right;\">\n",
       "      <th></th>\n",
       "      <th>hypothesis</th>\n",
       "      <th>ICE</th>\n",
       "      <th>RICE</th>\n",
       "    </tr>\n",
       "  </thead>\n",
       "  <tbody>\n",
       "    <tr>\n",
       "      <td>0</td>\n",
       "      <td>Запустить акцию, дающую скидку на товар в день...</td>\n",
       "      <td>16.20</td>\n",
       "      <td>16.2</td>\n",
       "    </tr>\n",
       "    <tr>\n",
       "      <td>1</td>\n",
       "      <td>Добавить два новых канала привлечения трафика,...</td>\n",
       "      <td>13.33</td>\n",
       "      <td>40.0</td>\n",
       "    </tr>\n",
       "    <tr>\n",
       "      <td>2</td>\n",
       "      <td>Добавить форму подписки на все основные страни...</td>\n",
       "      <td>11.20</td>\n",
       "      <td>112.0</td>\n",
       "    </tr>\n",
       "    <tr>\n",
       "      <td>3</td>\n",
       "      <td>Показать на главной странице баннеры с актуаль...</td>\n",
       "      <td>8.00</td>\n",
       "      <td>40.0</td>\n",
       "    </tr>\n",
       "    <tr>\n",
       "      <td>4</td>\n",
       "      <td>Добавить блоки рекомендаций товаров на сайт ин...</td>\n",
       "      <td>7.00</td>\n",
       "      <td>56.0</td>\n",
       "    </tr>\n",
       "    <tr>\n",
       "      <td>5</td>\n",
       "      <td>Запустить собственную службу доставки, что сок...</td>\n",
       "      <td>2.00</td>\n",
       "      <td>4.0</td>\n",
       "    </tr>\n",
       "    <tr>\n",
       "      <td>6</td>\n",
       "      <td>Добавить страницу отзывов клиентов о магазине,...</td>\n",
       "      <td>1.33</td>\n",
       "      <td>4.0</td>\n",
       "    </tr>\n",
       "    <tr>\n",
       "      <td>7</td>\n",
       "      <td>Изменить структура категорий, что увеличит кон...</td>\n",
       "      <td>1.12</td>\n",
       "      <td>9.0</td>\n",
       "    </tr>\n",
       "    <tr>\n",
       "      <td>8</td>\n",
       "      <td>Изменить цвет фона главной страницы, чтобы уве...</td>\n",
       "      <td>1.00</td>\n",
       "      <td>3.0</td>\n",
       "    </tr>\n",
       "  </tbody>\n",
       "</table>\n",
       "</div>"
      ],
      "text/plain": [
       "                                          hypothesis    ICE   RICE\n",
       "0  Запустить акцию, дающую скидку на товар в день...  16.20   16.2\n",
       "1  Добавить два новых канала привлечения трафика,...  13.33   40.0\n",
       "2  Добавить форму подписки на все основные страни...  11.20  112.0\n",
       "3  Показать на главной странице баннеры с актуаль...   8.00   40.0\n",
       "4  Добавить блоки рекомендаций товаров на сайт ин...   7.00   56.0\n",
       "5  Запустить собственную службу доставки, что сок...   2.00    4.0\n",
       "6  Добавить страницу отзывов клиентов о магазине,...   1.33    4.0\n",
       "7  Изменить структура категорий, что увеличит кон...   1.12    9.0\n",
       "8  Изменить цвет фона главной страницы, чтобы уве...   1.00    3.0"
      ]
     },
     "execution_count": 5,
     "metadata": {},
     "output_type": "execute_result"
    }
   ],
   "source": [
    "priority_of_hypothesis = hypothesis_ICE.merge(hypothesis_RICE, on='hypothesis')\n",
    "priority_of_hypothesis"
   ]
  },
  {
   "cell_type": "markdown",
   "metadata": {},
   "source": [
    "### Вывод по 1 части"
   ]
  },
  {
   "cell_type": "markdown",
   "metadata": {},
   "source": [
    "Параметр охвата (Reach), использующийся в методе RICE изменил всю приоритетность, полученную по методу ICE, только 6 и 4 гипотезы остались на прежних местах."
   ]
  },
  {
   "cell_type": "markdown",
   "metadata": {},
   "source": [
    "\n",
    "\n",
    "\n",
    "$$ICE = \\frac{Impact * Confidence}{Efforts}$$\n",
    "\n",
    "$$RICE = \\frac{Rearch * Impact * Confidence}{Efforts}$$\n",
    "<hr style=\"border: 2px solid orange;\" />"
   ]
  },
  {
   "cell_type": "markdown",
   "metadata": {},
   "source": [
    "## Часть 2. Анализ A/B-теста."
   ]
  },
  {
   "cell_type": "markdown",
   "metadata": {},
   "source": [
    "### Подготовка данных"
   ]
  },
  {
   "cell_type": "code",
   "execution_count": 6,
   "metadata": {},
   "outputs": [],
   "source": [
    "orders = pd.read_csv('orders.csv')\n",
    "visitors = pd.read_csv('visitors.csv')"
   ]
  },
  {
   "cell_type": "code",
   "execution_count": 7,
   "metadata": {},
   "outputs": [
    {
     "data": {
      "text/html": [
       "<div>\n",
       "<style scoped>\n",
       "    .dataframe tbody tr th:only-of-type {\n",
       "        vertical-align: middle;\n",
       "    }\n",
       "\n",
       "    .dataframe tbody tr th {\n",
       "        vertical-align: top;\n",
       "    }\n",
       "\n",
       "    .dataframe thead th {\n",
       "        text-align: right;\n",
       "    }\n",
       "</style>\n",
       "<table border=\"1\" class=\"dataframe\">\n",
       "  <thead>\n",
       "    <tr style=\"text-align: right;\">\n",
       "      <th></th>\n",
       "      <th>transactionId</th>\n",
       "      <th>visitorId</th>\n",
       "      <th>date</th>\n",
       "      <th>revenue</th>\n",
       "      <th>group</th>\n",
       "    </tr>\n",
       "  </thead>\n",
       "  <tbody>\n",
       "    <tr>\n",
       "      <td>0</td>\n",
       "      <td>3667963787</td>\n",
       "      <td>3312258926</td>\n",
       "      <td>2019-08-15</td>\n",
       "      <td>1650</td>\n",
       "      <td>B</td>\n",
       "    </tr>\n",
       "    <tr>\n",
       "      <td>1</td>\n",
       "      <td>2804400009</td>\n",
       "      <td>3642806036</td>\n",
       "      <td>2019-08-15</td>\n",
       "      <td>730</td>\n",
       "      <td>B</td>\n",
       "    </tr>\n",
       "    <tr>\n",
       "      <td>2</td>\n",
       "      <td>2961555356</td>\n",
       "      <td>4069496402</td>\n",
       "      <td>2019-08-15</td>\n",
       "      <td>400</td>\n",
       "      <td>A</td>\n",
       "    </tr>\n",
       "    <tr>\n",
       "      <td>3</td>\n",
       "      <td>3797467345</td>\n",
       "      <td>1196621759</td>\n",
       "      <td>2019-08-15</td>\n",
       "      <td>9759</td>\n",
       "      <td>B</td>\n",
       "    </tr>\n",
       "    <tr>\n",
       "      <td>4</td>\n",
       "      <td>2282983706</td>\n",
       "      <td>2322279887</td>\n",
       "      <td>2019-08-15</td>\n",
       "      <td>2308</td>\n",
       "      <td>B</td>\n",
       "    </tr>\n",
       "  </tbody>\n",
       "</table>\n",
       "</div>"
      ],
      "text/plain": [
       "   transactionId   visitorId        date  revenue group\n",
       "0     3667963787  3312258926  2019-08-15     1650     B\n",
       "1     2804400009  3642806036  2019-08-15      730     B\n",
       "2     2961555356  4069496402  2019-08-15      400     A\n",
       "3     3797467345  1196621759  2019-08-15     9759     B\n",
       "4     2282983706  2322279887  2019-08-15     2308     B"
      ]
     },
     "execution_count": 7,
     "metadata": {},
     "output_type": "execute_result"
    }
   ],
   "source": [
    "orders.head()"
   ]
  },
  {
   "cell_type": "code",
   "execution_count": 8,
   "metadata": {},
   "outputs": [
    {
     "name": "stdout",
     "output_type": "stream",
     "text": [
      "<class 'pandas.core.frame.DataFrame'>\n",
      "RangeIndex: 1197 entries, 0 to 1196\n",
      "Data columns (total 5 columns):\n",
      "transactionId    1197 non-null int64\n",
      "visitorId        1197 non-null int64\n",
      "date             1197 non-null object\n",
      "revenue          1197 non-null int64\n",
      "group            1197 non-null object\n",
      "dtypes: int64(3), object(2)\n",
      "memory usage: 46.9+ KB\n"
     ]
    }
   ],
   "source": [
    "orders.info()"
   ]
  },
  {
   "cell_type": "code",
   "execution_count": 9,
   "metadata": {},
   "outputs": [],
   "source": [
    "orders['date'] = orders['date'].map(\n",
    "    lambda x: dt.datetime.strptime(x, '%Y-%m-%d')\n",
    ")"
   ]
  },
  {
   "cell_type": "code",
   "execution_count": 10,
   "metadata": {},
   "outputs": [
    {
     "name": "stdout",
     "output_type": "stream",
     "text": [
      "<class 'pandas.core.frame.DataFrame'>\n",
      "RangeIndex: 62 entries, 0 to 61\n",
      "Data columns (total 3 columns):\n",
      "date        62 non-null object\n",
      "group       62 non-null object\n",
      "visitors    62 non-null int64\n",
      "dtypes: int64(1), object(2)\n",
      "memory usage: 1.6+ KB\n"
     ]
    }
   ],
   "source": [
    "visitors.info()"
   ]
  },
  {
   "cell_type": "code",
   "execution_count": 11,
   "metadata": {},
   "outputs": [],
   "source": [
    "visitors['date'] = visitors['date'].map(\n",
    "    lambda x: dt.datetime.strptime(x, '%Y-%m-%d')\n",
    ")"
   ]
  },
  {
   "cell_type": "code",
   "execution_count": 12,
   "metadata": {},
   "outputs": [
    {
     "name": "stdout",
     "output_type": "stream",
     "text": [
      "Кол-во дубликатов = 0\n"
     ]
    }
   ],
   "source": [
    "print(\"Кол-во дубликатов =\",orders.duplicated().sum())"
   ]
  },
  {
   "cell_type": "code",
   "execution_count": 13,
   "metadata": {},
   "outputs": [
    {
     "name": "stdout",
     "output_type": "stream",
     "text": [
      "Кол-во дубликатов = 0\n"
     ]
    }
   ],
   "source": [
    "print(\"Кол-во дубликатов =\",visitors.duplicated().sum())"
   ]
  },
  {
   "cell_type": "markdown",
   "metadata": {},
   "source": [
    "Столбцы с датой в таблицах `orders` и `visitors` были приведены к формату datetime."
   ]
  },
  {
   "cell_type": "code",
   "execution_count": 14,
   "metadata": {},
   "outputs": [
    {
     "data": {
      "text/html": [
       "<div>\n",
       "<style scoped>\n",
       "    .dataframe tbody tr th:only-of-type {\n",
       "        vertical-align: middle;\n",
       "    }\n",
       "\n",
       "    .dataframe tbody tr th {\n",
       "        vertical-align: top;\n",
       "    }\n",
       "\n",
       "    .dataframe thead th {\n",
       "        text-align: right;\n",
       "    }\n",
       "</style>\n",
       "<table border=\"1\" class=\"dataframe\">\n",
       "  <thead>\n",
       "    <tr style=\"text-align: right;\">\n",
       "      <th></th>\n",
       "      <th>groups</th>\n",
       "      <th>group_names</th>\n",
       "    </tr>\n",
       "    <tr>\n",
       "      <th>visitorId</th>\n",
       "      <th></th>\n",
       "      <th></th>\n",
       "    </tr>\n",
       "  </thead>\n",
       "  <tbody>\n",
       "    <tr>\n",
       "      <td>8300375</td>\n",
       "      <td>2</td>\n",
       "      <td>[B, A]</td>\n",
       "    </tr>\n",
       "    <tr>\n",
       "      <td>199603092</td>\n",
       "      <td>2</td>\n",
       "      <td>[A, B]</td>\n",
       "    </tr>\n",
       "    <tr>\n",
       "      <td>232979603</td>\n",
       "      <td>2</td>\n",
       "      <td>[B, A]</td>\n",
       "    </tr>\n",
       "    <tr>\n",
       "      <td>237748145</td>\n",
       "      <td>2</td>\n",
       "      <td>[B, A]</td>\n",
       "    </tr>\n",
       "    <tr>\n",
       "      <td>276558944</td>\n",
       "      <td>2</td>\n",
       "      <td>[B, A]</td>\n",
       "    </tr>\n",
       "    <tr>\n",
       "      <td>351125977</td>\n",
       "      <td>2</td>\n",
       "      <td>[B, A]</td>\n",
       "    </tr>\n",
       "    <tr>\n",
       "      <td>393266494</td>\n",
       "      <td>2</td>\n",
       "      <td>[A, B]</td>\n",
       "    </tr>\n",
       "    <tr>\n",
       "      <td>457167155</td>\n",
       "      <td>2</td>\n",
       "      <td>[B, A]</td>\n",
       "    </tr>\n",
       "    <tr>\n",
       "      <td>471551937</td>\n",
       "      <td>2</td>\n",
       "      <td>[A, B]</td>\n",
       "    </tr>\n",
       "    <tr>\n",
       "      <td>477780734</td>\n",
       "      <td>2</td>\n",
       "      <td>[A, B]</td>\n",
       "    </tr>\n",
       "    <tr>\n",
       "      <td>818047933</td>\n",
       "      <td>2</td>\n",
       "      <td>[A, B]</td>\n",
       "    </tr>\n",
       "    <tr>\n",
       "      <td>963407295</td>\n",
       "      <td>2</td>\n",
       "      <td>[B, A]</td>\n",
       "    </tr>\n",
       "    <tr>\n",
       "      <td>1230306981</td>\n",
       "      <td>2</td>\n",
       "      <td>[A, B]</td>\n",
       "    </tr>\n",
       "    <tr>\n",
       "      <td>1294878855</td>\n",
       "      <td>2</td>\n",
       "      <td>[B, A]</td>\n",
       "    </tr>\n",
       "    <tr>\n",
       "      <td>1316129916</td>\n",
       "      <td>2</td>\n",
       "      <td>[A, B]</td>\n",
       "    </tr>\n",
       "    <tr>\n",
       "      <td>1333886533</td>\n",
       "      <td>2</td>\n",
       "      <td>[A, B]</td>\n",
       "    </tr>\n",
       "    <tr>\n",
       "      <td>1404934699</td>\n",
       "      <td>2</td>\n",
       "      <td>[B, A]</td>\n",
       "    </tr>\n",
       "    <tr>\n",
       "      <td>1602967004</td>\n",
       "      <td>2</td>\n",
       "      <td>[B, A]</td>\n",
       "    </tr>\n",
       "    <tr>\n",
       "      <td>1614305549</td>\n",
       "      <td>2</td>\n",
       "      <td>[B, A]</td>\n",
       "    </tr>\n",
       "    <tr>\n",
       "      <td>1648269707</td>\n",
       "      <td>2</td>\n",
       "      <td>[B, A]</td>\n",
       "    </tr>\n",
       "    <tr>\n",
       "      <td>1668030113</td>\n",
       "      <td>2</td>\n",
       "      <td>[B, A]</td>\n",
       "    </tr>\n",
       "    <tr>\n",
       "      <td>1738359350</td>\n",
       "      <td>2</td>\n",
       "      <td>[A, B]</td>\n",
       "    </tr>\n",
       "    <tr>\n",
       "      <td>1801183820</td>\n",
       "      <td>2</td>\n",
       "      <td>[B, A]</td>\n",
       "    </tr>\n",
       "    <tr>\n",
       "      <td>1959144690</td>\n",
       "      <td>2</td>\n",
       "      <td>[A, B]</td>\n",
       "    </tr>\n",
       "    <tr>\n",
       "      <td>2038680547</td>\n",
       "      <td>2</td>\n",
       "      <td>[B, A]</td>\n",
       "    </tr>\n",
       "    <tr>\n",
       "      <td>2044997962</td>\n",
       "      <td>2</td>\n",
       "      <td>[A, B]</td>\n",
       "    </tr>\n",
       "    <tr>\n",
       "      <td>2378935119</td>\n",
       "      <td>2</td>\n",
       "      <td>[A, B]</td>\n",
       "    </tr>\n",
       "    <tr>\n",
       "      <td>2458001652</td>\n",
       "      <td>2</td>\n",
       "      <td>[A, B]</td>\n",
       "    </tr>\n",
       "    <tr>\n",
       "      <td>2579882178</td>\n",
       "      <td>2</td>\n",
       "      <td>[A, B]</td>\n",
       "    </tr>\n",
       "    <tr>\n",
       "      <td>2587333274</td>\n",
       "      <td>2</td>\n",
       "      <td>[B, A]</td>\n",
       "    </tr>\n",
       "    <tr>\n",
       "      <td>2600415354</td>\n",
       "      <td>2</td>\n",
       "      <td>[B, A]</td>\n",
       "    </tr>\n",
       "    <tr>\n",
       "      <td>2654030115</td>\n",
       "      <td>2</td>\n",
       "      <td>[B, A]</td>\n",
       "    </tr>\n",
       "    <tr>\n",
       "      <td>2686716486</td>\n",
       "      <td>2</td>\n",
       "      <td>[A, B]</td>\n",
       "    </tr>\n",
       "    <tr>\n",
       "      <td>2712142231</td>\n",
       "      <td>2</td>\n",
       "      <td>[B, A]</td>\n",
       "    </tr>\n",
       "    <tr>\n",
       "      <td>2716752286</td>\n",
       "      <td>2</td>\n",
       "      <td>[B, A]</td>\n",
       "    </tr>\n",
       "    <tr>\n",
       "      <td>2780786433</td>\n",
       "      <td>2</td>\n",
       "      <td>[A, B]</td>\n",
       "    </tr>\n",
       "    <tr>\n",
       "      <td>2927087541</td>\n",
       "      <td>2</td>\n",
       "      <td>[A, B]</td>\n",
       "    </tr>\n",
       "    <tr>\n",
       "      <td>2949041841</td>\n",
       "      <td>2</td>\n",
       "      <td>[A, B]</td>\n",
       "    </tr>\n",
       "    <tr>\n",
       "      <td>2954449915</td>\n",
       "      <td>2</td>\n",
       "      <td>[A, B]</td>\n",
       "    </tr>\n",
       "    <tr>\n",
       "      <td>3062433592</td>\n",
       "      <td>2</td>\n",
       "      <td>[B, A]</td>\n",
       "    </tr>\n",
       "    <tr>\n",
       "      <td>3202540741</td>\n",
       "      <td>2</td>\n",
       "      <td>[A, B]</td>\n",
       "    </tr>\n",
       "    <tr>\n",
       "      <td>3234906277</td>\n",
       "      <td>2</td>\n",
       "      <td>[B, A]</td>\n",
       "    </tr>\n",
       "    <tr>\n",
       "      <td>3656415546</td>\n",
       "      <td>2</td>\n",
       "      <td>[A, B]</td>\n",
       "    </tr>\n",
       "    <tr>\n",
       "      <td>3717692402</td>\n",
       "      <td>2</td>\n",
       "      <td>[B, A]</td>\n",
       "    </tr>\n",
       "    <tr>\n",
       "      <td>3766097110</td>\n",
       "      <td>2</td>\n",
       "      <td>[A, B]</td>\n",
       "    </tr>\n",
       "    <tr>\n",
       "      <td>3803269165</td>\n",
       "      <td>2</td>\n",
       "      <td>[A, B]</td>\n",
       "    </tr>\n",
       "    <tr>\n",
       "      <td>3891541246</td>\n",
       "      <td>2</td>\n",
       "      <td>[A, B]</td>\n",
       "    </tr>\n",
       "    <tr>\n",
       "      <td>3941795274</td>\n",
       "      <td>2</td>\n",
       "      <td>[A, B]</td>\n",
       "    </tr>\n",
       "    <tr>\n",
       "      <td>3951559397</td>\n",
       "      <td>2</td>\n",
       "      <td>[B, A]</td>\n",
       "    </tr>\n",
       "    <tr>\n",
       "      <td>3957174400</td>\n",
       "      <td>2</td>\n",
       "      <td>[A, B]</td>\n",
       "    </tr>\n",
       "    <tr>\n",
       "      <td>3963646447</td>\n",
       "      <td>2</td>\n",
       "      <td>[A, B]</td>\n",
       "    </tr>\n",
       "    <tr>\n",
       "      <td>3972127743</td>\n",
       "      <td>2</td>\n",
       "      <td>[B, A]</td>\n",
       "    </tr>\n",
       "    <tr>\n",
       "      <td>3984495233</td>\n",
       "      <td>2</td>\n",
       "      <td>[B, A]</td>\n",
       "    </tr>\n",
       "    <tr>\n",
       "      <td>4069496402</td>\n",
       "      <td>2</td>\n",
       "      <td>[A, B]</td>\n",
       "    </tr>\n",
       "    <tr>\n",
       "      <td>4120364173</td>\n",
       "      <td>2</td>\n",
       "      <td>[A, B]</td>\n",
       "    </tr>\n",
       "    <tr>\n",
       "      <td>4186807279</td>\n",
       "      <td>2</td>\n",
       "      <td>[B, A]</td>\n",
       "    </tr>\n",
       "    <tr>\n",
       "      <td>4256040402</td>\n",
       "      <td>2</td>\n",
       "      <td>[B, A]</td>\n",
       "    </tr>\n",
       "    <tr>\n",
       "      <td>4266935830</td>\n",
       "      <td>2</td>\n",
       "      <td>[A, B]</td>\n",
       "    </tr>\n",
       "  </tbody>\n",
       "</table>\n",
       "</div>"
      ],
      "text/plain": [
       "            groups group_names\n",
       "visitorId                     \n",
       "8300375          2      [B, A]\n",
       "199603092        2      [A, B]\n",
       "232979603        2      [B, A]\n",
       "237748145        2      [B, A]\n",
       "276558944        2      [B, A]\n",
       "351125977        2      [B, A]\n",
       "393266494        2      [A, B]\n",
       "457167155        2      [B, A]\n",
       "471551937        2      [A, B]\n",
       "477780734        2      [A, B]\n",
       "818047933        2      [A, B]\n",
       "963407295        2      [B, A]\n",
       "1230306981       2      [A, B]\n",
       "1294878855       2      [B, A]\n",
       "1316129916       2      [A, B]\n",
       "1333886533       2      [A, B]\n",
       "1404934699       2      [B, A]\n",
       "1602967004       2      [B, A]\n",
       "1614305549       2      [B, A]\n",
       "1648269707       2      [B, A]\n",
       "1668030113       2      [B, A]\n",
       "1738359350       2      [A, B]\n",
       "1801183820       2      [B, A]\n",
       "1959144690       2      [A, B]\n",
       "2038680547       2      [B, A]\n",
       "2044997962       2      [A, B]\n",
       "2378935119       2      [A, B]\n",
       "2458001652       2      [A, B]\n",
       "2579882178       2      [A, B]\n",
       "2587333274       2      [B, A]\n",
       "2600415354       2      [B, A]\n",
       "2654030115       2      [B, A]\n",
       "2686716486       2      [A, B]\n",
       "2712142231       2      [B, A]\n",
       "2716752286       2      [B, A]\n",
       "2780786433       2      [A, B]\n",
       "2927087541       2      [A, B]\n",
       "2949041841       2      [A, B]\n",
       "2954449915       2      [A, B]\n",
       "3062433592       2      [B, A]\n",
       "3202540741       2      [A, B]\n",
       "3234906277       2      [B, A]\n",
       "3656415546       2      [A, B]\n",
       "3717692402       2      [B, A]\n",
       "3766097110       2      [A, B]\n",
       "3803269165       2      [A, B]\n",
       "3891541246       2      [A, B]\n",
       "3941795274       2      [A, B]\n",
       "3951559397       2      [B, A]\n",
       "3957174400       2      [A, B]\n",
       "3963646447       2      [A, B]\n",
       "3972127743       2      [B, A]\n",
       "3984495233       2      [B, A]\n",
       "4069496402       2      [A, B]\n",
       "4120364173       2      [A, B]\n",
       "4186807279       2      [B, A]\n",
       "4256040402       2      [B, A]\n",
       "4266935830       2      [A, B]"
      ]
     },
     "metadata": {},
     "output_type": "display_data"
    }
   ],
   "source": [
    "duplicated_users = orders.groupby('visitorId').agg({'group':['nunique','unique']})\n",
    "duplicated_users.columns = ['groups','group_names']\n",
    "duplicated_users = duplicated_users.query('groups>1')\n",
    "display(duplicated_users)"
   ]
  },
  {
   "cell_type": "code",
   "execution_count": 15,
   "metadata": {},
   "outputs": [
    {
     "data": {
      "text/plain": [
       "58"
      ]
     },
     "execution_count": 15,
     "metadata": {},
     "output_type": "execute_result"
    }
   ],
   "source": [
    "#Количество пользователей, вошедших в обе группы\n",
    "len(duplicated_users)"
   ]
  },
  {
   "cell_type": "code",
   "execution_count": 16,
   "metadata": {},
   "outputs": [
    {
     "data": {
      "text/html": [
       "<div>\n",
       "<style scoped>\n",
       "    .dataframe tbody tr th:only-of-type {\n",
       "        vertical-align: middle;\n",
       "    }\n",
       "\n",
       "    .dataframe tbody tr th {\n",
       "        vertical-align: top;\n",
       "    }\n",
       "\n",
       "    .dataframe thead th {\n",
       "        text-align: right;\n",
       "    }\n",
       "</style>\n",
       "<table border=\"1\" class=\"dataframe\">\n",
       "  <thead>\n",
       "    <tr style=\"text-align: right;\">\n",
       "      <th></th>\n",
       "      <th>group</th>\n",
       "      <th>count</th>\n",
       "    </tr>\n",
       "  </thead>\n",
       "  <tbody>\n",
       "    <tr>\n",
       "      <td>0</td>\n",
       "      <td>A</td>\n",
       "      <td>557</td>\n",
       "    </tr>\n",
       "    <tr>\n",
       "      <td>1</td>\n",
       "      <td>B</td>\n",
       "      <td>640</td>\n",
       "    </tr>\n",
       "  </tbody>\n",
       "</table>\n",
       "</div>"
      ],
      "text/plain": [
       "  group  count\n",
       "0     A    557\n",
       "1     B    640"
      ]
     },
     "execution_count": 16,
     "metadata": {},
     "output_type": "execute_result"
    }
   ],
   "source": [
    "group_sizes = orders.groupby(['group']).size().reset_index()\n",
    "group_sizes.columns = ['group', 'count']\n",
    "\n",
    "group_sizes "
   ]
  },
  {
   "cell_type": "markdown",
   "metadata": {},
   "source": [
    "### 1. График кумулятивной выручки по группам. "
   ]
  },
  {
   "cell_type": "code",
   "execution_count": 17,
   "metadata": {},
   "outputs": [
    {
     "data": {
      "text/html": [
       "<div>\n",
       "<style scoped>\n",
       "    .dataframe tbody tr th:only-of-type {\n",
       "        vertical-align: middle;\n",
       "    }\n",
       "\n",
       "    .dataframe tbody tr th {\n",
       "        vertical-align: top;\n",
       "    }\n",
       "\n",
       "    .dataframe thead th {\n",
       "        text-align: right;\n",
       "    }\n",
       "</style>\n",
       "<table border=\"1\" class=\"dataframe\">\n",
       "  <thead>\n",
       "    <tr style=\"text-align: right;\">\n",
       "      <th></th>\n",
       "      <th>date</th>\n",
       "      <th>group</th>\n",
       "      <th>orders</th>\n",
       "      <th>buyers</th>\n",
       "      <th>revenue</th>\n",
       "      <th>visitors</th>\n",
       "    </tr>\n",
       "  </thead>\n",
       "  <tbody>\n",
       "    <tr>\n",
       "      <td>0</td>\n",
       "      <td>2019-08-01</td>\n",
       "      <td>A</td>\n",
       "      <td>24</td>\n",
       "      <td>20</td>\n",
       "      <td>148579</td>\n",
       "      <td>719</td>\n",
       "    </tr>\n",
       "    <tr>\n",
       "      <td>1</td>\n",
       "      <td>2019-08-01</td>\n",
       "      <td>B</td>\n",
       "      <td>21</td>\n",
       "      <td>20</td>\n",
       "      <td>101217</td>\n",
       "      <td>713</td>\n",
       "    </tr>\n",
       "    <tr>\n",
       "      <td>2</td>\n",
       "      <td>2019-08-02</td>\n",
       "      <td>A</td>\n",
       "      <td>44</td>\n",
       "      <td>38</td>\n",
       "      <td>242401</td>\n",
       "      <td>1338</td>\n",
       "    </tr>\n",
       "    <tr>\n",
       "      <td>3</td>\n",
       "      <td>2019-08-02</td>\n",
       "      <td>B</td>\n",
       "      <td>45</td>\n",
       "      <td>43</td>\n",
       "      <td>266748</td>\n",
       "      <td>1294</td>\n",
       "    </tr>\n",
       "    <tr>\n",
       "      <td>4</td>\n",
       "      <td>2019-08-03</td>\n",
       "      <td>A</td>\n",
       "      <td>68</td>\n",
       "      <td>62</td>\n",
       "      <td>354874</td>\n",
       "      <td>1845</td>\n",
       "    </tr>\n",
       "  </tbody>\n",
       "</table>\n",
       "</div>"
      ],
      "text/plain": [
       "        date group  orders  buyers  revenue  visitors\n",
       "0 2019-08-01     A      24      20   148579       719\n",
       "1 2019-08-01     B      21      20   101217       713\n",
       "2 2019-08-02     A      44      38   242401      1338\n",
       "3 2019-08-02     B      45      43   266748      1294\n",
       "4 2019-08-03     A      68      62   354874      1845"
      ]
     },
     "execution_count": 17,
     "metadata": {},
     "output_type": "execute_result"
    }
   ],
   "source": [
    "datesGroups = orders[['date','group']].drop_duplicates()\n",
    "\n",
    "ordersAggregated = datesGroups.apply(lambda x: orders[np.logical_and(orders['date'] <= x['date'], orders['group'] == x['group'])]. \\\n",
    "                                     agg({'date' : 'max', \n",
    "                                          'group' : 'max', \n",
    "                                          'transactionId' : pd.Series.nunique, \n",
    "                                          'visitorId' : pd.Series.nunique, \n",
    "                                          'revenue' : 'sum'}), axis=1).sort_values(by=['date','group'])\n",
    "\n",
    "visitorsAggregated = datesGroups.apply(lambda x: visitors[np.logical_and(visitors['date'] <= x['date'], visitors['group'] == x['group'])]. \\\n",
    "                                       agg({'date' : 'max', \n",
    "                                            'group' : 'max', \n",
    "                                            'visitors' : 'sum'}), axis=1).sort_values(by=['date','group'])\n",
    "\n",
    "cumulativeData = ordersAggregated.merge(visitorsAggregated, left_on=['date', 'group'], right_on=['date', 'group'])\n",
    "cumulativeData.columns = ['date', 'group', 'orders', 'buyers', 'revenue', 'visitors']\n",
    "\n",
    "cumulativeData.head(5)"
   ]
  },
  {
   "cell_type": "code",
   "execution_count": 18,
   "metadata": {},
   "outputs": [
    {
     "data": {
      "image/png": "[encoded data removed]",
      "text/plain": [
       "<Figure size 1080x360 with 1 Axes>"
      ]
     },
     "metadata": {
      "needs_background": "light"
     },
     "output_type": "display_data"
    }
   ],
   "source": [
    "cumulativeRevenueA = cumulativeData[cumulativeData['group']=='A'][['date','revenue', 'orders']]\n",
    "cumulativeRevenueB = cumulativeData[cumulativeData['group']=='B'][['date','revenue', 'orders']]\n",
    "\n",
    "from pandas.plotting import register_matplotlib_converters\n",
    "register_matplotlib_converters()\n",
    "\n",
    "plt.figure(figsize=(15,5))\n",
    "plt.plot(cumulativeRevenueA['date'], cumulativeRevenueA['revenue'], label='Кум.выручка группы A')\n",
    "plt.plot(cumulativeRevenueB['date'], cumulativeRevenueB['revenue'], label='Кум.выручка группы B')\n",
    "plt.grid()\n",
    "plt.legend() ;"
   ]
  },
  {
   "cell_type": "markdown",
   "metadata": {},
   "source": [
    "<b>Выводы и предположения. </b> <br>\n",
    "В первой половине месяца выручка в группе B растёт чуть быстрее, чем в A. 13 августа выручки примерно равны. А во второй половине месяца выручка выручка группа \"B\" значительно больше. "
   ]
  },
  {
   "cell_type": "markdown",
   "metadata": {},
   "source": [
    "### 2. График кумулятивного среднего чека по группам. "
   ]
  },
  {
   "cell_type": "code",
   "execution_count": 19,
   "metadata": {},
   "outputs": [
    {
     "data": {
      "image/png": "[encoded data removed]",
      "text/plain": [
       "<Figure size 1080x360 with 1 Axes>"
      ]
     },
     "metadata": {
      "needs_background": "light"
     },
     "output_type": "display_data"
    }
   ],
   "source": [
    "plt.figure(figsize=(15,5))\n",
    "plt.grid()\n",
    "plt.plot(cumulativeRevenueA['date'], cumulativeRevenueA['revenue']/cumulativeRevenueA['orders'], label='средний кумулятивный чек группы A')\n",
    "plt.plot(cumulativeRevenueB['date'], cumulativeRevenueB['revenue']/cumulativeRevenueB['orders'], label='средний кумулятивный чек группы B')\n",
    "plt.legend() ;"
   ]
  },
  {
   "cell_type": "markdown",
   "metadata": {},
   "source": [
    "В группе В заметен резкий скачок прибыли 19 августа. Нужно проверить, почему он произошел. "
   ]
  },
  {
   "cell_type": "code",
   "execution_count": 20,
   "metadata": {},
   "outputs": [
    {
     "name": "stdout",
     "output_type": "stream",
     "text": [
      "2630.0\n"
     ]
    },
    {
     "data": {
      "text/html": [
       "<div>\n",
       "<style scoped>\n",
       "    .dataframe tbody tr th:only-of-type {\n",
       "        vertical-align: middle;\n",
       "    }\n",
       "\n",
       "    .dataframe tbody tr th {\n",
       "        vertical-align: top;\n",
       "    }\n",
       "\n",
       "    .dataframe thead th {\n",
       "        text-align: right;\n",
       "    }\n",
       "</style>\n",
       "<table border=\"1\" class=\"dataframe\">\n",
       "  <thead>\n",
       "    <tr style=\"text-align: right;\">\n",
       "      <th></th>\n",
       "      <th>transactionId</th>\n",
       "      <th>visitorId</th>\n",
       "      <th>date</th>\n",
       "      <th>revenue</th>\n",
       "      <th>group</th>\n",
       "    </tr>\n",
       "  </thead>\n",
       "  <tbody>\n",
       "    <tr>\n",
       "      <td>425</td>\n",
       "      <td>590470918</td>\n",
       "      <td>1920142716</td>\n",
       "      <td>2019-08-19</td>\n",
       "      <td>1294500</td>\n",
       "      <td>B</td>\n",
       "    </tr>\n",
       "    <tr>\n",
       "      <td>530</td>\n",
       "      <td>3970235543</td>\n",
       "      <td>2912540959</td>\n",
       "      <td>2019-08-19</td>\n",
       "      <td>43990</td>\n",
       "      <td>A</td>\n",
       "    </tr>\n",
       "    <tr>\n",
       "      <td>527</td>\n",
       "      <td>1570513684</td>\n",
       "      <td>2837914161</td>\n",
       "      <td>2019-08-19</td>\n",
       "      <td>33405</td>\n",
       "      <td>B</td>\n",
       "    </tr>\n",
       "    <tr>\n",
       "      <td>421</td>\n",
       "      <td>3765974140</td>\n",
       "      <td>1357170471</td>\n",
       "      <td>2019-08-19</td>\n",
       "      <td>31680</td>\n",
       "      <td>A</td>\n",
       "    </tr>\n",
       "    <tr>\n",
       "      <td>461</td>\n",
       "      <td>2683113224</td>\n",
       "      <td>154576532</td>\n",
       "      <td>2019-08-19</td>\n",
       "      <td>26550</td>\n",
       "      <td>B</td>\n",
       "    </tr>\n",
       "    <tr>\n",
       "      <td>525</td>\n",
       "      <td>3031564664</td>\n",
       "      <td>393266494</td>\n",
       "      <td>2019-08-19</td>\n",
       "      <td>21550</td>\n",
       "      <td>A</td>\n",
       "    </tr>\n",
       "    <tr>\n",
       "      <td>368</td>\n",
       "      <td>3268879337</td>\n",
       "      <td>2536252163</td>\n",
       "      <td>2019-08-19</td>\n",
       "      <td>20026</td>\n",
       "      <td>B</td>\n",
       "    </tr>\n",
       "    <tr>\n",
       "      <td>366</td>\n",
       "      <td>2037051350</td>\n",
       "      <td>1957949546</td>\n",
       "      <td>2019-08-19</td>\n",
       "      <td>16770</td>\n",
       "      <td>A</td>\n",
       "    </tr>\n",
       "    <tr>\n",
       "      <td>463</td>\n",
       "      <td>4170537404</td>\n",
       "      <td>290022471</td>\n",
       "      <td>2019-08-19</td>\n",
       "      <td>16480</td>\n",
       "      <td>B</td>\n",
       "    </tr>\n",
       "    <tr>\n",
       "      <td>531</td>\n",
       "      <td>4016435970</td>\n",
       "      <td>4017075195</td>\n",
       "      <td>2019-08-19</td>\n",
       "      <td>13390</td>\n",
       "      <td>A</td>\n",
       "    </tr>\n",
       "  </tbody>\n",
       "</table>\n",
       "</div>"
      ],
      "text/plain": [
       "     transactionId   visitorId       date  revenue group\n",
       "425      590470918  1920142716 2019-08-19  1294500     B\n",
       "530     3970235543  2912540959 2019-08-19    43990     A\n",
       "527     1570513684  2837914161 2019-08-19    33405     B\n",
       "421     3765974140  1357170471 2019-08-19    31680     A\n",
       "461     2683113224   154576532 2019-08-19    26550     B\n",
       "525     3031564664   393266494 2019-08-19    21550     A\n",
       "368     3268879337  2536252163 2019-08-19    20026     B\n",
       "366     2037051350  1957949546 2019-08-19    16770     A\n",
       "463     4170537404   290022471 2019-08-19    16480     B\n",
       "531     4016435970  4017075195 2019-08-19    13390     A"
      ]
     },
     "execution_count": 20,
     "metadata": {},
     "output_type": "execute_result"
    }
   ],
   "source": [
    "print(orders.query(' date == \"2019-08-19\" ')['revenue'].median())\n",
    "orders.query(' date == \"2019-08-19\" ').sort_values(by='revenue', ascending=False).head(10)"
   ]
  },
  {
   "cell_type": "markdown",
   "metadata": {},
   "source": [
    "<b>Выводы и предположения.</b><br>\n",
    "19 августа в группе В был совершен один очень крупный заказ - почти 1,3 млн, в то время как остальные заказы не превышают 44 тыс. Скорее всего, этот заказ надо считать выбросом и учитывать это при дальнейшем анализе. "
   ]
  },
  {
   "cell_type": "markdown",
   "metadata": {},
   "source": [
    "### 3. График относительного изменения кумулятивного среднего чека группы B к группе A. "
   ]
  },
  {
   "cell_type": "code",
   "execution_count": 21,
   "metadata": {},
   "outputs": [
    {
     "data": {
      "image/png": "[encoded data removed]",
      "text/plain": [
       "<Figure size 1080x360 with 1 Axes>"
      ]
     },
     "metadata": {
      "needs_background": "light"
     },
     "output_type": "display_data"
    }
   ],
   "source": [
    "mergedCumulativeRevenue = cumulativeRevenueA.merge(cumulativeRevenueB, left_on='date', right_on='date', how='left', suffixes=['A', 'B'])\n",
    "\n",
    "plt.figure(figsize=(15,5))\n",
    "plt.grid()\n",
    "plt.plot(mergedCumulativeRevenue['date'], (mergedCumulativeRevenue['revenueB']/mergedCumulativeRevenue['ordersB'])/ \\\n",
    "         (mergedCumulativeRevenue['revenueA']/mergedCumulativeRevenue['ordersA'])-1)\n",
    "plt.title('Относительное изменение кумулятивного среднего чека групп \"B\" к \"А\"')\n",
    "plt.axhline(y=0, color='black', linestyle='--') ;"
   ]
  },
  {
   "cell_type": "markdown",
   "metadata": {},
   "source": [
    "Выводы и предположения.\n",
    "\n",
    "Кумулятивный средний чек B рос с 1 августа, 2 августа уже превысил A и рос до 7 августа. 7 - 13 августа началось обратное движение, и 12-14 акгуста средний чек A был больше B. С 13 августа чек B опять начал расти, 15 августа наступил переломный момент и на следующий день чек B оказался больше и был больше A до конца месяца. 19 августа был сильный всплеск за счет заказа №425 с аномально большим объемом, а в последующие дни средний чек B также постепенно снижался.\n"
   ]
  },
  {
   "cell_type": "markdown",
   "metadata": {},
   "source": [
    "### 4. График кумулятивной конверсии по группам. "
   ]
  },
  {
   "cell_type": "code",
   "execution_count": 22,
   "metadata": {},
   "outputs": [
    {
     "data": {
      "image/png": "[encoded data removed]",
      "text/plain": [
       "<Figure size 1080x360 with 1 Axes>"
      ]
     },
     "metadata": {
      "needs_background": "light"
     },
     "output_type": "display_data"
    }
   ],
   "source": [
    "cumulativeData['conversion'] = cumulativeData['orders']/cumulativeData['visitors']\n",
    "\n",
    "cumulativeDataA = cumulativeData[cumulativeData['group']=='A']\n",
    "cumulativeDataB = cumulativeData[cumulativeData['group']=='B']\n",
    "\n",
    "plt.figure(figsize=(15,5))\n",
    "plt.grid()\n",
    "plt.plot(cumulativeDataA['date'], cumulativeDataA['conversion'], label='кумулятивная конверсия A')\n",
    "plt.plot(cumulativeDataB['date'], cumulativeDataB['conversion'], label='кумулятивная конверсия B')\n",
    "plt.title('Кумулятивная конверсия')\n",
    "plt.legend();"
   ]
  },
  {
   "cell_type": "markdown",
   "metadata": {},
   "source": [
    "Выводы и предположения.\n",
    "С 1 по 5 августа конверсия A была значительно больше, 3 августа она была максимальной за весь период наблюдения, но после этого она начала резко падать, и с 9 августа остановилось в диапазоне 0,029-0,031. Конверсия группы B с 4 августа начала расти и уже 6 августа превысила конверсию A и росла до 10 августа чуть выше 0,036; затем пошло постепенное снижение,но в целом конверсия группы B в целом заметно больше A."
   ]
  },
  {
   "cell_type": "markdown",
   "metadata": {},
   "source": [
    "### 5. График относительного изменения кумулятивной конверсии группы B к группе A. "
   ]
  },
  {
   "cell_type": "code",
   "execution_count": 23,
   "metadata": {},
   "outputs": [
    {
     "data": {
      "image/png": "[encoded data removed]",
      "text/plain": [
       "<Figure size 1080x360 with 1 Axes>"
      ]
     },
     "metadata": {
      "needs_background": "light"
     },
     "output_type": "display_data"
    }
   ],
   "source": [
    "mergedCumulativeConversions = cumulativeDataA[['date','conversion']].merge(cumulativeDataB[['date','conversion']], \\\n",
    "                                                    left_on='date', right_on='date', how='left', suffixes=['A', 'B'])\n",
    "plt.figure(figsize=(15,5))\n",
    "plt.grid()\n",
    "plt.plot(mergedCumulativeConversions['date'], mergedCumulativeConversions['conversionB']/mergedCumulativeConversions['conversionA']-1, label=\"Относительный прирост конверсии группы B относительно группы A\")\n",
    "\n",
    "plt.title('Относительное изменение кумулятивной конверсии группы B к группе A')\n",
    "\n",
    "plt.axhline(y=0, color='black', linestyle='--') \n",
    "plt.axhline(y=0.1, color='grey', linestyle='--')\n",
    "plt.axhline(y=0.21, color='grey', linestyle='--')\n",
    "plt.axhline(y=0.057, color='grey', linestyle='--');"
   ]
  },
  {
   "cell_type": "markdown",
   "metadata": {},
   "source": [
    "Выводы и предположения.\n",
    "С 1 по 5 августа (кроме 2-го!) конверсия в A была больше на 5-10%; но 2 августа - был сильный рост конверсии в группе B, в результате чего конверсия B превысила A на 5%. Начиная с 6 августа группа B лидировала до конца периода; её конверсия росла до 15 августа и наибольшая разница с A составила 21%, затем пошло постепенное снижение отностельной конверсии до 10%-14%."
   ]
  },
  {
   "cell_type": "markdown",
   "metadata": {},
   "source": [
    "### 6. Точечный график количества заказов по пользователям."
   ]
  },
  {
   "cell_type": "code",
   "execution_count": 24,
   "metadata": {},
   "outputs": [
    {
     "data": {
      "text/html": [
       "<div>\n",
       "<style scoped>\n",
       "    .dataframe tbody tr th:only-of-type {\n",
       "        vertical-align: middle;\n",
       "    }\n",
       "\n",
       "    .dataframe tbody tr th {\n",
       "        vertical-align: top;\n",
       "    }\n",
       "\n",
       "    .dataframe thead th {\n",
       "        text-align: right;\n",
       "    }\n",
       "</style>\n",
       "<table border=\"1\" class=\"dataframe\">\n",
       "  <thead>\n",
       "    <tr style=\"text-align: right;\">\n",
       "      <th></th>\n",
       "      <th>user_id</th>\n",
       "      <th>orders</th>\n",
       "    </tr>\n",
       "  </thead>\n",
       "  <tbody>\n",
       "    <tr>\n",
       "      <td>1023</td>\n",
       "      <td>4256040402</td>\n",
       "      <td>11</td>\n",
       "    </tr>\n",
       "    <tr>\n",
       "      <td>591</td>\n",
       "      <td>2458001652</td>\n",
       "      <td>11</td>\n",
       "    </tr>\n",
       "    <tr>\n",
       "      <td>569</td>\n",
       "      <td>2378935119</td>\n",
       "      <td>9</td>\n",
       "    </tr>\n",
       "    <tr>\n",
       "      <td>487</td>\n",
       "      <td>2038680547</td>\n",
       "      <td>8</td>\n",
       "    </tr>\n",
       "    <tr>\n",
       "      <td>44</td>\n",
       "      <td>199603092</td>\n",
       "      <td>5</td>\n",
       "    </tr>\n",
       "    <tr>\n",
       "      <td>744</td>\n",
       "      <td>3062433592</td>\n",
       "      <td>5</td>\n",
       "    </tr>\n",
       "    <tr>\n",
       "      <td>55</td>\n",
       "      <td>237748145</td>\n",
       "      <td>5</td>\n",
       "    </tr>\n",
       "    <tr>\n",
       "      <td>917</td>\n",
       "      <td>3803269165</td>\n",
       "      <td>5</td>\n",
       "    </tr>\n",
       "    <tr>\n",
       "      <td>299</td>\n",
       "      <td>1230306981</td>\n",
       "      <td>5</td>\n",
       "    </tr>\n",
       "    <tr>\n",
       "      <td>897</td>\n",
       "      <td>3717692402</td>\n",
       "      <td>5</td>\n",
       "    </tr>\n",
       "  </tbody>\n",
       "</table>\n",
       "</div>"
      ],
      "text/plain": [
       "         user_id  orders\n",
       "1023  4256040402      11\n",
       "591   2458001652      11\n",
       "569   2378935119       9\n",
       "487   2038680547       8\n",
       "44     199603092       5\n",
       "744   3062433592       5\n",
       "55     237748145       5\n",
       "917   3803269165       5\n",
       "299   1230306981       5\n",
       "897   3717692402       5"
      ]
     },
     "execution_count": 24,
     "metadata": {},
     "output_type": "execute_result"
    }
   ],
   "source": [
    "ordersByUsers = orders.drop(['group', 'revenue', 'date'], axis=1).groupby('visitorId', as_index=False). \\\n",
    "                                                                        agg({'transactionId' : pd.Series.nunique})\n",
    "ordersByUsers.columns = ['user_id','orders']\n",
    "ordersByUsers.sort_values(by='orders',ascending=False).head(10)"
   ]
  },
  {
   "cell_type": "code",
   "execution_count": 25,
   "metadata": {},
   "outputs": [
    {
     "data": {
      "image/png": "[encoded data removed]",
      "text/plain": [
       "<Figure size 1080x360 with 1 Axes>"
      ]
     },
     "metadata": {
      "needs_background": "light"
     },
     "output_type": "display_data"
    }
   ],
   "source": [
    "x_values = pd.Series(range(0,len(ordersByUsers)))\n",
    "\n",
    "plt.figure(figsize=(15,5))\n",
    "plt.grid()\n",
    "plt.title('График количества заказов по пользователям')\n",
    "plt.scatter(x_values, ordersByUsers['orders'], alpha=0.5) ;"
   ]
  },
  {
   "cell_type": "markdown",
   "metadata": {},
   "source": [
    "Выводы и предположения.\n",
    "Больше всего пользователей которые совершили 1 заказ. Пользователей с 2 заказами значительно меньше. С 3 заказами и выше - количество пользователей единично."
   ]
  },
  {
   "cell_type": "markdown",
   "metadata": {},
   "source": [
    "### 7. 95-й и 99-й перцентили количества заказов на пользователя. Граница для определения аномальных пользователей."
   ]
  },
  {
   "cell_type": "code",
   "execution_count": 26,
   "metadata": {},
   "outputs": [
    {
     "name": "stdout",
     "output_type": "stream",
     "text": [
      "95 и 99 перцентили по заказам :  [2. 4.]\n"
     ]
    }
   ],
   "source": [
    "print('95 и 99 перцентили по заказам : ', np.percentile(ordersByUsers['orders'], [95, 99])) "
   ]
  },
  {
   "cell_type": "code",
   "execution_count": 27,
   "metadata": {},
   "outputs": [
    {
     "name": "stdout",
     "output_type": "stream",
     "text": [
      "перцентили c 95 по 99 (по заказам) :  [2. 2. 2. 3. 4.]\n"
     ]
    }
   ],
   "source": [
    "#для большей точности\n",
    "print('перцентили c 95 по 99 (по заказам) : ', np.percentile(ordersByUsers['orders'], [95,96,97,98, 99])) "
   ]
  },
  {
   "cell_type": "markdown",
   "metadata": {},
   "source": [
    "Вывод: 98% пользователей делают 1 или 2 заказа. Выше 98%  - аномалия."
   ]
  },
  {
   "cell_type": "markdown",
   "metadata": {},
   "source": [
    "### 8. Точечный график стоимостей заказов. "
   ]
  },
  {
   "cell_type": "code",
   "execution_count": 28,
   "metadata": {},
   "outputs": [
    {
     "data": {
      "image/png": "[encoded data removed]",
      "text/plain": [
       "<Figure size 1080x360 with 1 Axes>"
      ]
     },
     "metadata": {
      "needs_background": "light"
     },
     "output_type": "display_data"
    }
   ],
   "source": [
    "x_values = pd.Series(range(0,len(orders['revenue'])))\n",
    "plt.figure(figsize=(15,5))\n",
    "plt.grid()\n",
    "plt.title('График стоимостей заказов')\n",
    "plt.scatter(x_values, orders['revenue'], alpha=0.5);"
   ]
  },
  {
   "cell_type": "code",
   "execution_count": 29,
   "metadata": {},
   "outputs": [
    {
     "data": {
      "image/png": "[encoded data removed]",
      "text/plain": [
       "<Figure size 1080x360 with 1 Axes>"
      ]
     },
     "metadata": {
      "needs_background": "light"
     },
     "output_type": "display_data"
    }
   ],
   "source": [
    "#плохо видно, уберем выбросы\n",
    "norm_orders = orders[orders['revenue']<=200000]['revenue']\n",
    "xn_values = pd.Series(range(0,len(norm_orders)))\n",
    "plt.figure(figsize=(15,5))\n",
    "plt.grid()\n",
    "plt.title('График стоимостей заказов')\n",
    "plt.scatter(xn_values, norm_orders, alpha=0.5);"
   ]
  },
  {
   "cell_type": "markdown",
   "metadata": {},
   "source": [
    "Выводы и предположения.\n",
    "На 1 графике было хорошо видно аномальный заказ №425 на 1.3 млн и еще один (справа) на 200 тысяц, остальные не больше 100 тысяч. "
   ]
  },
  {
   "cell_type": "markdown",
   "metadata": {},
   "source": [
    "### 9. 95-й и 99-й перцентили стоимости заказов. Граница для определения аномальных заказов."
   ]
  },
  {
   "cell_type": "code",
   "execution_count": 30,
   "metadata": {},
   "outputs": [
    {
     "name": "stdout",
     "output_type": "stream",
     "text": [
      "95 и 99 перцентили стоимости заказов :  [28000.  58233.2]\n"
     ]
    }
   ],
   "source": [
    "print('95 и 99 перцентили стоимости заказов : ', np.percentile(orders['revenue'], [95, 99])) "
   ]
  },
  {
   "cell_type": "markdown",
   "metadata": {},
   "source": [
    "Примем за границу для аномалий сумму 58233.2, т.к.  99% заказов меньше этой суммы."
   ]
  },
  {
   "cell_type": "markdown",
   "metadata": {},
   "source": [
    "### 10. Статистическая значимость различий в конверсии между группами по «сырым» данным. "
   ]
  },
  {
   "cell_type": "code",
   "execution_count": 31,
   "metadata": {},
   "outputs": [],
   "source": [
    "visitorsADaily = visitors[visitors['group']=='A'][['date', 'visitors']]\n",
    "visitorsADaily.columns = ['date', 'visitorsPerDateA']\n",
    "\n",
    "visitorsACummulative = visitorsADaily.apply(lambda x: visitorsADaily[visitorsADaily['date'] <= x['date']]. \\\n",
    "                                            agg({'date' : 'max', 'visitorsPerDateA' : 'sum'}), axis=1)\n",
    "visitorsACummulative.columns = ['date', 'visitorsCummulativeA']\n",
    "\n",
    "visitorsBDaily = visitors[visitors['group']=='B'][['date', 'visitors']]\n",
    "visitorsBDaily.columns = ['date', 'visitorsPerDateB']\n",
    "\n",
    "visitorsBCummulative = visitorsBDaily.apply(lambda x: visitorsBDaily[visitorsBDaily['date'] <= x['date']]. \\\n",
    "                                            agg({'date' : 'max', 'visitorsPerDateB' : 'sum'}), axis=1)\n",
    "visitorsBCummulative.columns = ['date', 'visitorsCummulativeB']\n",
    "\n",
    "\n",
    "ordersADaily = orders[orders['group']=='A'][['date', 'transactionId', 'visitorId', 'revenue']]\\\n",
    "    .groupby('date', as_index=False)\\\n",
    "    .agg({'transactionId' : pd.Series.nunique, 'revenue' : 'sum'})\n",
    "ordersADaily.columns = ['date', 'ordersPerDateA', 'revenuePerDateA']\n",
    "\n",
    "ordersACummulative = ordersADaily.apply(\n",
    "    lambda x: \\\n",
    "        ordersADaily[ordersADaily['date'] <= x['date']]\\\n",
    "            .agg({\n",
    "                'date' : 'max',\n",
    "                'ordersPerDateA' : 'sum',\n",
    "                'revenuePerDateA' : 'sum'}), axis=1).sort_values(by=['date'])\n",
    "ordersACummulative.columns = ['date', 'ordersCummulativeA', 'revenueCummulativeA']\n",
    "\n",
    "ordersBDaily = orders[orders['group']=='B'][['date', 'transactionId', 'visitorId', 'revenue']]\\\n",
    "    .groupby('date', as_index=False)\\\n",
    "    .agg({'transactionId' : pd.Series.nunique, 'revenue' : 'sum'})\n",
    "ordersBDaily.columns = ['date', 'ordersPerDateB', 'revenuePerDateB']\n",
    "\n",
    "ordersBCummulative = ordersBDaily.apply(\n",
    "    lambda x: \\\n",
    "        ordersBDaily[ordersBDaily['date'] <= x['date']]\\\n",
    "            .agg({\n",
    "                'date' : 'max',\n",
    "                'ordersPerDateB' : 'sum',\n",
    "                'revenuePerDateB' : 'sum'}), axis=1).sort_values(by=['date'])\n",
    "ordersBCummulative.columns = ['date', 'ordersCummulativeB', 'revenueCummulativeB']"
   ]
  },
  {
   "cell_type": "code",
   "execution_count": 32,
   "metadata": {},
   "outputs": [
    {
     "data": {
      "text/html": [
       "<div>\n",
       "<style scoped>\n",
       "    .dataframe tbody tr th:only-of-type {\n",
       "        vertical-align: middle;\n",
       "    }\n",
       "\n",
       "    .dataframe tbody tr th {\n",
       "        vertical-align: top;\n",
       "    }\n",
       "\n",
       "    .dataframe thead th {\n",
       "        text-align: right;\n",
       "    }\n",
       "</style>\n",
       "<table border=\"1\" class=\"dataframe\">\n",
       "  <thead>\n",
       "    <tr style=\"text-align: right;\">\n",
       "      <th></th>\n",
       "      <th>date</th>\n",
       "      <th>ordersPerDateA</th>\n",
       "      <th>revenuePerDateA</th>\n",
       "      <th>ordersPerDateB</th>\n",
       "      <th>revenuePerDateB</th>\n",
       "      <th>ordersCummulativeA</th>\n",
       "      <th>revenueCummulativeA</th>\n",
       "      <th>ordersCummulativeB</th>\n",
       "      <th>revenueCummulativeB</th>\n",
       "      <th>visitorsPerDateA</th>\n",
       "      <th>visitorsPerDateB</th>\n",
       "      <th>visitorsCummulativeA</th>\n",
       "      <th>visitorsCummulativeB</th>\n",
       "    </tr>\n",
       "  </thead>\n",
       "  <tbody>\n",
       "    <tr>\n",
       "      <td>0</td>\n",
       "      <td>2019-08-01</td>\n",
       "      <td>24</td>\n",
       "      <td>148579</td>\n",
       "      <td>21</td>\n",
       "      <td>101217</td>\n",
       "      <td>24</td>\n",
       "      <td>148579</td>\n",
       "      <td>21</td>\n",
       "      <td>101217</td>\n",
       "      <td>719</td>\n",
       "      <td>713</td>\n",
       "      <td>719</td>\n",
       "      <td>713</td>\n",
       "    </tr>\n",
       "    <tr>\n",
       "      <td>1</td>\n",
       "      <td>2019-08-02</td>\n",
       "      <td>20</td>\n",
       "      <td>93822</td>\n",
       "      <td>24</td>\n",
       "      <td>165531</td>\n",
       "      <td>44</td>\n",
       "      <td>242401</td>\n",
       "      <td>45</td>\n",
       "      <td>266748</td>\n",
       "      <td>619</td>\n",
       "      <td>581</td>\n",
       "      <td>1338</td>\n",
       "      <td>1294</td>\n",
       "    </tr>\n",
       "    <tr>\n",
       "      <td>2</td>\n",
       "      <td>2019-08-03</td>\n",
       "      <td>24</td>\n",
       "      <td>112473</td>\n",
       "      <td>16</td>\n",
       "      <td>114248</td>\n",
       "      <td>68</td>\n",
       "      <td>354874</td>\n",
       "      <td>61</td>\n",
       "      <td>380996</td>\n",
       "      <td>507</td>\n",
       "      <td>509</td>\n",
       "      <td>1845</td>\n",
       "      <td>1803</td>\n",
       "    </tr>\n",
       "    <tr>\n",
       "      <td>3</td>\n",
       "      <td>2019-08-04</td>\n",
       "      <td>16</td>\n",
       "      <td>70825</td>\n",
       "      <td>17</td>\n",
       "      <td>108571</td>\n",
       "      <td>84</td>\n",
       "      <td>425699</td>\n",
       "      <td>78</td>\n",
       "      <td>489567</td>\n",
       "      <td>717</td>\n",
       "      <td>770</td>\n",
       "      <td>2562</td>\n",
       "      <td>2573</td>\n",
       "    </tr>\n",
       "    <tr>\n",
       "      <td>4</td>\n",
       "      <td>2019-08-05</td>\n",
       "      <td>25</td>\n",
       "      <td>124218</td>\n",
       "      <td>23</td>\n",
       "      <td>92428</td>\n",
       "      <td>109</td>\n",
       "      <td>549917</td>\n",
       "      <td>101</td>\n",
       "      <td>581995</td>\n",
       "      <td>756</td>\n",
       "      <td>707</td>\n",
       "      <td>3318</td>\n",
       "      <td>3280</td>\n",
       "    </tr>\n",
       "  </tbody>\n",
       "</table>\n",
       "</div>"
      ],
      "text/plain": [
       "        date  ordersPerDateA  revenuePerDateA  ordersPerDateB  \\\n",
       "0 2019-08-01              24           148579              21   \n",
       "1 2019-08-02              20            93822              24   \n",
       "2 2019-08-03              24           112473              16   \n",
       "3 2019-08-04              16            70825              17   \n",
       "4 2019-08-05              25           124218              23   \n",
       "\n",
       "   revenuePerDateB  ordersCummulativeA  revenueCummulativeA  \\\n",
       "0           101217                  24               148579   \n",
       "1           165531                  44               242401   \n",
       "2           114248                  68               354874   \n",
       "3           108571                  84               425699   \n",
       "4            92428                 109               549917   \n",
       "\n",
       "   ordersCummulativeB  revenueCummulativeB  visitorsPerDateA  \\\n",
       "0                  21               101217               719   \n",
       "1                  45               266748               619   \n",
       "2                  61               380996               507   \n",
       "3                  78               489567               717   \n",
       "4                 101               581995               756   \n",
       "\n",
       "   visitorsPerDateB  visitorsCummulativeA  visitorsCummulativeB  \n",
       "0               713                   719                   713  \n",
       "1               581                  1338                  1294  \n",
       "2               509                  1845                  1803  \n",
       "3               770                  2562                  2573  \n",
       "4               707                  3318                  3280  "
      ]
     },
     "execution_count": 32,
     "metadata": {},
     "output_type": "execute_result"
    }
   ],
   "source": [
    "data = ordersADaily.merge(ordersBDaily, left_on='date', right_on='date', how='left')\\\n",
    "    .merge(ordersACummulative, left_on='date', right_on='date', how='left')\\\n",
    "    .merge(ordersBCummulative, left_on='date', right_on='date', how='left')\\\n",
    "    .merge(visitorsADaily, left_on='date', right_on='date', how='left')\\\n",
    "    .merge(visitorsBDaily, left_on='date', right_on='date', how='left')\\\n",
    "    .merge(visitorsACummulative, left_on='date', right_on='date', how='left')\\\n",
    "    .merge(visitorsBCummulative, left_on='date', right_on='date', how='left')\n",
    "data.head(5)"
   ]
  },
  {
   "cell_type": "markdown",
   "metadata": {},
   "source": [
    "За нулевую гипотезу возьмём что: \"статистически значимых различий в конверсии между группами нет\"; тогда альтернативная гипотеза будет гласить - статистически значимые различия есть."
   ]
  },
  {
   "cell_type": "code",
   "execution_count": 33,
   "metadata": {},
   "outputs": [
    {
     "name": "stdout",
     "output_type": "stream",
     "text": [
      "alpha = 0.05\n",
      "p-value = 0.017\n",
      "Относительный показатель B и A = 0.138\n"
     ]
    }
   ],
   "source": [
    "ordersByUsersA = orders[orders['group']=='A'].groupby('visitorId', as_index=False).agg({'transactionId' : pd.Series.nunique})\n",
    "ordersByUsersA.columns = ['userId', 'orders']\n",
    "\n",
    "ordersByUsersB = orders[orders['group']=='B'].groupby('visitorId', as_index=False).agg({'transactionId' : pd.Series.nunique})\n",
    "ordersByUsersB.columns = ['userId', 'orders']\n",
    "\n",
    "sampleA = pd.concat([ordersByUsersA['orders'],pd.Series(0, index=np.arange(data['visitorsPerDateA'].sum() - len(ordersByUsersA['orders'])), name='orders')],axis=0)\n",
    "\n",
    "sampleB = pd.concat([ordersByUsersB['orders'],pd.Series(0, index=np.arange(data['visitorsPerDateB'].sum() - len(ordersByUsersB['orders'])), name='orders')],axis=0)\n",
    "\n",
    "print(\"alpha =\",0.05)\n",
    "print(\"p-value = {0:.3f}\".format(stats.mannwhitneyu(sampleA, sampleB, alternative = 'two-sided')[1]))\n",
    "print(\"Относительный показатель B и A = {0:.3f}\".format(sampleB.mean()/sampleA.mean()-1)) "
   ]
  },
  {
   "cell_type": "markdown",
   "metadata": {},
   "source": [
    "Выводы и предположения.\n",
    "p-value = 0.017 < 0.05. Значит, нулевую гипотезу о том, что статистически значимых различий в конверсии между группами нет,  отвергаем. Это значит, что по «сырым» данным различия в конверсии групп A и B есть. А относительный выигрыш группы \"B\" над \"A\" равен 13.8%."
   ]
  },
  {
   "cell_type": "markdown",
   "metadata": {},
   "source": [
    "### 11. Статистическая значимость различий в среднем чеке заказа между группами по «сырым» данным. "
   ]
  },
  {
   "cell_type": "markdown",
   "metadata": {},
   "source": [
    "Передадим критерию mannwhitneyu() данные о выручке с заказов (пороговое значение возьмём равное 5%) и найдём относительные различия в среднем чеке между группами. Нулевая гипотеза: \"статистически значимых различий в средних чеках между группами нет\"; тогда альтернативная гипотеза: \"статистически значимые различия есть\"."
   ]
  },
  {
   "cell_type": "code",
   "execution_count": 34,
   "metadata": {},
   "outputs": [
    {
     "name": "stdout",
     "output_type": "stream",
     "text": [
      "alpha = 0.05\n",
      "p-value = 0.729\n",
      "Относительный показатель B и A = 0.259\n"
     ]
    }
   ],
   "source": [
    "print(\"alpha =\",0.05)\n",
    "print(\"p-value = {0:.3f}\".format(stats.mannwhitneyu(orders[orders['group']=='A']['revenue'], orders[orders['group']=='B']['revenue'], alternative = 'two-sided')[1]))\n",
    "print(\"Относительный показатель B и A = {0:.3f}\".format(orders[orders['group']=='B']['revenue'].mean()/orders[orders['group']=='A']['revenue'].mean()-1)) "
   ]
  },
  {
   "cell_type": "markdown",
   "metadata": {},
   "source": [
    "Выводы и предположения.\n",
    "P-value >> 0.05. Значит, причин отвергать нулевую гипотезу и считать, что в среднем чеке есть различия, нет. То есть средние чеки по \"сырым\" данным схожи. И при этом, средний чек группы B значительно выше среднего чека группы A (на ~26% !)."
   ]
  },
  {
   "cell_type": "markdown",
   "metadata": {},
   "source": [
    "### 12. Статистическая значимость различий в конверсии между группами по «очищенным» данным. "
   ]
  },
  {
   "cell_type": "code",
   "execution_count": 35,
   "metadata": {},
   "outputs": [
    {
     "name": "stdout",
     "output_type": "stream",
     "text": [
      "1099    148427295\n",
      "18      199603092\n",
      "23      237748145\n",
      "37      249864742\n",
      "68      457167155\n",
      "dtype: int64\n",
      "Всего aномальных пользователей = 31\n"
     ]
    }
   ],
   "source": [
    "usersWithManyOrders = pd.concat([ordersByUsersA[ordersByUsersA['orders'] > 2]['userId'], ordersByUsersB[ordersByUsersB['orders'] > 2]['userId']], axis = 0)\n",
    "usersWithExpensiveOrders = orders[orders['revenue'] > 58233.2]['visitorId']\n",
    "abnormalUsers = pd.concat([usersWithManyOrders, usersWithExpensiveOrders], axis = 0).drop_duplicates().sort_values()\n",
    "print(abnormalUsers.head(5))\n",
    "print(\"Всего aномальных пользователей =\" ,len(abnormalUsers)) "
   ]
  },
  {
   "cell_type": "code",
   "execution_count": 36,
   "metadata": {},
   "outputs": [],
   "source": [
    "#Узнаем, как их действия повлияли на результаты теста\n",
    "sampleAFiltered = pd.concat([ordersByUsersA[np.logical_not(ordersByUsersA['userId'].isin(abnormalUsers))]['orders'], \\\n",
    "                             pd.Series(0, index=np.arange(data['visitorsPerDateA'].sum() - len(ordersByUsersA['orders'])), \\\n",
    "                                       name='orders')],axis=0)\n",
    "\n",
    "sampleBFiltered = pd.concat([ordersByUsersB[np.logical_not(ordersByUsersB['userId'].isin(abnormalUsers))]['orders'], \\\n",
    "                             pd.Series(0, index=np.arange(data['visitorsPerDateB'].sum() - len(ordersByUsersB['orders'])), \\\n",
    "                                       name='orders')],axis=0)"
   ]
  },
  {
   "cell_type": "code",
   "execution_count": 37,
   "metadata": {},
   "outputs": [
    {
     "name": "stdout",
     "output_type": "stream",
     "text": [
      "alpha = 0.05\n",
      "p-value = 0.010\n",
      "Относительный показатель B и A = 0.174\n"
     ]
    }
   ],
   "source": [
    "#Нулевая гипотеза: \"статистически значимых различий в конверсии между группами нет\"\n",
    "#Альтернативная гипотеза: \"статистически значимые различия есть\"\n",
    "print(\"alpha =\",0.05)\n",
    "print(\"p-value = {0:.3f}\".format(stats.mannwhitneyu(sampleAFiltered, sampleBFiltered, alternative = 'two-sided')[1]))\n",
    "print(\"Относительный показатель B и A = {0:.3f}\".format(sampleBFiltered.mean()/sampleAFiltered.mean()-1))"
   ]
  },
  {
   "cell_type": "markdown",
   "metadata": {},
   "source": [
    "Выводы и предположения.\n",
    "p-value = 0.01 < 0.05. Значит, нулевую гипотезу о том, что статистически значимых различий в конверсии между группами нет, можно отвергнуть. Это значит,что по «очищенным» данным различия в конверсии групп A и B есть. А относительный выигрыш группы B над A равен 17,4% (выше, чем с «сырыми» данными - 13.8%) "
   ]
  },
  {
   "cell_type": "markdown",
   "metadata": {},
   "source": [
    "### 13. Статистическая значимость различий в среднем чеке заказа между группами по «очищенным» данным. "
   ]
  },
  {
   "cell_type": "code",
   "execution_count": 38,
   "metadata": {},
   "outputs": [
    {
     "name": "stdout",
     "output_type": "stream",
     "text": [
      "alpha = 0.05\n",
      "p-value = 0.798\n",
      "Относительный показатель B и A = -0.020\n"
     ]
    }
   ],
   "source": [
    "#Нулевая гипотеза: \"статистически значимых различий в средних чеках между группами нет\"\n",
    "#Альтернативная гипотеза: \"статистически значимые различия есть\"\n",
    "print(\"alpha =\",0.05)\n",
    "print(\"p-value = {0:.3f}\".format(stats.mannwhitneyu(\n",
    "    orders[np.logical_and(\n",
    "        orders['group']=='A',\n",
    "        np.logical_not(orders['visitorId'].isin(abnormalUsers)))]['revenue'],\n",
    "    orders[np.logical_and(\n",
    "        orders['group']=='B',\n",
    "        np.logical_not(orders['visitorId'].isin(abnormalUsers)))]['revenue'], alternative = 'two-sided')[1]))\n",
    "\n",
    "print(\"Относительный показатель B и A = {0:.3f}\".format(\n",
    "    orders[np.logical_and(orders['group']=='B',np.logical_not(orders['visitorId'].isin(abnormalUsers)))]['revenue'].mean()/\n",
    "    orders[np.logical_and(\n",
    "        orders['group']=='A',\n",
    "        np.logical_not(orders['visitorId'].isin(abnormalUsers)))]['revenue'].mean() - 1)) "
   ]
  },
  {
   "cell_type": "markdown",
   "metadata": {},
   "source": [
    "Выводы и предположения.\n",
    "P-value >> 0.05. Нулевую гипотезу не отвергаем и причин считать, что в среднем чеке есть различия,тоже нет (как и с \"Сырыми\" данными). А вот средний чек группы B оказался незначительно (на 2%) ниже среднего чека группы A, в то время как по \"сырым\" данным, он был больше на ~26%, причина этому - аномальный заказ на 1,3 млн."
   ]
  },
  {
   "cell_type": "markdown",
   "metadata": {},
   "source": [
    "### 14. Решение по результатам теста. \n",
    "Варианты решений: 1. Остановить тест, зафиксировать победу одной из групп. 2. Остановить тест, зафиксировать отсутствие различий между группами. 3. Продолжить тест."
   ]
  },
  {
   "cell_type": "markdown",
   "metadata": {},
   "source": [
    "И по \"сырым\" и по \"очищенным\" данным различия в конверсии групп A и B есть. Относительный выигрыш группы \"B\" над \"A\" равен 17,4% по \"очищенным\" и 13.8% по \"сырым\" данным.<br>\n",
    "В средних чеках различия для групп A и B отстутствуют, несмотря на то, что по \"очищенным\" данным средний чек группы B оказался незначительно (на 2%) ниже среднего чека группы A, в то время как по \"сырым\" данным, он был больше на 26%. Дело в том, что когда убрали аномальный заказ 425, чеки сравнялись. <br>\n",
    "В итоге можно принять решение остановить тестирование и сделать вывод: группа B значительно лучше (эффективнее) группы A по конверсии, хотя по среднему чеку группы примерно равны."
   ]
  },
  {
   "cell_type": "markdown",
   "metadata": {},
   "source": [
    "## Общий вывод\n"
   ]
  },
  {
   "cell_type": "markdown",
   "metadata": {},
   "source": [
    "Можно принять решение остановить тестирование и сделать вывод: группа B значительно лучше (эффективнее) группы A по конверсии, хотя по среднему чеку группы примерно равны."
   ]
  },
  {
   "cell_type": "code",
   "execution_count": null,
   "metadata": {},
   "outputs": [],
   "source": []
  }
 ],
 "metadata": {
  "ExecuteTimeLog": [
   {
    "duration": 408,
    "start_time": "2022-02-23T16:11:01.250Z"
   },
   {
    "duration": 1520,
    "start_time": "2022-02-23T16:11:04.225Z"
   },
   {
    "duration": 37,
    "start_time": "2022-02-23T16:11:07.876Z"
   },
   {
    "duration": 24,
    "start_time": "2022-02-23T16:14:17.633Z"
   },
   {
    "duration": 16,
    "start_time": "2022-02-23T16:14:31.667Z"
   },
   {
    "duration": 17,
    "start_time": "2022-02-23T16:14:45.232Z"
   },
   {
    "duration": 123,
    "start_time": "2022-02-23T16:16:04.381Z"
   },
   {
    "duration": 452,
    "start_time": "2022-02-23T16:23:20.253Z"
   },
   {
    "duration": 45,
    "start_time": "2022-02-23T16:23:39.841Z"
   },
   {
    "duration": 524,
    "start_time": "2022-02-23T16:24:00.663Z"
   },
   {
    "duration": 31,
    "start_time": "2022-02-23T16:25:10.482Z"
   },
   {
    "duration": 17,
    "start_time": "2022-02-23T16:25:49.434Z"
   },
   {
    "duration": 11,
    "start_time": "2022-02-23T16:26:00.452Z"
   },
   {
    "duration": 25,
    "start_time": "2022-02-23T16:26:52.161Z"
   },
   {
    "duration": 27,
    "start_time": "2022-02-23T16:27:48.486Z"
   },
   {
    "duration": 1566,
    "start_time": "2022-02-23T16:27:52.991Z"
   },
   {
    "duration": 1701,
    "start_time": "2022-02-23T16:29:14.540Z"
   },
   {
    "duration": 16,
    "start_time": "2022-02-23T16:34:41.570Z"
   },
   {
    "duration": 1764,
    "start_time": "2022-02-23T16:35:13.794Z"
   },
   {
    "duration": 101,
    "start_time": "2022-02-23T16:35:15.561Z"
   },
   {
    "duration": 20,
    "start_time": "2022-02-23T16:35:15.666Z"
   },
   {
    "duration": 14,
    "start_time": "2022-02-23T16:35:15.689Z"
   },
   {
    "duration": 27,
    "start_time": "2022-02-23T16:35:15.706Z"
   },
   {
    "duration": 60,
    "start_time": "2022-02-23T16:35:15.736Z"
   },
   {
    "duration": 16,
    "start_time": "2022-02-23T16:35:15.799Z"
   },
   {
    "duration": 14,
    "start_time": "2022-02-23T16:35:15.820Z"
   },
   {
    "duration": 31,
    "start_time": "2022-02-23T16:35:15.837Z"
   },
   {
    "duration": 7453,
    "start_time": "2022-02-23T16:35:15.872Z"
   },
   {
    "duration": 569,
    "start_time": "2022-02-23T16:35:22.760Z"
   },
   {
    "duration": 9,
    "start_time": "2022-02-23T16:35:45.414Z"
   },
   {
    "duration": 12,
    "start_time": "2022-02-23T16:36:05.197Z"
   },
   {
    "duration": 1626,
    "start_time": "2022-02-23T16:37:05.903Z"
   },
   {
    "duration": 42,
    "start_time": "2022-02-23T16:37:18.151Z"
   },
   {
    "duration": 45,
    "start_time": "2022-02-23T16:37:50.971Z"
   },
   {
    "duration": 10,
    "start_time": "2022-02-23T16:38:22.228Z"
   },
   {
    "duration": 8,
    "start_time": "2022-02-23T16:39:05.372Z"
   },
   {
    "duration": 715,
    "start_time": "2022-02-23T16:40:16.771Z"
   },
   {
    "duration": 479,
    "start_time": "2022-02-23T16:40:44.745Z"
   },
   {
    "duration": 633,
    "start_time": "2022-02-23T16:43:22.935Z"
   },
   {
    "duration": 286,
    "start_time": "2022-03-01T08:00:38.689Z"
   },
   {
    "duration": 1109,
    "start_time": "2022-03-01T08:01:04.610Z"
   },
   {
    "duration": 33,
    "start_time": "2022-03-01T08:01:05.721Z"
   },
   {
    "duration": 11,
    "start_time": "2022-03-01T08:01:05.756Z"
   },
   {
    "duration": 9,
    "start_time": "2022-03-01T08:01:05.769Z"
   },
   {
    "duration": 9,
    "start_time": "2022-03-01T08:01:05.780Z"
   },
   {
    "duration": 46,
    "start_time": "2022-03-01T08:01:05.791Z"
   },
   {
    "duration": 7,
    "start_time": "2022-03-01T08:01:05.839Z"
   },
   {
    "duration": 5,
    "start_time": "2022-03-01T08:01:05.848Z"
   },
   {
    "duration": 12,
    "start_time": "2022-03-01T08:01:05.855Z"
   },
   {
    "duration": 6,
    "start_time": "2022-03-01T08:01:05.869Z"
   },
   {
    "duration": 4,
    "start_time": "2022-03-01T08:01:05.877Z"
   },
   {
    "duration": 6,
    "start_time": "2022-03-01T08:01:05.883Z"
   },
   {
    "duration": 5,
    "start_time": "2022-03-01T08:01:05.890Z"
   },
   {
    "duration": 331,
    "start_time": "2022-03-01T08:01:05.897Z"
   },
   {
    "duration": 240,
    "start_time": "2022-03-01T08:01:06.230Z"
   },
   {
    "duration": 231,
    "start_time": "2022-03-01T08:01:06.472Z"
   },
   {
    "duration": 14,
    "start_time": "2022-03-01T08:01:06.704Z"
   },
   {
    "duration": 15,
    "start_time": "2022-03-01T08:04:13.805Z"
   },
   {
    "duration": 1455,
    "start_time": "2022-03-09T07:40:02.687Z"
   },
   {
    "duration": 30,
    "start_time": "2022-03-09T07:40:04.145Z"
   },
   {
    "duration": 17,
    "start_time": "2022-03-09T07:40:04.184Z"
   },
   {
    "duration": 15,
    "start_time": "2022-03-09T07:40:04.204Z"
   },
   {
    "duration": 15,
    "start_time": "2022-03-09T07:40:04.221Z"
   },
   {
    "duration": 56,
    "start_time": "2022-03-09T07:40:04.238Z"
   },
   {
    "duration": 11,
    "start_time": "2022-03-09T07:40:04.298Z"
   },
   {
    "duration": 10,
    "start_time": "2022-03-09T07:40:04.311Z"
   },
   {
    "duration": 21,
    "start_time": "2022-03-09T07:40:04.323Z"
   },
   {
    "duration": 36,
    "start_time": "2022-03-09T07:40:04.346Z"
   },
   {
    "duration": 7,
    "start_time": "2022-03-09T07:40:04.385Z"
   },
   {
    "duration": 9,
    "start_time": "2022-03-09T07:40:04.395Z"
   },
   {
    "duration": 7,
    "start_time": "2022-03-09T07:40:04.407Z"
   },
   {
    "duration": 610,
    "start_time": "2022-03-09T07:40:04.416Z"
   },
   {
    "duration": 429,
    "start_time": "2022-03-09T07:40:05.029Z"
   },
   {
    "duration": 417,
    "start_time": "2022-03-09T07:40:05.460Z"
   },
   {
    "duration": 25,
    "start_time": "2022-03-09T07:40:05.883Z"
   },
   {
    "duration": 438,
    "start_time": "2022-03-09T07:40:05.911Z"
   },
   {
    "duration": 478,
    "start_time": "2022-03-09T07:43:07.919Z"
   },
   {
    "duration": 524,
    "start_time": "2022-03-09T07:45:48.139Z"
   },
   {
    "duration": 432,
    "start_time": "2022-03-09T07:50:11.279Z"
   },
   {
    "duration": 490,
    "start_time": "2022-03-09T07:59:57.605Z"
   },
   {
    "duration": 424,
    "start_time": "2022-03-09T08:00:19.761Z"
   },
   {
    "duration": 527,
    "start_time": "2022-03-09T08:00:31.841Z"
   },
   {
    "duration": 502,
    "start_time": "2022-03-09T08:07:13.089Z"
   },
   {
    "duration": 205,
    "start_time": "2022-03-09T08:07:36.179Z"
   },
   {
    "duration": 454,
    "start_time": "2022-03-09T08:07:53.581Z"
   },
   {
    "duration": 6,
    "start_time": "2022-03-09T08:09:50.980Z"
   },
   {
    "duration": 6,
    "start_time": "2022-03-09T08:10:42.027Z"
   },
   {
    "duration": 496,
    "start_time": "2022-03-09T08:11:52.548Z"
   },
   {
    "duration": 484,
    "start_time": "2022-03-09T08:13:09.574Z"
   },
   {
    "duration": 6,
    "start_time": "2022-03-09T08:15:18.080Z"
   },
   {
    "duration": 402,
    "start_time": "2022-03-09T08:17:12.164Z"
   },
   {
    "duration": 47,
    "start_time": "2022-03-09T08:17:40.078Z"
   },
   {
    "duration": 223,
    "start_time": "2022-03-09T08:18:38.371Z"
   },
   {
    "duration": 232,
    "start_time": "2022-03-09T08:18:46.591Z"
   },
   {
    "duration": 15,
    "start_time": "2022-03-09T08:21:02.344Z"
   },
   {
    "duration": 14,
    "start_time": "2022-03-09T08:22:37.339Z"
   },
   {
    "duration": 15,
    "start_time": "2022-03-09T08:22:54.703Z"
   },
   {
    "duration": 12,
    "start_time": "2022-03-09T08:24:02.013Z"
   },
   {
    "duration": 11,
    "start_time": "2022-03-09T08:25:17.916Z"
   },
   {
    "duration": 11,
    "start_time": "2022-03-09T08:25:25.009Z"
   },
   {
    "duration": 20,
    "start_time": "2022-03-09T08:28:03.759Z"
   },
   {
    "duration": 1385,
    "start_time": "2022-03-09T08:34:19.183Z"
   },
   {
    "duration": 25,
    "start_time": "2022-03-09T08:34:20.575Z"
   },
   {
    "duration": 24,
    "start_time": "2022-03-09T08:34:20.603Z"
   },
   {
    "duration": 14,
    "start_time": "2022-03-09T08:34:20.630Z"
   },
   {
    "duration": 44,
    "start_time": "2022-03-09T08:34:20.646Z"
   },
   {
    "duration": 29,
    "start_time": "2022-03-09T08:34:20.693Z"
   },
   {
    "duration": 11,
    "start_time": "2022-03-09T08:34:20.724Z"
   },
   {
    "duration": 11,
    "start_time": "2022-03-09T08:34:20.740Z"
   },
   {
    "duration": 39,
    "start_time": "2022-03-09T08:34:20.754Z"
   },
   {
    "duration": 8,
    "start_time": "2022-03-09T08:34:20.795Z"
   },
   {
    "duration": 28,
    "start_time": "2022-03-09T08:34:20.806Z"
   },
   {
    "duration": 21,
    "start_time": "2022-03-09T08:34:20.836Z"
   },
   {
    "duration": 10,
    "start_time": "2022-03-09T08:34:20.859Z"
   },
   {
    "duration": 579,
    "start_time": "2022-03-09T08:34:20.871Z"
   },
   {
    "duration": 436,
    "start_time": "2022-03-09T08:34:21.453Z"
   },
   {
    "duration": 440,
    "start_time": "2022-03-09T08:34:21.892Z"
   },
   {
    "duration": 25,
    "start_time": "2022-03-09T08:34:22.335Z"
   },
   {
    "duration": 541,
    "start_time": "2022-03-09T08:34:22.362Z"
   },
   {
    "duration": 465,
    "start_time": "2022-03-09T08:34:22.905Z"
   },
   {
    "duration": 547,
    "start_time": "2022-03-09T08:34:23.372Z"
   },
   {
    "duration": 233,
    "start_time": "2022-03-09T08:34:23.922Z"
   },
   {
    "duration": 504,
    "start_time": "2022-03-09T08:34:24.157Z"
   },
   {
    "duration": 18,
    "start_time": "2022-03-09T08:34:24.664Z"
   },
   {
    "duration": 8,
    "start_time": "2022-03-09T08:34:24.685Z"
   },
   {
    "duration": 604,
    "start_time": "2022-03-09T08:34:24.696Z"
   },
   {
    "duration": 502,
    "start_time": "2022-03-09T08:34:25.307Z"
   },
   {
    "duration": 7,
    "start_time": "2022-03-09T08:34:25.812Z"
   },
   {
    "duration": 417,
    "start_time": "2022-03-09T08:34:25.822Z"
   },
   {
    "duration": 65,
    "start_time": "2022-03-09T08:34:26.241Z"
   },
   {
    "duration": 311,
    "start_time": "2022-03-09T08:34:26.309Z"
   },
   {
    "duration": 16,
    "start_time": "2022-03-09T08:34:26.623Z"
   },
   {
    "duration": 42,
    "start_time": "2022-03-09T08:34:26.641Z"
   },
   {
    "duration": 12,
    "start_time": "2022-03-09T08:34:26.685Z"
   },
   {
    "duration": 19,
    "start_time": "2022-03-09T08:34:26.699Z"
   },
   {
    "duration": 21,
    "start_time": "2022-03-09T08:34:26.721Z"
   },
   {
    "duration": 1133,
    "start_time": "2022-03-10T05:45:30.027Z"
   },
   {
    "duration": 25,
    "start_time": "2022-03-10T05:45:31.162Z"
   },
   {
    "duration": 12,
    "start_time": "2022-03-10T05:45:31.190Z"
   },
   {
    "duration": 10,
    "start_time": "2022-03-10T05:45:31.204Z"
   },
   {
    "duration": 23,
    "start_time": "2022-03-10T05:45:31.215Z"
   },
   {
    "duration": 29,
    "start_time": "2022-03-10T05:45:31.240Z"
   },
   {
    "duration": 8,
    "start_time": "2022-03-10T05:45:31.270Z"
   },
   {
    "duration": 14,
    "start_time": "2022-03-10T05:45:31.281Z"
   },
   {
    "duration": 18,
    "start_time": "2022-03-10T05:45:31.298Z"
   },
   {
    "duration": 7,
    "start_time": "2022-03-10T05:45:31.318Z"
   },
   {
    "duration": 9,
    "start_time": "2022-03-10T05:45:31.327Z"
   },
   {
    "duration": 7,
    "start_time": "2022-03-10T05:45:31.338Z"
   },
   {
    "duration": 6,
    "start_time": "2022-03-10T05:45:31.347Z"
   },
   {
    "duration": 368,
    "start_time": "2022-03-10T05:45:31.355Z"
   },
   {
    "duration": 263,
    "start_time": "2022-03-10T05:45:31.725Z"
   },
   {
    "duration": 254,
    "start_time": "2022-03-10T05:45:31.990Z"
   },
   {
    "duration": 16,
    "start_time": "2022-03-10T05:45:32.246Z"
   },
   {
    "duration": 349,
    "start_time": "2022-03-10T05:45:32.264Z"
   },
   {
    "duration": 272,
    "start_time": "2022-03-10T05:45:32.615Z"
   },
   {
    "duration": 357,
    "start_time": "2022-03-10T05:45:32.889Z"
   },
   {
    "duration": 122,
    "start_time": "2022-03-10T05:45:33.247Z"
   },
   {
    "duration": 321,
    "start_time": "2022-03-10T05:45:33.371Z"
   },
   {
    "duration": 4,
    "start_time": "2022-03-10T05:45:33.695Z"
   },
   {
    "duration": 10,
    "start_time": "2022-03-10T05:45:33.700Z"
   },
   {
    "duration": 394,
    "start_time": "2022-03-10T05:45:33.711Z"
   },
   {
    "duration": 387,
    "start_time": "2022-03-10T05:45:34.106Z"
   },
   {
    "duration": 4,
    "start_time": "2022-03-10T05:45:34.495Z"
   },
   {
    "duration": 245,
    "start_time": "2022-03-10T05:45:34.500Z"
   },
   {
    "duration": 28,
    "start_time": "2022-03-10T05:45:34.747Z"
   },
   {
    "duration": 137,
    "start_time": "2022-03-10T05:45:34.777Z"
   },
   {
    "duration": 23,
    "start_time": "2022-03-10T05:45:34.915Z"
   },
   {
    "duration": 8,
    "start_time": "2022-03-10T05:45:34.940Z"
   },
   {
    "duration": 9,
    "start_time": "2022-03-10T05:45:34.950Z"
   },
   {
    "duration": 10,
    "start_time": "2022-03-10T05:45:34.961Z"
   },
   {
    "duration": 14,
    "start_time": "2022-03-10T05:45:34.973Z"
   },
   {
    "duration": 1099,
    "start_time": "2022-03-10T05:50:32.928Z"
   },
   {
    "duration": 20,
    "start_time": "2022-03-10T05:50:34.029Z"
   },
   {
    "duration": 11,
    "start_time": "2022-03-10T05:50:34.054Z"
   },
   {
    "duration": 9,
    "start_time": "2022-03-10T05:50:34.067Z"
   },
   {
    "duration": 11,
    "start_time": "2022-03-10T05:50:34.078Z"
   },
   {
    "duration": 28,
    "start_time": "2022-03-10T05:50:34.090Z"
   },
   {
    "duration": 18,
    "start_time": "2022-03-10T05:50:34.120Z"
   },
   {
    "duration": 6,
    "start_time": "2022-03-10T05:50:34.140Z"
   },
   {
    "duration": 14,
    "start_time": "2022-03-10T05:50:34.147Z"
   },
   {
    "duration": 16,
    "start_time": "2022-03-10T05:50:34.162Z"
   },
   {
    "duration": 9,
    "start_time": "2022-03-10T05:50:34.180Z"
   },
   {
    "duration": 7,
    "start_time": "2022-03-10T05:50:34.190Z"
   },
   {
    "duration": 6,
    "start_time": "2022-03-10T05:50:34.198Z"
   },
   {
    "duration": 364,
    "start_time": "2022-03-10T05:50:34.205Z"
   },
   {
    "duration": 257,
    "start_time": "2022-03-10T05:50:34.570Z"
   },
   {
    "duration": 256,
    "start_time": "2022-03-10T05:50:34.829Z"
   },
   {
    "duration": 15,
    "start_time": "2022-03-10T05:50:35.086Z"
   },
   {
    "duration": 379,
    "start_time": "2022-03-10T05:50:35.103Z"
   },
   {
    "duration": 262,
    "start_time": "2022-03-10T05:50:35.484Z"
   },
   {
    "duration": 351,
    "start_time": "2022-03-10T05:50:35.747Z"
   },
   {
    "duration": 104,
    "start_time": "2022-03-10T05:50:36.099Z"
   },
   {
    "duration": 346,
    "start_time": "2022-03-10T05:50:36.206Z"
   },
   {
    "duration": 4,
    "start_time": "2022-03-10T05:50:36.554Z"
   },
   {
    "duration": 9,
    "start_time": "2022-03-10T05:50:36.559Z"
   },
   {
    "duration": 407,
    "start_time": "2022-03-10T05:50:36.569Z"
   },
   {
    "duration": 321,
    "start_time": "2022-03-10T05:50:36.978Z"
   },
   {
    "duration": 4,
    "start_time": "2022-03-10T05:50:37.301Z"
   },
   {
    "duration": 245,
    "start_time": "2022-03-10T05:50:37.306Z"
   },
   {
    "duration": 31,
    "start_time": "2022-03-10T05:50:37.553Z"
   },
   {
    "duration": 128,
    "start_time": "2022-03-10T05:50:37.586Z"
   },
   {
    "duration": 21,
    "start_time": "2022-03-10T05:50:37.716Z"
   },
   {
    "duration": 9,
    "start_time": "2022-03-10T05:50:37.739Z"
   },
   {
    "duration": 6,
    "start_time": "2022-03-10T05:50:37.750Z"
   },
   {
    "duration": 13,
    "start_time": "2022-03-10T05:50:37.758Z"
   },
   {
    "duration": 13,
    "start_time": "2022-03-10T05:50:37.773Z"
   },
   {
    "duration": 1756,
    "start_time": "2022-03-10T17:27:34.318Z"
   },
   {
    "duration": 45,
    "start_time": "2022-03-10T17:27:36.078Z"
   },
   {
    "duration": 18,
    "start_time": "2022-03-10T17:27:36.126Z"
   },
   {
    "duration": 16,
    "start_time": "2022-03-10T17:27:36.147Z"
   },
   {
    "duration": 16,
    "start_time": "2022-03-10T17:27:36.187Z"
   },
   {
    "duration": 43,
    "start_time": "2022-03-10T17:27:36.205Z"
   },
   {
    "duration": 12,
    "start_time": "2022-03-10T17:27:36.250Z"
   },
   {
    "duration": 24,
    "start_time": "2022-03-10T17:27:36.268Z"
   },
   {
    "duration": 21,
    "start_time": "2022-03-10T17:27:36.295Z"
   },
   {
    "duration": 13,
    "start_time": "2022-03-10T17:27:36.319Z"
   },
   {
    "duration": 8,
    "start_time": "2022-03-10T17:27:36.334Z"
   },
   {
    "duration": 44,
    "start_time": "2022-03-10T17:27:36.344Z"
   },
   {
    "duration": 6,
    "start_time": "2022-03-10T17:27:36.391Z"
   },
   {
    "duration": 715,
    "start_time": "2022-03-10T17:27:36.400Z"
   },
   {
    "duration": 662,
    "start_time": "2022-03-10T17:27:37.118Z"
   },
   {
    "duration": 622,
    "start_time": "2022-03-10T17:27:37.783Z"
   },
   {
    "duration": 24,
    "start_time": "2022-03-10T17:27:38.408Z"
   },
   {
    "duration": 690,
    "start_time": "2022-03-10T17:27:38.435Z"
   },
   {
    "duration": 506,
    "start_time": "2022-03-10T17:27:39.128Z"
   },
   {
    "duration": 594,
    "start_time": "2022-03-10T17:27:39.636Z"
   },
   {
    "duration": 235,
    "start_time": "2022-03-10T17:27:40.232Z"
   },
   {
    "duration": 509,
    "start_time": "2022-03-10T17:27:40.469Z"
   },
   {
    "duration": 7,
    "start_time": "2022-03-10T17:27:40.990Z"
   },
   {
    "duration": 13,
    "start_time": "2022-03-10T17:27:41.000Z"
   },
   {
    "duration": 617,
    "start_time": "2022-03-10T17:27:41.016Z"
   },
   {
    "duration": 740,
    "start_time": "2022-03-10T17:27:41.636Z"
   },
   {
    "duration": 18,
    "start_time": "2022-03-10T17:27:42.379Z"
   },
   {
    "duration": 423,
    "start_time": "2022-03-10T17:27:42.400Z"
   },
   {
    "duration": 65,
    "start_time": "2022-03-10T17:27:42.826Z"
   },
   {
    "duration": 230,
    "start_time": "2022-03-10T17:27:42.894Z"
   },
   {
    "duration": 15,
    "start_time": "2022-03-10T17:27:43.126Z"
   },
   {
    "duration": 14,
    "start_time": "2022-03-10T17:27:43.144Z"
   },
   {
    "duration": 13,
    "start_time": "2022-03-10T17:27:43.188Z"
   },
   {
    "duration": 14,
    "start_time": "2022-03-10T17:27:43.203Z"
   },
   {
    "duration": 23,
    "start_time": "2022-03-10T17:27:43.220Z"
   },
   {
    "duration": 32,
    "start_time": "2022-03-10T17:34:16.282Z"
   },
   {
    "duration": 358,
    "start_time": "2022-03-16T07:11:30.873Z"
   },
   {
    "duration": 1358,
    "start_time": "2022-03-16T07:11:37.077Z"
   },
   {
    "duration": 39,
    "start_time": "2022-03-16T07:11:38.437Z"
   },
   {
    "duration": 14,
    "start_time": "2022-03-16T07:11:38.478Z"
   },
   {
    "duration": 12,
    "start_time": "2022-03-16T07:11:38.493Z"
   },
   {
    "duration": 11,
    "start_time": "2022-03-16T07:11:38.507Z"
   },
   {
    "duration": 57,
    "start_time": "2022-03-16T07:11:38.520Z"
   },
   {
    "duration": 8,
    "start_time": "2022-03-16T07:11:38.579Z"
   },
   {
    "duration": 6,
    "start_time": "2022-03-16T07:11:38.589Z"
   },
   {
    "duration": 12,
    "start_time": "2022-03-16T07:11:38.597Z"
   },
   {
    "duration": 6,
    "start_time": "2022-03-16T07:11:38.610Z"
   },
   {
    "duration": 4,
    "start_time": "2022-03-16T07:11:38.617Z"
   },
   {
    "duration": 6,
    "start_time": "2022-03-16T07:11:38.623Z"
   },
   {
    "duration": 4,
    "start_time": "2022-03-16T07:11:38.630Z"
   },
   {
    "duration": 16,
    "start_time": "2022-03-16T07:11:38.635Z"
   },
   {
    "duration": 331,
    "start_time": "2022-03-16T07:11:38.652Z"
   },
   {
    "duration": -113,
    "start_time": "2022-03-16T07:11:39.098Z"
   },
   {
    "duration": -115,
    "start_time": "2022-03-16T07:11:39.101Z"
   },
   {
    "duration": -117,
    "start_time": "2022-03-16T07:11:39.104Z"
   },
   {
    "duration": -119,
    "start_time": "2022-03-16T07:11:39.106Z"
   },
   {
    "duration": -121,
    "start_time": "2022-03-16T07:11:39.109Z"
   },
   {
    "duration": -124,
    "start_time": "2022-03-16T07:11:39.113Z"
   },
   {
    "duration": -125,
    "start_time": "2022-03-16T07:11:39.115Z"
   },
   {
    "duration": -127,
    "start_time": "2022-03-16T07:11:39.118Z"
   },
   {
    "duration": -130,
    "start_time": "2022-03-16T07:11:39.121Z"
   },
   {
    "duration": -132,
    "start_time": "2022-03-16T07:11:39.124Z"
   },
   {
    "duration": -134,
    "start_time": "2022-03-16T07:11:39.127Z"
   },
   {
    "duration": -136,
    "start_time": "2022-03-16T07:11:39.130Z"
   },
   {
    "duration": -139,
    "start_time": "2022-03-16T07:11:39.133Z"
   },
   {
    "duration": -141,
    "start_time": "2022-03-16T07:11:39.136Z"
   },
   {
    "duration": -143,
    "start_time": "2022-03-16T07:11:39.139Z"
   },
   {
    "duration": -149,
    "start_time": "2022-03-16T07:11:39.146Z"
   },
   {
    "duration": -151,
    "start_time": "2022-03-16T07:11:39.149Z"
   },
   {
    "duration": -154,
    "start_time": "2022-03-16T07:11:39.152Z"
   },
   {
    "duration": -155,
    "start_time": "2022-03-16T07:11:39.154Z"
   },
   {
    "duration": -157,
    "start_time": "2022-03-16T07:11:39.157Z"
   },
   {
    "duration": -159,
    "start_time": "2022-03-16T07:11:39.160Z"
   },
   {
    "duration": -162,
    "start_time": "2022-03-16T07:11:39.163Z"
   },
   {
    "duration": 168,
    "start_time": "2022-03-16T07:16:29.140Z"
   },
   {
    "duration": 4,
    "start_time": "2022-03-16T07:17:07.271Z"
   },
   {
    "duration": 4,
    "start_time": "2022-03-16T07:19:15.179Z"
   },
   {
    "duration": 9,
    "start_time": "2022-03-16T07:28:51.484Z"
   },
   {
    "duration": 4,
    "start_time": "2022-03-16T07:29:57.458Z"
   },
   {
    "duration": 1003,
    "start_time": "2022-03-17T03:30:44.961Z"
   },
   {
    "duration": 24,
    "start_time": "2022-03-17T03:30:45.965Z"
   },
   {
    "duration": 12,
    "start_time": "2022-03-17T03:30:45.991Z"
   },
   {
    "duration": 10,
    "start_time": "2022-03-17T03:30:46.004Z"
   },
   {
    "duration": 12,
    "start_time": "2022-03-17T03:30:46.015Z"
   },
   {
    "duration": 54,
    "start_time": "2022-03-17T03:30:46.029Z"
   },
   {
    "duration": 15,
    "start_time": "2022-03-17T03:30:46.085Z"
   },
   {
    "duration": 5,
    "start_time": "2022-03-17T03:30:46.103Z"
   },
   {
    "duration": 11,
    "start_time": "2022-03-17T03:30:46.110Z"
   },
   {
    "duration": 7,
    "start_time": "2022-03-17T03:30:46.123Z"
   },
   {
    "duration": 8,
    "start_time": "2022-03-17T03:30:46.132Z"
   },
   {
    "duration": 7,
    "start_time": "2022-03-17T03:30:46.142Z"
   },
   {
    "duration": 7,
    "start_time": "2022-03-17T03:30:46.151Z"
   },
   {
    "duration": 188,
    "start_time": "2022-03-17T03:30:46.159Z"
   },
   {
    "duration": 4,
    "start_time": "2022-03-17T03:30:46.348Z"
   },
   {
    "duration": 9,
    "start_time": "2022-03-17T03:30:46.353Z"
   },
   {
    "duration": 339,
    "start_time": "2022-03-17T03:30:46.363Z"
   },
   {
    "duration": 246,
    "start_time": "2022-03-17T03:30:46.704Z"
   },
   {
    "duration": 229,
    "start_time": "2022-03-17T03:30:46.951Z"
   },
   {
    "duration": 21,
    "start_time": "2022-03-17T03:30:47.181Z"
   },
   {
    "duration": 340,
    "start_time": "2022-03-17T03:30:47.204Z"
   },
   {
    "duration": 244,
    "start_time": "2022-03-17T03:30:47.546Z"
   },
   {
    "duration": 343,
    "start_time": "2022-03-17T03:30:47.793Z"
   },
   {
    "duration": 114,
    "start_time": "2022-03-17T03:30:48.138Z"
   },
   {
    "duration": 301,
    "start_time": "2022-03-17T03:30:48.254Z"
   },
   {
    "duration": 3,
    "start_time": "2022-03-17T03:30:48.557Z"
   },
   {
    "duration": 6,
    "start_time": "2022-03-17T03:30:48.562Z"
   },
   {
    "duration": 357,
    "start_time": "2022-03-17T03:30:48.569Z"
   },
   {
    "duration": 402,
    "start_time": "2022-03-17T03:30:48.927Z"
   },
   {
    "duration": 4,
    "start_time": "2022-03-17T03:30:49.331Z"
   },
   {
    "duration": 239,
    "start_time": "2022-03-17T03:30:49.336Z"
   },
   {
    "duration": 31,
    "start_time": "2022-03-17T03:30:49.576Z"
   },
   {
    "duration": 118,
    "start_time": "2022-03-17T03:30:49.608Z"
   },
   {
    "duration": 8,
    "start_time": "2022-03-17T03:30:49.728Z"
   },
   {
    "duration": 8,
    "start_time": "2022-03-17T03:30:49.737Z"
   },
   {
    "duration": 6,
    "start_time": "2022-03-17T03:30:49.747Z"
   },
   {
    "duration": 6,
    "start_time": "2022-03-17T03:30:49.755Z"
   },
   {
    "duration": 12,
    "start_time": "2022-03-17T03:30:49.762Z"
   }
  ],
  "kernelspec": {
   "display_name": "Python 3 (ipykernel)",
   "language": "python",
   "name": "python3"
  },
  "language_info": {
   "codemirror_mode": {
    "name": "ipython",
    "version": 3
   },
   "file_extension": ".py",
   "mimetype": "text/x-python",
   "name": "python",
   "nbconvert_exporter": "python",
   "pygments_lexer": "ipython3",
   "version": "3.7.8"
  },
  "toc": {
   "base_numbering": 1,
   "nav_menu": {},
   "number_sections": false,
   "sideBar": true,
   "skip_h1_title": true,
   "title_cell": "План работы",
   "title_sidebar": "Contents",
   "toc_cell": true,
   "toc_position": {
    "height": "calc(100% - 180px)",
    "left": "10px",
    "top": "150px",
    "width": "286.875px"
   },
   "toc_section_display": true,
   "toc_window_display": false
  }
 },
 "nbformat": 4,
 "nbformat_minor": 2
}
