{
 "cells": [
  {
   "cell_type": "markdown",
   "id": "6f5bd14f",
   "metadata": {
    "toc": true
   },
   "source": [
    "<h1>План работы<span class=\"tocSkip\"></span></h1>\n",
    "<div class=\"toc\"><ul class=\"toc-item\"><li><span><a href=\"#Описание-задачи\" data-toc-modified-id=\"Описание-задачи-1\"><span class=\"toc-item-num\">1&nbsp;&nbsp;</span>Описание задачи</a></span></li><li><span><a href=\"#Описание-данных\" data-toc-modified-id=\"Описание-данных-2\"><span class=\"toc-item-num\">2&nbsp;&nbsp;</span>Описание данных</a></span></li><li><span><a href=\"#Знакомство-с-данными-и-предобработка\" data-toc-modified-id=\"Знакомство-с-данными-и-предобработка-3\"><span class=\"toc-item-num\">3&nbsp;&nbsp;</span>Знакомство с данными и предобработка</a></span></li><li><span><a href=\"#Исследовательский-анализ-данных\" data-toc-modified-id=\"Исследовательский-анализ-данных-4\"><span class=\"toc-item-num\">4&nbsp;&nbsp;</span>Исследовательский анализ данных</a></span><ul class=\"toc-item\"><li><span><a href=\"#Вывод-по-шагу\" data-toc-modified-id=\"Вывод-по-шагу-4.1\"><span class=\"toc-item-num\">4.1&nbsp;&nbsp;</span>Вывод по шагу</a></span></li></ul></li><li><span><a href=\"#Сегментация-пользователей-банка\" data-toc-modified-id=\"Сегментация-пользователей-банка-5\"><span class=\"toc-item-num\">5&nbsp;&nbsp;</span>Сегментация пользователей банка</a></span><ul class=\"toc-item\"><li><span><a href=\"#Сегментация-ушедших-клиентов-по-потребляемым-продуктам-в-Ярославле\" data-toc-modified-id=\"Сегментация-ушедших-клиентов-по-потребляемым-продуктам-в-Ярославле-5.1\"><span class=\"toc-item-num\">5.1&nbsp;&nbsp;</span>Сегментация ушедших клиентов по потребляемым продуктам в Ярославле</a></span></li><li><span><a href=\"#Сегментация-оставшихся-клиентов-по-потребляемым-продуктам-в-Ярославле\" data-toc-modified-id=\"Сегментация-оставшихся-клиентов-по-потребляемым-продуктам-в-Ярославле-5.2\"><span class=\"toc-item-num\">5.2&nbsp;&nbsp;</span>Сегментация оставшихся клиентов по потребляемым продуктам в Ярославле</a></span></li><li><span><a href=\"#Сегментация-ушедших-клиентов-по-потребляемым-продуктам-в-Рыбинске\" data-toc-modified-id=\"Сегментация-ушедших-клиентов-по-потребляемым-продуктам-в-Рыбинске-5.3\"><span class=\"toc-item-num\">5.3&nbsp;&nbsp;</span>Сегментация ушедших клиентов по потребляемым продуктам в Рыбинске</a></span></li><li><span><a href=\"#Сегментация-оставшихся-клиентов-по-потребляемым-продуктам-в-Рыбинске\" data-toc-modified-id=\"Сегментация-оставшихся-клиентов-по-потребляемым-продуктам-в-Рыбинске-5.4\"><span class=\"toc-item-num\">5.4&nbsp;&nbsp;</span>Сегментация оставшихся клиентов по потребляемым продуктам в Рыбинске</a></span></li><li><span><a href=\"#Сегментация-ушедших-клиентов-по-потребляемым-продуктам-в-Ростове-Великом\" data-toc-modified-id=\"Сегментация-ушедших-клиентов-по-потребляемым-продуктам-в-Ростове-Великом-5.5\"><span class=\"toc-item-num\">5.5&nbsp;&nbsp;</span>Сегментация ушедших клиентов по потребляемым продуктам в Ростове Великом</a></span></li><li><span><a href=\"#Сегментация-оставшихся-клиентов-по-потребляемым-продуктам-в-Ростове-Великом\" data-toc-modified-id=\"Сегментация-оставшихся-клиентов-по-потребляемым-продуктам-в-Ростове-Великом-5.6\"><span class=\"toc-item-num\">5.6&nbsp;&nbsp;</span>Сегментация оставшихся клиентов по потребляемым продуктам в Ростове Великом</a></span></li><li><span><a href=\"#Вывод-по-шагу\" data-toc-modified-id=\"Вывод-по-шагу-5.7\"><span class=\"toc-item-num\">5.7&nbsp;&nbsp;</span>Вывод по шагу</a></span></li></ul></li><li><span><a href=\"#Проверка-гипотез\" data-toc-modified-id=\"Проверка-гипотез-6\"><span class=\"toc-item-num\">6&nbsp;&nbsp;</span>Проверка гипотез</a></span><ul class=\"toc-item\"><li><span><a href=\"#1-гипотеза\" data-toc-modified-id=\"1-гипотеза-6.1\"><span class=\"toc-item-num\">6.1&nbsp;&nbsp;</span>1 гипотеза</a></span></li><li><span><a href=\"#2-гипотеза\" data-toc-modified-id=\"2-гипотеза-6.2\"><span class=\"toc-item-num\">6.2&nbsp;&nbsp;</span>2 гипотеза</a></span></li><li><span><a href=\"#Вывод-по-шагу\" data-toc-modified-id=\"Вывод-по-шагу-6.3\"><span class=\"toc-item-num\">6.3&nbsp;&nbsp;</span>Вывод по шагу</a></span></li></ul></li><li><span><a href=\"#Выводы-и-рекомендации\" data-toc-modified-id=\"Выводы-и-рекомендации-7\"><span class=\"toc-item-num\">7&nbsp;&nbsp;</span>Выводы и рекомендации</a></span><ul class=\"toc-item\"><li><span><a href=\"#Выводы,-сделанные-в-результате-исследовательского-анализа-данных\" data-toc-modified-id=\"Выводы,-сделанные-в-результате-исследовательского-анализа-данных-7.1\"><span class=\"toc-item-num\">7.1&nbsp;&nbsp;</span>Выводы, сделанные в результате исследовательского анализа данных</a></span></li><li><span><a href=\"#Портреты-оставшихся-и-ушедших-клиентов\" data-toc-modified-id=\"Портреты-оставшихся-и-ушедших-клиентов-7.2\"><span class=\"toc-item-num\">7.2&nbsp;&nbsp;</span>Портреты оставшихся и ушедших клиентов</a></span></li><li><span><a href=\"#Результаты-проверки-гипотез\" data-toc-modified-id=\"Результаты-проверки-гипотез-7.3\"><span class=\"toc-item-num\">7.3&nbsp;&nbsp;</span>Результаты проверки гипотез</a></span></li><li><span><a href=\"#Рекомендации-для-удержания-клиентов-и-возврата-ушедших-клиентов\" data-toc-modified-id=\"Рекомендации-для-удержания-клиентов-и-возврата-ушедших-клиентов-7.4\"><span class=\"toc-item-num\">7.4&nbsp;&nbsp;</span>Рекомендации для удержания клиентов и возврата ушедших клиентов</a></span></li></ul></li><li><span><a href=\"#Дашборд\" data-toc-modified-id=\"Дашборд-8\"><span class=\"toc-item-num\">8&nbsp;&nbsp;</span>Дашборд</a></span></li><li><span><a href=\"#Презентация\" data-toc-modified-id=\"Презентация-9\"><span class=\"toc-item-num\">9&nbsp;&nbsp;</span>Презентация</a></span></li></ul></div>"
   ]
  },
  {
   "cell_type": "markdown",
   "id": "14eb3c90",
   "metadata": {},
   "source": [
    "# Описание задачи"
   ]
  },
  {
   "cell_type": "markdown",
   "id": "f66f9656",
   "metadata": {},
   "source": [
    "Анализ клиентов регионального банка и сегментация пользователей по количеству потребляемых продуктов.\n",
    "* Проведение исследовательского анализа данных\n",
    "* Сегментация пользователей на основе данных о количестве потребляемых продуктов\n",
    "* Формулировка и проверка статистических гипотез\n",
    "* Представление результатов работы в виде презентации\n",
    "* Сoздание дашборда "
   ]
  },
  {
   "cell_type": "markdown",
   "id": "1671bf42",
   "metadata": {},
   "source": [
    "# Описание данных"
   ]
  },
  {
   "cell_type": "markdown",
   "id": "767e8680",
   "metadata": {},
   "source": [
    "Датасет содержит данные о клиентах банка «Метанпром». Банк располагается в Ярославле и областных городах: Ростов Великий и Рыбинск.<br>\n",
    "Колонки:<br>\n",
    "`userid` — идентификатор пользователя,<br>\n",
    "`score` — баллы кредитного скоринга,<br>\n",
    "`City` — город,<br>\n",
    "`Gender` — пол,<br>\n",
    "`Age` — возраст,<br>\n",
    "`Objects` — количество объектов в собственности,<br>\n",
    "`Balance` — баланс на счёте,<br>\n",
    "`Products` — количество продуктов, которыми пользуется клиент,<br>\n",
    "`CreditCard` — есть ли кредитная карта,<br>\n",
    "`Loyalty` — активный клиент,<br>\n",
    "`estimated_salary` — заработная плата клиента,<br>\n",
    "`Churn` — ушёл или нет.<br>"
   ]
  },
  {
   "cell_type": "markdown",
   "id": "7ba64457",
   "metadata": {},
   "source": [
    "# Знакомство с данными и предобработка"
   ]
  },
  {
   "cell_type": "code",
   "execution_count": 1,
   "id": "d29c7aeb",
   "metadata": {},
   "outputs": [],
   "source": [
    "# Загрузка библиотек\n",
    "import pandas as pd\n",
    "import matplotlib.pyplot as plt\n",
    "import seaborn as sns\n",
    "from scipy import stats as st\n",
    "import numpy as np\n",
    "from plotly import graph_objects as go\n",
    "from pandas.plotting import register_matplotlib_converters\n",
    "import warnings\n",
    "warnings.filterwarnings('ignore')"
   ]
  },
  {
   "cell_type": "code",
   "execution_count": 2,
   "id": "251fa2f1",
   "metadata": {},
   "outputs": [],
   "source": [
    "# Загрузка датасета\n",
    "try:\n",
    "    df = pd.read_csv('/datasets/bank_dataset.csv')\n",
    "except:\n",
    "    df = pd.read_csv('bank_dataset.csv')"
   ]
  },
  {
   "cell_type": "code",
   "execution_count": 3,
   "id": "904ea285",
   "metadata": {},
   "outputs": [
    {
     "name": "stdout",
     "output_type": "stream",
     "text": [
      "<class 'pandas.core.frame.DataFrame'>\n",
      "RangeIndex: 10000 entries, 0 to 9999\n",
      "Data columns (total 12 columns):\n",
      "userid              10000 non-null int64\n",
      "score               10000 non-null int64\n",
      "City                10000 non-null object\n",
      "Gender              10000 non-null object\n",
      "Age                 10000 non-null int64\n",
      "Objects             10000 non-null int64\n",
      "Balance             6383 non-null float64\n",
      "Products            10000 non-null int64\n",
      "CreditCard          10000 non-null int64\n",
      "Loyalty             10000 non-null int64\n",
      "estimated_salary    10000 non-null float64\n",
      "Churn               10000 non-null int64\n",
      "dtypes: float64(2), int64(8), object(2)\n",
      "memory usage: 937.6+ KB\n"
     ]
    }
   ],
   "source": [
    "# Размер датасета, общая информация\n",
    "df.info()"
   ]
  },
  {
   "cell_type": "markdown",
   "id": "9708f8ab",
   "metadata": {},
   "source": [
    "Датасет содержит информацию о 10000 клиентов, но лишь у 6383 из них есть дебетовая карта или счет.  Названия столбцов необходимо привести к нижнему регистру, тип данных во всех столбцах корректный."
   ]
  },
  {
   "cell_type": "markdown",
   "id": "b3326095",
   "metadata": {},
   "source": [
    "Пропуски заполнять не стоит, т.к. это может исказить данные."
   ]
  },
  {
   "cell_type": "markdown",
   "id": "104fc5ea",
   "metadata": {},
   "source": [
    "<div class='alert alert-danger'> ⛔️\n",
    "Не хватает исследования возможных причин появления пропусков. Нужно посмотреть на число пропусков в различных разрезах данных и выдвинуть релевантные гипотезы.\n"
   ]
  },
  {
   "cell_type": "markdown",
   "id": "5cec74b7",
   "metadata": {},
   "source": [
    "<div class='alert alert-info'>\n",
    "добавляю"
   ]
  },
  {
   "cell_type": "code",
   "execution_count": 4,
   "id": "ea9f3f70",
   "metadata": {},
   "outputs": [],
   "source": [
    "# Названия столбцов - строчные буквы \n",
    "df.columns = df.columns.str.lower() "
   ]
  },
  {
   "cell_type": "code",
   "execution_count": 5,
   "id": "7ff5aa56",
   "metadata": {},
   "outputs": [
    {
     "data": {
      "text/plain": [
       "churn\n",
       "0    3117\n",
       "1     500\n",
       "Name: balance, dtype: int64"
      ]
     },
     "execution_count": 5,
     "metadata": {},
     "output_type": "execute_result"
    }
   ],
   "source": [
    "df.groupby('churn')['balance'].apply(lambda x: x.isna().sum())"
   ]
  },
  {
   "cell_type": "code",
   "execution_count": 6,
   "id": "aa22114d",
   "metadata": {},
   "outputs": [
    {
     "data": {
      "text/plain": [
       "0.2037"
      ]
     },
     "execution_count": 6,
     "metadata": {},
     "output_type": "execute_result"
    }
   ],
   "source": [
    "df['churn'].mean()"
   ]
  },
  {
   "cell_type": "markdown",
   "id": "452c3c8f",
   "metadata": {},
   "source": [
    "Получается, что пропуски в основном приходятся на тех, кто остался клиентом  (соотношение 6:1). Соотношение оставшихся и ушедших клиентов при этом 5:1. Не слишком существенно."
   ]
  },
  {
   "cell_type": "code",
   "execution_count": 7,
   "id": "f0f48fb7",
   "metadata": {},
   "outputs": [
    {
     "data": {
      "text/plain": [
       "creditcard\n",
       "0    1025\n",
       "1    2592\n",
       "Name: balance, dtype: int64"
      ]
     },
     "execution_count": 7,
     "metadata": {},
     "output_type": "execute_result"
    }
   ],
   "source": [
    "df.groupby('creditcard')['balance'].apply(lambda x: x.isna().sum())"
   ]
  },
  {
   "cell_type": "code",
   "execution_count": 8,
   "id": "30cdf3a0",
   "metadata": {},
   "outputs": [
    {
     "data": {
      "text/plain": [
       "1    7055\n",
       "0    2945\n",
       "Name: creditcard, dtype: int64"
      ]
     },
     "execution_count": 8,
     "metadata": {},
     "output_type": "execute_result"
    }
   ],
   "source": [
    "df['creditcard'].value_counts()"
   ]
  },
  {
   "cell_type": "markdown",
   "id": "bfc869e8",
   "metadata": {},
   "source": [
    "Пропуски в 2,5 раза чаще встречаются для клиентов с кредитной картой, при том, что общее соотношение 3:7. Не слишком существенно."
   ]
  },
  {
   "cell_type": "code",
   "execution_count": 9,
   "id": "8edb486a",
   "metadata": {},
   "outputs": [
    {
     "data": {
      "text/plain": [
       "products\n",
       "1     905\n",
       "2    2600\n",
       "3      98\n",
       "4      14\n",
       "Name: balance, dtype: int64"
      ]
     },
     "execution_count": 9,
     "metadata": {},
     "output_type": "execute_result"
    }
   ],
   "source": [
    "df.groupby('products')['balance'].apply(lambda x: x.isna().sum())"
   ]
  },
  {
   "cell_type": "code",
   "execution_count": 10,
   "id": "c091468a",
   "metadata": {},
   "outputs": [
    {
     "data": {
      "text/plain": [
       "1    5084\n",
       "2    4590\n",
       "3     266\n",
       "4      60\n",
       "Name: products, dtype: int64"
      ]
     },
     "execution_count": 10,
     "metadata": {},
     "output_type": "execute_result"
    }
   ],
   "source": [
    "df['products'].value_counts()"
   ]
  },
  {
   "cell_type": "markdown",
   "id": "9d5ad07c",
   "metadata": {},
   "source": [
    "Большинство пропусков для клиентов, пользующихся 2 продуктами. В целом соотношение пользующихся 1 и 2 продуктами примерно равное. Это заметная разница. Можно предположить, что все пропущенные значения означают нулевой баланс или по крайней мере меньший, чем 3768.69. <br>\n",
    "Другой вариант: речь идет о клиентах, использующих только кредитные продукты и не имеющих дебетового счета. "
   ]
  },
  {
   "cell_type": "markdown",
   "id": "86206da4",
   "metadata": {},
   "source": [
    "<div class='alert alert-info'>\n",
    "добавила"
   ]
  },
  {
   "cell_type": "code",
   "execution_count": 11,
   "id": "a845b1f4",
   "metadata": {},
   "outputs": [
    {
     "data": {
      "text/plain": [
       "0"
      ]
     },
     "execution_count": 11,
     "metadata": {},
     "output_type": "execute_result"
    }
   ],
   "source": [
    "# Проверим дубликаты\n",
    "df.duplicated().sum()"
   ]
  },
  {
   "cell_type": "code",
   "execution_count": 12,
   "id": "366078c5",
   "metadata": {},
   "outputs": [
    {
     "data": {
      "text/html": [
       "<div>\n",
       "<style scoped>\n",
       "    .dataframe tbody tr th:only-of-type {\n",
       "        vertical-align: middle;\n",
       "    }\n",
       "\n",
       "    .dataframe tbody tr th {\n",
       "        vertical-align: top;\n",
       "    }\n",
       "\n",
       "    .dataframe thead th {\n",
       "        text-align: right;\n",
       "    }\n",
       "</style>\n",
       "<table border=\"1\" class=\"dataframe\">\n",
       "  <thead>\n",
       "    <tr style=\"text-align: right;\">\n",
       "      <th></th>\n",
       "      <th>userid</th>\n",
       "      <th>score</th>\n",
       "      <th>city</th>\n",
       "      <th>gender</th>\n",
       "      <th>age</th>\n",
       "      <th>objects</th>\n",
       "      <th>balance</th>\n",
       "      <th>products</th>\n",
       "      <th>creditcard</th>\n",
       "      <th>loyalty</th>\n",
       "      <th>estimated_salary</th>\n",
       "      <th>churn</th>\n",
       "    </tr>\n",
       "  </thead>\n",
       "  <tbody>\n",
       "    <tr>\n",
       "      <td>0</td>\n",
       "      <td>15677338</td>\n",
       "      <td>619</td>\n",
       "      <td>Ярославль</td>\n",
       "      <td>Ж</td>\n",
       "      <td>42</td>\n",
       "      <td>2</td>\n",
       "      <td>NaN</td>\n",
       "      <td>1</td>\n",
       "      <td>1</td>\n",
       "      <td>1</td>\n",
       "      <td>101348.88</td>\n",
       "      <td>1</td>\n",
       "    </tr>\n",
       "    <tr>\n",
       "      <td>1</td>\n",
       "      <td>15690047</td>\n",
       "      <td>608</td>\n",
       "      <td>Рыбинск</td>\n",
       "      <td>Ж</td>\n",
       "      <td>41</td>\n",
       "      <td>1</td>\n",
       "      <td>83807.86</td>\n",
       "      <td>1</td>\n",
       "      <td>0</td>\n",
       "      <td>1</td>\n",
       "      <td>112542.58</td>\n",
       "      <td>0</td>\n",
       "    </tr>\n",
       "    <tr>\n",
       "      <td>2</td>\n",
       "      <td>15662040</td>\n",
       "      <td>502</td>\n",
       "      <td>Ярославль</td>\n",
       "      <td>Ж</td>\n",
       "      <td>42</td>\n",
       "      <td>8</td>\n",
       "      <td>159660.80</td>\n",
       "      <td>3</td>\n",
       "      <td>1</td>\n",
       "      <td>0</td>\n",
       "      <td>113931.57</td>\n",
       "      <td>1</td>\n",
       "    </tr>\n",
       "    <tr>\n",
       "      <td>3</td>\n",
       "      <td>15744090</td>\n",
       "      <td>699</td>\n",
       "      <td>Ярославль</td>\n",
       "      <td>Ж</td>\n",
       "      <td>39</td>\n",
       "      <td>1</td>\n",
       "      <td>NaN</td>\n",
       "      <td>2</td>\n",
       "      <td>0</td>\n",
       "      <td>0</td>\n",
       "      <td>93826.63</td>\n",
       "      <td>0</td>\n",
       "    </tr>\n",
       "    <tr>\n",
       "      <td>4</td>\n",
       "      <td>15780624</td>\n",
       "      <td>850</td>\n",
       "      <td>Рыбинск</td>\n",
       "      <td>Ж</td>\n",
       "      <td>43</td>\n",
       "      <td>2</td>\n",
       "      <td>125510.82</td>\n",
       "      <td>1</td>\n",
       "      <td>1</td>\n",
       "      <td>1</td>\n",
       "      <td>79084.10</td>\n",
       "      <td>0</td>\n",
       "    </tr>\n",
       "    <tr>\n",
       "      <td>5</td>\n",
       "      <td>15616748</td>\n",
       "      <td>645</td>\n",
       "      <td>Рыбинск</td>\n",
       "      <td>М</td>\n",
       "      <td>44</td>\n",
       "      <td>8</td>\n",
       "      <td>113755.78</td>\n",
       "      <td>2</td>\n",
       "      <td>1</td>\n",
       "      <td>0</td>\n",
       "      <td>149756.71</td>\n",
       "      <td>1</td>\n",
       "    </tr>\n",
       "    <tr>\n",
       "      <td>6</td>\n",
       "      <td>15635267</td>\n",
       "      <td>822</td>\n",
       "      <td>Ярославль</td>\n",
       "      <td>М</td>\n",
       "      <td>50</td>\n",
       "      <td>7</td>\n",
       "      <td>NaN</td>\n",
       "      <td>2</td>\n",
       "      <td>1</td>\n",
       "      <td>1</td>\n",
       "      <td>10062.80</td>\n",
       "      <td>0</td>\n",
       "    </tr>\n",
       "    <tr>\n",
       "      <td>7</td>\n",
       "      <td>15698884</td>\n",
       "      <td>376</td>\n",
       "      <td>Ростов Великий</td>\n",
       "      <td>Ж</td>\n",
       "      <td>29</td>\n",
       "      <td>4</td>\n",
       "      <td>115046.74</td>\n",
       "      <td>4</td>\n",
       "      <td>1</td>\n",
       "      <td>0</td>\n",
       "      <td>119346.88</td>\n",
       "      <td>1</td>\n",
       "    </tr>\n",
       "    <tr>\n",
       "      <td>8</td>\n",
       "      <td>15835101</td>\n",
       "      <td>501</td>\n",
       "      <td>Ярославль</td>\n",
       "      <td>М</td>\n",
       "      <td>44</td>\n",
       "      <td>4</td>\n",
       "      <td>142051.07</td>\n",
       "      <td>2</td>\n",
       "      <td>0</td>\n",
       "      <td>1</td>\n",
       "      <td>74940.50</td>\n",
       "      <td>0</td>\n",
       "    </tr>\n",
       "    <tr>\n",
       "      <td>9</td>\n",
       "      <td>15635125</td>\n",
       "      <td>684</td>\n",
       "      <td>Ярославль</td>\n",
       "      <td>М</td>\n",
       "      <td>27</td>\n",
       "      <td>2</td>\n",
       "      <td>134603.88</td>\n",
       "      <td>1</td>\n",
       "      <td>1</td>\n",
       "      <td>1</td>\n",
       "      <td>71725.73</td>\n",
       "      <td>0</td>\n",
       "    </tr>\n",
       "  </tbody>\n",
       "</table>\n",
       "</div>"
      ],
      "text/plain": [
       "     userid  score            city gender  age  objects    balance  products  \\\n",
       "0  15677338    619       Ярославль      Ж   42        2        NaN         1   \n",
       "1  15690047    608         Рыбинск      Ж   41        1   83807.86         1   \n",
       "2  15662040    502       Ярославль      Ж   42        8  159660.80         3   \n",
       "3  15744090    699       Ярославль      Ж   39        1        NaN         2   \n",
       "4  15780624    850         Рыбинск      Ж   43        2  125510.82         1   \n",
       "5  15616748    645         Рыбинск      М   44        8  113755.78         2   \n",
       "6  15635267    822       Ярославль      М   50        7        NaN         2   \n",
       "7  15698884    376  Ростов Великий      Ж   29        4  115046.74         4   \n",
       "8  15835101    501       Ярославль      М   44        4  142051.07         2   \n",
       "9  15635125    684       Ярославль      М   27        2  134603.88         1   \n",
       "\n",
       "   creditcard  loyalty  estimated_salary  churn  \n",
       "0           1        1         101348.88      1  \n",
       "1           0        1         112542.58      0  \n",
       "2           1        0         113931.57      1  \n",
       "3           0        0          93826.63      0  \n",
       "4           1        1          79084.10      0  \n",
       "5           1        0         149756.71      1  \n",
       "6           1        1          10062.80      0  \n",
       "7           1        0         119346.88      1  \n",
       "8           0        1          74940.50      0  \n",
       "9           1        1          71725.73      0  "
      ]
     },
     "execution_count": 12,
     "metadata": {},
     "output_type": "execute_result"
    }
   ],
   "source": [
    "df.head(10)"
   ]
  },
  {
   "cell_type": "code",
   "execution_count": 13,
   "id": "8e03b5e2",
   "metadata": {},
   "outputs": [
    {
     "data": {
      "text/plain": [
       "array(['Ярославль', 'Рыбинск', 'Ростов Великий'], dtype=object)"
      ]
     },
     "execution_count": 13,
     "metadata": {},
     "output_type": "execute_result"
    }
   ],
   "source": [
    "# Проверим, соответствуют ли города в датасете поставленной задаче (исключим неправильное написание)\n",
    "df['city'].unique()"
   ]
  },
  {
   "cell_type": "markdown",
   "id": "93d35cb1",
   "metadata": {},
   "source": [
    "<div class='alert alert-success'> 👍\n",
    "В целом хорошее начало"
   ]
  },
  {
   "cell_type": "markdown",
   "id": "f42af815",
   "metadata": {},
   "source": [
    "# Исследовательский анализ данных"
   ]
  },
  {
   "cell_type": "code",
   "execution_count": 14,
   "id": "4920c80d",
   "metadata": {},
   "outputs": [
    {
     "data": {
      "text/html": [
       "<div>\n",
       "<style scoped>\n",
       "    .dataframe tbody tr th:only-of-type {\n",
       "        vertical-align: middle;\n",
       "    }\n",
       "\n",
       "    .dataframe tbody tr th {\n",
       "        vertical-align: top;\n",
       "    }\n",
       "\n",
       "    .dataframe thead th {\n",
       "        text-align: right;\n",
       "    }\n",
       "</style>\n",
       "<table border=\"1\" class=\"dataframe\">\n",
       "  <thead>\n",
       "    <tr style=\"text-align: right;\">\n",
       "      <th></th>\n",
       "      <th>userid</th>\n",
       "      <th>score</th>\n",
       "      <th>age</th>\n",
       "      <th>objects</th>\n",
       "      <th>balance</th>\n",
       "      <th>products</th>\n",
       "      <th>creditcard</th>\n",
       "      <th>loyalty</th>\n",
       "      <th>estimated_salary</th>\n",
       "      <th>churn</th>\n",
       "    </tr>\n",
       "  </thead>\n",
       "  <tbody>\n",
       "    <tr>\n",
       "      <td>count</td>\n",
       "      <td>1.000000e+04</td>\n",
       "      <td>10000.000000</td>\n",
       "      <td>10000.000000</td>\n",
       "      <td>10000.000000</td>\n",
       "      <td>6383.000000</td>\n",
       "      <td>10000.000000</td>\n",
       "      <td>10000.00000</td>\n",
       "      <td>10000.000000</td>\n",
       "      <td>10000.000000</td>\n",
       "      <td>10000.000000</td>\n",
       "    </tr>\n",
       "    <tr>\n",
       "      <td>mean</td>\n",
       "      <td>1.573368e+07</td>\n",
       "      <td>650.528800</td>\n",
       "      <td>38.921800</td>\n",
       "      <td>5.012800</td>\n",
       "      <td>119827.493793</td>\n",
       "      <td>1.530200</td>\n",
       "      <td>0.70550</td>\n",
       "      <td>0.515100</td>\n",
       "      <td>100090.239881</td>\n",
       "      <td>0.203700</td>\n",
       "    </tr>\n",
       "    <tr>\n",
       "      <td>std</td>\n",
       "      <td>7.193619e+04</td>\n",
       "      <td>96.653299</td>\n",
       "      <td>10.487806</td>\n",
       "      <td>2.892174</td>\n",
       "      <td>30095.056462</td>\n",
       "      <td>0.581654</td>\n",
       "      <td>0.45584</td>\n",
       "      <td>0.499797</td>\n",
       "      <td>57510.492818</td>\n",
       "      <td>0.402769</td>\n",
       "    </tr>\n",
       "    <tr>\n",
       "      <td>min</td>\n",
       "      <td>1.560844e+07</td>\n",
       "      <td>350.000000</td>\n",
       "      <td>18.000000</td>\n",
       "      <td>0.000000</td>\n",
       "      <td>3768.690000</td>\n",
       "      <td>1.000000</td>\n",
       "      <td>0.00000</td>\n",
       "      <td>0.000000</td>\n",
       "      <td>11.580000</td>\n",
       "      <td>0.000000</td>\n",
       "    </tr>\n",
       "    <tr>\n",
       "      <td>25%</td>\n",
       "      <td>1.567126e+07</td>\n",
       "      <td>584.000000</td>\n",
       "      <td>32.000000</td>\n",
       "      <td>3.000000</td>\n",
       "      <td>100181.975000</td>\n",
       "      <td>1.000000</td>\n",
       "      <td>0.00000</td>\n",
       "      <td>0.000000</td>\n",
       "      <td>51002.110000</td>\n",
       "      <td>0.000000</td>\n",
       "    </tr>\n",
       "    <tr>\n",
       "      <td>50%</td>\n",
       "      <td>1.573347e+07</td>\n",
       "      <td>652.000000</td>\n",
       "      <td>37.000000</td>\n",
       "      <td>5.000000</td>\n",
       "      <td>119839.690000</td>\n",
       "      <td>1.000000</td>\n",
       "      <td>1.00000</td>\n",
       "      <td>1.000000</td>\n",
       "      <td>100193.915000</td>\n",
       "      <td>0.000000</td>\n",
       "    </tr>\n",
       "    <tr>\n",
       "      <td>75%</td>\n",
       "      <td>1.579597e+07</td>\n",
       "      <td>718.000000</td>\n",
       "      <td>44.000000</td>\n",
       "      <td>7.000000</td>\n",
       "      <td>139512.290000</td>\n",
       "      <td>2.000000</td>\n",
       "      <td>1.00000</td>\n",
       "      <td>1.000000</td>\n",
       "      <td>149388.247500</td>\n",
       "      <td>0.000000</td>\n",
       "    </tr>\n",
       "    <tr>\n",
       "      <td>max</td>\n",
       "      <td>1.585843e+07</td>\n",
       "      <td>850.000000</td>\n",
       "      <td>92.000000</td>\n",
       "      <td>10.000000</td>\n",
       "      <td>250898.090000</td>\n",
       "      <td>4.000000</td>\n",
       "      <td>1.00000</td>\n",
       "      <td>1.000000</td>\n",
       "      <td>199992.480000</td>\n",
       "      <td>1.000000</td>\n",
       "    </tr>\n",
       "  </tbody>\n",
       "</table>\n",
       "</div>"
      ],
      "text/plain": [
       "             userid         score           age       objects        balance  \\\n",
       "count  1.000000e+04  10000.000000  10000.000000  10000.000000    6383.000000   \n",
       "mean   1.573368e+07    650.528800     38.921800      5.012800  119827.493793   \n",
       "std    7.193619e+04     96.653299     10.487806      2.892174   30095.056462   \n",
       "min    1.560844e+07    350.000000     18.000000      0.000000    3768.690000   \n",
       "25%    1.567126e+07    584.000000     32.000000      3.000000  100181.975000   \n",
       "50%    1.573347e+07    652.000000     37.000000      5.000000  119839.690000   \n",
       "75%    1.579597e+07    718.000000     44.000000      7.000000  139512.290000   \n",
       "max    1.585843e+07    850.000000     92.000000     10.000000  250898.090000   \n",
       "\n",
       "           products   creditcard       loyalty  estimated_salary         churn  \n",
       "count  10000.000000  10000.00000  10000.000000      10000.000000  10000.000000  \n",
       "mean       1.530200      0.70550      0.515100     100090.239881      0.203700  \n",
       "std        0.581654      0.45584      0.499797      57510.492818      0.402769  \n",
       "min        1.000000      0.00000      0.000000         11.580000      0.000000  \n",
       "25%        1.000000      0.00000      0.000000      51002.110000      0.000000  \n",
       "50%        1.000000      1.00000      1.000000     100193.915000      0.000000  \n",
       "75%        2.000000      1.00000      1.000000     149388.247500      0.000000  \n",
       "max        4.000000      1.00000      1.000000     199992.480000      1.000000  "
      ]
     },
     "execution_count": 14,
     "metadata": {},
     "output_type": "execute_result"
    }
   ],
   "source": [
    "# Оценим медиану, стандартное отклонение, минимальное и максимальное значения в датасете по всем столбцам\n",
    "df.describe()"
   ]
  },
  {
   "cell_type": "code",
   "execution_count": 15,
   "id": "19e86c1a",
   "metadata": {},
   "outputs": [
    {
     "data": {
      "text/plain": [
       "gender\n",
       "Ж    4543\n",
       "М    5457\n",
       "Name: userid, dtype: int64"
      ]
     },
     "execution_count": 15,
     "metadata": {},
     "output_type": "execute_result"
    }
   ],
   "source": [
    "df.groupby('gender')['userid'].count()"
   ]
  },
  {
   "cell_type": "markdown",
   "id": "83fb88e4",
   "metadata": {},
   "source": [
    "По первому взгляду на датасет:\n",
    "* средний возраст клиента 39 лет;\n",
    "* среди клиентов примерно на 10% больше мужчин;\n",
    "* среднее количество объектов во владении равно 5;\n",
    "* среднее количество банковских продуктов - не более 2х;\n",
    "* кредитные карты имеют 71% клиентов;\n",
    "* баланс на счету от 3769 руб. до 250898 руб. Ориентироваться на средние значения нельзя, т.к. столбец содержит 36% пропусков;\n",
    "* активными клиентами являются  52%;\n",
    "* доход клиентов от 11 рублей до 200 тысяч рублей;\n",
    "* отток клиентов составляет 20%."
   ]
  },
  {
   "cell_type": "markdown",
   "id": "2d30080c",
   "metadata": {},
   "source": [
    "Рыбинск и Ростов Великий - райцентры Ярославской области. Из-за существенной разницы в населении и статусе городов, имеет смысл рассматривать их отдельно."
   ]
  },
  {
   "cell_type": "code",
   "execution_count": 16,
   "id": "253e21d5",
   "metadata": {},
   "outputs": [
    {
     "data": {
      "text/html": [
       "<div>\n",
       "<style scoped>\n",
       "    .dataframe tbody tr th:only-of-type {\n",
       "        vertical-align: middle;\n",
       "    }\n",
       "\n",
       "    .dataframe tbody tr th {\n",
       "        vertical-align: top;\n",
       "    }\n",
       "\n",
       "    .dataframe thead th {\n",
       "        text-align: right;\n",
       "    }\n",
       "</style>\n",
       "<table border=\"1\" class=\"dataframe\">\n",
       "  <thead>\n",
       "    <tr style=\"text-align: right;\">\n",
       "      <th></th>\n",
       "      <th>userid</th>\n",
       "      <th>score</th>\n",
       "      <th>city</th>\n",
       "      <th>gender</th>\n",
       "      <th>age</th>\n",
       "      <th>objects</th>\n",
       "      <th>balance</th>\n",
       "      <th>products</th>\n",
       "      <th>creditcard</th>\n",
       "      <th>loyalty</th>\n",
       "      <th>estimated_salary</th>\n",
       "      <th>churn</th>\n",
       "    </tr>\n",
       "  </thead>\n",
       "  <tbody>\n",
       "    <tr>\n",
       "      <td>7</td>\n",
       "      <td>15698884</td>\n",
       "      <td>376</td>\n",
       "      <td>Ростов Великий</td>\n",
       "      <td>Ж</td>\n",
       "      <td>29</td>\n",
       "      <td>4</td>\n",
       "      <td>115046.74</td>\n",
       "      <td>4</td>\n",
       "      <td>1</td>\n",
       "      <td>0</td>\n",
       "      <td>119346.88</td>\n",
       "      <td>1</td>\n",
       "    </tr>\n",
       "    <tr>\n",
       "      <td>15</td>\n",
       "      <td>15686702</td>\n",
       "      <td>616</td>\n",
       "      <td>Ростов Великий</td>\n",
       "      <td>М</td>\n",
       "      <td>45</td>\n",
       "      <td>3</td>\n",
       "      <td>143129.41</td>\n",
       "      <td>2</td>\n",
       "      <td>0</td>\n",
       "      <td>1</td>\n",
       "      <td>64327.26</td>\n",
       "      <td>0</td>\n",
       "    </tr>\n",
       "    <tr>\n",
       "      <td>16</td>\n",
       "      <td>15780188</td>\n",
       "      <td>653</td>\n",
       "      <td>Ростов Великий</td>\n",
       "      <td>М</td>\n",
       "      <td>58</td>\n",
       "      <td>1</td>\n",
       "      <td>132602.88</td>\n",
       "      <td>1</td>\n",
       "      <td>1</td>\n",
       "      <td>0</td>\n",
       "      <td>5097.67</td>\n",
       "      <td>1</td>\n",
       "    </tr>\n",
       "    <tr>\n",
       "      <td>26</td>\n",
       "      <td>15779552</td>\n",
       "      <td>756</td>\n",
       "      <td>Ростов Великий</td>\n",
       "      <td>М</td>\n",
       "      <td>36</td>\n",
       "      <td>2</td>\n",
       "      <td>136815.64</td>\n",
       "      <td>1</td>\n",
       "      <td>1</td>\n",
       "      <td>1</td>\n",
       "      <td>170041.95</td>\n",
       "      <td>0</td>\n",
       "    </tr>\n",
       "    <tr>\n",
       "      <td>28</td>\n",
       "      <td>15771429</td>\n",
       "      <td>574</td>\n",
       "      <td>Ростов Великий</td>\n",
       "      <td>Ж</td>\n",
       "      <td>43</td>\n",
       "      <td>3</td>\n",
       "      <td>141349.43</td>\n",
       "      <td>1</td>\n",
       "      <td>1</td>\n",
       "      <td>1</td>\n",
       "      <td>100187.43</td>\n",
       "      <td>0</td>\n",
       "    </tr>\n",
       "  </tbody>\n",
       "</table>\n",
       "</div>"
      ],
      "text/plain": [
       "      userid  score            city gender  age  objects    balance  products  \\\n",
       "7   15698884    376  Ростов Великий      Ж   29        4  115046.74         4   \n",
       "15  15686702    616  Ростов Великий      М   45        3  143129.41         2   \n",
       "16  15780188    653  Ростов Великий      М   58        1  132602.88         1   \n",
       "26  15779552    756  Ростов Великий      М   36        2  136815.64         1   \n",
       "28  15771429    574  Ростов Великий      Ж   43        3  141349.43         1   \n",
       "\n",
       "    creditcard  loyalty  estimated_salary  churn  \n",
       "7            1        0         119346.88      1  \n",
       "15           0        1          64327.26      0  \n",
       "16           1        0           5097.67      1  \n",
       "26           1        1         170041.95      0  \n",
       "28           1        1         100187.43      0  "
      ]
     },
     "metadata": {},
     "output_type": "display_data"
    },
    {
     "data": {
      "text/html": [
       "<div>\n",
       "<style scoped>\n",
       "    .dataframe tbody tr th:only-of-type {\n",
       "        vertical-align: middle;\n",
       "    }\n",
       "\n",
       "    .dataframe tbody tr th {\n",
       "        vertical-align: top;\n",
       "    }\n",
       "\n",
       "    .dataframe thead th {\n",
       "        text-align: right;\n",
       "    }\n",
       "</style>\n",
       "<table border=\"1\" class=\"dataframe\">\n",
       "  <thead>\n",
       "    <tr style=\"text-align: right;\">\n",
       "      <th></th>\n",
       "      <th>userid</th>\n",
       "      <th>score</th>\n",
       "      <th>city</th>\n",
       "      <th>gender</th>\n",
       "      <th>age</th>\n",
       "      <th>objects</th>\n",
       "      <th>balance</th>\n",
       "      <th>products</th>\n",
       "      <th>creditcard</th>\n",
       "      <th>loyalty</th>\n",
       "      <th>estimated_salary</th>\n",
       "      <th>churn</th>\n",
       "    </tr>\n",
       "  </thead>\n",
       "  <tbody>\n",
       "    <tr>\n",
       "      <td>1</td>\n",
       "      <td>15690047</td>\n",
       "      <td>608</td>\n",
       "      <td>Рыбинск</td>\n",
       "      <td>Ж</td>\n",
       "      <td>41</td>\n",
       "      <td>1</td>\n",
       "      <td>83807.86</td>\n",
       "      <td>1</td>\n",
       "      <td>0</td>\n",
       "      <td>1</td>\n",
       "      <td>112542.58</td>\n",
       "      <td>0</td>\n",
       "    </tr>\n",
       "    <tr>\n",
       "      <td>4</td>\n",
       "      <td>15780624</td>\n",
       "      <td>850</td>\n",
       "      <td>Рыбинск</td>\n",
       "      <td>Ж</td>\n",
       "      <td>43</td>\n",
       "      <td>2</td>\n",
       "      <td>125510.82</td>\n",
       "      <td>1</td>\n",
       "      <td>1</td>\n",
       "      <td>1</td>\n",
       "      <td>79084.10</td>\n",
       "      <td>0</td>\n",
       "    </tr>\n",
       "    <tr>\n",
       "      <td>5</td>\n",
       "      <td>15616748</td>\n",
       "      <td>645</td>\n",
       "      <td>Рыбинск</td>\n",
       "      <td>М</td>\n",
       "      <td>44</td>\n",
       "      <td>8</td>\n",
       "      <td>113755.78</td>\n",
       "      <td>2</td>\n",
       "      <td>1</td>\n",
       "      <td>0</td>\n",
       "      <td>149756.71</td>\n",
       "      <td>1</td>\n",
       "    </tr>\n",
       "    <tr>\n",
       "      <td>11</td>\n",
       "      <td>15779909</td>\n",
       "      <td>497</td>\n",
       "      <td>Рыбинск</td>\n",
       "      <td>М</td>\n",
       "      <td>24</td>\n",
       "      <td>3</td>\n",
       "      <td>NaN</td>\n",
       "      <td>2</td>\n",
       "      <td>1</td>\n",
       "      <td>0</td>\n",
       "      <td>76390.01</td>\n",
       "      <td>0</td>\n",
       "    </tr>\n",
       "    <tr>\n",
       "      <td>14</td>\n",
       "      <td>15643618</td>\n",
       "      <td>635</td>\n",
       "      <td>Рыбинск</td>\n",
       "      <td>Ж</td>\n",
       "      <td>35</td>\n",
       "      <td>7</td>\n",
       "      <td>NaN</td>\n",
       "      <td>2</td>\n",
       "      <td>1</td>\n",
       "      <td>1</td>\n",
       "      <td>65951.65</td>\n",
       "      <td>0</td>\n",
       "    </tr>\n",
       "  </tbody>\n",
       "</table>\n",
       "</div>"
      ],
      "text/plain": [
       "      userid  score     city gender  age  objects    balance  products  \\\n",
       "1   15690047    608  Рыбинск      Ж   41        1   83807.86         1   \n",
       "4   15780624    850  Рыбинск      Ж   43        2  125510.82         1   \n",
       "5   15616748    645  Рыбинск      М   44        8  113755.78         2   \n",
       "11  15779909    497  Рыбинск      М   24        3        NaN         2   \n",
       "14  15643618    635  Рыбинск      Ж   35        7        NaN         2   \n",
       "\n",
       "    creditcard  loyalty  estimated_salary  churn  \n",
       "1            0        1         112542.58      0  \n",
       "4            1        1          79084.10      0  \n",
       "5            1        0         149756.71      1  \n",
       "11           1        0          76390.01      0  \n",
       "14           1        1          65951.65      0  "
      ]
     },
     "metadata": {},
     "output_type": "display_data"
    },
    {
     "data": {
      "text/html": [
       "<div>\n",
       "<style scoped>\n",
       "    .dataframe tbody tr th:only-of-type {\n",
       "        vertical-align: middle;\n",
       "    }\n",
       "\n",
       "    .dataframe tbody tr th {\n",
       "        vertical-align: top;\n",
       "    }\n",
       "\n",
       "    .dataframe thead th {\n",
       "        text-align: right;\n",
       "    }\n",
       "</style>\n",
       "<table border=\"1\" class=\"dataframe\">\n",
       "  <thead>\n",
       "    <tr style=\"text-align: right;\">\n",
       "      <th></th>\n",
       "      <th>userid</th>\n",
       "      <th>score</th>\n",
       "      <th>city</th>\n",
       "      <th>gender</th>\n",
       "      <th>age</th>\n",
       "      <th>objects</th>\n",
       "      <th>balance</th>\n",
       "      <th>products</th>\n",
       "      <th>creditcard</th>\n",
       "      <th>loyalty</th>\n",
       "      <th>estimated_salary</th>\n",
       "      <th>churn</th>\n",
       "    </tr>\n",
       "  </thead>\n",
       "  <tbody>\n",
       "    <tr>\n",
       "      <td>0</td>\n",
       "      <td>15677338</td>\n",
       "      <td>619</td>\n",
       "      <td>Ярославль</td>\n",
       "      <td>Ж</td>\n",
       "      <td>42</td>\n",
       "      <td>2</td>\n",
       "      <td>NaN</td>\n",
       "      <td>1</td>\n",
       "      <td>1</td>\n",
       "      <td>1</td>\n",
       "      <td>101348.88</td>\n",
       "      <td>1</td>\n",
       "    </tr>\n",
       "    <tr>\n",
       "      <td>2</td>\n",
       "      <td>15662040</td>\n",
       "      <td>502</td>\n",
       "      <td>Ярославль</td>\n",
       "      <td>Ж</td>\n",
       "      <td>42</td>\n",
       "      <td>8</td>\n",
       "      <td>159660.80</td>\n",
       "      <td>3</td>\n",
       "      <td>1</td>\n",
       "      <td>0</td>\n",
       "      <td>113931.57</td>\n",
       "      <td>1</td>\n",
       "    </tr>\n",
       "    <tr>\n",
       "      <td>3</td>\n",
       "      <td>15744090</td>\n",
       "      <td>699</td>\n",
       "      <td>Ярославль</td>\n",
       "      <td>Ж</td>\n",
       "      <td>39</td>\n",
       "      <td>1</td>\n",
       "      <td>NaN</td>\n",
       "      <td>2</td>\n",
       "      <td>0</td>\n",
       "      <td>0</td>\n",
       "      <td>93826.63</td>\n",
       "      <td>0</td>\n",
       "    </tr>\n",
       "    <tr>\n",
       "      <td>6</td>\n",
       "      <td>15635267</td>\n",
       "      <td>822</td>\n",
       "      <td>Ярославль</td>\n",
       "      <td>М</td>\n",
       "      <td>50</td>\n",
       "      <td>7</td>\n",
       "      <td>NaN</td>\n",
       "      <td>2</td>\n",
       "      <td>1</td>\n",
       "      <td>1</td>\n",
       "      <td>10062.80</td>\n",
       "      <td>0</td>\n",
       "    </tr>\n",
       "    <tr>\n",
       "      <td>8</td>\n",
       "      <td>15835101</td>\n",
       "      <td>501</td>\n",
       "      <td>Ярославль</td>\n",
       "      <td>М</td>\n",
       "      <td>44</td>\n",
       "      <td>4</td>\n",
       "      <td>142051.07</td>\n",
       "      <td>2</td>\n",
       "      <td>0</td>\n",
       "      <td>1</td>\n",
       "      <td>74940.50</td>\n",
       "      <td>0</td>\n",
       "    </tr>\n",
       "  </tbody>\n",
       "</table>\n",
       "</div>"
      ],
      "text/plain": [
       "     userid  score       city gender  age  objects    balance  products  \\\n",
       "0  15677338    619  Ярославль      Ж   42        2        NaN         1   \n",
       "2  15662040    502  Ярославль      Ж   42        8  159660.80         3   \n",
       "3  15744090    699  Ярославль      Ж   39        1        NaN         2   \n",
       "6  15635267    822  Ярославль      М   50        7        NaN         2   \n",
       "8  15835101    501  Ярославль      М   44        4  142051.07         2   \n",
       "\n",
       "   creditcard  loyalty  estimated_salary  churn  \n",
       "0           1        1         101348.88      1  \n",
       "2           1        0         113931.57      1  \n",
       "3           0        0          93826.63      0  \n",
       "6           1        1          10062.80      0  \n",
       "8           0        1          74940.50      0  "
      ]
     },
     "metadata": {},
     "output_type": "display_data"
    }
   ],
   "source": [
    "# Сгруппируем данные по городу (размер городов существенно отличается)\n",
    "df_grouped = df.groupby('city')\n",
    "cities = []\n",
    "\n",
    "for city in df_grouped.groups.keys():\n",
    "    cities.append(df.query('city == \"' + city + '\"'))\n",
    "    \n",
    "for c in cities:\n",
    "    display(c.head())\n",
    "    \n",
    "rostov = cities[0]\n",
    "rybinsk = cities[1]\n",
    "yaroslavl = cities[2]"
   ]
  },
  {
   "cell_type": "code",
   "execution_count": 17,
   "id": "76e95f86",
   "metadata": {
    "scrolled": false
   },
   "outputs": [
    {
     "data": {
      "image/png": "[encoded data removed]",
      "text/plain": [
       "<Figure size 1296x1440 with 12 Axes>"
      ]
     },
     "metadata": {
      "needs_background": "light"
     },
     "output_type": "display_data"
    }
   ],
   "source": [
    "# С помощью гистограмм оценим распределение количественных величин (score, age,object, products, estimated_salary) по каждому городу отдельно\n",
    "\n",
    "fig, ax = plt.subplots(nrows=4, ncols=3, figsize=(18, 20))\n",
    "\n",
    "columns = [\n",
    "    'score', \n",
    "    'age', \n",
    "    'objects', \n",
    "    'estimated_salary', \n",
    "]\n",
    "\n",
    "colors = [\n",
    "    'r',\n",
    "    'g',\n",
    "    'b',\n",
    "]\n",
    "\n",
    "    \n",
    "for i, c in enumerate(cities):\n",
    "    clients_no_churn = c.query('churn == 0')\n",
    "    clients_churn = c.query('churn != 0')\n",
    "    \n",
    "    for j, column in enumerate(columns):\n",
    "        sns.distplot(clients_no_churn[column], ax = ax[j][i])\n",
    "        sns.distplot(clients_churn[column], color = colors[i], ax = ax[j][i])\n",
    "        ax[j][i].legend(labels = ('Остались', 'Ушли'))\n",
    "        ax[j][i].set_title('Распределение ' + column + ' для города ' + c['city'].iloc[0])\n",
    "        fig.tight_layout() \n",
    "\n",
    "\n",
    "plt.show()     "
   ]
  },
  {
   "cell_type": "code",
   "execution_count": 18,
   "id": "a4143de7",
   "metadata": {},
   "outputs": [
    {
     "data": {
      "image/png": "[encoded data removed]",
      "text/plain": [
       "<Figure size 1080x360 with 3 Axes>"
      ]
     },
     "metadata": {
      "needs_background": "light"
     },
     "output_type": "display_data"
    }
   ],
   "source": [
    "# С помощью гистограмм оценим распределение бинарных величин (gender, creditcard, loyalty) по каждому городу отдельно\n",
    "fig, ax = plt.subplots(nrows=1, ncols=3, figsize=(15, 5))\n",
    "\n",
    "column = 'products'\n",
    "\n",
    "colors = [\n",
    "    'r',\n",
    "    'g',\n",
    "    'b',\n",
    "]\n",
    "\n",
    "    \n",
    "for i, c in enumerate(cities):   \n",
    "    sns.countplot(c[column], hue = 'churn', data = c, ax = ax[i], color = colors[i])\n",
    "    ax[i].legend(labels = ('Остались', 'Ушли'))\n",
    "    ax[i].set_title(column + ' для города ' + c['city'].iloc[0])\n",
    "        \n",
    "\n",
    "plt.show()     "
   ]
  },
  {
   "cell_type": "code",
   "execution_count": 19,
   "id": "83918945",
   "metadata": {
    "scrolled": true
   },
   "outputs": [
    {
     "data": {
      "image/png": "[encoded data removed]",
      "text/plain": [
       "<Figure size 1296x1296 with 9 Axes>"
      ]
     },
     "metadata": {
      "needs_background": "light"
     },
     "output_type": "display_data"
    }
   ],
   "source": [
    "#посмотрим на бинарные признаки\n",
    "fig, ax = plt.subplots(nrows=3, ncols=3, figsize=(18, 18))\n",
    "\n",
    "columns = [\n",
    "    'gender', \n",
    "    'creditcard', \n",
    "    'loyalty',\n",
    "]\n",
    "\n",
    "for i, c in enumerate(cities):   \n",
    "    for j, column in enumerate(columns):\n",
    "        sns.countplot(x = c[column], hue = 'churn', data = c, ax = ax[j][i], color = colors[i])\n",
    "        ax[j][i].set_title(column + ' для города ' + c['city'].iloc[0])\n",
    "\n",
    "plt.show()"
   ]
  },
  {
   "cell_type": "markdown",
   "id": "2f61f05b",
   "metadata": {},
   "source": [
    "<div class='alert alert-success'> 👍\n",
    "Хорошая автоматизация отрисовки графиков!"
   ]
  },
  {
   "cell_type": "code",
   "execution_count": 20,
   "id": "9385f677",
   "metadata": {},
   "outputs": [
    {
     "data": {
      "text/html": [
       "<style  type=\"text/css\" >\n",
       "</style><table id=\"T_664c5ce2_d1f2_11ec_a38a_7085c220221a\" ><thead>    <tr>        <th class=\"index_name level0\" >churn</th>        <th class=\"col_heading level0 col0\" >0</th>        <th class=\"col_heading level0 col1\" >1</th>    </tr></thead><tbody>\n",
       "                <tr>\n",
       "                        <th id=\"T_664c5ce2_d1f2_11ec_a38a_7085c220221alevel0_row0\" class=\"row_heading level0 row0\" >userid</th>\n",
       "                        <td id=\"T_664c5ce2_d1f2_11ec_a38a_7085c220221arow0_col0\" class=\"data row0 col0\" >1.57342e+07</td>\n",
       "                        <td id=\"T_664c5ce2_d1f2_11ec_a38a_7085c220221arow0_col1\" class=\"data row0 col1\" >1.57314e+07</td>\n",
       "            </tr>\n",
       "            <tr>\n",
       "                        <th id=\"T_664c5ce2_d1f2_11ec_a38a_7085c220221alevel0_row1\" class=\"row_heading level0 row1\" >score</th>\n",
       "                        <td id=\"T_664c5ce2_d1f2_11ec_a38a_7085c220221arow1_col0\" class=\"data row1 col0\" >653.261</td>\n",
       "                        <td id=\"T_664c5ce2_d1f2_11ec_a38a_7085c220221arow1_col1\" class=\"data row1 col1\" >647.689</td>\n",
       "            </tr>\n",
       "            <tr>\n",
       "                        <th id=\"T_664c5ce2_d1f2_11ec_a38a_7085c220221alevel0_row2\" class=\"row_heading level0 row2\" >age</th>\n",
       "                        <td id=\"T_664c5ce2_d1f2_11ec_a38a_7085c220221arow2_col0\" class=\"data row2 col0\" >37.3115</td>\n",
       "                        <td id=\"T_664c5ce2_d1f2_11ec_a38a_7085c220221arow2_col1\" class=\"data row2 col1\" >44.8943</td>\n",
       "            </tr>\n",
       "            <tr>\n",
       "                        <th id=\"T_664c5ce2_d1f2_11ec_a38a_7085c220221alevel0_row3\" class=\"row_heading level0 row3\" >objects</th>\n",
       "                        <td id=\"T_664c5ce2_d1f2_11ec_a38a_7085c220221arow3_col0\" class=\"data row3 col0\" >5.0118</td>\n",
       "                        <td id=\"T_664c5ce2_d1f2_11ec_a38a_7085c220221arow3_col1\" class=\"data row3 col1\" >5.00614</td>\n",
       "            </tr>\n",
       "            <tr>\n",
       "                        <th id=\"T_664c5ce2_d1f2_11ec_a38a_7085c220221alevel0_row4\" class=\"row_heading level0 row4\" >balance</th>\n",
       "                        <td id=\"T_664c5ce2_d1f2_11ec_a38a_7085c220221arow4_col0\" class=\"data row4 col0\" >119427</td>\n",
       "                        <td id=\"T_664c5ce2_d1f2_11ec_a38a_7085c220221arow4_col1\" class=\"data row4 col1\" >120361</td>\n",
       "            </tr>\n",
       "            <tr>\n",
       "                        <th id=\"T_664c5ce2_d1f2_11ec_a38a_7085c220221alevel0_row5\" class=\"row_heading level0 row5\" >products</th>\n",
       "                        <td id=\"T_664c5ce2_d1f2_11ec_a38a_7085c220221arow5_col0\" class=\"data row5 col0\" >1.55103</td>\n",
       "                        <td id=\"T_664c5ce2_d1f2_11ec_a38a_7085c220221arow5_col1\" class=\"data row5 col1\" >1.45455</td>\n",
       "            </tr>\n",
       "            <tr>\n",
       "                        <th id=\"T_664c5ce2_d1f2_11ec_a38a_7085c220221alevel0_row6\" class=\"row_heading level0 row6\" >creditcard</th>\n",
       "                        <td id=\"T_664c5ce2_d1f2_11ec_a38a_7085c220221arow6_col0\" class=\"data row6 col0\" >0.716224</td>\n",
       "                        <td id=\"T_664c5ce2_d1f2_11ec_a38a_7085c220221arow6_col1\" class=\"data row6 col1\" >0.708845</td>\n",
       "            </tr>\n",
       "            <tr>\n",
       "                        <th id=\"T_664c5ce2_d1f2_11ec_a38a_7085c220221alevel0_row7\" class=\"row_heading level0 row7\" >loyalty</th>\n",
       "                        <td id=\"T_664c5ce2_d1f2_11ec_a38a_7085c220221arow7_col0\" class=\"data row7 col0\" >0.561652</td>\n",
       "                        <td id=\"T_664c5ce2_d1f2_11ec_a38a_7085c220221arow7_col1\" class=\"data row7 col1\" >0.363636</td>\n",
       "            </tr>\n",
       "            <tr>\n",
       "                        <th id=\"T_664c5ce2_d1f2_11ec_a38a_7085c220221alevel0_row8\" class=\"row_heading level0 row8\" >estimated_salary</th>\n",
       "                        <td id=\"T_664c5ce2_d1f2_11ec_a38a_7085c220221arow8_col0\" class=\"data row8 col0\" >102415</td>\n",
       "                        <td id=\"T_664c5ce2_d1f2_11ec_a38a_7085c220221arow8_col1\" class=\"data row8 col1\" >98403.9</td>\n",
       "            </tr>\n",
       "    </tbody></table>"
      ],
      "text/plain": [
       "<pandas.io.formats.style.Styler at 0x18a5705df08>"
      ]
     },
     "execution_count": 20,
     "metadata": {},
     "output_type": "execute_result"
    }
   ],
   "source": [
    "# Посмотрим на средние значения признаков двух групп - тех, кто ушел в отток, и тех, кто остался\n",
    "rostov.groupby('churn').agg('mean').T.style"
   ]
  },
  {
   "cell_type": "code",
   "execution_count": 21,
   "id": "e3bdb587",
   "metadata": {},
   "outputs": [
    {
     "data": {
      "text/html": [
       "<style  type=\"text/css\" >\n",
       "</style><table id=\"T_665077ba_d1f2_11ec_ab09_7085c220221a\" ><thead>    <tr>        <th class=\"index_name level0\" >churn</th>        <th class=\"col_heading level0 col0\" >0</th>        <th class=\"col_heading level0 col1\" >1</th>    </tr></thead><tbody>\n",
       "                <tr>\n",
       "                        <th id=\"T_665077ba_d1f2_11ec_ab09_7085c220221alevel0_row0\" class=\"row_heading level0 row0\" >userid</th>\n",
       "                        <td id=\"T_665077ba_d1f2_11ec_ab09_7085c220221arow0_col0\" class=\"data row0 col0\" >1.57355e+07</td>\n",
       "                        <td id=\"T_665077ba_d1f2_11ec_ab09_7085c220221arow0_col1\" class=\"data row0 col1\" >1.57304e+07</td>\n",
       "            </tr>\n",
       "            <tr>\n",
       "                        <th id=\"T_665077ba_d1f2_11ec_ab09_7085c220221alevel0_row1\" class=\"row_heading level0 row1\" >score</th>\n",
       "                        <td id=\"T_665077ba_d1f2_11ec_ab09_7085c220221arow1_col0\" class=\"data row1 col0\" >652.104</td>\n",
       "                        <td id=\"T_665077ba_d1f2_11ec_ab09_7085c220221arow1_col1\" class=\"data row1 col1\" >647.484</td>\n",
       "            </tr>\n",
       "            <tr>\n",
       "                        <th id=\"T_665077ba_d1f2_11ec_ab09_7085c220221alevel0_row2\" class=\"row_heading level0 row2\" >age</th>\n",
       "                        <td id=\"T_665077ba_d1f2_11ec_ab09_7085c220221arow2_col0\" class=\"data row2 col0\" >37.8391</td>\n",
       "                        <td id=\"T_665077ba_d1f2_11ec_ab09_7085c220221arow2_col1\" class=\"data row2 col1\" >44.1477</td>\n",
       "            </tr>\n",
       "            <tr>\n",
       "                        <th id=\"T_665077ba_d1f2_11ec_ab09_7085c220221alevel0_row3\" class=\"row_heading level0 row3\" >objects</th>\n",
       "                        <td id=\"T_665077ba_d1f2_11ec_ab09_7085c220221arow3_col0\" class=\"data row3 col0\" >5.10756</td>\n",
       "                        <td id=\"T_665077ba_d1f2_11ec_ab09_7085c220221arow3_col1\" class=\"data row3 col1\" >4.65617</td>\n",
       "            </tr>\n",
       "            <tr>\n",
       "                        <th id=\"T_665077ba_d1f2_11ec_ab09_7085c220221alevel0_row4\" class=\"row_heading level0 row4\" >balance</th>\n",
       "                        <td id=\"T_665077ba_d1f2_11ec_ab09_7085c220221arow4_col0\" class=\"data row4 col0\" >119821</td>\n",
       "                        <td id=\"T_665077ba_d1f2_11ec_ab09_7085c220221arow4_col1\" class=\"data row4 col1\" >119792</td>\n",
       "            </tr>\n",
       "            <tr>\n",
       "                        <th id=\"T_665077ba_d1f2_11ec_ab09_7085c220221alevel0_row5\" class=\"row_heading level0 row5\" >products</th>\n",
       "                        <td id=\"T_665077ba_d1f2_11ec_ab09_7085c220221arow5_col0\" class=\"data row5 col0\" >1.54457</td>\n",
       "                        <td id=\"T_665077ba_d1f2_11ec_ab09_7085c220221arow5_col1\" class=\"data row5 col1\" >1.51332</td>\n",
       "            </tr>\n",
       "            <tr>\n",
       "                        <th id=\"T_665077ba_d1f2_11ec_ab09_7085c220221alevel0_row6\" class=\"row_heading level0 row6\" >creditcard</th>\n",
       "                        <td id=\"T_665077ba_d1f2_11ec_ab09_7085c220221arow6_col0\" class=\"data row6 col0\" >0.699128</td>\n",
       "                        <td id=\"T_665077ba_d1f2_11ec_ab09_7085c220221arow6_col1\" class=\"data row6 col1\" >0.673123</td>\n",
       "            </tr>\n",
       "            <tr>\n",
       "                        <th id=\"T_665077ba_d1f2_11ec_ab09_7085c220221alevel0_row7\" class=\"row_heading level0 row7\" >loyalty</th>\n",
       "                        <td id=\"T_665077ba_d1f2_11ec_ab09_7085c220221arow7_col0\" class=\"data row7 col0\" >0.567345</td>\n",
       "                        <td id=\"T_665077ba_d1f2_11ec_ab09_7085c220221arow7_col1\" class=\"data row7 col1\" >0.341404</td>\n",
       "            </tr>\n",
       "            <tr>\n",
       "                        <th id=\"T_665077ba_d1f2_11ec_ab09_7085c220221alevel0_row8\" class=\"row_heading level0 row8\" >estimated_salary</th>\n",
       "                        <td id=\"T_665077ba_d1f2_11ec_ab09_7085c220221arow8_col0\" class=\"data row8 col0\" >98602.4</td>\n",
       "                        <td id=\"T_665077ba_d1f2_11ec_ab09_7085c220221arow8_col1\" class=\"data row8 col1\" >103630</td>\n",
       "            </tr>\n",
       "    </tbody></table>"
      ],
      "text/plain": [
       "<pandas.io.formats.style.Styler at 0x18a56649ec8>"
      ]
     },
     "execution_count": 21,
     "metadata": {},
     "output_type": "execute_result"
    }
   ],
   "source": [
    "rybinsk.groupby('churn').agg('mean').T.style"
   ]
  },
  {
   "cell_type": "code",
   "execution_count": 22,
   "id": "3d3f92ae",
   "metadata": {},
   "outputs": [
    {
     "data": {
      "text/html": [
       "<style  type=\"text/css\" >\n",
       "</style><table id=\"T_665334f6_d1f2_11ec_9558_7085c220221a\" ><thead>    <tr>        <th class=\"index_name level0\" >churn</th>        <th class=\"col_heading level0 col0\" >0</th>        <th class=\"col_heading level0 col1\" >1</th>    </tr></thead><tbody>\n",
       "                <tr>\n",
       "                        <th id=\"T_665334f6_d1f2_11ec_9558_7085c220221alevel0_row0\" class=\"row_heading level0 row0\" >userid</th>\n",
       "                        <td id=\"T_665334f6_d1f2_11ec_9558_7085c220221arow0_col0\" class=\"data row0 col0\" >1.5733e+07</td>\n",
       "                        <td id=\"T_665334f6_d1f2_11ec_9558_7085c220221arow0_col1\" class=\"data row0 col1\" >1.57354e+07</td>\n",
       "            </tr>\n",
       "            <tr>\n",
       "                        <th id=\"T_665334f6_d1f2_11ec_9558_7085c220221alevel0_row1\" class=\"row_heading level0 row1\" >score</th>\n",
       "                        <td id=\"T_665334f6_d1f2_11ec_9558_7085c220221arow1_col0\" class=\"data row1 col0\" >651.162</td>\n",
       "                        <td id=\"T_665334f6_d1f2_11ec_9558_7085c220221arow1_col1\" class=\"data row1 col1\" >641.915</td>\n",
       "            </tr>\n",
       "            <tr>\n",
       "                        <th id=\"T_665334f6_d1f2_11ec_9558_7085c220221alevel0_row2\" class=\"row_heading level0 row2\" >age</th>\n",
       "                        <td id=\"T_665334f6_d1f2_11ec_9558_7085c220221arow2_col0\" class=\"data row2 col0\" >37.236</td>\n",
       "                        <td id=\"T_665334f6_d1f2_11ec_9558_7085c220221arow2_col1\" class=\"data row2 col1\" >45.1333</td>\n",
       "            </tr>\n",
       "            <tr>\n",
       "                        <th id=\"T_665334f6_d1f2_11ec_9558_7085c220221alevel0_row3\" class=\"row_heading level0 row3\" >objects</th>\n",
       "                        <td id=\"T_665334f6_d1f2_11ec_9558_7085c220221arow3_col0\" class=\"data row3 col0\" >5.00547</td>\n",
       "                        <td id=\"T_665334f6_d1f2_11ec_9558_7085c220221arow3_col1\" class=\"data row3 col1\" >5</td>\n",
       "            </tr>\n",
       "            <tr>\n",
       "                        <th id=\"T_665334f6_d1f2_11ec_9558_7085c220221alevel0_row4\" class=\"row_heading level0 row4\" >balance</th>\n",
       "                        <td id=\"T_665334f6_d1f2_11ec_9558_7085c220221arow4_col0\" class=\"data row4 col0\" >119485</td>\n",
       "                        <td id=\"T_665334f6_d1f2_11ec_9558_7085c220221arow4_col1\" class=\"data row4 col1\" >121916</td>\n",
       "            </tr>\n",
       "            <tr>\n",
       "                        <th id=\"T_665334f6_d1f2_11ec_9558_7085c220221alevel0_row5\" class=\"row_heading level0 row5\" >products</th>\n",
       "                        <td id=\"T_665334f6_d1f2_11ec_9558_7085c220221arow5_col0\" class=\"data row5 col0\" >1.54139</td>\n",
       "                        <td id=\"T_665334f6_d1f2_11ec_9558_7085c220221arow5_col1\" class=\"data row5 col1\" >1.47654</td>\n",
       "            </tr>\n",
       "            <tr>\n",
       "                        <th id=\"T_665334f6_d1f2_11ec_9558_7085c220221alevel0_row6\" class=\"row_heading level0 row6\" >creditcard</th>\n",
       "                        <td id=\"T_665334f6_d1f2_11ec_9558_7085c220221arow6_col0\" class=\"data row6 col0\" >0.707422</td>\n",
       "                        <td id=\"T_665334f6_d1f2_11ec_9558_7085c220221arow6_col1\" class=\"data row6 col1\" >0.702469</td>\n",
       "            </tr>\n",
       "            <tr>\n",
       "                        <th id=\"T_665334f6_d1f2_11ec_9558_7085c220221alevel0_row7\" class=\"row_heading level0 row7\" >loyalty</th>\n",
       "                        <td id=\"T_665334f6_d1f2_11ec_9558_7085c220221arow7_col0\" class=\"data row7 col0\" >0.545433</td>\n",
       "                        <td id=\"T_665334f6_d1f2_11ec_9558_7085c220221arow7_col1\" class=\"data row7 col1\" >0.367901</td>\n",
       "            </tr>\n",
       "            <tr>\n",
       "                        <th id=\"T_665334f6_d1f2_11ec_9558_7085c220221alevel0_row8\" class=\"row_heading level0 row8\" >estimated_salary</th>\n",
       "                        <td id=\"T_665334f6_d1f2_11ec_9558_7085c220221arow8_col0\" class=\"data row8 col0\" >99217.1</td>\n",
       "                        <td id=\"T_665334f6_d1f2_11ec_9558_7085c220221arow8_col1\" class=\"data row8 col1\" >103439</td>\n",
       "            </tr>\n",
       "    </tbody></table>"
      ],
      "text/plain": [
       "<pandas.io.formats.style.Styler at 0x18a56649708>"
      ]
     },
     "execution_count": 22,
     "metadata": {},
     "output_type": "execute_result"
    }
   ],
   "source": [
    "yaroslavl.groupby('churn').agg('mean').T.style"
   ]
  },
  {
   "cell_type": "markdown",
   "id": "91ba03f6",
   "metadata": {},
   "source": [
    "Сделаем выводы по каждому городу\n"
   ]
  },
  {
   "cell_type": "markdown",
   "id": "82bb99d0",
   "metadata": {},
   "source": [
    "<table class=\"iksweb\">\n",
    "\t<tbody>\n",
    "\t\t<tr>\n",
    "\t\t\t<td>город</td>\n",
    "\t\t\t<td>Остались</td>\n",
    "\t\t\t<td>Уходят</td>\n",
    "\t\t</tr>\n",
    "\t\t<tr>\n",
    "\t\t\t<td>Ростов Великий</td>\n",
    "\t\t\t<td>2 продукта или 1</td>\n",
    "\t\t\t<td>возраст 45+\n",
    " до 4х кредитных продукта, но чаще 1 <br>\n",
    "доход немного ниже<br>\n",
    "женщин больше<br>\n",
    "владельцев кредитных карт в 2 раза больше<br>\n",
    "большинство не имеют активности</td>\n",
    "\t\t</tr>\n",
    "\t\t<tr>\n",
    "\t\t\t<td>Рыбинск</td>\n",
    "\t\t\t<td> 2 продукта или 1<br>\n",
    "объектов почти в 2 раза больше</td>\n",
    "\t\t\t<td>средний возраст 44\n",
    "женщин чуть больше<br>\n",
    "4х кредитных продукта,но чаще 1<br>\n",
    "доход немного выше<br>\n",
    "большинство имело кредитную карту<br>\n",
    "большинство  не имело активности </td>\n",
    "\t\t</tr>\n",
    "\t\t<tr>\n",
    "\t\t\t<td>Ярославль</td>\n",
    "\t\t\t<td>объектов почти на 50% больше<br>\n",
    "количество продуктов не больше 2х</td>\n",
    "\t\t\t<td>средний возраст 45+<br>\n",
    "доход немного выше<br>\n",
    "женщин чуть больше<br>\n",
    "большинство имело кредитную карту<br>\n",
    "большинство  не имело активности </td>\n",
    "\t\t</tr>\n",
    "\t</tbody>\n",
    "</table>"
   ]
  },
  {
   "cell_type": "code",
   "execution_count": 23,
   "id": "ab8dd674",
   "metadata": {},
   "outputs": [
    {
     "data": {
      "image/png": "[encoded data removed]",
      "text/plain": [
       "<Figure size 1080x864 with 2 Axes>"
      ]
     },
     "metadata": {
      "needs_background": "light"
     },
     "output_type": "display_data"
    }
   ],
   "source": [
    "# Посторим матрицу корреляций\n",
    "cm = df.corr()\n",
    "plt.figure(figsize=(15, 12))\n",
    "heatmap = sns.heatmap(cm, annot=True, square=True, cmap= 'OrRd')\n",
    "heatmap.set_title('Матрица корреляций', fontdict={'fontsize':12}, pad=12);"
   ]
  },
  {
   "cell_type": "markdown",
   "id": "b22abe76",
   "metadata": {},
   "source": [
    "<div class='alert alert-success'> 👍\n",
    "Круто что владеешь такой мощной техникой визуализации как тепловая карта. На ней прекрасно видно что особых корреляций между признаками нет. В такой ситуации стоит подумать о том, что возможно признаки имеют нелинейные связи. Для выявления таких нелинейных взаимосвязей я рекомендую дополнительно посмотреть на корреляцию Спирмена, а в идеале познакомиться с очень продвинутым коэффициентом корреляции Phik. С его помощью можно получать адекватные значения корреляции для данных любой природы. https://phik.readthedocs.io/en/latest/introduction.html\n"
   ]
  },
  {
   "cell_type": "markdown",
   "id": "0dc304a0",
   "metadata": {},
   "source": [
    "<div class='alert alert-warning'> ⚠️\n",
    "На мой взгляд тут не хватает исследования зависимостей по городам, для этого тебе прежде всего необходимо закодировать данный признак. С one-hot кодировкой могут получаться правильные значения корреляции, чего не скажешь о порядковой кодировке. При ordinal кодировке значения корреляции будут получаться разными при выборе другого порядка кодирования.\n"
   ]
  },
  {
   "cell_type": "markdown",
   "id": "9eed2423",
   "metadata": {},
   "source": [
    "\n",
    "В матрице нет заметных корреляций."
   ]
  },
  {
   "cell_type": "code",
   "execution_count": 24,
   "id": "9ab460e1",
   "metadata": {},
   "outputs": [
    {
     "data": {
      "text/html": [
       "<div>\n",
       "<style scoped>\n",
       "    .dataframe tbody tr th:only-of-type {\n",
       "        vertical-align: middle;\n",
       "    }\n",
       "\n",
       "    .dataframe tbody tr th {\n",
       "        vertical-align: top;\n",
       "    }\n",
       "\n",
       "    .dataframe thead th {\n",
       "        text-align: right;\n",
       "    }\n",
       "</style>\n",
       "<table border=\"1\" class=\"dataframe\">\n",
       "  <thead>\n",
       "    <tr style=\"text-align: right;\">\n",
       "      <th></th>\n",
       "      <th>userid</th>\n",
       "      <th>score</th>\n",
       "      <th>gender</th>\n",
       "      <th>age</th>\n",
       "      <th>objects</th>\n",
       "      <th>balance</th>\n",
       "      <th>products</th>\n",
       "      <th>creditcard</th>\n",
       "      <th>loyalty</th>\n",
       "      <th>estimated_salary</th>\n",
       "      <th>churn</th>\n",
       "      <th>city_encode_Ростов Великий</th>\n",
       "      <th>city_encode_Рыбинск</th>\n",
       "      <th>city_encode_Ярославль</th>\n",
       "    </tr>\n",
       "  </thead>\n",
       "  <tbody>\n",
       "    <tr>\n",
       "      <td>0</td>\n",
       "      <td>15677338</td>\n",
       "      <td>619</td>\n",
       "      <td>Ж</td>\n",
       "      <td>42</td>\n",
       "      <td>2</td>\n",
       "      <td>NaN</td>\n",
       "      <td>1</td>\n",
       "      <td>1</td>\n",
       "      <td>1</td>\n",
       "      <td>101348.88</td>\n",
       "      <td>1</td>\n",
       "      <td>0</td>\n",
       "      <td>0</td>\n",
       "      <td>1</td>\n",
       "    </tr>\n",
       "    <tr>\n",
       "      <td>1</td>\n",
       "      <td>15690047</td>\n",
       "      <td>608</td>\n",
       "      <td>Ж</td>\n",
       "      <td>41</td>\n",
       "      <td>1</td>\n",
       "      <td>83807.86</td>\n",
       "      <td>1</td>\n",
       "      <td>0</td>\n",
       "      <td>1</td>\n",
       "      <td>112542.58</td>\n",
       "      <td>0</td>\n",
       "      <td>0</td>\n",
       "      <td>1</td>\n",
       "      <td>0</td>\n",
       "    </tr>\n",
       "    <tr>\n",
       "      <td>2</td>\n",
       "      <td>15662040</td>\n",
       "      <td>502</td>\n",
       "      <td>Ж</td>\n",
       "      <td>42</td>\n",
       "      <td>8</td>\n",
       "      <td>159660.80</td>\n",
       "      <td>3</td>\n",
       "      <td>1</td>\n",
       "      <td>0</td>\n",
       "      <td>113931.57</td>\n",
       "      <td>1</td>\n",
       "      <td>0</td>\n",
       "      <td>0</td>\n",
       "      <td>1</td>\n",
       "    </tr>\n",
       "    <tr>\n",
       "      <td>3</td>\n",
       "      <td>15744090</td>\n",
       "      <td>699</td>\n",
       "      <td>Ж</td>\n",
       "      <td>39</td>\n",
       "      <td>1</td>\n",
       "      <td>NaN</td>\n",
       "      <td>2</td>\n",
       "      <td>0</td>\n",
       "      <td>0</td>\n",
       "      <td>93826.63</td>\n",
       "      <td>0</td>\n",
       "      <td>0</td>\n",
       "      <td>0</td>\n",
       "      <td>1</td>\n",
       "    </tr>\n",
       "    <tr>\n",
       "      <td>4</td>\n",
       "      <td>15780624</td>\n",
       "      <td>850</td>\n",
       "      <td>Ж</td>\n",
       "      <td>43</td>\n",
       "      <td>2</td>\n",
       "      <td>125510.82</td>\n",
       "      <td>1</td>\n",
       "      <td>1</td>\n",
       "      <td>1</td>\n",
       "      <td>79084.10</td>\n",
       "      <td>0</td>\n",
       "      <td>0</td>\n",
       "      <td>1</td>\n",
       "      <td>0</td>\n",
       "    </tr>\n",
       "  </tbody>\n",
       "</table>\n",
       "</div>"
      ],
      "text/plain": [
       "     userid  score gender  age  objects    balance  products  creditcard  \\\n",
       "0  15677338    619      Ж   42        2        NaN         1           1   \n",
       "1  15690047    608      Ж   41        1   83807.86         1           0   \n",
       "2  15662040    502      Ж   42        8  159660.80         3           1   \n",
       "3  15744090    699      Ж   39        1        NaN         2           0   \n",
       "4  15780624    850      Ж   43        2  125510.82         1           1   \n",
       "\n",
       "   loyalty  estimated_salary  churn  city_encode_Ростов Великий  \\\n",
       "0        1         101348.88      1                           0   \n",
       "1        1         112542.58      0                           0   \n",
       "2        0         113931.57      1                           0   \n",
       "3        0          93826.63      0                           0   \n",
       "4        1          79084.10      0                           0   \n",
       "\n",
       "   city_encode_Рыбинск  city_encode_Ярославль  \n",
       "0                    0                      1  \n",
       "1                    1                      0  \n",
       "2                    0                      1  \n",
       "3                    0                      1  \n",
       "4                    1                      0  "
      ]
     },
     "execution_count": 24,
     "metadata": {},
     "output_type": "execute_result"
    }
   ],
   "source": [
    "df_new = pd.get_dummies(df, columns=['city'], prefix='city_encode')\n",
    "df_new.head()"
   ]
  },
  {
   "cell_type": "code",
   "execution_count": 25,
   "id": "6b35810a",
   "metadata": {},
   "outputs": [
    {
     "data": {
      "image/png": "[encoded data removed]",
      "text/plain": [
       "<Figure size 1008x864 with 2 Axes>"
      ]
     },
     "metadata": {
      "needs_background": "light"
     },
     "output_type": "display_data"
    }
   ],
   "source": [
    "cm_new = df_new.corr()\n",
    "\n",
    "# нарисуем тепловую карту с подписями для новой матрицы корреляций - с кодировкой по городам\n",
    "plt.figure(figsize=(14, 12))\n",
    "sns.heatmap(cm_new, annot=True, square=True)\n",
    "plt.show()"
   ]
  },
  {
   "cell_type": "markdown",
   "id": "3127b59c",
   "metadata": {},
   "source": [
    "<div class='alert alert-info'>\n",
    "Построила, но и для новой матрицы корреляций (с кодировкой городов) линейной зависимости между оттоком пользователей и признаками не наблюдается. phik изучу, спасибо"
   ]
  },
  {
   "cell_type": "markdown",
   "id": "f3f23a2e",
   "metadata": {},
   "source": [
    "##  Вывод по шагу\n",
    "В целом по клиентам, ушедших из банка, нет существенных различий между гордами. Ушедшие клиенты во всех городах - это в большинстве случаев женщины возраста 44+, владельцы кредитных карт с баллами кредитного скоринга от 643 до 647. Ушедшие клиенты - владельцы чаще 5 объектов и потребители не более 2х банковских продуктов.По матрице корреляции нет заметных корреляций, есть слабая зависимость от возраста. "
   ]
  },
  {
   "cell_type": "markdown",
   "id": "09ca44cc",
   "metadata": {},
   "source": [
    "# Сегментация пользователей банка"
   ]
  },
  {
   "cell_type": "markdown",
   "id": "739a96c2",
   "metadata": {},
   "source": [
    "## Сегментация ушедших клиентов по потребляемым продуктам в Ярославле"
   ]
  },
  {
   "cell_type": "code",
   "execution_count": 26,
   "id": "686d72d6",
   "metadata": {},
   "outputs": [
    {
     "data": {
      "text/plain": [
       "products  gender\n",
       "1         Ж         311\n",
       "          М         253\n",
       "2         Ж          82\n",
       "          М          53\n",
       "3         Ж          48\n",
       "          М          34\n",
       "4         Ж          19\n",
       "          М          10\n",
       "Name: userid, dtype: int64"
      ]
     },
     "execution_count": 26,
     "metadata": {},
     "output_type": "execute_result"
    }
   ],
   "source": [
    "churn_yaroslavl = yaroslavl.query('churn == 1')\n",
    "churn_yaroslavl.groupby(['products', 'gender'])['userid'].count()"
   ]
  },
  {
   "cell_type": "code",
   "execution_count": 27,
   "id": "48311f57",
   "metadata": {},
   "outputs": [
    {
     "data": {
      "text/html": [
       "<div>\n",
       "<style scoped>\n",
       "    .dataframe tbody tr th:only-of-type {\n",
       "        vertical-align: middle;\n",
       "    }\n",
       "\n",
       "    .dataframe tbody tr th {\n",
       "        vertical-align: top;\n",
       "    }\n",
       "\n",
       "    .dataframe thead th {\n",
       "        text-align: right;\n",
       "    }\n",
       "</style>\n",
       "<table border=\"1\" class=\"dataframe\">\n",
       "  <thead>\n",
       "    <tr style=\"text-align: right;\">\n",
       "      <th></th>\n",
       "      <th></th>\n",
       "      <th>age</th>\n",
       "      <th>creditcard</th>\n",
       "      <th>estimated_salary</th>\n",
       "      <th>loyalty</th>\n",
       "      <th>objects</th>\n",
       "      <th>score</th>\n",
       "    </tr>\n",
       "    <tr>\n",
       "      <th>products</th>\n",
       "      <th>gender</th>\n",
       "      <th></th>\n",
       "      <th></th>\n",
       "      <th></th>\n",
       "      <th></th>\n",
       "      <th></th>\n",
       "      <th></th>\n",
       "    </tr>\n",
       "  </thead>\n",
       "  <tbody>\n",
       "    <tr>\n",
       "      <td rowspan=\"2\" valign=\"top\">1</td>\n",
       "      <td>Ж</td>\n",
       "      <td>45.527331</td>\n",
       "      <td>0.723473</td>\n",
       "      <td>104074.203376</td>\n",
       "      <td>0.360129</td>\n",
       "      <td>4.797428</td>\n",
       "      <td>642.684887</td>\n",
       "    </tr>\n",
       "    <tr>\n",
       "      <td>М</td>\n",
       "      <td>45.083004</td>\n",
       "      <td>0.711462</td>\n",
       "      <td>99675.612332</td>\n",
       "      <td>0.320158</td>\n",
       "      <td>5.181818</td>\n",
       "      <td>643.339921</td>\n",
       "    </tr>\n",
       "    <tr>\n",
       "      <td rowspan=\"2\" valign=\"top\">2</td>\n",
       "      <td>Ж</td>\n",
       "      <td>43.792683</td>\n",
       "      <td>0.634146</td>\n",
       "      <td>102623.638659</td>\n",
       "      <td>0.402439</td>\n",
       "      <td>5.097561</td>\n",
       "      <td>645.487805</td>\n",
       "    </tr>\n",
       "    <tr>\n",
       "      <td>М</td>\n",
       "      <td>44.301887</td>\n",
       "      <td>0.641509</td>\n",
       "      <td>103983.862642</td>\n",
       "      <td>0.471698</td>\n",
       "      <td>4.339623</td>\n",
       "      <td>623.207547</td>\n",
       "    </tr>\n",
       "    <tr>\n",
       "      <td rowspan=\"2\" valign=\"top\">3</td>\n",
       "      <td>Ж</td>\n",
       "      <td>45.750000</td>\n",
       "      <td>0.666667</td>\n",
       "      <td>97418.084792</td>\n",
       "      <td>0.312500</td>\n",
       "      <td>5.020833</td>\n",
       "      <td>635.770833</td>\n",
       "    </tr>\n",
       "    <tr>\n",
       "      <td>М</td>\n",
       "      <td>44.088235</td>\n",
       "      <td>0.882353</td>\n",
       "      <td>122136.290294</td>\n",
       "      <td>0.441176</td>\n",
       "      <td>5.441176</td>\n",
       "      <td>633.029412</td>\n",
       "    </tr>\n",
       "    <tr>\n",
       "      <td rowspan=\"2\" valign=\"top\">4</td>\n",
       "      <td>Ж</td>\n",
       "      <td>47.736842</td>\n",
       "      <td>0.631579</td>\n",
       "      <td>116299.360000</td>\n",
       "      <td>0.631579</td>\n",
       "      <td>5.947368</td>\n",
       "      <td>677.421053</td>\n",
       "    </tr>\n",
       "    <tr>\n",
       "      <td>М</td>\n",
       "      <td>45.200000</td>\n",
       "      <td>0.400000</td>\n",
       "      <td>123613.538000</td>\n",
       "      <td>0.500000</td>\n",
       "      <td>6.000000</td>\n",
       "      <td>644.000000</td>\n",
       "    </tr>\n",
       "  </tbody>\n",
       "</table>\n",
       "</div>"
      ],
      "text/plain": [
       "                       age  creditcard  estimated_salary   loyalty   objects  \\\n",
       "products gender                                                                \n",
       "1        Ж       45.527331    0.723473     104074.203376  0.360129  4.797428   \n",
       "         М       45.083004    0.711462      99675.612332  0.320158  5.181818   \n",
       "2        Ж       43.792683    0.634146     102623.638659  0.402439  5.097561   \n",
       "         М       44.301887    0.641509     103983.862642  0.471698  4.339623   \n",
       "3        Ж       45.750000    0.666667      97418.084792  0.312500  5.020833   \n",
       "         М       44.088235    0.882353     122136.290294  0.441176  5.441176   \n",
       "4        Ж       47.736842    0.631579     116299.360000  0.631579  5.947368   \n",
       "         М       45.200000    0.400000     123613.538000  0.500000  6.000000   \n",
       "\n",
       "                      score  \n",
       "products gender              \n",
       "1        Ж       642.684887  \n",
       "         М       643.339921  \n",
       "2        Ж       645.487805  \n",
       "         М       623.207547  \n",
       "3        Ж       635.770833  \n",
       "         М       633.029412  \n",
       "4        Ж       677.421053  \n",
       "         М       644.000000  "
      ]
     },
     "execution_count": 27,
     "metadata": {},
     "output_type": "execute_result"
    }
   ],
   "source": [
    "yaroslavl.query('churn == 1').pivot_table(index=['products', 'gender'], values=['score', 'age', 'objects', 'creditcard', 'loyalty', 'estimated_salary'], aggfunc='mean')"
   ]
  },
  {
   "cell_type": "markdown",
   "id": "7ed7fdf7",
   "metadata": {},
   "source": [
    "Ушедшие клиенты в Ярославле по кол-ву продуктов:<br>\n",
    "\n",
    "C 1 продуктом - преимущественно женщины (55%) 46 лет, в 72% случаев являлись владельцами кредитных карт с  доходом в 104 тыс. руб. и с довольно низкой активностью (36%), владелицы не менее 4х и не более 5 объектов и со средним баллом кредитного скоринга равным 643. Мужчины (их 45%) чуть младше, но также возраста 45+, в 71% случаев являлись владельцами кредитных карт с оцененным доходом в 100 тыс рублей, так же с низкой активностью (в 32%), владельцы не менее 5 объектов и со средним баллом кредитного скоринга равным 643.<br>\n",
    "\n",
    "С 2 продуктами - преимущественно женщины (61%) возрастом ближе к 44 годам, в 63% случаев являлись владельцами кредитных карт с доходом в 103 тыс. руб. и с активностью 40%, владелицы не менее 5 объектов и со средним баллом кредитного скоринга равным 645. Мужчины (39%) чуть старше (44 г), в 64% случаев являлись владельцами кредитных карт с доходом в 104 тыс рублей, с чуть более высокой активностью в 47%), владельцы не менее 4 и не более 5 объектов и со средним баллом кредитного скоринга равным 623.<br>\n",
    "\n",
    "С 3 продуктами - преимущественно женщины (59%) 46 лет, в 67% случаев являлись владельцами кредитных карт с оцененным доходом в 97 тыс. руб. и с довольно низкой активностью (31%), владелицы 5 объектов и со средним баллом кредитного скоринга равным 636. Мужчины (41%) чуть младше, но также возраста 44+, в 88% случаев являлись владельцами кредитных карт с оцененным доходом в 122 тыс рублей, с более высокой активностью в 44%, владельцы 5 объектов и со средним баллом кредитного скоринга равным 633.<br>\n",
    "\n",
    "С 4 продуктами - преимущественно женщины (66%) 48 лет в 63% случаев являлись владельцами кредитных карт с  доходом в 116 тыс. руб. и с довольно высокой активностью (63%), владелицы не менее 5 и не более 6 объектов и со средним баллом кредитного скоринга равным 677. Мужчины (их 34%) чуть младше, но также возхраста 45+, в 40% случаев являлись владельцами кредитных карт с доходом в 124 тыс рублей, со средней активностью (в 50%), владельцы 6 объектов и со средним баллом кредитного скоринга равным 644."
   ]
  },
  {
   "cell_type": "markdown",
   "id": "8073d9f7",
   "metadata": {},
   "source": [
    "## Сегментация оставшихся клиентов по потребляемым продуктам в Ярославле"
   ]
  },
  {
   "cell_type": "code",
   "execution_count": 28,
   "id": "b2b8bca7",
   "metadata": {},
   "outputs": [
    {
     "data": {
      "text/plain": [
       "products  gender\n",
       "1         Ж          805\n",
       "          М         1145\n",
       "2         Ж          989\n",
       "          М         1243\n",
       "3         Ж            7\n",
       "          М           15\n",
       "Name: userid, dtype: int64"
      ]
     },
     "execution_count": 28,
     "metadata": {},
     "output_type": "execute_result"
    }
   ],
   "source": [
    "stay_yaroslavl = yaroslavl.query('churn == 0')\n",
    "stay_yaroslavl.groupby(['products', 'gender'])['userid'].count()"
   ]
  },
  {
   "cell_type": "code",
   "execution_count": 29,
   "id": "d60f75c7",
   "metadata": {},
   "outputs": [
    {
     "data": {
      "text/html": [
       "<div>\n",
       "<style scoped>\n",
       "    .dataframe tbody tr th:only-of-type {\n",
       "        vertical-align: middle;\n",
       "    }\n",
       "\n",
       "    .dataframe tbody tr th {\n",
       "        vertical-align: top;\n",
       "    }\n",
       "\n",
       "    .dataframe thead th {\n",
       "        text-align: right;\n",
       "    }\n",
       "</style>\n",
       "<table border=\"1\" class=\"dataframe\">\n",
       "  <thead>\n",
       "    <tr style=\"text-align: right;\">\n",
       "      <th></th>\n",
       "      <th></th>\n",
       "      <th>age</th>\n",
       "      <th>creditcard</th>\n",
       "      <th>estimated_salary</th>\n",
       "      <th>loyalty</th>\n",
       "      <th>objects</th>\n",
       "      <th>score</th>\n",
       "    </tr>\n",
       "    <tr>\n",
       "      <th>products</th>\n",
       "      <th>gender</th>\n",
       "      <th></th>\n",
       "      <th></th>\n",
       "      <th></th>\n",
       "      <th></th>\n",
       "      <th></th>\n",
       "      <th></th>\n",
       "    </tr>\n",
       "  </thead>\n",
       "  <tbody>\n",
       "    <tr>\n",
       "      <td rowspan=\"2\" valign=\"top\">1</td>\n",
       "      <td>Ж</td>\n",
       "      <td>37.428571</td>\n",
       "      <td>0.696894</td>\n",
       "      <td>95513.174360</td>\n",
       "      <td>0.566460</td>\n",
       "      <td>4.934161</td>\n",
       "      <td>648.546584</td>\n",
       "    </tr>\n",
       "    <tr>\n",
       "      <td>М</td>\n",
       "      <td>37.372926</td>\n",
       "      <td>0.715284</td>\n",
       "      <td>99397.785476</td>\n",
       "      <td>0.534498</td>\n",
       "      <td>4.979039</td>\n",
       "      <td>650.066376</td>\n",
       "    </tr>\n",
       "    <tr>\n",
       "      <td rowspan=\"2\" valign=\"top\">2</td>\n",
       "      <td>Ж</td>\n",
       "      <td>36.826087</td>\n",
       "      <td>0.696663</td>\n",
       "      <td>101135.675996</td>\n",
       "      <td>0.535895</td>\n",
       "      <td>4.967644</td>\n",
       "      <td>651.939333</td>\n",
       "    </tr>\n",
       "    <tr>\n",
       "      <td>М</td>\n",
       "      <td>37.242961</td>\n",
       "      <td>0.714401</td>\n",
       "      <td>100177.948946</td>\n",
       "      <td>0.547868</td>\n",
       "      <td>5.108608</td>\n",
       "      <td>652.788415</td>\n",
       "    </tr>\n",
       "    <tr>\n",
       "      <td rowspan=\"2\" valign=\"top\">3</td>\n",
       "      <td>Ж</td>\n",
       "      <td>37.714286</td>\n",
       "      <td>1.000000</td>\n",
       "      <td>76502.147143</td>\n",
       "      <td>0.571429</td>\n",
       "      <td>6.142857</td>\n",
       "      <td>681.142857</td>\n",
       "    </tr>\n",
       "    <tr>\n",
       "      <td>М</td>\n",
       "      <td>42.666667</td>\n",
       "      <td>0.666667</td>\n",
       "      <td>88681.221333</td>\n",
       "      <td>0.666667</td>\n",
       "      <td>4.266667</td>\n",
       "      <td>675.200000</td>\n",
       "    </tr>\n",
       "  </tbody>\n",
       "</table>\n",
       "</div>"
      ],
      "text/plain": [
       "                       age  creditcard  estimated_salary   loyalty   objects  \\\n",
       "products gender                                                                \n",
       "1        Ж       37.428571    0.696894      95513.174360  0.566460  4.934161   \n",
       "         М       37.372926    0.715284      99397.785476  0.534498  4.979039   \n",
       "2        Ж       36.826087    0.696663     101135.675996  0.535895  4.967644   \n",
       "         М       37.242961    0.714401     100177.948946  0.547868  5.108608   \n",
       "3        Ж       37.714286    1.000000      76502.147143  0.571429  6.142857   \n",
       "         М       42.666667    0.666667      88681.221333  0.666667  4.266667   \n",
       "\n",
       "                      score  \n",
       "products gender              \n",
       "1        Ж       648.546584  \n",
       "         М       650.066376  \n",
       "2        Ж       651.939333  \n",
       "         М       652.788415  \n",
       "3        Ж       681.142857  \n",
       "         М       675.200000  "
      ]
     },
     "execution_count": 29,
     "metadata": {},
     "output_type": "execute_result"
    }
   ],
   "source": [
    "yaroslavl.query('churn == 0').pivot_table(index=['products', 'gender'], values=['score', 'age', 'objects', 'creditcard', 'loyalty', 'estimated_salary'], aggfunc='mean') "
   ]
  },
  {
   "cell_type": "markdown",
   "id": "1708f58c",
   "metadata": {},
   "source": [
    "Оставшиеся клиенты в Ярославле по кол-ву продуктов:<br>\n",
    "С 1 продуктом - преимущественно мужчины (59%) 37 лет, в 72% случаев являются владельцами кредитных карт с доходом в 99 тыс. руб. и со средней активностью (53%), владельцы не менее 4 и не более 5 объектов и со средним баллом кредитного скоринга равным 650. Женщины (их 41%) того же возраста, в 70% случаев являются владельцами кредитных карт с доходом в 96 тыс рублей, так же со средней активностью (в 57%), владельцы не менее 4 и не более 5 объектов и со средним баллом кредитного скоринга равным 649.<br>\n",
    "С 2 продуктами - преимущественно мужчины (56%) 37 лет, в 71% случаев являются владельцами кредитных карт с доходом в 100 тыс. руб. и со средней активностью (55%), владельцы 5 объектов и со средним баллом кредитного скоринга равным 653. Женщины (их 44%) чуть младше, но также возраста 35+, в 70% случаев являются владельцами кредитных карт с  доходом в 101 тыс рублей, так же со средней активностью (в 54%), владельцы не менее 4 и не более 5 объектов и со средним баллом кредитного скоринга равным 652.<br>\n",
    "С 3 продуктами - преимущественно мужчины (68%) 43 лет, в 67% случаев являются владельцами кредитных карт с доходом в 89 тыс. руб. и с активностью в 67%, владельцы в среднем 4 объектов и со средним баллом кредитного скоринга равным 675. ХЖенщины (их 32%) 38 лет, в 100% случаев являются владельцами кредитных карт с доходом в 77 тыс рублей, с активностью в 57%, владельцы 6 объектов и со средним баллом кредитного скоринга равным 681.<br>\n",
    "Среди оставшихся клиентов потребителей 4 продуктов нет."
   ]
  },
  {
   "cell_type": "markdown",
   "id": "4ddea2e8",
   "metadata": {},
   "source": [
    "## Сегментация ушедших клиентов по потребляемым продуктам в Рыбинске"
   ]
  },
  {
   "cell_type": "code",
   "execution_count": 30,
   "id": "48e4b633",
   "metadata": {},
   "outputs": [
    {
     "data": {
      "text/plain": [
       "products  gender\n",
       "1         Ж         138\n",
       "          М         129\n",
       "2         Ж          53\n",
       "          М          34\n",
       "3         Ж          35\n",
       "          М          17\n",
       "4         Ж           5\n",
       "          М           2\n",
       "Name: userid, dtype: int64"
      ]
     },
     "execution_count": 30,
     "metadata": {},
     "output_type": "execute_result"
    }
   ],
   "source": [
    "churn_rybinsk = rybinsk.query('churn == 1')\n",
    "churn_rybinsk.groupby(['products', 'gender'])['userid'].count()"
   ]
  },
  {
   "cell_type": "code",
   "execution_count": 31,
   "id": "397f9028",
   "metadata": {},
   "outputs": [],
   "source": [
    "# df_rybinsk.query('churn == 1').pivot_table(index=['products', 'gender'], values=['score', 'age', 'objects', 'creditcard', 'loyalty', 'estimated_salary'],  aggfunc='mean') "
   ]
  },
  {
   "cell_type": "markdown",
   "id": "043aae75",
   "metadata": {},
   "source": [
    "<div class='alert alert-danger'> ⛔️\n",
    "Таких ошибок быть не должно, все ячейки должны выполняться при последовательном запуске."
   ]
  },
  {
   "cell_type": "code",
   "execution_count": 32,
   "id": "2b8b0074",
   "metadata": {},
   "outputs": [
    {
     "data": {
      "text/html": [
       "<div>\n",
       "<style scoped>\n",
       "    .dataframe tbody tr th:only-of-type {\n",
       "        vertical-align: middle;\n",
       "    }\n",
       "\n",
       "    .dataframe tbody tr th {\n",
       "        vertical-align: top;\n",
       "    }\n",
       "\n",
       "    .dataframe thead th {\n",
       "        text-align: right;\n",
       "    }\n",
       "</style>\n",
       "<table border=\"1\" class=\"dataframe\">\n",
       "  <thead>\n",
       "    <tr style=\"text-align: right;\">\n",
       "      <th></th>\n",
       "      <th></th>\n",
       "      <th>age</th>\n",
       "      <th>creditcard</th>\n",
       "      <th>estimated_salary</th>\n",
       "      <th>loyalty</th>\n",
       "      <th>objects</th>\n",
       "      <th>score</th>\n",
       "    </tr>\n",
       "    <tr>\n",
       "      <th>products</th>\n",
       "      <th>gender</th>\n",
       "      <th></th>\n",
       "      <th></th>\n",
       "      <th></th>\n",
       "      <th></th>\n",
       "      <th></th>\n",
       "      <th></th>\n",
       "    </tr>\n",
       "  </thead>\n",
       "  <tbody>\n",
       "    <tr>\n",
       "      <td rowspan=\"2\" valign=\"top\">1</td>\n",
       "      <td>Ж</td>\n",
       "      <td>43.340580</td>\n",
       "      <td>0.688406</td>\n",
       "      <td>104989.564928</td>\n",
       "      <td>0.304348</td>\n",
       "      <td>4.702899</td>\n",
       "      <td>646.818841</td>\n",
       "    </tr>\n",
       "    <tr>\n",
       "      <td>М</td>\n",
       "      <td>44.674419</td>\n",
       "      <td>0.689922</td>\n",
       "      <td>102456.110698</td>\n",
       "      <td>0.364341</td>\n",
       "      <td>4.565891</td>\n",
       "      <td>641.007752</td>\n",
       "    </tr>\n",
       "    <tr>\n",
       "      <td rowspan=\"2\" valign=\"top\">2</td>\n",
       "      <td>Ж</td>\n",
       "      <td>44.433962</td>\n",
       "      <td>0.660377</td>\n",
       "      <td>113041.158679</td>\n",
       "      <td>0.377358</td>\n",
       "      <td>4.509434</td>\n",
       "      <td>646.830189</td>\n",
       "    </tr>\n",
       "    <tr>\n",
       "      <td>М</td>\n",
       "      <td>46.764706</td>\n",
       "      <td>0.617647</td>\n",
       "      <td>83094.017353</td>\n",
       "      <td>0.294118</td>\n",
       "      <td>5.294118</td>\n",
       "      <td>680.147059</td>\n",
       "    </tr>\n",
       "    <tr>\n",
       "      <td rowspan=\"2\" valign=\"top\">3</td>\n",
       "      <td>Ж</td>\n",
       "      <td>42.971429</td>\n",
       "      <td>0.628571</td>\n",
       "      <td>116069.042000</td>\n",
       "      <td>0.371429</td>\n",
       "      <td>4.800000</td>\n",
       "      <td>630.285714</td>\n",
       "    </tr>\n",
       "    <tr>\n",
       "      <td>М</td>\n",
       "      <td>42.588235</td>\n",
       "      <td>0.529412</td>\n",
       "      <td>98440.522353</td>\n",
       "      <td>0.411765</td>\n",
       "      <td>3.764706</td>\n",
       "      <td>675.411765</td>\n",
       "    </tr>\n",
       "    <tr>\n",
       "      <td rowspan=\"2\" valign=\"top\">4</td>\n",
       "      <td>Ж</td>\n",
       "      <td>46.800000</td>\n",
       "      <td>1.000000</td>\n",
       "      <td>60105.656000</td>\n",
       "      <td>0.400000</td>\n",
       "      <td>5.000000</td>\n",
       "      <td>695.200000</td>\n",
       "    </tr>\n",
       "    <tr>\n",
       "      <td>М</td>\n",
       "      <td>41.000000</td>\n",
       "      <td>1.000000</td>\n",
       "      <td>120398.135000</td>\n",
       "      <td>0.000000</td>\n",
       "      <td>4.500000</td>\n",
       "      <td>517.500000</td>\n",
       "    </tr>\n",
       "  </tbody>\n",
       "</table>\n",
       "</div>"
      ],
      "text/plain": [
       "                       age  creditcard  estimated_salary   loyalty   objects  \\\n",
       "products gender                                                                \n",
       "1        Ж       43.340580    0.688406     104989.564928  0.304348  4.702899   \n",
       "         М       44.674419    0.689922     102456.110698  0.364341  4.565891   \n",
       "2        Ж       44.433962    0.660377     113041.158679  0.377358  4.509434   \n",
       "         М       46.764706    0.617647      83094.017353  0.294118  5.294118   \n",
       "3        Ж       42.971429    0.628571     116069.042000  0.371429  4.800000   \n",
       "         М       42.588235    0.529412      98440.522353  0.411765  3.764706   \n",
       "4        Ж       46.800000    1.000000      60105.656000  0.400000  5.000000   \n",
       "         М       41.000000    1.000000     120398.135000  0.000000  4.500000   \n",
       "\n",
       "                      score  \n",
       "products gender              \n",
       "1        Ж       646.818841  \n",
       "         М       641.007752  \n",
       "2        Ж       646.830189  \n",
       "         М       680.147059  \n",
       "3        Ж       630.285714  \n",
       "         М       675.411765  \n",
       "4        Ж       695.200000  \n",
       "         М       517.500000  "
      ]
     },
     "execution_count": 32,
     "metadata": {},
     "output_type": "execute_result"
    }
   ],
   "source": [
    "rybinsk.query('churn == 1').pivot_table(index=['products', 'gender'], values=['score', 'age', 'objects', 'creditcard', 'loyalty', 'estimated_salary'],  aggfunc='mean') "
   ]
  },
  {
   "cell_type": "markdown",
   "id": "70e431bc",
   "metadata": {},
   "source": [
    "<div class='alert alert-info'>\n",
    "Исправила"
   ]
  },
  {
   "cell_type": "markdown",
   "id": "2eff399b",
   "metadata": {},
   "source": [
    "Ушедшие клиенты в Рыбинске по кол-ву продуктов:<br>\n",
    "\n",
    "С 1 продуктом - преимущественно женщины (52%) 43 лет, в 69% случаев являлись владельцами кредитных карт с оцененным доходом в 105 тыс. руб. и с довольно низкой активностью (30%), владелицы не менее 4х и не более 5 объектов и со средним баллом кредитного скоринга равным 647. Мужчины (их 48%) чуть старше (44г), в 69% случаев являлись владельцами кредитных карт с оцененным доходом в 102 тыс рублей, так же с низкой активностью (в 36%), владельцы не более 5 объектов и со средним баллом кредитного скоринга равным 641.<br>\n",
    "\n",
    "С 2 продуктами - преимущественно  женщины (61%) возрастом 44 года, в 66% случаев являлись владельцами кредитных карт с оцененным доходом в 113 тыс. руб. и с активностью 38%, владелицы не менее 4 и не более 5 объектов и со средним баллом кредитного скоринга равным 647. Мужчины (их 39%) чуть старше (46 л), в 62% случаев являлись владельцами кредитных карт с оцененным доходом в 83 тыс рублей, с чуть более низкой активностью в 37%, владельцы в среднем 5 объектов и со средним баллом кредитного скоринга равным 680.<br>\n",
    "\n",
    "С 3 продуктами - преимущественно женщины (67%) 43 лет, в 63% случаев являлись владельцами кредитных карт с оцененным доходом в 116 тыс. руб. и с довольно низкой активностью (37%), владелицы 5 объектов и со средним баллом кредитного скоринга равным 630. Мужчины (их 33%) чуть младше, но также возраста 42+, в 53% случаев являлись владельцами кредитных карт с оцененным доходом в 98 тыс рублей, с более высокой активностью в 41%, владельцы не менее 3 и не более 4 объектов и со средним баллом кредитного скоринга равным 675.<br>\n",
    "\n",
    "С 4 продуктами - преимущественно  женщины (71%) 47 лет в 100% случаев являлись владельцами кредитных карт с оцененным доходом в 60 тыс. руб. и с довольно низкой активностью (40%), владелицы 5 объектов и со средним баллом кредитного скоринга равным 695. Мужчины (их 29%) возраста 41г, в 100% случаев являлись владельцами кредитных карт с оцененным доходом в 120 тыс рублей, с нулевой активностью, владельцы не менее 4 и не более 5 объектов и со средним баллом кредитного скоринга равным 518."
   ]
  },
  {
   "cell_type": "markdown",
   "id": "d7bb0c7a",
   "metadata": {},
   "source": [
    "## Сегментация оставшихся клиентов по потребляемым продуктам в Рыбинске"
   ]
  },
  {
   "cell_type": "code",
   "execution_count": 33,
   "id": "d58e2f83",
   "metadata": {},
   "outputs": [
    {
     "data": {
      "text/plain": [
       "products  gender\n",
       "1         Ж         378\n",
       "          М         576\n",
       "2         Ж         474\n",
       "          М         622\n",
       "3         Ж           6\n",
       "          М           8\n",
       "Name: userid, dtype: int64"
      ]
     },
     "execution_count": 33,
     "metadata": {},
     "output_type": "execute_result"
    }
   ],
   "source": [
    "stay_rybinsk = rybinsk.query('churn == 0')\n",
    "stay_rybinsk.groupby(['products', 'gender'])['userid'].count()"
   ]
  },
  {
   "cell_type": "code",
   "execution_count": 34,
   "id": "a50dfa12",
   "metadata": {},
   "outputs": [
    {
     "data": {
      "text/html": [
       "<div>\n",
       "<style scoped>\n",
       "    .dataframe tbody tr th:only-of-type {\n",
       "        vertical-align: middle;\n",
       "    }\n",
       "\n",
       "    .dataframe tbody tr th {\n",
       "        vertical-align: top;\n",
       "    }\n",
       "\n",
       "    .dataframe thead th {\n",
       "        text-align: right;\n",
       "    }\n",
       "</style>\n",
       "<table border=\"1\" class=\"dataframe\">\n",
       "  <thead>\n",
       "    <tr style=\"text-align: right;\">\n",
       "      <th></th>\n",
       "      <th></th>\n",
       "      <th>age</th>\n",
       "      <th>creditcard</th>\n",
       "      <th>estimated_salary</th>\n",
       "      <th>loyalty</th>\n",
       "      <th>objects</th>\n",
       "      <th>score</th>\n",
       "    </tr>\n",
       "    <tr>\n",
       "      <th>products</th>\n",
       "      <th>gender</th>\n",
       "      <th></th>\n",
       "      <th></th>\n",
       "      <th></th>\n",
       "      <th></th>\n",
       "      <th></th>\n",
       "      <th></th>\n",
       "    </tr>\n",
       "  </thead>\n",
       "  <tbody>\n",
       "    <tr>\n",
       "      <td rowspan=\"2\" valign=\"top\">1</td>\n",
       "      <td>Ж</td>\n",
       "      <td>38.719577</td>\n",
       "      <td>0.698413</td>\n",
       "      <td>99203.290820</td>\n",
       "      <td>0.619048</td>\n",
       "      <td>5.037037</td>\n",
       "      <td>650.740741</td>\n",
       "    </tr>\n",
       "    <tr>\n",
       "      <td>М</td>\n",
       "      <td>38.366319</td>\n",
       "      <td>0.682292</td>\n",
       "      <td>97252.131441</td>\n",
       "      <td>0.607639</td>\n",
       "      <td>5.071181</td>\n",
       "      <td>650.020833</td>\n",
       "    </tr>\n",
       "    <tr>\n",
       "      <td rowspan=\"2\" valign=\"top\">2</td>\n",
       "      <td>Ж</td>\n",
       "      <td>37.470464</td>\n",
       "      <td>0.732068</td>\n",
       "      <td>99137.625907</td>\n",
       "      <td>0.527426</td>\n",
       "      <td>5.120253</td>\n",
       "      <td>655.474684</td>\n",
       "    </tr>\n",
       "    <tr>\n",
       "      <td>М</td>\n",
       "      <td>37.189711</td>\n",
       "      <td>0.692926</td>\n",
       "      <td>99567.731624</td>\n",
       "      <td>0.528939</td>\n",
       "      <td>5.152733</td>\n",
       "      <td>652.242765</td>\n",
       "    </tr>\n",
       "    <tr>\n",
       "      <td rowspan=\"2\" valign=\"top\">3</td>\n",
       "      <td>Ж</td>\n",
       "      <td>36.166667</td>\n",
       "      <td>0.500000</td>\n",
       "      <td>61113.051667</td>\n",
       "      <td>0.333333</td>\n",
       "      <td>5.500000</td>\n",
       "      <td>670.500000</td>\n",
       "    </tr>\n",
       "    <tr>\n",
       "      <td>М</td>\n",
       "      <td>31.875000</td>\n",
       "      <td>0.625000</td>\n",
       "      <td>88772.212500</td>\n",
       "      <td>0.750000</td>\n",
       "      <td>6.500000</td>\n",
       "      <td>642.250000</td>\n",
       "    </tr>\n",
       "  </tbody>\n",
       "</table>\n",
       "</div>"
      ],
      "text/plain": [
       "                       age  creditcard  estimated_salary   loyalty   objects  \\\n",
       "products gender                                                                \n",
       "1        Ж       38.719577    0.698413      99203.290820  0.619048  5.037037   \n",
       "         М       38.366319    0.682292      97252.131441  0.607639  5.071181   \n",
       "2        Ж       37.470464    0.732068      99137.625907  0.527426  5.120253   \n",
       "         М       37.189711    0.692926      99567.731624  0.528939  5.152733   \n",
       "3        Ж       36.166667    0.500000      61113.051667  0.333333  5.500000   \n",
       "         М       31.875000    0.625000      88772.212500  0.750000  6.500000   \n",
       "\n",
       "                      score  \n",
       "products gender              \n",
       "1        Ж       650.740741  \n",
       "         М       650.020833  \n",
       "2        Ж       655.474684  \n",
       "         М       652.242765  \n",
       "3        Ж       670.500000  \n",
       "         М       642.250000  "
      ]
     },
     "execution_count": 34,
     "metadata": {},
     "output_type": "execute_result"
    }
   ],
   "source": [
    "rybinsk.query('churn == 0').pivot_table(index=['products', 'gender'], values=['score', 'age', 'objects', 'creditcard', 'loyalty', 'estimated_salary'], aggfunc='mean')\n"
   ]
  },
  {
   "cell_type": "markdown",
   "id": "2eaa37be",
   "metadata": {},
   "source": [
    "Оставшиеся клиенты в Рыбинске по кол-ву продуктов:<br>\n",
    "C 1 продуктом - преимущественно мужчины (60%) 38 лет, в 68% случаев являются владельцами кредитных карт с доходом в 97 тыс. руб. и с активностью в 61%, владельцы в среднем 5 объектов и со средним баллом кредитного скоринга равным 650. Женщины (их 40%) чуть старше, но также возраста 38+, в 70% случаев являются владельцами кредитных карт с доходом в 99 тыс рублей, так же с активностью в 62%, владелицы в среднем 5 объектов и со средним баллом кредитного скоринга равным 651.<br>\n",
    "C 2 продуктами - преимущественно  мужчины (57%) 37 лет, в 69% случаев являются владельцами кредитных карт с доходом в 100 тыс. руб. и с активностью 53%, владельцы в среднем 5 Х объектов и со средним баллом кредитного скоринга равным 652. Женщины (их 43%) чуть старше, но также возраста 37+, в 73% случаев являются владельцами кредитных карт с  доходом в 99 тыс рублей, так же со средней активностью (в 53%), владелицы не менее 5 объектов и со средним баллом кредитного скоринга равным 655.<br>\n",
    "C 3 продуктами -преимущественно  (57%) 32 лет, в 62% случаев являются владельцами кредитных карт с доходом в 89 тыс. руб. и с высокой активностью (75%), владельцы не менее 6 и не более 7 объектов и со средним баллом кредитного скоринга равным 642. Женщины (их 43%) чуть старше (36+), в 50% случаев являются владельцами кредитных карт с доходом в 61 тыс рублей, с низкой активностью (в 33%), владелицы не менее 5 и не более 6 объектов и со средним баллом кредитного скоринга равным 671.<br>\n",
    "Среди оставшихся клиентов потребителей 4 продуктов нет."
   ]
  },
  {
   "cell_type": "markdown",
   "id": "5178200a",
   "metadata": {},
   "source": [
    "## Сегментация ушедших клиентов по потребляемым продуктам в Ростове Великом"
   ]
  },
  {
   "cell_type": "code",
   "execution_count": 35,
   "id": "c338ee08",
   "metadata": {},
   "outputs": [
    {
     "data": {
      "text/plain": [
       "products  gender\n",
       "1         Ж         313\n",
       "          М         265\n",
       "2         Ж          75\n",
       "          М          51\n",
       "3         Ж          46\n",
       "          М          40\n",
       "4         Ж          14\n",
       "          М          10\n",
       "Name: userid, dtype: int64"
      ]
     },
     "execution_count": 35,
     "metadata": {},
     "output_type": "execute_result"
    }
   ],
   "source": [
    "churn_rostov = rostov.query('churn == 1')\n",
    "churn_rostov.groupby(['products', 'gender'])['userid'].count()"
   ]
  },
  {
   "cell_type": "code",
   "execution_count": 36,
   "id": "331d135f",
   "metadata": {},
   "outputs": [
    {
     "data": {
      "text/html": [
       "<div>\n",
       "<style scoped>\n",
       "    .dataframe tbody tr th:only-of-type {\n",
       "        vertical-align: middle;\n",
       "    }\n",
       "\n",
       "    .dataframe tbody tr th {\n",
       "        vertical-align: top;\n",
       "    }\n",
       "\n",
       "    .dataframe thead th {\n",
       "        text-align: right;\n",
       "    }\n",
       "</style>\n",
       "<table border=\"1\" class=\"dataframe\">\n",
       "  <thead>\n",
       "    <tr style=\"text-align: right;\">\n",
       "      <th></th>\n",
       "      <th></th>\n",
       "      <th>age</th>\n",
       "      <th>creditcard</th>\n",
       "      <th>estimated_salary</th>\n",
       "      <th>loyalty</th>\n",
       "      <th>objects</th>\n",
       "      <th>score</th>\n",
       "    </tr>\n",
       "    <tr>\n",
       "      <th>products</th>\n",
       "      <th>gender</th>\n",
       "      <th></th>\n",
       "      <th></th>\n",
       "      <th></th>\n",
       "      <th></th>\n",
       "      <th></th>\n",
       "      <th></th>\n",
       "    </tr>\n",
       "  </thead>\n",
       "  <tbody>\n",
       "    <tr>\n",
       "      <td rowspan=\"2\" valign=\"top\">1</td>\n",
       "      <td>Ж</td>\n",
       "      <td>44.584665</td>\n",
       "      <td>0.690096</td>\n",
       "      <td>100083.027380</td>\n",
       "      <td>0.348243</td>\n",
       "      <td>5.118211</td>\n",
       "      <td>654.782748</td>\n",
       "    </tr>\n",
       "    <tr>\n",
       "      <td>М</td>\n",
       "      <td>45.339623</td>\n",
       "      <td>0.701887</td>\n",
       "      <td>95038.204000</td>\n",
       "      <td>0.354717</td>\n",
       "      <td>4.788679</td>\n",
       "      <td>642.550943</td>\n",
       "    </tr>\n",
       "    <tr>\n",
       "      <td rowspan=\"2\" valign=\"top\">2</td>\n",
       "      <td>Ж</td>\n",
       "      <td>45.906667</td>\n",
       "      <td>0.773333</td>\n",
       "      <td>93617.119333</td>\n",
       "      <td>0.440000</td>\n",
       "      <td>5.213333</td>\n",
       "      <td>641.000000</td>\n",
       "    </tr>\n",
       "    <tr>\n",
       "      <td>М</td>\n",
       "      <td>43.411765</td>\n",
       "      <td>0.705882</td>\n",
       "      <td>104773.459804</td>\n",
       "      <td>0.294118</td>\n",
       "      <td>4.941176</td>\n",
       "      <td>637.960784</td>\n",
       "    </tr>\n",
       "    <tr>\n",
       "      <td rowspan=\"2\" valign=\"top\">3</td>\n",
       "      <td>Ж</td>\n",
       "      <td>45.260870</td>\n",
       "      <td>0.717391</td>\n",
       "      <td>111405.173913</td>\n",
       "      <td>0.413043</td>\n",
       "      <td>4.804348</td>\n",
       "      <td>647.391304</td>\n",
       "    </tr>\n",
       "    <tr>\n",
       "      <td>М</td>\n",
       "      <td>44.225000</td>\n",
       "      <td>0.750000</td>\n",
       "      <td>95040.197750</td>\n",
       "      <td>0.400000</td>\n",
       "      <td>5.725000</td>\n",
       "      <td>655.300000</td>\n",
       "    </tr>\n",
       "    <tr>\n",
       "      <td rowspan=\"2\" valign=\"top\">4</td>\n",
       "      <td>Ж</td>\n",
       "      <td>43.071429</td>\n",
       "      <td>0.714286</td>\n",
       "      <td>91166.285000</td>\n",
       "      <td>0.285714</td>\n",
       "      <td>4.285714</td>\n",
       "      <td>623.285714</td>\n",
       "    </tr>\n",
       "    <tr>\n",
       "      <td>М</td>\n",
       "      <td>46.300000</td>\n",
       "      <td>0.800000</td>\n",
       "      <td>102234.764000</td>\n",
       "      <td>0.600000</td>\n",
       "      <td>5.100000</td>\n",
       "      <td>666.700000</td>\n",
       "    </tr>\n",
       "  </tbody>\n",
       "</table>\n",
       "</div>"
      ],
      "text/plain": [
       "                       age  creditcard  estimated_salary   loyalty   objects  \\\n",
       "products gender                                                                \n",
       "1        Ж       44.584665    0.690096     100083.027380  0.348243  5.118211   \n",
       "         М       45.339623    0.701887      95038.204000  0.354717  4.788679   \n",
       "2        Ж       45.906667    0.773333      93617.119333  0.440000  5.213333   \n",
       "         М       43.411765    0.705882     104773.459804  0.294118  4.941176   \n",
       "3        Ж       45.260870    0.717391     111405.173913  0.413043  4.804348   \n",
       "         М       44.225000    0.750000      95040.197750  0.400000  5.725000   \n",
       "4        Ж       43.071429    0.714286      91166.285000  0.285714  4.285714   \n",
       "         М       46.300000    0.800000     102234.764000  0.600000  5.100000   \n",
       "\n",
       "                      score  \n",
       "products gender              \n",
       "1        Ж       654.782748  \n",
       "         М       642.550943  \n",
       "2        Ж       641.000000  \n",
       "         М       637.960784  \n",
       "3        Ж       647.391304  \n",
       "         М       655.300000  \n",
       "4        Ж       623.285714  \n",
       "         М       666.700000  "
      ]
     },
     "execution_count": 36,
     "metadata": {},
     "output_type": "execute_result"
    }
   ],
   "source": [
    "rostov.query('churn == 1').pivot_table(index=['products', 'gender'], values=['score', 'age', 'objects', 'creditcard', 'loyalty', 'estimated_salary'], aggfunc='mean')\n"
   ]
  },
  {
   "cell_type": "markdown",
   "id": "943f4b6e",
   "metadata": {},
   "source": [
    "Ушедшие клиенты в Ростове Великом по кол-ву продуктов:<br>\n",
    "С 1 продуктом - преимущественно женщины (54%) 45 лет, в 69% случаев являлись владелицами кредитных карт с оцененным доходом в 100 тыс. руб. и с довольно низкой активностью (35%), владелицы в среднем 5 объектов и со средним баллом кредитного скоринга равным 6543. Мужчины (их 46%) чуть старше, но также возраста 45+, в 70% случаев являлись владельцами кредитных карт с оцененным доходом в 95 тыс рублей, так же с низкой активностью (в 35%), владельцы не менее 4 и не более 5 объектов и со средним баллом кредитного скоринга равным 643.<br>\n",
    "\n",
    "С 2 продуктами - преимущественно  женщины (60%) возрастом ближе к 46 годам, в 77% случаев являлись владельцами кредитных карт с оцененным доходом в 93 тыс. руб. и с активностью 44%, владелицы не менее 5 объектов и со средним баллом кредитного скоринга равным 641. Мужчины (их 40%) чуть младше (43 г), в 71% случаев являлись владельцами кредитных карт с оцененным доходом в 105 тыс рублей, с чуть более высокой активностью в 41%, владельцы не менее 4 и не более 5 объектов и со средним баллом кредитного скоринга равным 638.<br>\n",
    "\n",
    "С 3 продуктами - преимущественно  женщины (53%) 45 лет, в 72% случаев являлись владельцами кредитных карт с оцененным доходом в 111 тыс. руб. и с довольно низкой активностью (41%), владелицы не менее 4 и не более 5 объектов и со средним баллом кредитного скоринга равным 647. Мужчины (их 47%) чуть младше, но также возраста 44+, в 75% случаев являлись владельцами кредитных карт с оцененным доходом в 95 тыс рублей, с такой же активностью в 40%, владельцы не менее 5 объектов и со средним баллом кредитного скоринга равным 655.<br>\n",
    "\n",
    "С 4 продуктами - преимущественно  женщины (58%) 43 лет в 71% случаев являлись владельцами кредитных карт с оцененным доходом в 91 тыс. руб. и с довольно низкой активностью (29%), владелицы в среднем 4х объектов и со средним баллом кредитного скоринга равным 623. Мужчины (их 42%) чуть старше (46 лет), в 80% случаев являлись владельцами кредитных карт с оцененным доходом в 102 тыс рублей, со средней активностью (в 60%), владельцы 5 объектов и со средним баллом кредитного скоринга равным 667."
   ]
  },
  {
   "cell_type": "markdown",
   "id": "400f64ab",
   "metadata": {},
   "source": [
    "## Сегментация оставшихся клиентов по потребляемым продуктам в Ростове Великом"
   ]
  },
  {
   "cell_type": "code",
   "execution_count": 37,
   "id": "7dd5aa62",
   "metadata": {},
   "outputs": [
    {
     "data": {
      "text/plain": [
       "products  gender\n",
       "1         Ж         351\n",
       "          М         420\n",
       "2         Ж         387\n",
       "          М         527\n",
       "3         Ж           7\n",
       "          М           3\n",
       "Name: userid, dtype: int64"
      ]
     },
     "execution_count": 37,
     "metadata": {},
     "output_type": "execute_result"
    }
   ],
   "source": [
    "stay_rostov = rostov.query('churn == 0') \n",
    "stay_rostov.groupby(['products', 'gender'])['userid'].count()"
   ]
  },
  {
   "cell_type": "code",
   "execution_count": 38,
   "id": "dc6ee2ad",
   "metadata": {},
   "outputs": [
    {
     "data": {
      "text/html": [
       "<div>\n",
       "<style scoped>\n",
       "    .dataframe tbody tr th:only-of-type {\n",
       "        vertical-align: middle;\n",
       "    }\n",
       "\n",
       "    .dataframe tbody tr th {\n",
       "        vertical-align: top;\n",
       "    }\n",
       "\n",
       "    .dataframe thead th {\n",
       "        text-align: right;\n",
       "    }\n",
       "</style>\n",
       "<table border=\"1\" class=\"dataframe\">\n",
       "  <thead>\n",
       "    <tr style=\"text-align: right;\">\n",
       "      <th></th>\n",
       "      <th></th>\n",
       "      <th>age</th>\n",
       "      <th>creditcard</th>\n",
       "      <th>estimated_salary</th>\n",
       "      <th>loyalty</th>\n",
       "      <th>objects</th>\n",
       "      <th>score</th>\n",
       "    </tr>\n",
       "    <tr>\n",
       "      <th>products</th>\n",
       "      <th>gender</th>\n",
       "      <th></th>\n",
       "      <th></th>\n",
       "      <th></th>\n",
       "      <th></th>\n",
       "      <th></th>\n",
       "      <th></th>\n",
       "    </tr>\n",
       "  </thead>\n",
       "  <tbody>\n",
       "    <tr>\n",
       "      <td rowspan=\"2\" valign=\"top\">1</td>\n",
       "      <td>Ж</td>\n",
       "      <td>37.176638</td>\n",
       "      <td>0.717949</td>\n",
       "      <td>108600.360142</td>\n",
       "      <td>0.518519</td>\n",
       "      <td>5.031339</td>\n",
       "      <td>654.165242</td>\n",
       "    </tr>\n",
       "    <tr>\n",
       "      <td>М</td>\n",
       "      <td>37.411905</td>\n",
       "      <td>0.709524</td>\n",
       "      <td>99186.497643</td>\n",
       "      <td>0.580952</td>\n",
       "      <td>5.035714</td>\n",
       "      <td>652.159524</td>\n",
       "    </tr>\n",
       "    <tr>\n",
       "      <td rowspan=\"2\" valign=\"top\">2</td>\n",
       "      <td>Ж</td>\n",
       "      <td>37.568475</td>\n",
       "      <td>0.692506</td>\n",
       "      <td>98916.770129</td>\n",
       "      <td>0.534884</td>\n",
       "      <td>4.821705</td>\n",
       "      <td>654.465116</td>\n",
       "    </tr>\n",
       "    <tr>\n",
       "      <td>М</td>\n",
       "      <td>37.195446</td>\n",
       "      <td>0.734345</td>\n",
       "      <td>102883.907913</td>\n",
       "      <td>0.593928</td>\n",
       "      <td>5.155598</td>\n",
       "      <td>652.212524</td>\n",
       "    </tr>\n",
       "    <tr>\n",
       "      <td rowspan=\"2\" valign=\"top\">3</td>\n",
       "      <td>Ж</td>\n",
       "      <td>33.285714</td>\n",
       "      <td>0.857143</td>\n",
       "      <td>152975.717143</td>\n",
       "      <td>0.714286</td>\n",
       "      <td>2.571429</td>\n",
       "      <td>674.714286</td>\n",
       "    </tr>\n",
       "    <tr>\n",
       "      <td>М</td>\n",
       "      <td>35.666667</td>\n",
       "      <td>1.000000</td>\n",
       "      <td>81450.050000</td>\n",
       "      <td>0.333333</td>\n",
       "      <td>4.333333</td>\n",
       "      <td>680.666667</td>\n",
       "    </tr>\n",
       "  </tbody>\n",
       "</table>\n",
       "</div>"
      ],
      "text/plain": [
       "                       age  creditcard  estimated_salary   loyalty   objects  \\\n",
       "products gender                                                                \n",
       "1        Ж       37.176638    0.717949     108600.360142  0.518519  5.031339   \n",
       "         М       37.411905    0.709524      99186.497643  0.580952  5.035714   \n",
       "2        Ж       37.568475    0.692506      98916.770129  0.534884  4.821705   \n",
       "         М       37.195446    0.734345     102883.907913  0.593928  5.155598   \n",
       "3        Ж       33.285714    0.857143     152975.717143  0.714286  2.571429   \n",
       "         М       35.666667    1.000000      81450.050000  0.333333  4.333333   \n",
       "\n",
       "                      score  \n",
       "products gender              \n",
       "1        Ж       654.165242  \n",
       "         М       652.159524  \n",
       "2        Ж       654.465116  \n",
       "         М       652.212524  \n",
       "3        Ж       674.714286  \n",
       "         М       680.666667  "
      ]
     },
     "execution_count": 38,
     "metadata": {},
     "output_type": "execute_result"
    }
   ],
   "source": [
    "rostov.query('churn == 0').pivot_table(index=['products', 'gender'], values=['score', 'age', 'objects', 'creditcard', 'loyalty', 'estimated_salary'], aggfunc='mean')"
   ]
  },
  {
   "cell_type": "markdown",
   "id": "79b44d25",
   "metadata": {},
   "source": [
    "Оставшиеся клиенты в Ростове Великом по кол-ву продуктов:<br>\n",
    "С 1 продуктом - преимущественно мужчины (54%) 37 лет, в 71% случаев являются владельцами кредитных карт с оцененным доходом в 99 тыс. руб. и со средней активностью (58%), владельцы 5 объектов и со средним баллом кредитного скоринга равным 652. Женщины (их 46%) того же также возраста, в 72% случаев являются владельцами кредитных карт с оцененным доходом в 109 тыс рублей, так же с активностью в 52%, владелицы 5 объектов и со средним баллом кредитного скоринга равным 654.\n",
    "С 2 продуктами -  преимущественно мужчины (58%) 37 лет, в 73% случаев являются владельцами кредитных карт с оцененным доходом в 103 тыс. руб. и со средней активностью (59%), владельцы 5 объектов и со средним баллом кредитного скоринга равным 652. Женщины (их 42%) того же возраста, в 69% случаев являются владельцами кредитных карт с оцененным доходом в 99 тыс рублей, так же с активностью в 53%, владелицы не менее 4 и не более 5 объектов и со средним баллом кредитного скоринга равным 654.\n",
    "С 3 продуктами -  - преимущественно женщины (70%) 33 лет, в 86% случаев являются владельцами кредитных карт с оцененным доходом в 153 тыс. руб. и с высокой активностью (71%), владелицы не менее 2 и не более 3 объектов и со средним баллом кредитного скоринга равным 675. Мужчины (их 30%) чуть старше - возраста 36 лет, в 100% случаев являются владельцами кредитных карт с оцененным доходом в 81 тыс рублей, с низкой активностью (в 33%), владельцы не менее 4 и не более 5 объектов и со средним баллом кредитного скоринга равным 681.\n",
    "Среди оставшихся клиентов потребителей 4 продуктов нет."
   ]
  },
  {
   "cell_type": "markdown",
   "id": "dce175a8",
   "metadata": {},
   "source": [
    "## Вывод по шагу\n",
    "В результате сегментации пользователей банка были получены портреты оставшихся и ушедших клиентов банка  в Ярославле, Рыбинске и Ростове Великом. В целом можно сказать, что среди оставшихся клиентов банка в трех городах не было потребителей 4х продуктов; ушедшие клиенты в трех городах в основном женщины; возраст ушедших клиентов в трех городах больше, чем у тех, кто остался (примерно на 10 лет)."
   ]
  },
  {
   "cell_type": "markdown",
   "id": "bf4eff03",
   "metadata": {},
   "source": [
    "<div class='alert alert-success'> 👍\n",
    "Хорошая, детальная сегментация, спасибо за проделанную работу!"
   ]
  },
  {
   "cell_type": "markdown",
   "id": "2aefde59",
   "metadata": {},
   "source": [
    "# Проверка гипотез"
   ]
  },
  {
   "cell_type": "markdown",
   "id": "6c72b06b",
   "metadata": {},
   "source": [
    "## 1 гипотеза"
   ]
  },
  {
   "cell_type": "code",
   "execution_count": 39,
   "id": "d98674a8",
   "metadata": {},
   "outputs": [],
   "source": [
    "# Нулевая гипотеза: средний доход клиентов, которые пользуются двумя продуктами банка, и тех, кто пользуется одним, равен друг другу. \n",
    "# Альтернативная гипотеза: Средний доход различен между теми клиентами, которые пользуются двумя продуктами банка, и теми, которые пользуются одним."
   ]
  },
  {
   "cell_type": "code",
   "execution_count": 40,
   "id": "c5b790da",
   "metadata": {},
   "outputs": [
    {
     "name": "stdout",
     "output_type": "stream",
     "text": [
      "p-значение:  0.05730359952887783\n"
     ]
    }
   ],
   "source": [
    "# Проверка 1 гипотезы для Ярославля\n",
    "stay_yaroslavl_1 = stay_yaroslavl.query('products == 1')\n",
    "stay_yaroslavl_2 = stay_yaroslavl.query('products == 2')\n",
    "alpha = 0.05 \n",
    "results = st.mannwhitneyu(stay_yaroslavl_1['estimated_salary'], stay_yaroslavl_2['estimated_salary'])\n",
    "print('p-значение: ', results.pvalue)"
   ]
  },
  {
   "cell_type": "code",
   "execution_count": 41,
   "id": "b77cc964",
   "metadata": {},
   "outputs": [
    {
     "name": "stdout",
     "output_type": "stream",
     "text": [
      "Не получилось отвергнуть нулевую гипотезу, вывод о различии сделать нельзя\n"
     ]
    }
   ],
   "source": [
    "if (results.pvalue < alpha):\n",
    "    print(\"Отвергаем нулевую гипотезу: разница статистически значима\")\n",
    "else:\n",
    "    print(\"Не получилось отвергнуть нулевую гипотезу, вывод о различии сделать нельзя\")"
   ]
  },
  {
   "cell_type": "code",
   "execution_count": 42,
   "id": "bb29ed01",
   "metadata": {},
   "outputs": [
    {
     "name": "stdout",
     "output_type": "stream",
     "text": [
      "p-значение:  0.29051838079889736\n"
     ]
    }
   ],
   "source": [
    "# Проверка 1 гипотезы для Рыбинска\n",
    "stay_rybinsk_1 = stay_rybinsk.query('products == 1')\n",
    "stay_rybinsk_2 = stay_rybinsk.query('products == 2')\n",
    "alpha = 0.05 \n",
    "results = st.mannwhitneyu(stay_rybinsk_1['estimated_salary'], stay_rybinsk_2['estimated_salary'])\n",
    "print('p-значение: ', results.pvalue)"
   ]
  },
  {
   "cell_type": "code",
   "execution_count": 43,
   "id": "77f172b3",
   "metadata": {},
   "outputs": [
    {
     "name": "stdout",
     "output_type": "stream",
     "text": [
      "Не получилось отвергнуть нулевую гипотезу, вывод о различии сделать нельзя\n"
     ]
    }
   ],
   "source": [
    "if (results.pvalue < alpha):\n",
    "    print(\"Отвергаем нулевую гипотезу: разница статистически значима\")\n",
    "else:\n",
    "    print(\"Не получилось отвергнуть нулевую гипотезу, вывод о различии сделать нельзя\")"
   ]
  },
  {
   "cell_type": "code",
   "execution_count": 44,
   "id": "c4700cf5",
   "metadata": {},
   "outputs": [
    {
     "name": "stdout",
     "output_type": "stream",
     "text": [
      "p-значение:  0.21386341886864302\n"
     ]
    }
   ],
   "source": [
    "# Проверка 1 гипотезы для Ростова Великого\n",
    "stay_rostov_1 = stay_rostov.query('products == 1')\n",
    "stay_rostov_2 = stay_rostov.query('products == 2')\n",
    "alpha = 0.05 \n",
    "results = st.mannwhitneyu(stay_rostov_1['estimated_salary'], stay_rostov_2['estimated_salary'])\n",
    "print('p-значение: ', results.pvalue)"
   ]
  },
  {
   "cell_type": "code",
   "execution_count": 45,
   "id": "fa2b55da",
   "metadata": {},
   "outputs": [
    {
     "name": "stdout",
     "output_type": "stream",
     "text": [
      "Не получилось отвергнуть нулевую гипотезу, вывод о различии сделать нельзя\n"
     ]
    }
   ],
   "source": [
    "if (results.pvalue < alpha):\n",
    "    print(\"Отвергаем нулевую гипотезу: разница статистически значима\")\n",
    "else:\n",
    "    print(\"Не получилось отвергнуть нулевую гипотезу, вывод о различии сделать нельзя\")"
   ]
  },
  {
   "cell_type": "markdown",
   "id": "785c8065",
   "metadata": {},
   "source": [
    "<b>Вывод по 1 гипотезе</b> <br>\n",
    "Гипотеза различия дохода между теми клиентами, которые пользуются двумя продуктами банка, и теми, которые пользуются одним, НЕ ПОДТВЕРДИЛАСЬ ни для одного из трех городов."
   ]
  },
  {
   "cell_type": "markdown",
   "id": "a2052f6a",
   "metadata": {},
   "source": [
    "## 2 гипотеза"
   ]
  },
  {
   "cell_type": "code",
   "execution_count": 46,
   "id": "c759eb8c",
   "metadata": {},
   "outputs": [],
   "source": [
    "# Нулевая гипотеза: среднее значение кредитного скоринга ушедших клиентов, которые пользовались двумя продуктами банка, и тех, кто пользовались одним, равен друг другу.\n",
    "# Альтернативная гипотеза: среднее значение кредитного скоринга различен между теми ушедшими клиентами, которые пользовались двумя продуктами банка, и теми, которые пользовались одним."
   ]
  },
  {
   "cell_type": "code",
   "execution_count": 47,
   "id": "c2d088b2",
   "metadata": {},
   "outputs": [
    {
     "name": "stdout",
     "output_type": "stream",
     "text": [
      "p-значение:  0.22606949568583895\n"
     ]
    }
   ],
   "source": [
    "# Проверка 2 гипотезы для Ярославля\n",
    "churn_yaroslavl_1 = churn_yaroslavl.query('products == 1') \n",
    "churn_yaroslavl_2 = churn_yaroslavl.query('products == 2')\n",
    "alpha = 0.05 # критический уровень статистической значимости\n",
    "results = st.mannwhitneyu(churn_yaroslavl_1['score'], churn_yaroslavl_2['score'])\n",
    "print('p-значение: ', results.pvalue)"
   ]
  },
  {
   "cell_type": "code",
   "execution_count": 48,
   "id": "84f9bfd4",
   "metadata": {},
   "outputs": [
    {
     "name": "stdout",
     "output_type": "stream",
     "text": [
      "Не получилось отвергнуть нулевую гипотезу, вывод о различии сделать нельзя\n"
     ]
    }
   ],
   "source": [
    "if (results.pvalue < alpha):\n",
    "    print(\"Отвергаем нулевую гипотезу: разница статистически значима\")\n",
    "else:\n",
    "    print(\"Не получилось отвергнуть нулевую гипотезу, вывод о различии сделать нельзя\")"
   ]
  },
  {
   "cell_type": "code",
   "execution_count": 49,
   "id": "b0483f49",
   "metadata": {},
   "outputs": [
    {
     "name": "stdout",
     "output_type": "stream",
     "text": [
      "p-значение:  0.1281511899591639\n"
     ]
    }
   ],
   "source": [
    "# Проверка 2 гипотезы для Рыбинска\n",
    "churn_rybinsk_1 = churn_rybinsk.query('products == 1') \n",
    "churn_rybinsk_2 = churn_rybinsk.query('products == 2')\n",
    "alpha = 0.05 # критический уровень статистической значимости\n",
    "results = st.mannwhitneyu(churn_rybinsk_1['score'], churn_rybinsk_2['score'])\n",
    "print('p-значение: ', results.pvalue)"
   ]
  },
  {
   "cell_type": "code",
   "execution_count": 50,
   "id": "a74150a6",
   "metadata": {},
   "outputs": [
    {
     "name": "stdout",
     "output_type": "stream",
     "text": [
      "Не получилось отвергнуть нулевую гипотезу, вывод о различии сделать нельзя\n"
     ]
    }
   ],
   "source": [
    "if (results.pvalue < alpha):\n",
    "    print(\"Отвергаем нулевую гипотезу: разница статистически значима\")\n",
    "else:\n",
    "    print(\"Не получилось отвергнуть нулевую гипотезу, вывод о различии сделать нельзя\")"
   ]
  },
  {
   "cell_type": "code",
   "execution_count": 51,
   "id": "31be5931",
   "metadata": {},
   "outputs": [
    {
     "name": "stdout",
     "output_type": "stream",
     "text": [
      "p-значение:  0.2650796139013878\n"
     ]
    }
   ],
   "source": [
    "# Проверка 2 гипотезы для Ростова Великого\n",
    "churn_rostov_1 = churn_rostov.query('products == 1') \n",
    "churn_rostov_2 = churn_rostov.query('products == 2')\n",
    "alpha = 0.05 # критический уровень статистической значимости\n",
    "results = st.mannwhitneyu(churn_rostov_1['score'], churn_rostov_2['score'])\n",
    "print('p-значение: ', results.pvalue)"
   ]
  },
  {
   "cell_type": "code",
   "execution_count": 52,
   "id": "525aa282",
   "metadata": {},
   "outputs": [
    {
     "name": "stdout",
     "output_type": "stream",
     "text": [
      "Не получилось отвергнуть нулевую гипотезу, вывод о различии сделать нельзя\n"
     ]
    }
   ],
   "source": [
    "if (results.pvalue < alpha):\n",
    "    print(\"Отвергаем нулевую гипотезу: разница статистически значима\")\n",
    "else:\n",
    "    print(\"Не получилось отвергнуть нулевую гипотезу, вывод о различии сделать нельзя\")"
   ]
  },
  {
   "cell_type": "markdown",
   "id": "3ef043f2",
   "metadata": {},
   "source": [
    "<b> Вывод по 2 гипотезе</b> <br>\n",
    "Гипотеза различия средних значений кредитного скоринга между теми клиентами, которые пользовались двумя продуктами банка, и теми, которые пользовались одним, НЕ ПОДТВЕРДИЛАСЬ во всех трех городах."
   ]
  },
  {
   "cell_type": "markdown",
   "id": "0de7637e",
   "metadata": {},
   "source": [
    "<div class='alert alert-warning'> ⚠️\n",
    "У тебя неверно сформулированы гипотезы относительно критерия Манна-Уитни, данный критерий не сравнивает средние двух выборок, он сравнивает распределения в целом. Также рекомендую делать поправку на множественную проверку гипотез.\n"
   ]
  },
  {
   "cell_type": "markdown",
   "id": "6a0ae2a7",
   "metadata": {},
   "source": [
    "<div class='alert alert-info'>\n",
    "Правильно ли тогда сформулировать гипотезу так:\n",
    "    \n",
    "Нулевая гипотеза: Между группами \"ушел\" и \"остался\" нет статистически значимого различия кредитного скоринга\n",
    "    \n",
    "Альтернативная гипотеза: Между группами есть статистически значимое различие кредитного скоринга"
   ]
  },
  {
   "cell_type": "markdown",
   "id": "11a8b5fc",
   "metadata": {},
   "source": [
    "## Вывод по шагу\n",
    "Гипотеза различия дохода между теми клиентами, которые пользуются двумя продуктами банка, и теми, которые пользуются одним, НЕ ПОДТВЕРДИЛАСЬ ни для одного из трех городов.<br>\n",
    "Гипотеза различия средних значений кредитного скоринга между теми клиентами, которые пользовались двумя продуктами банка, и теми, которые пользовались одним, НЕ ПОДТВЕРДИЛАСЬ во всех трех городах."
   ]
  },
  {
   "cell_type": "markdown",
   "id": "ec51db18",
   "metadata": {},
   "source": [
    "# Выводы и рекомендации"
   ]
  },
  {
   "cell_type": "markdown",
   "id": "12ffeb12",
   "metadata": {},
   "source": [
    "## Выводы, сделанные в результате исследовательского анализа данных\n",
    "\n",
    "средний возраст клиента 39 лет;\n",
    "среди клиентов примерно на 10% больше мужчин;\n",
    "среднее количество объектов во владении равно 5;\n",
    "среднее количество банковских продуктов - не более 2х;\n",
    "кредитные карты имеют 71% клиентов;\n",
    "баланс на счету от 3769 руб. до 250898 руб. Ориентироваться на средние значения нельзя, т.к. столбец содержит 36% пропусков;\n",
    "активными клиентами являются 52%;\n",
    "доход клиентов от 11 рублей до 200 тысяч рублей;\n",
    "отток клиентов составляет 20%."
   ]
  },
  {
   "cell_type": "markdown",
   "id": "e4bfde3d",
   "metadata": {},
   "source": [
    "## Портреты оставшихся и ушедших клиентов \n",
    "\n",
    "Ушедшие клиенты с 1 банковским продуктом - это в основном женщины возраста 44 года со средней зарплатой в 102 тысячи рублей, в 70% случаев являлись держателями кредитных карт, с довольно низкой активностью (34%), владелицы 5 объектов со средним кредитным скорингом 648.\n",
    "\n",
    "Ушедшие клиенты с 2 банковскими продуктами - это в основном женщины возраста 45 лет со средней зарплатой в 103 тысячи рублей, в 69% случаев являлись держателями кредитных карт, с довольно низкой активностью (41%), владелицы чаще 5 объектов со средним кредитным скорингом 644.\n",
    "\n",
    "Ушедшие клиенты с 3 банковскими продуктами - это в основном женщины возраста 45 лет со средней зарплатой в 108 тысяч рублей, в 67% случаев являлись держателями кредитных карт, с довольно низкой активностью (36%), владелицы чаще 5 объектов со средним кредитным скорингом 638.\n",
    "\n",
    "Ушедшие клиенты с 4 банковскими продуктами - это в основном женщины возраста 46 лет со средней зарплатой в 89 тысячи рублей, в 78% случаев являлись держателями кредитных карт, с довольно низкой активностью (44%), владелицы 5 объектов со средним кредитным скорингом 665"
   ]
  },
  {
   "cell_type": "markdown",
   "id": "db8012ec",
   "metadata": {},
   "source": [
    "## Результаты проверки гипотез\n",
    "\n",
    "Гипотеза различия дохода между теми клиентами, которые пользуются двумя продуктами банка, и теми, которые пользуются одним, НЕ ПОДТВЕРДИЛАСЬ ни для одного из трех городов.\n",
    "\n",
    "Гипотеза различия средних значений кредитного скоринга между теми клиентами, которые пользовались двумя продуктами банка, и теми, которые пользовались одним, НЕ ПОДТВЕРДИЛАСЬ во всех трех городах."
   ]
  },
  {
   "cell_type": "markdown",
   "id": "dc30bbb9",
   "metadata": {},
   "source": [
    "## Рекомендации для удержания клиентов и возврата ушедших клиентов\n",
    "\n",
    "Поддерживать оставшихся клиентов бонусами, удерживая их активность на том же высоком уровне.\n",
    "\n",
    "Постараться расширить количество потребляемых продуктов  для оставшихся клиентов до 4х.\n",
    "\n",
    "Разработать программу по возвращению ушедших, например сосредоточиться на женщинах 45+ - предложить повышенные ставки на вклады для детей, \"копилку\" на пенсию, пенсионный проект, страхование жизни/здоровья себя и близких и пр.\n",
    "\n",
    "Вновь пришедшим клиентам предлагать персональную программу взаимодействия с банком, т.е. расширить спектр услуг."
   ]
  },
  {
   "cell_type": "markdown",
   "id": "9ab552c7",
   "metadata": {},
   "source": [
    "# Дашборд\n",
    "https://public.tableau.com/views/final_bank1/Dashboard1?:language=en-US&publish=yes&:display_count=n&:origin=viz_share_link"
   ]
  },
  {
   "cell_type": "markdown",
   "id": "4ba193da",
   "metadata": {},
   "source": [
    "<div class='alert alert-success'> 👍\n",
    "Дашборд принят, все критерии соблюдены"
   ]
  },
  {
   "cell_type": "markdown",
   "id": "9280325e",
   "metadata": {},
   "source": [
    "# Презентация\n",
    "https://drive.google.com/file/d/1jrP6EtILtj8oYQ5GxpyYMnosZvo2p5Da/view?usp=sharing"
   ]
  },
  {
   "cell_type": "code",
   "execution_count": null,
   "id": "9f211f33",
   "metadata": {},
   "outputs": [],
   "source": []
  },
  {
   "cell_type": "code",
   "execution_count": null,
   "id": "84f05011",
   "metadata": {},
   "outputs": [],
   "source": []
  }
 ],
 "metadata": {
  "ExecuteTimeLog": [
   {
    "duration": 1189,
    "start_time": "2022-05-12T08:06:49.613Z"
   },
   {
    "duration": 23,
    "start_time": "2022-05-12T08:06:50.805Z"
   },
   {
    "duration": 187,
    "start_time": "2022-05-12T09:07:52.785Z"
   },
   {
    "duration": 121,
    "start_time": "2022-05-12T09:08:16.355Z"
   },
   {
    "duration": 107,
    "start_time": "2022-05-12T09:09:37.865Z"
   },
   {
    "duration": 123,
    "start_time": "2022-05-12T09:10:10.195Z"
   },
   {
    "duration": 100,
    "start_time": "2022-05-12T09:12:41.993Z"
   }
  ],
  "kernelspec": {
   "display_name": "Python 3 (ipykernel)",
   "language": "python",
   "name": "python3"
  },
  "language_info": {
   "codemirror_mode": {
    "name": "ipython",
    "version": 3
   },
   "file_extension": ".py",
   "mimetype": "text/x-python",
   "name": "python",
   "nbconvert_exporter": "python",
   "pygments_lexer": "ipython3",
   "version": "3.7.8"
  },
  "toc": {
   "base_numbering": 1,
   "nav_menu": {},
   "number_sections": true,
   "sideBar": true,
   "skip_h1_title": false,
   "title_cell": "План работы",
   "title_sidebar": "Contents",
   "toc_cell": true,
   "toc_position": {},
   "toc_section_display": true,
   "toc_window_display": true
  }
 },
 "nbformat": 4,
 "nbformat_minor": 5
}
