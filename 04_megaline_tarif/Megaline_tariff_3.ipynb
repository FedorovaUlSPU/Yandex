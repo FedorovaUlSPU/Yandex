{
 "cells": [
  {
   "cell_type": "markdown",
   "id": "c77570de",
   "metadata": {},
   "source": [
    "# Описание проекта\n",
    "Вы аналитик компании «Мегалайн» — федерального оператора сотовой связи. Клиентам предлагают два тарифных плана: «Смарт» и «Ультра». Чтобы скорректировать рекламный бюджет, коммерческий департамент хочет понять, какой тариф приносит больше денег.\n",
    "Вам предстоит сделать предварительный анализ тарифов на небольшой выборке клиентов. В вашем распоряжении данные 500 пользователей «Мегалайна»: кто они, откуда, каким тарифом пользуются, сколько звонков и сообщений каждый отправил за 2018 год. Нужно проанализировать поведение клиентов и сделать вывод — какой тариф лучше."
   ]
  },
  {
   "cell_type": "markdown",
   "id": "ab8b2283",
   "metadata": {},
   "source": [
    "# Описание тарифов\n",
    "## Тариф «Смарт»\n",
    "Ежемесячная плата: 550 рублей\n",
    "Включено 500 минут разговора, 50 сообщений и 15 Гб интернет-трафика\n",
    "Стоимость услуг сверх тарифного пакета: 1. минута разговора: 3 рубля («Мегалайн» всегда округляет вверх значения минут и мегабайтов. Если пользователь проговорил всего 1 секунду, в тарифе засчитывается целая минута); 2. сообщение: 3 рубля; 3. 1 Гб интернет-трафика: 200 рублей.\n",
    "## Тариф «Ультра»\n",
    "Ежемесячная плата: 1950 рублей\n",
    "Включено 3000 минут разговора, 1000 сообщений и 30 Гб интернет-трафика\n",
    "Стоимость услуг сверх тарифного пакета: 1. минута разговора: 1 рубль; 2. сообщение: 1 рубль; 3. 1 Гб интернет-трафика: 150 рублей."
   ]
  },
  {
   "cell_type": "markdown",
   "id": "623cabb4",
   "metadata": {},
   "source": [
    "\n",
    "# План работы\n",
    "1. [Открытие данных](#start)\n",
    "2. [Подготовка данных](#preprocessing)\n",
    "3. [Анализ данных](#adding)\n",
    "4. [Проверка гипотез](#analysys)\n",
    "    * [Гипотеза 1. Средняя выручка пользователей тарифов «Ультра» и «Смарт» различаются](#hyp1)\n",
    "    * [Гипотеза 2. Cредняя выручка пользователей из Москвы отличается от выручки пользователей из других регионов](#hyp2)\n",
    "5. [Общие выводы](#conclusions)"
   ]
  },
  {
   "cell_type": "markdown",
   "id": "01f61d3d",
   "metadata": {},
   "source": [
    "<a id=\"start\"><h1>1. Открытие данных</h1> </a>"
   ]
  },
  {
   "cell_type": "code",
   "execution_count": 1,
   "id": "f2ba5925",
   "metadata": {},
   "outputs": [],
   "source": [
    "import pandas as pd\n",
    "import numpy as np\n",
    "from scipy import stats as st\n",
    "import matplotlib.pyplot as plt \n",
    "import seaborn as sns\n",
    "import math"
   ]
  },
  {
   "cell_type": "code",
   "execution_count": null,
   "id": "7c0be5b3",
   "metadata": {},
   "outputs": [],
   "source": []
  },
  {
   "cell_type": "code",
   "execution_count": 2,
   "id": "5e30e504",
   "metadata": {},
   "outputs": [],
   "source": [
    "try:\n",
    "    users_data = pd.read_csv('/datasets/users.csv')\n",
    "    calls_data = pd.read_csv('/datasets/calls.csv')\n",
    "    internet_data = pd.read_csv('/datasets/internet.csv')\n",
    "    messages_data = pd.read_csv('/datasets/messages.csv')\n",
    "    tariffs_data = pd.read_csv('/datasets/tariffs.csv')\n",
    "except:\n",
    "    users_data = pd.read_csv('users.csv')\n",
    "    calls_data = pd.read_csv('calls.csv')\n",
    "    internet_data = pd.read_csv('internet.csv')\n",
    "    messages_data = pd.read_csv('messages.csv')\n",
    "    tariffs_data = pd.read_csv('tariffs.csv')"
   ]
  },
  {
   "cell_type": "markdown",
   "id": "18acf3a1",
   "metadata": {},
   "source": [
    "# Описание данных\n",
    "### Таблица users (информация о пользователях):\n",
    "* user_id — уникальный идентификатор пользователя\n",
    "* first_name — имя пользователя\n",
    "* last_name — фамилия пользователя\n",
    "* age — возраст пользователя (годы)\n",
    "* reg_date — дата подключения тарифа (день, месяц, год)\n",
    "* churn_date — дата прекращения пользования тарифом (если значение пропущено, то тариф ещё действовал на момент выгрузки данных)\n",
    "* city — город проживания пользователя\n",
    "* tarif — название тарифного плана\n"
   ]
  },
  {
   "cell_type": "code",
   "execution_count": 3,
   "id": "f6cd4164",
   "metadata": {},
   "outputs": [
    {
     "name": "stdout",
     "output_type": "stream",
     "text": [
      "<class 'pandas.core.frame.DataFrame'>\n",
      "RangeIndex: 500 entries, 0 to 499\n",
      "Data columns (total 8 columns):\n",
      "user_id       500 non-null int64\n",
      "age           500 non-null int64\n",
      "churn_date    38 non-null object\n",
      "city          500 non-null object\n",
      "first_name    500 non-null object\n",
      "last_name     500 non-null object\n",
      "reg_date      500 non-null object\n",
      "tariff        500 non-null object\n",
      "dtypes: int64(2), object(6)\n",
      "memory usage: 31.4+ KB\n"
     ]
    },
    {
     "data": {
      "text/html": [
       "<div>\n",
       "<style scoped>\n",
       "    .dataframe tbody tr th:only-of-type {\n",
       "        vertical-align: middle;\n",
       "    }\n",
       "\n",
       "    .dataframe tbody tr th {\n",
       "        vertical-align: top;\n",
       "    }\n",
       "\n",
       "    .dataframe thead th {\n",
       "        text-align: right;\n",
       "    }\n",
       "</style>\n",
       "<table border=\"1\" class=\"dataframe\">\n",
       "  <thead>\n",
       "    <tr style=\"text-align: right;\">\n",
       "      <th></th>\n",
       "      <th>user_id</th>\n",
       "      <th>age</th>\n",
       "      <th>churn_date</th>\n",
       "      <th>city</th>\n",
       "      <th>first_name</th>\n",
       "      <th>last_name</th>\n",
       "      <th>reg_date</th>\n",
       "      <th>tariff</th>\n",
       "    </tr>\n",
       "  </thead>\n",
       "  <tbody>\n",
       "    <tr>\n",
       "      <td>0</td>\n",
       "      <td>1000</td>\n",
       "      <td>52</td>\n",
       "      <td>NaN</td>\n",
       "      <td>Краснодар</td>\n",
       "      <td>Рафаил</td>\n",
       "      <td>Верещагин</td>\n",
       "      <td>2018-05-25</td>\n",
       "      <td>ultra</td>\n",
       "    </tr>\n",
       "    <tr>\n",
       "      <td>1</td>\n",
       "      <td>1001</td>\n",
       "      <td>41</td>\n",
       "      <td>NaN</td>\n",
       "      <td>Москва</td>\n",
       "      <td>Иван</td>\n",
       "      <td>Ежов</td>\n",
       "      <td>2018-11-01</td>\n",
       "      <td>smart</td>\n",
       "    </tr>\n",
       "    <tr>\n",
       "      <td>2</td>\n",
       "      <td>1002</td>\n",
       "      <td>59</td>\n",
       "      <td>NaN</td>\n",
       "      <td>Стерлитамак</td>\n",
       "      <td>Евгений</td>\n",
       "      <td>Абрамович</td>\n",
       "      <td>2018-06-17</td>\n",
       "      <td>smart</td>\n",
       "    </tr>\n",
       "    <tr>\n",
       "      <td>3</td>\n",
       "      <td>1003</td>\n",
       "      <td>23</td>\n",
       "      <td>NaN</td>\n",
       "      <td>Москва</td>\n",
       "      <td>Белла</td>\n",
       "      <td>Белякова</td>\n",
       "      <td>2018-08-17</td>\n",
       "      <td>ultra</td>\n",
       "    </tr>\n",
       "    <tr>\n",
       "      <td>4</td>\n",
       "      <td>1004</td>\n",
       "      <td>68</td>\n",
       "      <td>NaN</td>\n",
       "      <td>Новокузнецк</td>\n",
       "      <td>Татьяна</td>\n",
       "      <td>Авдеенко</td>\n",
       "      <td>2018-05-14</td>\n",
       "      <td>ultra</td>\n",
       "    </tr>\n",
       "  </tbody>\n",
       "</table>\n",
       "</div>"
      ],
      "text/plain": [
       "   user_id  age churn_date         city first_name  last_name    reg_date  \\\n",
       "0     1000   52        NaN    Краснодар     Рафаил  Верещагин  2018-05-25   \n",
       "1     1001   41        NaN       Москва       Иван       Ежов  2018-11-01   \n",
       "2     1002   59        NaN  Стерлитамак    Евгений  Абрамович  2018-06-17   \n",
       "3     1003   23        NaN       Москва      Белла   Белякова  2018-08-17   \n",
       "4     1004   68        NaN  Новокузнецк    Татьяна   Авдеенко  2018-05-14   \n",
       "\n",
       "  tariff  \n",
       "0  ultra  \n",
       "1  smart  \n",
       "2  smart  \n",
       "3  ultra  \n",
       "4  ultra  "
      ]
     },
     "execution_count": 3,
     "metadata": {},
     "output_type": "execute_result"
    }
   ],
   "source": [
    "users_data.info()\n",
    "users_data.head()"
   ]
  },
  {
   "cell_type": "markdown",
   "id": "c60a85f5",
   "metadata": {},
   "source": [
    "### Таблица calls (информация о звонках):\n",
    "* id — уникальный номер звонка\n",
    "* call_date — дата звонка\n",
    "* duration — длительность звонка в минутах\n",
    "* user_id — идентификатор пользователя, сделавшего звонок"
   ]
  },
  {
   "cell_type": "code",
   "execution_count": 4,
   "id": "91933b50",
   "metadata": {},
   "outputs": [
    {
     "name": "stdout",
     "output_type": "stream",
     "text": [
      "<class 'pandas.core.frame.DataFrame'>\n",
      "RangeIndex: 202607 entries, 0 to 202606\n",
      "Data columns (total 4 columns):\n",
      "id           202607 non-null object\n",
      "call_date    202607 non-null object\n",
      "duration     202607 non-null float64\n",
      "user_id      202607 non-null int64\n",
      "dtypes: float64(1), int64(1), object(2)\n",
      "memory usage: 6.2+ MB\n"
     ]
    },
    {
     "data": {
      "text/html": [
       "<div>\n",
       "<style scoped>\n",
       "    .dataframe tbody tr th:only-of-type {\n",
       "        vertical-align: middle;\n",
       "    }\n",
       "\n",
       "    .dataframe tbody tr th {\n",
       "        vertical-align: top;\n",
       "    }\n",
       "\n",
       "    .dataframe thead th {\n",
       "        text-align: right;\n",
       "    }\n",
       "</style>\n",
       "<table border=\"1\" class=\"dataframe\">\n",
       "  <thead>\n",
       "    <tr style=\"text-align: right;\">\n",
       "      <th></th>\n",
       "      <th>id</th>\n",
       "      <th>call_date</th>\n",
       "      <th>duration</th>\n",
       "      <th>user_id</th>\n",
       "    </tr>\n",
       "  </thead>\n",
       "  <tbody>\n",
       "    <tr>\n",
       "      <td>0</td>\n",
       "      <td>1000_0</td>\n",
       "      <td>2018-07-25</td>\n",
       "      <td>0.00</td>\n",
       "      <td>1000</td>\n",
       "    </tr>\n",
       "    <tr>\n",
       "      <td>1</td>\n",
       "      <td>1000_1</td>\n",
       "      <td>2018-08-17</td>\n",
       "      <td>0.00</td>\n",
       "      <td>1000</td>\n",
       "    </tr>\n",
       "    <tr>\n",
       "      <td>2</td>\n",
       "      <td>1000_2</td>\n",
       "      <td>2018-06-11</td>\n",
       "      <td>2.85</td>\n",
       "      <td>1000</td>\n",
       "    </tr>\n",
       "    <tr>\n",
       "      <td>3</td>\n",
       "      <td>1000_3</td>\n",
       "      <td>2018-09-21</td>\n",
       "      <td>13.80</td>\n",
       "      <td>1000</td>\n",
       "    </tr>\n",
       "    <tr>\n",
       "      <td>4</td>\n",
       "      <td>1000_4</td>\n",
       "      <td>2018-12-15</td>\n",
       "      <td>5.18</td>\n",
       "      <td>1000</td>\n",
       "    </tr>\n",
       "  </tbody>\n",
       "</table>\n",
       "</div>"
      ],
      "text/plain": [
       "       id   call_date  duration  user_id\n",
       "0  1000_0  2018-07-25      0.00     1000\n",
       "1  1000_1  2018-08-17      0.00     1000\n",
       "2  1000_2  2018-06-11      2.85     1000\n",
       "3  1000_3  2018-09-21     13.80     1000\n",
       "4  1000_4  2018-12-15      5.18     1000"
      ]
     },
     "execution_count": 4,
     "metadata": {},
     "output_type": "execute_result"
    }
   ],
   "source": [
    "calls_data.info()\n",
    "calls_data.head()"
   ]
  },
  {
   "cell_type": "markdown",
   "id": "b629a6c7",
   "metadata": {},
   "source": [
    "### Таблица messages (информация о сообщениях):\n",
    "* id — уникальный номер сообщения\n",
    "* message_date — дата сообщения\n",
    "* user_id — идентификатор пользователя, отправившего сообщение"
   ]
  },
  {
   "cell_type": "code",
   "execution_count": 5,
   "id": "933b463b",
   "metadata": {},
   "outputs": [
    {
     "name": "stdout",
     "output_type": "stream",
     "text": [
      "<class 'pandas.core.frame.DataFrame'>\n",
      "RangeIndex: 123036 entries, 0 to 123035\n",
      "Data columns (total 3 columns):\n",
      "id              123036 non-null object\n",
      "message_date    123036 non-null object\n",
      "user_id         123036 non-null int64\n",
      "dtypes: int64(1), object(2)\n",
      "memory usage: 2.8+ MB\n"
     ]
    },
    {
     "data": {
      "text/html": [
       "<div>\n",
       "<style scoped>\n",
       "    .dataframe tbody tr th:only-of-type {\n",
       "        vertical-align: middle;\n",
       "    }\n",
       "\n",
       "    .dataframe tbody tr th {\n",
       "        vertical-align: top;\n",
       "    }\n",
       "\n",
       "    .dataframe thead th {\n",
       "        text-align: right;\n",
       "    }\n",
       "</style>\n",
       "<table border=\"1\" class=\"dataframe\">\n",
       "  <thead>\n",
       "    <tr style=\"text-align: right;\">\n",
       "      <th></th>\n",
       "      <th>id</th>\n",
       "      <th>message_date</th>\n",
       "      <th>user_id</th>\n",
       "    </tr>\n",
       "  </thead>\n",
       "  <tbody>\n",
       "    <tr>\n",
       "      <td>0</td>\n",
       "      <td>1000_0</td>\n",
       "      <td>2018-06-27</td>\n",
       "      <td>1000</td>\n",
       "    </tr>\n",
       "    <tr>\n",
       "      <td>1</td>\n",
       "      <td>1000_1</td>\n",
       "      <td>2018-10-08</td>\n",
       "      <td>1000</td>\n",
       "    </tr>\n",
       "    <tr>\n",
       "      <td>2</td>\n",
       "      <td>1000_2</td>\n",
       "      <td>2018-08-04</td>\n",
       "      <td>1000</td>\n",
       "    </tr>\n",
       "    <tr>\n",
       "      <td>3</td>\n",
       "      <td>1000_3</td>\n",
       "      <td>2018-06-16</td>\n",
       "      <td>1000</td>\n",
       "    </tr>\n",
       "    <tr>\n",
       "      <td>4</td>\n",
       "      <td>1000_4</td>\n",
       "      <td>2018-12-05</td>\n",
       "      <td>1000</td>\n",
       "    </tr>\n",
       "  </tbody>\n",
       "</table>\n",
       "</div>"
      ],
      "text/plain": [
       "       id message_date  user_id\n",
       "0  1000_0   2018-06-27     1000\n",
       "1  1000_1   2018-10-08     1000\n",
       "2  1000_2   2018-08-04     1000\n",
       "3  1000_3   2018-06-16     1000\n",
       "4  1000_4   2018-12-05     1000"
      ]
     },
     "execution_count": 5,
     "metadata": {},
     "output_type": "execute_result"
    }
   ],
   "source": [
    "messages_data.info()\n",
    "messages_data.head()"
   ]
  },
  {
   "cell_type": "markdown",
   "id": "ff6e3d0a",
   "metadata": {},
   "source": [
    "### Таблица internet (информация об интернет-сессиях):\n",
    "* id — уникальный номер сессии\n",
    "* mb_used — объём потраченного за сессию интернет-трафика (в мегабайтах)\n",
    "* session_date — дата интернет-сессии\n",
    "* user_id — идентификатор пользователя\n"
   ]
  },
  {
   "cell_type": "code",
   "execution_count": 6,
   "id": "664d47e2",
   "metadata": {},
   "outputs": [
    {
     "name": "stdout",
     "output_type": "stream",
     "text": [
      "<class 'pandas.core.frame.DataFrame'>\n",
      "RangeIndex: 149396 entries, 0 to 149395\n",
      "Data columns (total 5 columns):\n",
      "Unnamed: 0      149396 non-null int64\n",
      "id              149396 non-null object\n",
      "mb_used         149396 non-null float64\n",
      "session_date    149396 non-null object\n",
      "user_id         149396 non-null int64\n",
      "dtypes: float64(1), int64(2), object(2)\n",
      "memory usage: 5.7+ MB\n"
     ]
    },
    {
     "data": {
      "text/html": [
       "<div>\n",
       "<style scoped>\n",
       "    .dataframe tbody tr th:only-of-type {\n",
       "        vertical-align: middle;\n",
       "    }\n",
       "\n",
       "    .dataframe tbody tr th {\n",
       "        vertical-align: top;\n",
       "    }\n",
       "\n",
       "    .dataframe thead th {\n",
       "        text-align: right;\n",
       "    }\n",
       "</style>\n",
       "<table border=\"1\" class=\"dataframe\">\n",
       "  <thead>\n",
       "    <tr style=\"text-align: right;\">\n",
       "      <th></th>\n",
       "      <th>Unnamed: 0</th>\n",
       "      <th>id</th>\n",
       "      <th>mb_used</th>\n",
       "      <th>session_date</th>\n",
       "      <th>user_id</th>\n",
       "    </tr>\n",
       "  </thead>\n",
       "  <tbody>\n",
       "    <tr>\n",
       "      <td>0</td>\n",
       "      <td>0</td>\n",
       "      <td>1000_0</td>\n",
       "      <td>112.95</td>\n",
       "      <td>2018-11-25</td>\n",
       "      <td>1000</td>\n",
       "    </tr>\n",
       "    <tr>\n",
       "      <td>1</td>\n",
       "      <td>1</td>\n",
       "      <td>1000_1</td>\n",
       "      <td>1052.81</td>\n",
       "      <td>2018-09-07</td>\n",
       "      <td>1000</td>\n",
       "    </tr>\n",
       "    <tr>\n",
       "      <td>2</td>\n",
       "      <td>2</td>\n",
       "      <td>1000_2</td>\n",
       "      <td>1197.26</td>\n",
       "      <td>2018-06-25</td>\n",
       "      <td>1000</td>\n",
       "    </tr>\n",
       "    <tr>\n",
       "      <td>3</td>\n",
       "      <td>3</td>\n",
       "      <td>1000_3</td>\n",
       "      <td>550.27</td>\n",
       "      <td>2018-08-22</td>\n",
       "      <td>1000</td>\n",
       "    </tr>\n",
       "    <tr>\n",
       "      <td>4</td>\n",
       "      <td>4</td>\n",
       "      <td>1000_4</td>\n",
       "      <td>302.56</td>\n",
       "      <td>2018-09-24</td>\n",
       "      <td>1000</td>\n",
       "    </tr>\n",
       "  </tbody>\n",
       "</table>\n",
       "</div>"
      ],
      "text/plain": [
       "   Unnamed: 0      id  mb_used session_date  user_id\n",
       "0           0  1000_0   112.95   2018-11-25     1000\n",
       "1           1  1000_1  1052.81   2018-09-07     1000\n",
       "2           2  1000_2  1197.26   2018-06-25     1000\n",
       "3           3  1000_3   550.27   2018-08-22     1000\n",
       "4           4  1000_4   302.56   2018-09-24     1000"
      ]
     },
     "execution_count": 6,
     "metadata": {},
     "output_type": "execute_result"
    }
   ],
   "source": [
    "internet_data.info()\n",
    "internet_data.head()"
   ]
  },
  {
   "cell_type": "markdown",
   "id": "702bc89b",
   "metadata": {},
   "source": [
    "### Таблица tariffs (информация о тарифах):\n",
    "* tariff_name — название тарифа\n",
    "* rub_monthly_fee — ежемесячная абонентская плата в рублях\n",
    "* minutes_included — количество минут разговора в месяц, включённых в абонентскую плату\n",
    "* messages_included — количество сообщений в месяц, включённых в абонентскую плату\n",
    "* mb_per_month_included — объём интернет-трафика, включённого в абонентскую плату (в мегабайтах)\n",
    "* rub_per_minute — стоимость минуты разговора сверх тарифного пакета (например, если в тарифе 100 минут разговора в месяц, то со 101 минуты будет взиматься плата)\n",
    "* rub_per_message — стоимость отправки сообщения сверх тарифного пакета\n",
    "* rub_per_gb — стоимость дополнительного гигабайта интернет-трафика сверх тарифного пакета (1 гигабайт = 1024 мегабайта)"
   ]
  },
  {
   "cell_type": "code",
   "execution_count": 7,
   "id": "d7071329",
   "metadata": {},
   "outputs": [
    {
     "name": "stdout",
     "output_type": "stream",
     "text": [
      "<class 'pandas.core.frame.DataFrame'>\n",
      "RangeIndex: 2 entries, 0 to 1\n",
      "Data columns (total 8 columns):\n",
      "messages_included        2 non-null int64\n",
      "mb_per_month_included    2 non-null int64\n",
      "minutes_included         2 non-null int64\n",
      "rub_monthly_fee          2 non-null int64\n",
      "rub_per_gb               2 non-null int64\n",
      "rub_per_message          2 non-null int64\n",
      "rub_per_minute           2 non-null int64\n",
      "tariff_name              2 non-null object\n",
      "dtypes: int64(7), object(1)\n",
      "memory usage: 256.0+ bytes\n"
     ]
    },
    {
     "data": {
      "text/html": [
       "<div>\n",
       "<style scoped>\n",
       "    .dataframe tbody tr th:only-of-type {\n",
       "        vertical-align: middle;\n",
       "    }\n",
       "\n",
       "    .dataframe tbody tr th {\n",
       "        vertical-align: top;\n",
       "    }\n",
       "\n",
       "    .dataframe thead th {\n",
       "        text-align: right;\n",
       "    }\n",
       "</style>\n",
       "<table border=\"1\" class=\"dataframe\">\n",
       "  <thead>\n",
       "    <tr style=\"text-align: right;\">\n",
       "      <th></th>\n",
       "      <th>messages_included</th>\n",
       "      <th>mb_per_month_included</th>\n",
       "      <th>minutes_included</th>\n",
       "      <th>rub_monthly_fee</th>\n",
       "      <th>rub_per_gb</th>\n",
       "      <th>rub_per_message</th>\n",
       "      <th>rub_per_minute</th>\n",
       "      <th>tariff_name</th>\n",
       "    </tr>\n",
       "  </thead>\n",
       "  <tbody>\n",
       "    <tr>\n",
       "      <td>0</td>\n",
       "      <td>50</td>\n",
       "      <td>15360</td>\n",
       "      <td>500</td>\n",
       "      <td>550</td>\n",
       "      <td>200</td>\n",
       "      <td>3</td>\n",
       "      <td>3</td>\n",
       "      <td>smart</td>\n",
       "    </tr>\n",
       "    <tr>\n",
       "      <td>1</td>\n",
       "      <td>1000</td>\n",
       "      <td>30720</td>\n",
       "      <td>3000</td>\n",
       "      <td>1950</td>\n",
       "      <td>150</td>\n",
       "      <td>1</td>\n",
       "      <td>1</td>\n",
       "      <td>ultra</td>\n",
       "    </tr>\n",
       "  </tbody>\n",
       "</table>\n",
       "</div>"
      ],
      "text/plain": [
       "   messages_included  mb_per_month_included  minutes_included  \\\n",
       "0                 50                  15360               500   \n",
       "1               1000                  30720              3000   \n",
       "\n",
       "   rub_monthly_fee  rub_per_gb  rub_per_message  rub_per_minute tariff_name  \n",
       "0              550         200                3               3       smart  \n",
       "1             1950         150                1               1       ultra  "
      ]
     },
     "execution_count": 7,
     "metadata": {},
     "output_type": "execute_result"
    }
   ],
   "source": [
    "tariffs_data.info()\n",
    "tariffs_data.head()"
   ]
  },
  {
   "cell_type": "markdown",
   "id": "4054265c",
   "metadata": {},
   "source": [
    "## Вывод по пункту 1\n",
    "Пропусков в данных нет. Неверный формат даты во всех таблицах с датами. Необходимо округлить время звонков и мегабайты трафика в большую сторону в соответствии с условиями тарифов"
   ]
  },
  {
   "cell_type": "markdown",
   "id": "522a403e",
   "metadata": {},
   "source": [
    "<a id=\"preprocessing\"><h1>2. Подготовка данных</h1> </a>"
   ]
  },
  {
   "cell_type": "code",
   "execution_count": 8,
   "id": "581ad582",
   "metadata": {},
   "outputs": [],
   "source": [
    "#переведем даты в формат datetime\n",
    "calls_data['call_date'] = pd.to_datetime(calls_data['call_date'], format='%Y-%m-%d')\n",
    "messages_data['message_date'] = pd.to_datetime(messages_data['message_date'], format='%Y-%m-%d')\n",
    "internet_data['session_date'] = pd.to_datetime(internet_data['session_date'], format='%Y-%m-%d')\n",
    "users_data['reg_date'] = pd.to_datetime(users_data['reg_date'], format='%Y-%m-%d')\n",
    "users_data['churn_date'] = pd.to_datetime(users_data['churn_date'], format='%Y-%m-%d')"
   ]
  },
  {
   "cell_type": "code",
   "execution_count": 9,
   "id": "a7115a88",
   "metadata": {},
   "outputs": [],
   "source": [
    "#если дата ухода пуста, то до конца 2018 он остался на тарифе\n",
    "users_data['churn_date'].fillna('2019-01-01', inplace=True) \n"
   ]
  },
  {
   "cell_type": "code",
   "execution_count": 10,
   "id": "473e7d7d",
   "metadata": {},
   "outputs": [],
   "source": [
    "#добавляем столбец month (кроме таблицы users)\n",
    "calls_data['month'] = pd.to_datetime(calls_data['call_date']).dt.month\n",
    "messages_data['month'] = pd.to_datetime(messages_data['message_date']).dt.month\n",
    "internet_data['month'] = pd.to_datetime(internet_data['session_date']).dt.month"
   ]
  },
  {
   "cell_type": "code",
   "execution_count": 11,
   "id": "7dc38b01",
   "metadata": {},
   "outputs": [],
   "source": [
    "#Округлим звонки и мегабайты в большую сторону (т.к. тариф считается по минутам и по мегабайтам)\n",
    "#calls_data['duration'] = calls_data['duration'].apply(np.ceil).replace(0, 1)\n",
    "#internet_data['mb_used'] = internet_data['mb_used'].apply(np.ceil).replace(0, 1)"
   ]
  },
  {
   "cell_type": "code",
   "execution_count": 12,
   "id": "07462a82",
   "metadata": {},
   "outputs": [
    {
     "data": {
      "text/plain": [
       "0          0.0\n",
       "1          0.0\n",
       "2          3.0\n",
       "3         14.0\n",
       "4          6.0\n",
       "          ... \n",
       "202602     1.0\n",
       "202603    19.0\n",
       "202604    11.0\n",
       "202605     5.0\n",
       "202606    20.0\n",
       "Name: duration, Length: 202607, dtype: float64"
      ]
     },
     "execution_count": 12,
     "metadata": {},
     "output_type": "execute_result"
    }
   ],
   "source": [
    "calls_data['duration'] = np.ceil(calls_data['duration'])\n",
    "calls_data['duration'] "
   ]
  },
  {
   "cell_type": "code",
   "execution_count": 13,
   "id": "f45639b4",
   "metadata": {},
   "outputs": [
    {
     "data": {
      "text/html": [
       "<div>\n",
       "<style scoped>\n",
       "    .dataframe tbody tr th:only-of-type {\n",
       "        vertical-align: middle;\n",
       "    }\n",
       "\n",
       "    .dataframe tbody tr th {\n",
       "        vertical-align: top;\n",
       "    }\n",
       "\n",
       "    .dataframe thead th {\n",
       "        text-align: right;\n",
       "    }\n",
       "</style>\n",
       "<table border=\"1\" class=\"dataframe\">\n",
       "  <thead>\n",
       "    <tr style=\"text-align: right;\">\n",
       "      <th></th>\n",
       "      <th>Unnamed: 0</th>\n",
       "      <th>id</th>\n",
       "      <th>mb_used</th>\n",
       "      <th>session_date</th>\n",
       "      <th>user_id</th>\n",
       "      <th>month</th>\n",
       "      <th>gb_used</th>\n",
       "    </tr>\n",
       "  </thead>\n",
       "  <tbody>\n",
       "    <tr>\n",
       "      <td>0</td>\n",
       "      <td>0</td>\n",
       "      <td>1000_0</td>\n",
       "      <td>112.95</td>\n",
       "      <td>2018-11-25</td>\n",
       "      <td>1000</td>\n",
       "      <td>11</td>\n",
       "      <td>0.110303</td>\n",
       "    </tr>\n",
       "    <tr>\n",
       "      <td>1</td>\n",
       "      <td>1</td>\n",
       "      <td>1000_1</td>\n",
       "      <td>1052.81</td>\n",
       "      <td>2018-09-07</td>\n",
       "      <td>1000</td>\n",
       "      <td>9</td>\n",
       "      <td>1.028135</td>\n",
       "    </tr>\n",
       "    <tr>\n",
       "      <td>2</td>\n",
       "      <td>2</td>\n",
       "      <td>1000_2</td>\n",
       "      <td>1197.26</td>\n",
       "      <td>2018-06-25</td>\n",
       "      <td>1000</td>\n",
       "      <td>6</td>\n",
       "      <td>1.169199</td>\n",
       "    </tr>\n",
       "    <tr>\n",
       "      <td>3</td>\n",
       "      <td>3</td>\n",
       "      <td>1000_3</td>\n",
       "      <td>550.27</td>\n",
       "      <td>2018-08-22</td>\n",
       "      <td>1000</td>\n",
       "      <td>8</td>\n",
       "      <td>0.537373</td>\n",
       "    </tr>\n",
       "    <tr>\n",
       "      <td>4</td>\n",
       "      <td>4</td>\n",
       "      <td>1000_4</td>\n",
       "      <td>302.56</td>\n",
       "      <td>2018-09-24</td>\n",
       "      <td>1000</td>\n",
       "      <td>9</td>\n",
       "      <td>0.295469</td>\n",
       "    </tr>\n",
       "  </tbody>\n",
       "</table>\n",
       "</div>"
      ],
      "text/plain": [
       "   Unnamed: 0      id  mb_used session_date  user_id  month   gb_used\n",
       "0           0  1000_0   112.95   2018-11-25     1000     11  0.110303\n",
       "1           1  1000_1  1052.81   2018-09-07     1000      9  1.028135\n",
       "2           2  1000_2  1197.26   2018-06-25     1000      6  1.169199\n",
       "3           3  1000_3   550.27   2018-08-22     1000      8  0.537373\n",
       "4           4  1000_4   302.56   2018-09-24     1000      9  0.295469"
      ]
     },
     "execution_count": 13,
     "metadata": {},
     "output_type": "execute_result"
    }
   ],
   "source": [
    "#в таблице с трафиком переведем мб в гб\n",
    "internet_data['gb_used'] = (internet_data['mb_used'] / 1024)\n",
    "internet_data.head()"
   ]
  },
  {
   "cell_type": "markdown",
   "id": "51c72f7d",
   "metadata": {},
   "source": [
    "### Посчитаем для каждого пользователя:\n",
    "\n",
    "количество сделанных звонков и израсходованных минут разговора по месяцам;<br>\n",
    "количество отправленных сообщений по месяцам;<br>\n",
    "объем израсходованного интернет-трафика по месяцам;<br>\n",
    "помесячную выручку с каждого пользователя (вычтите бесплатный лимит из суммарного количества звонков, сообщений и интернет-трафика; остаток умножьте на значение из тарифного плана; прибавьте абонентскую плату, соответствующую тарифному плану).<br>\n",
    "Для этого составим сводные таблицы."
   ]
  },
  {
   "cell_type": "code",
   "execution_count": 14,
   "id": "a5e97590",
   "metadata": {},
   "outputs": [
    {
     "data": {
      "text/html": [
       "<div>\n",
       "<style scoped>\n",
       "    .dataframe tbody tr th:only-of-type {\n",
       "        vertical-align: middle;\n",
       "    }\n",
       "\n",
       "    .dataframe tbody tr th {\n",
       "        vertical-align: top;\n",
       "    }\n",
       "\n",
       "    .dataframe thead th {\n",
       "        text-align: right;\n",
       "    }\n",
       "</style>\n",
       "<table border=\"1\" class=\"dataframe\">\n",
       "  <thead>\n",
       "    <tr style=\"text-align: right;\">\n",
       "      <th></th>\n",
       "      <th></th>\n",
       "      <th>messages</th>\n",
       "    </tr>\n",
       "    <tr>\n",
       "      <th>user_id</th>\n",
       "      <th>month</th>\n",
       "      <th></th>\n",
       "    </tr>\n",
       "  </thead>\n",
       "  <tbody>\n",
       "    <tr>\n",
       "      <td rowspan=\"5\" valign=\"top\">1000</td>\n",
       "      <td>5</td>\n",
       "      <td>22</td>\n",
       "    </tr>\n",
       "    <tr>\n",
       "      <td>6</td>\n",
       "      <td>60</td>\n",
       "    </tr>\n",
       "    <tr>\n",
       "      <td>7</td>\n",
       "      <td>75</td>\n",
       "    </tr>\n",
       "    <tr>\n",
       "      <td>8</td>\n",
       "      <td>81</td>\n",
       "    </tr>\n",
       "    <tr>\n",
       "      <td>9</td>\n",
       "      <td>57</td>\n",
       "    </tr>\n",
       "  </tbody>\n",
       "</table>\n",
       "</div>"
      ],
      "text/plain": [
       "               messages\n",
       "user_id month          \n",
       "1000    5            22\n",
       "        6            60\n",
       "        7            75\n",
       "        8            81\n",
       "        9            57"
      ]
     },
     "execution_count": 14,
     "metadata": {},
     "output_type": "execute_result"
    }
   ],
   "source": [
    "users_messages = messages_data.merge(users_data, on='user_id', how='inner')\n",
    "messages_grouped = users_messages.pivot_table(values='id', \n",
    "                       index=['user_id', 'month',], \n",
    "                       aggfunc={'user_id': 'count'})\n",
    "messages_grouped.columns = ['messages']\n",
    "messages_grouped.head()"
   ]
  },
  {
   "cell_type": "code",
   "execution_count": 15,
   "id": "5a228f2f",
   "metadata": {},
   "outputs": [
    {
     "data": {
      "text/html": [
       "<div>\n",
       "<style scoped>\n",
       "    .dataframe tbody tr th:only-of-type {\n",
       "        vertical-align: middle;\n",
       "    }\n",
       "\n",
       "    .dataframe tbody tr th {\n",
       "        vertical-align: top;\n",
       "    }\n",
       "\n",
       "    .dataframe thead th {\n",
       "        text-align: right;\n",
       "    }\n",
       "</style>\n",
       "<table border=\"1\" class=\"dataframe\">\n",
       "  <thead>\n",
       "    <tr style=\"text-align: right;\">\n",
       "      <th></th>\n",
       "      <th></th>\n",
       "      <th>duration</th>\n",
       "      <th>calls</th>\n",
       "    </tr>\n",
       "    <tr>\n",
       "      <th>user_id</th>\n",
       "      <th>month</th>\n",
       "      <th></th>\n",
       "      <th></th>\n",
       "    </tr>\n",
       "  </thead>\n",
       "  <tbody>\n",
       "    <tr>\n",
       "      <td rowspan=\"5\" valign=\"top\">1000</td>\n",
       "      <td>5</td>\n",
       "      <td>159.0</td>\n",
       "      <td>22</td>\n",
       "    </tr>\n",
       "    <tr>\n",
       "      <td>6</td>\n",
       "      <td>172.0</td>\n",
       "      <td>43</td>\n",
       "    </tr>\n",
       "    <tr>\n",
       "      <td>7</td>\n",
       "      <td>340.0</td>\n",
       "      <td>47</td>\n",
       "    </tr>\n",
       "    <tr>\n",
       "      <td>8</td>\n",
       "      <td>408.0</td>\n",
       "      <td>52</td>\n",
       "    </tr>\n",
       "    <tr>\n",
       "      <td>9</td>\n",
       "      <td>466.0</td>\n",
       "      <td>58</td>\n",
       "    </tr>\n",
       "  </tbody>\n",
       "</table>\n",
       "</div>"
      ],
      "text/plain": [
       "               duration  calls\n",
       "user_id month                 \n",
       "1000    5         159.0     22\n",
       "        6         172.0     43\n",
       "        7         340.0     47\n",
       "        8         408.0     52\n",
       "        9         466.0     58"
      ]
     },
     "execution_count": 15,
     "metadata": {},
     "output_type": "execute_result"
    }
   ],
   "source": [
    "users_calls = calls_data.merge(users_data, on='user_id', how='inner')\n",
    "calls_grouped = users_calls.pivot_table(values=['duration'], \n",
    "                       index=['user_id', 'month'], \n",
    "                       aggfunc={'user_id': 'count', 'duration': 'sum'})\n",
    "calls_grouped.columns = ['duration', 'calls']\n",
    "calls_grouped.head()"
   ]
  },
  {
   "cell_type": "code",
   "execution_count": 16,
   "id": "f80915d8",
   "metadata": {},
   "outputs": [
    {
     "data": {
      "text/html": [
       "<div>\n",
       "<style scoped>\n",
       "    .dataframe tbody tr th:only-of-type {\n",
       "        vertical-align: middle;\n",
       "    }\n",
       "\n",
       "    .dataframe tbody tr th {\n",
       "        vertical-align: top;\n",
       "    }\n",
       "\n",
       "    .dataframe thead th {\n",
       "        text-align: right;\n",
       "    }\n",
       "</style>\n",
       "<table border=\"1\" class=\"dataframe\">\n",
       "  <thead>\n",
       "    <tr style=\"text-align: right;\">\n",
       "      <th></th>\n",
       "      <th></th>\n",
       "      <th>mb_used</th>\n",
       "      <th>gb_used</th>\n",
       "    </tr>\n",
       "    <tr>\n",
       "      <th>user_id</th>\n",
       "      <th>month</th>\n",
       "      <th></th>\n",
       "      <th></th>\n",
       "    </tr>\n",
       "  </thead>\n",
       "  <tbody>\n",
       "    <tr>\n",
       "      <td rowspan=\"5\" valign=\"top\">1000</td>\n",
       "      <td>5</td>\n",
       "      <td>2253.49</td>\n",
       "      <td>3.0</td>\n",
       "    </tr>\n",
       "    <tr>\n",
       "      <td>6</td>\n",
       "      <td>23233.77</td>\n",
       "      <td>23.0</td>\n",
       "    </tr>\n",
       "    <tr>\n",
       "      <td>7</td>\n",
       "      <td>14003.64</td>\n",
       "      <td>14.0</td>\n",
       "    </tr>\n",
       "    <tr>\n",
       "      <td>8</td>\n",
       "      <td>14055.93</td>\n",
       "      <td>14.0</td>\n",
       "    </tr>\n",
       "    <tr>\n",
       "      <td>9</td>\n",
       "      <td>14568.91</td>\n",
       "      <td>15.0</td>\n",
       "    </tr>\n",
       "  </tbody>\n",
       "</table>\n",
       "</div>"
      ],
      "text/plain": [
       "                mb_used  gb_used\n",
       "user_id month                   \n",
       "1000    5       2253.49      3.0\n",
       "        6      23233.77     23.0\n",
       "        7      14003.64     14.0\n",
       "        8      14055.93     14.0\n",
       "        9      14568.91     15.0"
      ]
     },
     "execution_count": 16,
     "metadata": {},
     "output_type": "execute_result"
    }
   ],
   "source": [
    "users_internet = internet_data.merge(users_data, on='user_id', how='inner')\n",
    "internet_grouped = users_internet.pivot_table(values='mb_used', \n",
    "                       index=['user_id', 'month'], \n",
    "                       aggfunc={'mb_used': 'sum'})\n",
    "#internet_grouped['mb_used'] = internet_grouped['mb_used'].apply(np.ceil).replace(0, 1)\n",
    "#сюда перенесла округление по мб\n",
    "\n",
    "#Исправление №2:\n",
    "internet_grouped['gb_used'] = np.ceil(internet_grouped['mb_used'] / 1024)\n",
    "\n",
    "internet_grouped.columns = ['mb_used','gb_used']\n",
    "#и перевод в Гб тоже \n",
    "internet_grouped.head()"
   ]
  },
  {
   "cell_type": "code",
   "execution_count": 17,
   "id": "b2cf479c",
   "metadata": {},
   "outputs": [
    {
     "data": {
      "text/html": [
       "<div>\n",
       "<style scoped>\n",
       "    .dataframe tbody tr th:only-of-type {\n",
       "        vertical-align: middle;\n",
       "    }\n",
       "\n",
       "    .dataframe tbody tr th {\n",
       "        vertical-align: top;\n",
       "    }\n",
       "\n",
       "    .dataframe thead th {\n",
       "        text-align: right;\n",
       "    }\n",
       "</style>\n",
       "<table border=\"1\" class=\"dataframe\">\n",
       "  <thead>\n",
       "    <tr style=\"text-align: right;\">\n",
       "      <th></th>\n",
       "      <th>user_id</th>\n",
       "      <th>month</th>\n",
       "      <th>duration</th>\n",
       "      <th>calls</th>\n",
       "      <th>messages</th>\n",
       "      <th>mb_used</th>\n",
       "      <th>gb_used</th>\n",
       "    </tr>\n",
       "  </thead>\n",
       "  <tbody>\n",
       "    <tr>\n",
       "      <td>0</td>\n",
       "      <td>1000</td>\n",
       "      <td>5</td>\n",
       "      <td>159.0</td>\n",
       "      <td>22.0</td>\n",
       "      <td>22.0</td>\n",
       "      <td>2253.49</td>\n",
       "      <td>3.0</td>\n",
       "    </tr>\n",
       "    <tr>\n",
       "      <td>1</td>\n",
       "      <td>1000</td>\n",
       "      <td>6</td>\n",
       "      <td>172.0</td>\n",
       "      <td>43.0</td>\n",
       "      <td>60.0</td>\n",
       "      <td>23233.77</td>\n",
       "      <td>23.0</td>\n",
       "    </tr>\n",
       "    <tr>\n",
       "      <td>2</td>\n",
       "      <td>1000</td>\n",
       "      <td>7</td>\n",
       "      <td>340.0</td>\n",
       "      <td>47.0</td>\n",
       "      <td>75.0</td>\n",
       "      <td>14003.64</td>\n",
       "      <td>14.0</td>\n",
       "    </tr>\n",
       "    <tr>\n",
       "      <td>3</td>\n",
       "      <td>1000</td>\n",
       "      <td>8</td>\n",
       "      <td>408.0</td>\n",
       "      <td>52.0</td>\n",
       "      <td>81.0</td>\n",
       "      <td>14055.93</td>\n",
       "      <td>14.0</td>\n",
       "    </tr>\n",
       "    <tr>\n",
       "      <td>4</td>\n",
       "      <td>1000</td>\n",
       "      <td>9</td>\n",
       "      <td>466.0</td>\n",
       "      <td>58.0</td>\n",
       "      <td>57.0</td>\n",
       "      <td>14568.91</td>\n",
       "      <td>15.0</td>\n",
       "    </tr>\n",
       "  </tbody>\n",
       "</table>\n",
       "</div>"
      ],
      "text/plain": [
       "   user_id  month  duration  calls  messages   mb_used  gb_used\n",
       "0     1000      5     159.0   22.0      22.0   2253.49      3.0\n",
       "1     1000      6     172.0   43.0      60.0  23233.77     23.0\n",
       "2     1000      7     340.0   47.0      75.0  14003.64     14.0\n",
       "3     1000      8     408.0   52.0      81.0  14055.93     14.0\n",
       "4     1000      9     466.0   58.0      57.0  14568.91     15.0"
      ]
     },
     "execution_count": 17,
     "metadata": {},
     "output_type": "execute_result"
    }
   ],
   "source": [
    "megaline = calls_grouped.merge(messages_grouped, how='outer', on=['user_id', 'month'])\n",
    "megaline = megaline.merge(internet_grouped, how='outer', on=['user_id', 'month'])\n",
    "megaline.reset_index(level=[0,1], inplace=True)\n",
    "megaline.head()"
   ]
  },
  {
   "cell_type": "markdown",
   "id": "d73330c4",
   "metadata": {},
   "source": [
    "Создана общая таблица `megaline`. Добавим в нее столбец с тарифами и проверим на пропуски"
   ]
  },
  {
   "cell_type": "code",
   "execution_count": 18,
   "id": "8f086eab",
   "metadata": {},
   "outputs": [
    {
     "data": {
      "text/html": [
       "<div>\n",
       "<style scoped>\n",
       "    .dataframe tbody tr th:only-of-type {\n",
       "        vertical-align: middle;\n",
       "    }\n",
       "\n",
       "    .dataframe tbody tr th {\n",
       "        vertical-align: top;\n",
       "    }\n",
       "\n",
       "    .dataframe thead th {\n",
       "        text-align: right;\n",
       "    }\n",
       "</style>\n",
       "<table border=\"1\" class=\"dataframe\">\n",
       "  <thead>\n",
       "    <tr style=\"text-align: right;\">\n",
       "      <th></th>\n",
       "      <th>user_id</th>\n",
       "      <th>month</th>\n",
       "      <th>duration</th>\n",
       "      <th>calls</th>\n",
       "      <th>messages</th>\n",
       "      <th>mb_used</th>\n",
       "      <th>gb_used</th>\n",
       "      <th>tariff</th>\n",
       "    </tr>\n",
       "  </thead>\n",
       "  <tbody>\n",
       "    <tr>\n",
       "      <td>0</td>\n",
       "      <td>1000</td>\n",
       "      <td>5</td>\n",
       "      <td>159.0</td>\n",
       "      <td>22.0</td>\n",
       "      <td>22.0</td>\n",
       "      <td>2253.49</td>\n",
       "      <td>3.0</td>\n",
       "      <td>ultra</td>\n",
       "    </tr>\n",
       "    <tr>\n",
       "      <td>1</td>\n",
       "      <td>1000</td>\n",
       "      <td>6</td>\n",
       "      <td>172.0</td>\n",
       "      <td>43.0</td>\n",
       "      <td>60.0</td>\n",
       "      <td>23233.77</td>\n",
       "      <td>23.0</td>\n",
       "      <td>ultra</td>\n",
       "    </tr>\n",
       "    <tr>\n",
       "      <td>2</td>\n",
       "      <td>1000</td>\n",
       "      <td>7</td>\n",
       "      <td>340.0</td>\n",
       "      <td>47.0</td>\n",
       "      <td>75.0</td>\n",
       "      <td>14003.64</td>\n",
       "      <td>14.0</td>\n",
       "      <td>ultra</td>\n",
       "    </tr>\n",
       "    <tr>\n",
       "      <td>3</td>\n",
       "      <td>1000</td>\n",
       "      <td>8</td>\n",
       "      <td>408.0</td>\n",
       "      <td>52.0</td>\n",
       "      <td>81.0</td>\n",
       "      <td>14055.93</td>\n",
       "      <td>14.0</td>\n",
       "      <td>ultra</td>\n",
       "    </tr>\n",
       "    <tr>\n",
       "      <td>4</td>\n",
       "      <td>1000</td>\n",
       "      <td>9</td>\n",
       "      <td>466.0</td>\n",
       "      <td>58.0</td>\n",
       "      <td>57.0</td>\n",
       "      <td>14568.91</td>\n",
       "      <td>15.0</td>\n",
       "      <td>ultra</td>\n",
       "    </tr>\n",
       "    <tr>\n",
       "      <td>...</td>\n",
       "      <td>...</td>\n",
       "      <td>...</td>\n",
       "      <td>...</td>\n",
       "      <td>...</td>\n",
       "      <td>...</td>\n",
       "      <td>...</td>\n",
       "      <td>...</td>\n",
       "      <td>...</td>\n",
       "    </tr>\n",
       "    <tr>\n",
       "      <td>3209</td>\n",
       "      <td>1489</td>\n",
       "      <td>9</td>\n",
       "      <td>NaN</td>\n",
       "      <td>NaN</td>\n",
       "      <td>32.0</td>\n",
       "      <td>17206.30</td>\n",
       "      <td>17.0</td>\n",
       "      <td>smart</td>\n",
       "    </tr>\n",
       "    <tr>\n",
       "      <td>3210</td>\n",
       "      <td>1489</td>\n",
       "      <td>10</td>\n",
       "      <td>NaN</td>\n",
       "      <td>NaN</td>\n",
       "      <td>21.0</td>\n",
       "      <td>19559.44</td>\n",
       "      <td>20.0</td>\n",
       "      <td>smart</td>\n",
       "    </tr>\n",
       "    <tr>\n",
       "      <td>3211</td>\n",
       "      <td>1489</td>\n",
       "      <td>11</td>\n",
       "      <td>NaN</td>\n",
       "      <td>NaN</td>\n",
       "      <td>20.0</td>\n",
       "      <td>17491.56</td>\n",
       "      <td>18.0</td>\n",
       "      <td>smart</td>\n",
       "    </tr>\n",
       "    <tr>\n",
       "      <td>3212</td>\n",
       "      <td>1489</td>\n",
       "      <td>12</td>\n",
       "      <td>NaN</td>\n",
       "      <td>NaN</td>\n",
       "      <td>35.0</td>\n",
       "      <td>17322.51</td>\n",
       "      <td>17.0</td>\n",
       "      <td>smart</td>\n",
       "    </tr>\n",
       "    <tr>\n",
       "      <td>3213</td>\n",
       "      <td>1476</td>\n",
       "      <td>4</td>\n",
       "      <td>NaN</td>\n",
       "      <td>NaN</td>\n",
       "      <td>NaN</td>\n",
       "      <td>530.78</td>\n",
       "      <td>1.0</td>\n",
       "      <td>ultra</td>\n",
       "    </tr>\n",
       "  </tbody>\n",
       "</table>\n",
       "<p>3214 rows × 8 columns</p>\n",
       "</div>"
      ],
      "text/plain": [
       "      user_id  month  duration  calls  messages   mb_used  gb_used tariff\n",
       "0        1000      5     159.0   22.0      22.0   2253.49      3.0  ultra\n",
       "1        1000      6     172.0   43.0      60.0  23233.77     23.0  ultra\n",
       "2        1000      7     340.0   47.0      75.0  14003.64     14.0  ultra\n",
       "3        1000      8     408.0   52.0      81.0  14055.93     14.0  ultra\n",
       "4        1000      9     466.0   58.0      57.0  14568.91     15.0  ultra\n",
       "...       ...    ...       ...    ...       ...       ...      ...    ...\n",
       "3209     1489      9       NaN    NaN      32.0  17206.30     17.0  smart\n",
       "3210     1489     10       NaN    NaN      21.0  19559.44     20.0  smart\n",
       "3211     1489     11       NaN    NaN      20.0  17491.56     18.0  smart\n",
       "3212     1489     12       NaN    NaN      35.0  17322.51     17.0  smart\n",
       "3213     1476      4       NaN    NaN       NaN    530.78      1.0  ultra\n",
       "\n",
       "[3214 rows x 8 columns]"
      ]
     },
     "execution_count": 18,
     "metadata": {},
     "output_type": "execute_result"
    }
   ],
   "source": [
    "megaline = megaline.merge(users_data[['user_id', 'tariff']], on='user_id', how='left')\n",
    "megaline"
   ]
  },
  {
   "cell_type": "markdown",
   "id": "8fde35e4",
   "metadata": {},
   "source": [
    "Пропуски появились за счет того, что некоторые пользователи в какие-то месяцы не пользовались некоторыми услугами, например, Интернетом. Заполним эти пропуски нулями."
   ]
  },
  {
   "cell_type": "code",
   "execution_count": 19,
   "id": "ed453da8",
   "metadata": {},
   "outputs": [
    {
     "data": {
      "text/html": [
       "<div>\n",
       "<style scoped>\n",
       "    .dataframe tbody tr th:only-of-type {\n",
       "        vertical-align: middle;\n",
       "    }\n",
       "\n",
       "    .dataframe tbody tr th {\n",
       "        vertical-align: top;\n",
       "    }\n",
       "\n",
       "    .dataframe thead th {\n",
       "        text-align: right;\n",
       "    }\n",
       "</style>\n",
       "<table border=\"1\" class=\"dataframe\">\n",
       "  <thead>\n",
       "    <tr style=\"text-align: right;\">\n",
       "      <th></th>\n",
       "      <th>user_id</th>\n",
       "      <th>month</th>\n",
       "      <th>duration</th>\n",
       "      <th>calls</th>\n",
       "      <th>messages</th>\n",
       "      <th>mb_used</th>\n",
       "      <th>gb_used</th>\n",
       "      <th>tariff</th>\n",
       "    </tr>\n",
       "  </thead>\n",
       "  <tbody>\n",
       "    <tr>\n",
       "      <td>0</td>\n",
       "      <td>1000</td>\n",
       "      <td>5</td>\n",
       "      <td>159.0</td>\n",
       "      <td>22.0</td>\n",
       "      <td>22.0</td>\n",
       "      <td>2253.49</td>\n",
       "      <td>3.0</td>\n",
       "      <td>ultra</td>\n",
       "    </tr>\n",
       "    <tr>\n",
       "      <td>1</td>\n",
       "      <td>1000</td>\n",
       "      <td>6</td>\n",
       "      <td>172.0</td>\n",
       "      <td>43.0</td>\n",
       "      <td>60.0</td>\n",
       "      <td>23233.77</td>\n",
       "      <td>23.0</td>\n",
       "      <td>ultra</td>\n",
       "    </tr>\n",
       "    <tr>\n",
       "      <td>2</td>\n",
       "      <td>1000</td>\n",
       "      <td>7</td>\n",
       "      <td>340.0</td>\n",
       "      <td>47.0</td>\n",
       "      <td>75.0</td>\n",
       "      <td>14003.64</td>\n",
       "      <td>14.0</td>\n",
       "      <td>ultra</td>\n",
       "    </tr>\n",
       "    <tr>\n",
       "      <td>3</td>\n",
       "      <td>1000</td>\n",
       "      <td>8</td>\n",
       "      <td>408.0</td>\n",
       "      <td>52.0</td>\n",
       "      <td>81.0</td>\n",
       "      <td>14055.93</td>\n",
       "      <td>14.0</td>\n",
       "      <td>ultra</td>\n",
       "    </tr>\n",
       "    <tr>\n",
       "      <td>4</td>\n",
       "      <td>1000</td>\n",
       "      <td>9</td>\n",
       "      <td>466.0</td>\n",
       "      <td>58.0</td>\n",
       "      <td>57.0</td>\n",
       "      <td>14568.91</td>\n",
       "      <td>15.0</td>\n",
       "      <td>ultra</td>\n",
       "    </tr>\n",
       "    <tr>\n",
       "      <td>...</td>\n",
       "      <td>...</td>\n",
       "      <td>...</td>\n",
       "      <td>...</td>\n",
       "      <td>...</td>\n",
       "      <td>...</td>\n",
       "      <td>...</td>\n",
       "      <td>...</td>\n",
       "      <td>...</td>\n",
       "    </tr>\n",
       "    <tr>\n",
       "      <td>3209</td>\n",
       "      <td>1489</td>\n",
       "      <td>9</td>\n",
       "      <td>0.0</td>\n",
       "      <td>0.0</td>\n",
       "      <td>32.0</td>\n",
       "      <td>17206.30</td>\n",
       "      <td>17.0</td>\n",
       "      <td>smart</td>\n",
       "    </tr>\n",
       "    <tr>\n",
       "      <td>3210</td>\n",
       "      <td>1489</td>\n",
       "      <td>10</td>\n",
       "      <td>0.0</td>\n",
       "      <td>0.0</td>\n",
       "      <td>21.0</td>\n",
       "      <td>19559.44</td>\n",
       "      <td>20.0</td>\n",
       "      <td>smart</td>\n",
       "    </tr>\n",
       "    <tr>\n",
       "      <td>3211</td>\n",
       "      <td>1489</td>\n",
       "      <td>11</td>\n",
       "      <td>0.0</td>\n",
       "      <td>0.0</td>\n",
       "      <td>20.0</td>\n",
       "      <td>17491.56</td>\n",
       "      <td>18.0</td>\n",
       "      <td>smart</td>\n",
       "    </tr>\n",
       "    <tr>\n",
       "      <td>3212</td>\n",
       "      <td>1489</td>\n",
       "      <td>12</td>\n",
       "      <td>0.0</td>\n",
       "      <td>0.0</td>\n",
       "      <td>35.0</td>\n",
       "      <td>17322.51</td>\n",
       "      <td>17.0</td>\n",
       "      <td>smart</td>\n",
       "    </tr>\n",
       "    <tr>\n",
       "      <td>3213</td>\n",
       "      <td>1476</td>\n",
       "      <td>4</td>\n",
       "      <td>0.0</td>\n",
       "      <td>0.0</td>\n",
       "      <td>0.0</td>\n",
       "      <td>530.78</td>\n",
       "      <td>1.0</td>\n",
       "      <td>ultra</td>\n",
       "    </tr>\n",
       "  </tbody>\n",
       "</table>\n",
       "<p>3214 rows × 8 columns</p>\n",
       "</div>"
      ],
      "text/plain": [
       "      user_id  month  duration  calls  messages   mb_used  gb_used tariff\n",
       "0        1000      5     159.0   22.0      22.0   2253.49      3.0  ultra\n",
       "1        1000      6     172.0   43.0      60.0  23233.77     23.0  ultra\n",
       "2        1000      7     340.0   47.0      75.0  14003.64     14.0  ultra\n",
       "3        1000      8     408.0   52.0      81.0  14055.93     14.0  ultra\n",
       "4        1000      9     466.0   58.0      57.0  14568.91     15.0  ultra\n",
       "...       ...    ...       ...    ...       ...       ...      ...    ...\n",
       "3209     1489      9       0.0    0.0      32.0  17206.30     17.0  smart\n",
       "3210     1489     10       0.0    0.0      21.0  19559.44     20.0  smart\n",
       "3211     1489     11       0.0    0.0      20.0  17491.56     18.0  smart\n",
       "3212     1489     12       0.0    0.0      35.0  17322.51     17.0  smart\n",
       "3213     1476      4       0.0    0.0       0.0    530.78      1.0  ultra\n",
       "\n",
       "[3214 rows x 8 columns]"
      ]
     },
     "execution_count": 19,
     "metadata": {},
     "output_type": "execute_result"
    }
   ],
   "source": [
    "megaline.loc[megaline['duration'].isna(), 'duration'] = 0\n",
    "megaline.loc[megaline['messages'].isna(), 'messages'] = 0\n",
    "megaline.loc[megaline['mb_used'].isna(), 'mb_used'] = 0\n",
    "megaline.loc[megaline['calls'].isna(), 'calls'] = 0\n",
    "megaline"
   ]
  },
  {
   "cell_type": "markdown",
   "id": "8a25676e",
   "metadata": {},
   "source": [
    "Напишем функцию для определения оплаты по тарифу. "
   ]
  },
  {
   "cell_type": "code",
   "execution_count": 20,
   "id": "7755fd5e",
   "metadata": {},
   "outputs": [],
   "source": [
    "def payment(row):\n",
    "    \n",
    "    messages=row['messages']\n",
    "    calls=row['duration']\n",
    "    internet=row['mb_used']\n",
    "    tariff=row['tariff']\n",
    "    \n",
    " #в зависимости от тарифа, оплата вычисляется по разному:   \n",
    "    if (tariff=='smart'):\n",
    "        i=0\n",
    "    else:\n",
    "        i=1\n",
    "        \n",
    "    remain_call=tariffs_data['minutes_included'][i]-calls\n",
    "    if remain_call<0:\n",
    "        call_pay=-remain_call*tariffs_data['rub_per_minute'][i]\n",
    "    else:\n",
    "        call_pay=0\n",
    "         \n",
    "    remain_internet=tariffs_data['mb_per_month_included'][i]-internet\n",
    "    if remain_internet<0:\n",
    "#        internet_pay=round((-remain_internet/1024))*tariffs_data['rub_per_gb'][i]\n",
    "        internet_pay=math.ceil((-remain_internet/1024))*tariffs_data['rub_per_gb'][i]\n",
    "    else:\n",
    "        internet_pay=0\n",
    "            \n",
    "    remain_messages=tariffs_data['messages_included'][i]-messages\n",
    "    if remain_messages<0:\n",
    "        messages_pay=-remain_messages*tariffs_data['rub_per_message'][i]\n",
    "    else:\n",
    "        messages_pay=0\n",
    "            \n",
    "    pay=call_pay+internet_pay+messages_pay+tariffs_data['rub_monthly_fee'][i]\n",
    "    return pay  "
   ]
  },
  {
   "cell_type": "code",
   "execution_count": 21,
   "id": "ce4e33a4",
   "metadata": {},
   "outputs": [
    {
     "data": {
      "text/html": [
       "<div>\n",
       "<style scoped>\n",
       "    .dataframe tbody tr th:only-of-type {\n",
       "        vertical-align: middle;\n",
       "    }\n",
       "\n",
       "    .dataframe tbody tr th {\n",
       "        vertical-align: top;\n",
       "    }\n",
       "\n",
       "    .dataframe thead th {\n",
       "        text-align: right;\n",
       "    }\n",
       "</style>\n",
       "<table border=\"1\" class=\"dataframe\">\n",
       "  <thead>\n",
       "    <tr style=\"text-align: right;\">\n",
       "      <th></th>\n",
       "      <th>user_id</th>\n",
       "      <th>month</th>\n",
       "      <th>duration</th>\n",
       "      <th>calls</th>\n",
       "      <th>messages</th>\n",
       "      <th>mb_used</th>\n",
       "      <th>gb_used</th>\n",
       "      <th>tariff</th>\n",
       "      <th>payment</th>\n",
       "    </tr>\n",
       "  </thead>\n",
       "  <tbody>\n",
       "    <tr>\n",
       "      <td>0</td>\n",
       "      <td>1000</td>\n",
       "      <td>5</td>\n",
       "      <td>159.0</td>\n",
       "      <td>22.0</td>\n",
       "      <td>22.0</td>\n",
       "      <td>2253.49</td>\n",
       "      <td>3.0</td>\n",
       "      <td>ultra</td>\n",
       "      <td>1950.0</td>\n",
       "    </tr>\n",
       "    <tr>\n",
       "      <td>1</td>\n",
       "      <td>1000</td>\n",
       "      <td>6</td>\n",
       "      <td>172.0</td>\n",
       "      <td>43.0</td>\n",
       "      <td>60.0</td>\n",
       "      <td>23233.77</td>\n",
       "      <td>23.0</td>\n",
       "      <td>ultra</td>\n",
       "      <td>1950.0</td>\n",
       "    </tr>\n",
       "    <tr>\n",
       "      <td>2</td>\n",
       "      <td>1000</td>\n",
       "      <td>7</td>\n",
       "      <td>340.0</td>\n",
       "      <td>47.0</td>\n",
       "      <td>75.0</td>\n",
       "      <td>14003.64</td>\n",
       "      <td>14.0</td>\n",
       "      <td>ultra</td>\n",
       "      <td>1950.0</td>\n",
       "    </tr>\n",
       "    <tr>\n",
       "      <td>3</td>\n",
       "      <td>1000</td>\n",
       "      <td>8</td>\n",
       "      <td>408.0</td>\n",
       "      <td>52.0</td>\n",
       "      <td>81.0</td>\n",
       "      <td>14055.93</td>\n",
       "      <td>14.0</td>\n",
       "      <td>ultra</td>\n",
       "      <td>1950.0</td>\n",
       "    </tr>\n",
       "    <tr>\n",
       "      <td>4</td>\n",
       "      <td>1000</td>\n",
       "      <td>9</td>\n",
       "      <td>466.0</td>\n",
       "      <td>58.0</td>\n",
       "      <td>57.0</td>\n",
       "      <td>14568.91</td>\n",
       "      <td>15.0</td>\n",
       "      <td>ultra</td>\n",
       "      <td>1950.0</td>\n",
       "    </tr>\n",
       "    <tr>\n",
       "      <td>5</td>\n",
       "      <td>1000</td>\n",
       "      <td>10</td>\n",
       "      <td>350.0</td>\n",
       "      <td>57.0</td>\n",
       "      <td>73.0</td>\n",
       "      <td>14702.49</td>\n",
       "      <td>15.0</td>\n",
       "      <td>ultra</td>\n",
       "      <td>1950.0</td>\n",
       "    </tr>\n",
       "    <tr>\n",
       "      <td>6</td>\n",
       "      <td>1000</td>\n",
       "      <td>11</td>\n",
       "      <td>338.0</td>\n",
       "      <td>43.0</td>\n",
       "      <td>58.0</td>\n",
       "      <td>14756.47</td>\n",
       "      <td>15.0</td>\n",
       "      <td>ultra</td>\n",
       "      <td>1950.0</td>\n",
       "    </tr>\n",
       "    <tr>\n",
       "      <td>7</td>\n",
       "      <td>1000</td>\n",
       "      <td>12</td>\n",
       "      <td>333.0</td>\n",
       "      <td>46.0</td>\n",
       "      <td>70.0</td>\n",
       "      <td>9817.61</td>\n",
       "      <td>10.0</td>\n",
       "      <td>ultra</td>\n",
       "      <td>1950.0</td>\n",
       "    </tr>\n",
       "    <tr>\n",
       "      <td>8</td>\n",
       "      <td>1001</td>\n",
       "      <td>11</td>\n",
       "      <td>430.0</td>\n",
       "      <td>59.0</td>\n",
       "      <td>0.0</td>\n",
       "      <td>18429.34</td>\n",
       "      <td>18.0</td>\n",
       "      <td>smart</td>\n",
       "      <td>1150.0</td>\n",
       "    </tr>\n",
       "    <tr>\n",
       "      <td>9</td>\n",
       "      <td>1001</td>\n",
       "      <td>12</td>\n",
       "      <td>414.0</td>\n",
       "      <td>63.0</td>\n",
       "      <td>0.0</td>\n",
       "      <td>14036.66</td>\n",
       "      <td>14.0</td>\n",
       "      <td>smart</td>\n",
       "      <td>550.0</td>\n",
       "    </tr>\n",
       "  </tbody>\n",
       "</table>\n",
       "</div>"
      ],
      "text/plain": [
       "   user_id  month  duration  calls  messages   mb_used  gb_used tariff  \\\n",
       "0     1000      5     159.0   22.0      22.0   2253.49      3.0  ultra   \n",
       "1     1000      6     172.0   43.0      60.0  23233.77     23.0  ultra   \n",
       "2     1000      7     340.0   47.0      75.0  14003.64     14.0  ultra   \n",
       "3     1000      8     408.0   52.0      81.0  14055.93     14.0  ultra   \n",
       "4     1000      9     466.0   58.0      57.0  14568.91     15.0  ultra   \n",
       "5     1000     10     350.0   57.0      73.0  14702.49     15.0  ultra   \n",
       "6     1000     11     338.0   43.0      58.0  14756.47     15.0  ultra   \n",
       "7     1000     12     333.0   46.0      70.0   9817.61     10.0  ultra   \n",
       "8     1001     11     430.0   59.0       0.0  18429.34     18.0  smart   \n",
       "9     1001     12     414.0   63.0       0.0  14036.66     14.0  smart   \n",
       "\n",
       "   payment  \n",
       "0   1950.0  \n",
       "1   1950.0  \n",
       "2   1950.0  \n",
       "3   1950.0  \n",
       "4   1950.0  \n",
       "5   1950.0  \n",
       "6   1950.0  \n",
       "7   1950.0  \n",
       "8   1150.0  \n",
       "9    550.0  "
      ]
     },
     "execution_count": 21,
     "metadata": {},
     "output_type": "execute_result"
    }
   ],
   "source": [
    "megaline['payment'] = megaline.apply(payment, axis=1)\n",
    "megaline.head(10)  "
   ]
  },
  {
   "cell_type": "markdown",
   "id": "f5030d0f",
   "metadata": {},
   "source": [
    "<a id=\"adding\"><h1>3. Анализ данных</h1> </a>"
   ]
  },
  {
   "cell_type": "markdown",
   "id": "edb99287",
   "metadata": {},
   "source": [
    "Опишем поведение клиентов оператора, исходя из выборки. Определим, сколько минут разговора, сколько сообщений и какой объём интернет-трафика требуется пользователям каждого тарифа в месяц? "
   ]
  },
  {
   "cell_type": "code",
   "execution_count": 22,
   "id": "c85b3c5e",
   "metadata": {},
   "outputs": [],
   "source": [
    "month_data = megaline.pivot_table(\n",
    "    index=['tariff', 'month'],\n",
    "    values=['duration', 'messages', 'mb_used', 'payment']\n",
    ")"
   ]
  },
  {
   "cell_type": "code",
   "execution_count": 23,
   "id": "8a6d73c5",
   "metadata": {},
   "outputs": [
    {
     "data": {
      "text/html": [
       "<div>\n",
       "<style scoped>\n",
       "    .dataframe tbody tr th:only-of-type {\n",
       "        vertical-align: middle;\n",
       "    }\n",
       "\n",
       "    .dataframe tbody tr th {\n",
       "        vertical-align: top;\n",
       "    }\n",
       "\n",
       "    .dataframe thead th {\n",
       "        text-align: right;\n",
       "    }\n",
       "</style>\n",
       "<table border=\"1\" class=\"dataframe\">\n",
       "  <thead>\n",
       "    <tr style=\"text-align: right;\">\n",
       "      <th></th>\n",
       "      <th>duration</th>\n",
       "      <th>mb_used</th>\n",
       "      <th>messages</th>\n",
       "      <th>payment</th>\n",
       "    </tr>\n",
       "    <tr>\n",
       "      <th>month</th>\n",
       "      <th></th>\n",
       "      <th></th>\n",
       "      <th></th>\n",
       "      <th></th>\n",
       "    </tr>\n",
       "  </thead>\n",
       "  <tbody>\n",
       "    <tr>\n",
       "      <td>1</td>\n",
       "      <td>203.852941</td>\n",
       "      <td>8513.717647</td>\n",
       "      <td>18.235294</td>\n",
       "      <td>721.323529</td>\n",
       "    </tr>\n",
       "    <tr>\n",
       "      <td>2</td>\n",
       "      <td>298.689655</td>\n",
       "      <td>11597.054310</td>\n",
       "      <td>24.086207</td>\n",
       "      <td>827.603448</td>\n",
       "    </tr>\n",
       "    <tr>\n",
       "      <td>3</td>\n",
       "      <td>390.051948</td>\n",
       "      <td>15104.159091</td>\n",
       "      <td>31.857143</td>\n",
       "      <td>1164.623377</td>\n",
       "    </tr>\n",
       "    <tr>\n",
       "      <td>4</td>\n",
       "      <td>367.133929</td>\n",
       "      <td>13462.180625</td>\n",
       "      <td>30.741071</td>\n",
       "      <td>963.089286</td>\n",
       "    </tr>\n",
       "    <tr>\n",
       "      <td>5</td>\n",
       "      <td>387.361702</td>\n",
       "      <td>15805.184326</td>\n",
       "      <td>33.773050</td>\n",
       "      <td>1197.510638</td>\n",
       "    </tr>\n",
       "    <tr>\n",
       "      <td>6</td>\n",
       "      <td>395.640244</td>\n",
       "      <td>15794.647988</td>\n",
       "      <td>33.402439</td>\n",
       "      <td>1204.018293</td>\n",
       "    </tr>\n",
       "    <tr>\n",
       "      <td>7</td>\n",
       "      <td>408.353234</td>\n",
       "      <td>15743.150348</td>\n",
       "      <td>33.751244</td>\n",
       "      <td>1223.950249</td>\n",
       "    </tr>\n",
       "    <tr>\n",
       "      <td>8</td>\n",
       "      <td>421.468085</td>\n",
       "      <td>16610.720085</td>\n",
       "      <td>33.638298</td>\n",
       "      <td>1320.595745</td>\n",
       "    </tr>\n",
       "    <tr>\n",
       "      <td>9</td>\n",
       "      <td>428.611538</td>\n",
       "      <td>16303.578808</td>\n",
       "      <td>33.638462</td>\n",
       "      <td>1249.946154</td>\n",
       "    </tr>\n",
       "    <tr>\n",
       "      <td>10</td>\n",
       "      <td>426.136054</td>\n",
       "      <td>16757.122891</td>\n",
       "      <td>33.765306</td>\n",
       "      <td>1364.853741</td>\n",
       "    </tr>\n",
       "    <tr>\n",
       "      <td>11</td>\n",
       "      <td>435.265823</td>\n",
       "      <td>16895.696646</td>\n",
       "      <td>34.075949</td>\n",
       "      <td>1343.047468</td>\n",
       "    </tr>\n",
       "    <tr>\n",
       "      <td>12</td>\n",
       "      <td>478.560831</td>\n",
       "      <td>18113.662047</td>\n",
       "      <td>35.994065</td>\n",
       "      <td>1578.531157</td>\n",
       "    </tr>\n",
       "  </tbody>\n",
       "</table>\n",
       "</div>"
      ],
      "text/plain": [
       "         duration       mb_used   messages      payment\n",
       "month                                                  \n",
       "1      203.852941   8513.717647  18.235294   721.323529\n",
       "2      298.689655  11597.054310  24.086207   827.603448\n",
       "3      390.051948  15104.159091  31.857143  1164.623377\n",
       "4      367.133929  13462.180625  30.741071   963.089286\n",
       "5      387.361702  15805.184326  33.773050  1197.510638\n",
       "6      395.640244  15794.647988  33.402439  1204.018293\n",
       "7      408.353234  15743.150348  33.751244  1223.950249\n",
       "8      421.468085  16610.720085  33.638298  1320.595745\n",
       "9      428.611538  16303.578808  33.638462  1249.946154\n",
       "10     426.136054  16757.122891  33.765306  1364.853741\n",
       "11     435.265823  16895.696646  34.075949  1343.047468\n",
       "12     478.560831  18113.662047  35.994065  1578.531157"
      ]
     },
     "execution_count": 23,
     "metadata": {},
     "output_type": "execute_result"
    }
   ],
   "source": [
    "smart_per_month = month_data.loc['smart']\n",
    "smart_per_month"
   ]
  },
  {
   "cell_type": "code",
   "execution_count": 24,
   "id": "60c17c32",
   "metadata": {},
   "outputs": [
    {
     "data": {
      "text/html": [
       "<div>\n",
       "<style scoped>\n",
       "    .dataframe tbody tr th:only-of-type {\n",
       "        vertical-align: middle;\n",
       "    }\n",
       "\n",
       "    .dataframe tbody tr th {\n",
       "        vertical-align: top;\n",
       "    }\n",
       "\n",
       "    .dataframe thead th {\n",
       "        text-align: right;\n",
       "    }\n",
       "</style>\n",
       "<table border=\"1\" class=\"dataframe\">\n",
       "  <thead>\n",
       "    <tr style=\"text-align: right;\">\n",
       "      <th></th>\n",
       "      <th>duration</th>\n",
       "      <th>mb_used</th>\n",
       "      <th>messages</th>\n",
       "      <th>payment</th>\n",
       "    </tr>\n",
       "    <tr>\n",
       "      <th>month</th>\n",
       "      <th></th>\n",
       "      <th></th>\n",
       "      <th></th>\n",
       "      <th></th>\n",
       "    </tr>\n",
       "  </thead>\n",
       "  <tbody>\n",
       "    <tr>\n",
       "      <td>1</td>\n",
       "      <td>428.111111</td>\n",
       "      <td>13140.681111</td>\n",
       "      <td>33.777778</td>\n",
       "      <td>1950.000000</td>\n",
       "    </tr>\n",
       "    <tr>\n",
       "      <td>2</td>\n",
       "      <td>297.125000</td>\n",
       "      <td>11775.937500</td>\n",
       "      <td>21.958333</td>\n",
       "      <td>1975.000000</td>\n",
       "    </tr>\n",
       "    <tr>\n",
       "      <td>3</td>\n",
       "      <td>489.648649</td>\n",
       "      <td>17535.550270</td>\n",
       "      <td>32.297297</td>\n",
       "      <td>2014.864865</td>\n",
       "    </tr>\n",
       "    <tr>\n",
       "      <td>4</td>\n",
       "      <td>458.018182</td>\n",
       "      <td>16828.134364</td>\n",
       "      <td>31.563636</td>\n",
       "      <td>2001.818182</td>\n",
       "    </tr>\n",
       "    <tr>\n",
       "      <td>5</td>\n",
       "      <td>510.328358</td>\n",
       "      <td>19363.152985</td>\n",
       "      <td>37.850746</td>\n",
       "      <td>2059.701493</td>\n",
       "    </tr>\n",
       "    <tr>\n",
       "      <td>6</td>\n",
       "      <td>479.702381</td>\n",
       "      <td>18924.939286</td>\n",
       "      <td>41.726190</td>\n",
       "      <td>2039.285714</td>\n",
       "    </tr>\n",
       "    <tr>\n",
       "      <td>7</td>\n",
       "      <td>545.791209</td>\n",
       "      <td>20495.665165</td>\n",
       "      <td>49.846154</td>\n",
       "      <td>2118.131868</td>\n",
       "    </tr>\n",
       "    <tr>\n",
       "      <td>8</td>\n",
       "      <td>510.775701</td>\n",
       "      <td>19576.054673</td>\n",
       "      <td>48.439252</td>\n",
       "      <td>2083.177570</td>\n",
       "    </tr>\n",
       "    <tr>\n",
       "      <td>9</td>\n",
       "      <td>539.443478</td>\n",
       "      <td>19204.277130</td>\n",
       "      <td>52.286957</td>\n",
       "      <td>2024.347826</td>\n",
       "    </tr>\n",
       "    <tr>\n",
       "      <td>10</td>\n",
       "      <td>558.081301</td>\n",
       "      <td>20045.337317</td>\n",
       "      <td>58.430894</td>\n",
       "      <td>2065.853659</td>\n",
       "    </tr>\n",
       "    <tr>\n",
       "      <td>11</td>\n",
       "      <td>541.380597</td>\n",
       "      <td>19786.812463</td>\n",
       "      <td>55.791045</td>\n",
       "      <td>2092.164179</td>\n",
       "    </tr>\n",
       "    <tr>\n",
       "      <td>12</td>\n",
       "      <td>592.805755</td>\n",
       "      <td>21793.172590</td>\n",
       "      <td>60.611511</td>\n",
       "      <td>2138.848921</td>\n",
       "    </tr>\n",
       "  </tbody>\n",
       "</table>\n",
       "</div>"
      ],
      "text/plain": [
       "         duration       mb_used   messages      payment\n",
       "month                                                  \n",
       "1      428.111111  13140.681111  33.777778  1950.000000\n",
       "2      297.125000  11775.937500  21.958333  1975.000000\n",
       "3      489.648649  17535.550270  32.297297  2014.864865\n",
       "4      458.018182  16828.134364  31.563636  2001.818182\n",
       "5      510.328358  19363.152985  37.850746  2059.701493\n",
       "6      479.702381  18924.939286  41.726190  2039.285714\n",
       "7      545.791209  20495.665165  49.846154  2118.131868\n",
       "8      510.775701  19576.054673  48.439252  2083.177570\n",
       "9      539.443478  19204.277130  52.286957  2024.347826\n",
       "10     558.081301  20045.337317  58.430894  2065.853659\n",
       "11     541.380597  19786.812463  55.791045  2092.164179\n",
       "12     592.805755  21793.172590  60.611511  2138.848921"
      ]
     },
     "execution_count": 24,
     "metadata": {},
     "output_type": "execute_result"
    }
   ],
   "source": [
    "ultra_per_month = month_data.loc['ultra']\n",
    "ultra_per_month"
   ]
  },
  {
   "cell_type": "code",
   "execution_count": 25,
   "id": "fa52b6e1",
   "metadata": {},
   "outputs": [
    {
     "data": {
      "text/html": [
       "<div>\n",
       "<style scoped>\n",
       "    .dataframe tbody tr th:only-of-type {\n",
       "        vertical-align: middle;\n",
       "    }\n",
       "\n",
       "    .dataframe tbody tr th {\n",
       "        vertical-align: top;\n",
       "    }\n",
       "\n",
       "    .dataframe thead th {\n",
       "        text-align: right;\n",
       "    }\n",
       "</style>\n",
       "<table border=\"1\" class=\"dataframe\">\n",
       "  <thead>\n",
       "    <tr style=\"text-align: right;\">\n",
       "      <th></th>\n",
       "      <th>duration</th>\n",
       "      <th>mb_used</th>\n",
       "      <th>messages</th>\n",
       "      <th>payment</th>\n",
       "    </tr>\n",
       "    <tr>\n",
       "      <th>tariff</th>\n",
       "      <th></th>\n",
       "      <th></th>\n",
       "      <th></th>\n",
       "      <th></th>\n",
       "    </tr>\n",
       "  </thead>\n",
       "  <tbody>\n",
       "    <tr>\n",
       "      <td>smart</td>\n",
       "      <td>386.760499</td>\n",
       "      <td>15058.406234</td>\n",
       "      <td>31.413211</td>\n",
       "      <td>1179.924424</td>\n",
       "    </tr>\n",
       "    <tr>\n",
       "      <td>ultra</td>\n",
       "      <td>495.934310</td>\n",
       "      <td>18205.809571</td>\n",
       "      <td>43.714983</td>\n",
       "      <td>2046.932856</td>\n",
       "    </tr>\n",
       "  </tbody>\n",
       "</table>\n",
       "</div>"
      ],
      "text/plain": [
       "          duration       mb_used   messages      payment\n",
       "tariff                                                  \n",
       "smart   386.760499  15058.406234  31.413211  1179.924424\n",
       "ultra   495.934310  18205.809571  43.714983  2046.932856"
      ]
     },
     "execution_count": 25,
     "metadata": {},
     "output_type": "execute_result"
    }
   ],
   "source": [
    "tariff_usage = month_data.pivot_table(\n",
    "    index='tariff',\n",
    "    values=['duration', 'messages', 'mb_used', 'payment']\n",
    ")\n",
    "tariff_usage"
   ]
  },
  {
   "cell_type": "markdown",
   "id": "479910cd",
   "metadata": {},
   "source": [
    "Из таблицы видно, что на тарифе Ультра пользователи более активны, и компании выгоднее Ультра с точки зрения прибыли. Для пользователя выгоднее тариф Смарт."
   ]
  },
  {
   "cell_type": "code",
   "execution_count": 26,
   "id": "80141ca2",
   "metadata": {},
   "outputs": [
    {
     "data": {
      "text/html": [
       "<div>\n",
       "<style scoped>\n",
       "    .dataframe tbody tr th:only-of-type {\n",
       "        vertical-align: middle;\n",
       "    }\n",
       "\n",
       "    .dataframe tbody tr th {\n",
       "        vertical-align: top;\n",
       "    }\n",
       "\n",
       "    .dataframe thead tr th {\n",
       "        text-align: left;\n",
       "    }\n",
       "\n",
       "    .dataframe thead tr:last-of-type th {\n",
       "        text-align: right;\n",
       "    }\n",
       "</style>\n",
       "<table border=\"1\" class=\"dataframe\">\n",
       "  <thead>\n",
       "    <tr>\n",
       "      <th></th>\n",
       "      <th colspan=\"3\" halign=\"left\">duration</th>\n",
       "      <th colspan=\"3\" halign=\"left\">mb_used</th>\n",
       "      <th colspan=\"3\" halign=\"left\">messages</th>\n",
       "      <th colspan=\"4\" halign=\"left\">payment</th>\n",
       "    </tr>\n",
       "    <tr>\n",
       "      <th></th>\n",
       "      <th>median</th>\n",
       "      <th>std</th>\n",
       "      <th>var</th>\n",
       "      <th>median</th>\n",
       "      <th>std</th>\n",
       "      <th>var</th>\n",
       "      <th>median</th>\n",
       "      <th>std</th>\n",
       "      <th>var</th>\n",
       "      <th>mean</th>\n",
       "      <th>median</th>\n",
       "      <th>std</th>\n",
       "      <th>var</th>\n",
       "    </tr>\n",
       "    <tr>\n",
       "      <th>tariff</th>\n",
       "      <th></th>\n",
       "      <th></th>\n",
       "      <th></th>\n",
       "      <th></th>\n",
       "      <th></th>\n",
       "      <th></th>\n",
       "      <th></th>\n",
       "      <th></th>\n",
       "      <th></th>\n",
       "      <th></th>\n",
       "      <th></th>\n",
       "      <th></th>\n",
       "      <th></th>\n",
       "    </tr>\n",
       "  </thead>\n",
       "  <tbody>\n",
       "    <tr>\n",
       "      <td>smart</td>\n",
       "      <td>422.0</td>\n",
       "      <td>190.313730</td>\n",
       "      <td>36219.315784</td>\n",
       "      <td>16506.84</td>\n",
       "      <td>5870.476681</td>\n",
       "      <td>3.446250e+07</td>\n",
       "      <td>28.0</td>\n",
       "      <td>28.227876</td>\n",
       "      <td>796.812958</td>\n",
       "      <td>1289.973531</td>\n",
       "      <td>1023.0</td>\n",
       "      <td>818.404367</td>\n",
       "      <td>669785.708006</td>\n",
       "    </tr>\n",
       "    <tr>\n",
       "      <td>ultra</td>\n",
       "      <td>518.0</td>\n",
       "      <td>317.606098</td>\n",
       "      <td>100873.633397</td>\n",
       "      <td>19308.01</td>\n",
       "      <td>10087.170752</td>\n",
       "      <td>1.017510e+08</td>\n",
       "      <td>38.0</td>\n",
       "      <td>47.804457</td>\n",
       "      <td>2285.266143</td>\n",
       "      <td>2070.152284</td>\n",
       "      <td>1950.0</td>\n",
       "      <td>376.187114</td>\n",
       "      <td>141516.745079</td>\n",
       "    </tr>\n",
       "  </tbody>\n",
       "</table>\n",
       "</div>"
      ],
      "text/plain": [
       "       duration                              mb_used                \\\n",
       "         median         std            var    median           std   \n",
       "tariff                                                               \n",
       "smart     422.0  190.313730   36219.315784  16506.84   5870.476681   \n",
       "ultra     518.0  317.606098  100873.633397  19308.01  10087.170752   \n",
       "\n",
       "                     messages                              payment          \\\n",
       "                 var   median        std          var         mean  median   \n",
       "tariff                                                                       \n",
       "smart   3.446250e+07     28.0  28.227876   796.812958  1289.973531  1023.0   \n",
       "ultra   1.017510e+08     38.0  47.804457  2285.266143  2070.152284  1950.0   \n",
       "\n",
       "                                   \n",
       "               std            var  \n",
       "tariff                             \n",
       "smart   818.404367  669785.708006  \n",
       "ultra   376.187114  141516.745079  "
      ]
     },
     "execution_count": 26,
     "metadata": {},
     "output_type": "execute_result"
    }
   ],
   "source": [
    "stats = megaline.pivot_table(index=['tariff'], values=['duration', 'mb_used', 'messages', 'payment'], \n",
    "                    aggfunc={'duration': [np.median, np.var, np.std], \n",
    "                             'mb_used': [np.median, np.var, np.std],\n",
    "                             'messages': [np.median, np.var, np.std],\n",
    "                             'payment': [np.median, np.var, np.std, np.mean]})\n",
    "stats"
   ]
  },
  {
   "cell_type": "markdown",
   "id": "455faaee",
   "metadata": {},
   "source": [
    "Построим гистограммы и \"ящики с усами\" по тарифам"
   ]
  },
  {
   "cell_type": "code",
   "execution_count": 27,
   "id": "25166ad2",
   "metadata": {},
   "outputs": [
    {
     "data": {
      "text/plain": [
       "<seaborn.axisgrid.FacetGrid at 0x23e52cb4588>"
      ]
     },
     "execution_count": 27,
     "metadata": {},
     "output_type": "execute_result"
    },
    {
     "data": {
      "image/png": "[encoded data removed]",
      "text/plain": [
       "<Figure size 360x360 with 1 Axes>"
      ]
     },
     "metadata": {
      "needs_background": "light"
     },
     "output_type": "display_data"
    }
   ],
   "source": [
    "sns.catplot(x=\"tariff\", y='duration', kind=\"box\", data=megaline, orient='v')"
   ]
  },
  {
   "cell_type": "code",
   "execution_count": 28,
   "id": "dc3a3624",
   "metadata": {},
   "outputs": [
    {
     "data": {
      "text/plain": [
       "<seaborn.axisgrid.FacetGrid at 0x23e52cb43c8>"
      ]
     },
     "execution_count": 28,
     "metadata": {},
     "output_type": "execute_result"
    },
    {
     "data": {
      "image/png": "[encoded data removed]",
      "text/plain": [
       "<Figure size 360x360 with 1 Axes>"
      ]
     },
     "metadata": {
      "needs_background": "light"
     },
     "output_type": "display_data"
    }
   ],
   "source": [
    "sns.catplot(x=\"tariff\", y='mb_used', kind=\"box\", data=megaline, orient='v')"
   ]
  },
  {
   "cell_type": "code",
   "execution_count": 29,
   "id": "615daa7b",
   "metadata": {},
   "outputs": [
    {
     "data": {
      "text/plain": [
       "<seaborn.axisgrid.FacetGrid at 0x23e5330f4c8>"
      ]
     },
     "execution_count": 29,
     "metadata": {},
     "output_type": "execute_result"
    },
    {
     "data": {
      "image/png": "[encoded data removed]",
      "text/plain": [
       "<Figure size 360x360 with 1 Axes>"
      ]
     },
     "metadata": {
      "needs_background": "light"
     },
     "output_type": "display_data"
    }
   ],
   "source": [
    "sns.catplot(x=\"tariff\", y='messages', kind=\"box\", data=megaline, orient='v')"
   ]
  },
  {
   "cell_type": "code",
   "execution_count": 30,
   "id": "9545d095",
   "metadata": {},
   "outputs": [
    {
     "data": {
      "image/png": "[encoded data removed]",
      "text/plain": [
       "<Figure size 432x288 with 1 Axes>"
      ]
     },
     "metadata": {
      "needs_background": "light"
     },
     "output_type": "display_data"
    }
   ],
   "source": [
    "for tariff in (['ultra', 'smart']):\n",
    "    sns.distplot(megaline.query('tariff == @tariff')['duration'], kde=False)\n",
    "_ = plt.legend(['ultra', 'smart'])"
   ]
  },
  {
   "cell_type": "code",
   "execution_count": 31,
   "id": "e4018138",
   "metadata": {},
   "outputs": [
    {
     "data": {
      "image/png": "[encoded data removed]",
      "text/plain": [
       "<Figure size 432x288 with 1 Axes>"
      ]
     },
     "metadata": {
      "needs_background": "light"
     },
     "output_type": "display_data"
    }
   ],
   "source": [
    "for tariff in (['ultra', 'smart']):\n",
    "    sns.distplot(megaline.query('tariff == @tariff')['mb_used'], kde=False)\n",
    "_ = plt.legend(['ultra', 'smart'])"
   ]
  },
  {
   "cell_type": "code",
   "execution_count": 32,
   "id": "2352871e",
   "metadata": {},
   "outputs": [
    {
     "data": {
      "image/png": "[encoded data removed]",
      "text/plain": [
       "<Figure size 432x288 with 1 Axes>"
      ]
     },
     "metadata": {
      "needs_background": "light"
     },
     "output_type": "display_data"
    }
   ],
   "source": [
    "for tariff in (['ultra', 'smart']):\n",
    "    sns.distplot(megaline.query('tariff == @tariff')['messages'], kde=False)\n",
    "_ = plt.legend(['ultra', 'smart'])"
   ]
  },
  {
   "cell_type": "markdown",
   "id": "d48f2622",
   "metadata": {},
   "source": [
    "Отображенные гистаграммы показывают, что дисперсия по \"Ультра\" больше, чем у пользователей с тарифом \"Смарт\". Пользователи тарифа Смарт явно себя ограничивают"
   ]
  },
  {
   "cell_type": "markdown",
   "id": "0a6ce60b",
   "metadata": {},
   "source": [
    "<div class=\"alert alert-block alert-info\">\n",
    "\n",
    "В тарифе smart подавляющее большинство абонентов укладываются в лимит 500 минут разговора (среднее значение за 2018 год - 421 минута), но и в тарифе ultra не сильно ушли от этого значения - среднемесячное не больше 600 минут (не говоря уже об излишнем лимите в 3000! ). По СМС (малопопулярная услуга,  много абонентов которых вообще не пишут СМС или почти не пишут): абоненты тарифа smart вполне укладываются в лимит 50 СМС (а среднее 28 СМС в месяц за год), даже абоненты тарифа ultra редко превышают порог в 50 СМС (скорее всего это какие-то интернет-сервисы или магазины). По интернет-трафику: абоненты smart часто привышают лимитв 15360 МБ, даже среднее значение выше - 16073 МБ; средний расход трафика на smart довольно невысокий не смотря на порог в 30 ГБ средний расход около 18,8 ГБ. Подавляющее большинство абонентов расходуют в месяц трафика от 11 до 23 ГБ\n",
    "Вывод по оплате: выручка от абонентов ultra в подавляющем большинстве случаев ограничивается абонплатой(1950р), а абоненты smart часто платят сверх абонплаты ( 982 - 550 =  482р) - на 87,5% больше абонентской платы!\n",
    "</div>\n"
   ]
  },
  {
   "cell_type": "markdown",
   "id": "31df6768",
   "metadata": {},
   "source": [
    "<a id=\"hyp1\"> <h1> 4. Проверка гипотез </h1></a>"
   ]
  },
  {
   "cell_type": "markdown",
   "id": "cf6d7f5c",
   "metadata": {},
   "source": [
    "<a id=\"analysys\">Гипотеза 1. Cредняя выручка пользователей тарифов «Ультра» и «Смарт» различаются</a> <br>\n",
    "H0 - гипотеза : средние наших выборок равны.<br>\n",
    "H1 - гипотеза : cредняя выручка пользователей тарифов «Ультра» и «Смарт» различается."
   ]
  },
  {
   "cell_type": "code",
   "execution_count": 33,
   "id": "7f85c963",
   "metadata": {},
   "outputs": [
    {
     "name": "stdout",
     "output_type": "stream",
     "text": [
      "P-value: 3.2027925855703315e-08\n",
      "Отвергаем нулевую гипотезу\n"
     ]
    }
   ],
   "source": [
    "alpha = 0.05\n",
    "ultra = ultra_per_month['payment']\n",
    "smart = smart_per_month['payment']\n",
    "results = st.ttest_ind(smart, ultra, equal_var = False)\n",
    "print('P-value:', results.pvalue)\n",
    "\n",
    "if (results.pvalue < alpha):\n",
    "    print(\"Отвергаем нулевую гипотезу\")\n",
    "else:\n",
    "    print(\"Не получилось отвергнуть нулевую гипотезу\")"
   ]
  },
  {
   "cell_type": "markdown",
   "id": "588b992b",
   "metadata": {},
   "source": [
    "Значение p-lavue свидетельствует о малой вероятности случайного совпадения средних по тарифам. Значит, нулевую гипотезу можно отвергнуть и сказать, что с 95% вероятностью средние значения выручки по тарифам не совпадут."
   ]
  },
  {
   "cell_type": "markdown",
   "id": "a442e83d",
   "metadata": {},
   "source": [
    "<a id=\"hyp2\">Гипотеза 2. Cредняя выручка пользователей тарифов «Ультра» и «Смарт» различаются</a><br>\n",
    "H0 - средняя выручка пользователей из Москвы равна средней выручке пользователей из других регионов.\n",
    "<br>\n",
    "H1 - средняя выручка пользователей из Москвы отличается средней выручке пользователей из других регионов."
   ]
  },
  {
   "cell_type": "code",
   "execution_count": 34,
   "id": "84b7842b",
   "metadata": {},
   "outputs": [
    {
     "name": "stdout",
     "output_type": "stream",
     "text": [
      "P-value: 0.5257376663729298\n",
      "Не получилось отвергнуть нулевую гипотезу\n"
     ]
    }
   ],
   "source": [
    "#создадим две таблицы, в одной будут все клиенты из москвы, во второй - все остальные\n",
    "citys = megaline.merge(users_data.loc[: , ['user_id', 'city']], on='user_id')\n",
    "\n",
    "moscow = citys.query('city == \"Москва\"')['payment']\n",
    "regions = citys.query('city != \"Москва\"')['payment']\n",
    "\n",
    "alpha = 0.05\n",
    "results = st.ttest_ind(moscow, regions, equal_var = False)\n",
    "print('P-value:', results.pvalue)\n",
    "\n",
    "if (results.pvalue < alpha):\n",
    "    print(\"Отвергаем нулевую гипотезу\")\n",
    "else:\n",
    "    print(\"Не получилось отвергнуть нулевую гипотезу\")"
   ]
  },
  {
   "cell_type": "markdown",
   "id": "e570c22d",
   "metadata": {},
   "source": [
    "<a id=\"conclusions\"><h1>5. Общие выводы</h1> </a>"
   ]
  },
  {
   "cell_type": "markdown",
   "id": "4a62857f",
   "metadata": {},
   "source": [
    "Доходы от тарифа  больше, чем от тарифа «Смарт». Кроме того, не все пользователи тарифа «Ультра» тратят доступный им лимит. Доплат по тарифу «Ультра» очень мало. В тарифе «Смарт» часто доплачивают за дополнительные пакеты интернета. Количество пользователей таррифа «Смарт» больше в 2 раза, что можно объяснить более выгодными условиями для пользователей. \n",
    "В целом для оператора выгоднее тариф «Ультра»."
   ]
  },
  {
   "cell_type": "code",
   "execution_count": null,
   "id": "2c3ce62c",
   "metadata": {},
   "outputs": [],
   "source": []
  }
 ],
 "metadata": {
  "ExecuteTimeLog": [
   {
    "duration": 1037,
    "start_time": "2022-01-19T17:54:40.278Z"
   },
   {
    "duration": 2124,
    "start_time": "2022-01-19T17:54:41.316Z"
   },
   {
    "duration": -32,
    "start_time": "2022-01-19T17:54:43.475Z"
   },
   {
    "duration": -34,
    "start_time": "2022-01-19T17:54:43.478Z"
   },
   {
    "duration": -35,
    "start_time": "2022-01-19T17:54:43.480Z"
   },
   {
    "duration": -37,
    "start_time": "2022-01-19T17:54:43.483Z"
   },
   {
    "duration": -39,
    "start_time": "2022-01-19T17:54:43.486Z"
   },
   {
    "duration": -41,
    "start_time": "2022-01-19T17:54:43.489Z"
   },
   {
    "duration": -42,
    "start_time": "2022-01-19T17:54:43.491Z"
   },
   {
    "duration": -44,
    "start_time": "2022-01-19T17:54:43.494Z"
   },
   {
    "duration": -46,
    "start_time": "2022-01-19T17:54:43.497Z"
   },
   {
    "duration": -49,
    "start_time": "2022-01-19T17:54:43.501Z"
   },
   {
    "duration": -50,
    "start_time": "2022-01-19T17:54:43.503Z"
   },
   {
    "duration": -51,
    "start_time": "2022-01-19T17:54:43.505Z"
   },
   {
    "duration": -52,
    "start_time": "2022-01-19T17:54:43.507Z"
   },
   {
    "duration": -54,
    "start_time": "2022-01-19T17:54:43.510Z"
   },
   {
    "duration": -57,
    "start_time": "2022-01-19T17:54:43.514Z"
   },
   {
    "duration": -58,
    "start_time": "2022-01-19T17:54:43.516Z"
   },
   {
    "duration": -59,
    "start_time": "2022-01-19T17:54:43.518Z"
   },
   {
    "duration": -66,
    "start_time": "2022-01-19T17:54:43.526Z"
   },
   {
    "duration": -68,
    "start_time": "2022-01-19T17:54:43.529Z"
   },
   {
    "duration": -70,
    "start_time": "2022-01-19T17:54:43.531Z"
   },
   {
    "duration": -71,
    "start_time": "2022-01-19T17:54:43.533Z"
   },
   {
    "duration": -72,
    "start_time": "2022-01-19T17:54:43.535Z"
   },
   {
    "duration": -73,
    "start_time": "2022-01-19T17:54:43.537Z"
   },
   {
    "duration": -75,
    "start_time": "2022-01-19T17:54:43.540Z"
   },
   {
    "duration": -82,
    "start_time": "2022-01-19T17:54:43.549Z"
   },
   {
    "duration": -85,
    "start_time": "2022-01-19T17:54:43.552Z"
   },
   {
    "duration": -86,
    "start_time": "2022-01-19T17:54:43.554Z"
   },
   {
    "duration": -87,
    "start_time": "2022-01-19T17:54:43.556Z"
   },
   {
    "duration": -89,
    "start_time": "2022-01-19T17:54:43.559Z"
   },
   {
    "duration": -96,
    "start_time": "2022-01-19T17:54:43.567Z"
   },
   {
    "duration": -97,
    "start_time": "2022-01-19T17:54:43.569Z"
   },
   {
    "duration": 2236,
    "start_time": "2022-01-19T17:56:11.972Z"
   },
   {
    "duration": 1857,
    "start_time": "2022-01-19T17:56:32.132Z"
   },
   {
    "duration": 389,
    "start_time": "2022-01-19T17:57:36.768Z"
   },
   {
    "duration": 17,
    "start_time": "2022-01-19T17:57:40.725Z"
   },
   {
    "duration": 26,
    "start_time": "2022-01-19T17:57:40.744Z"
   },
   {
    "duration": 17,
    "start_time": "2022-01-19T17:57:40.772Z"
   },
   {
    "duration": 40,
    "start_time": "2022-01-19T17:57:40.791Z"
   },
   {
    "duration": 10,
    "start_time": "2022-01-19T17:57:40.833Z"
   },
   {
    "duration": 83,
    "start_time": "2022-01-19T17:57:40.845Z"
   },
   {
    "duration": 4,
    "start_time": "2022-01-19T17:57:40.930Z"
   },
   {
    "duration": 61,
    "start_time": "2022-01-19T17:57:40.937Z"
   },
   {
    "duration": 13,
    "start_time": "2022-01-19T17:57:41.012Z"
   },
   {
    "duration": 13,
    "start_time": "2022-01-19T17:57:41.026Z"
   },
   {
    "duration": 104,
    "start_time": "2022-01-19T17:57:41.041Z"
   },
   {
    "duration": 124,
    "start_time": "2022-01-19T17:57:41.147Z"
   },
   {
    "duration": 96,
    "start_time": "2022-01-19T17:57:41.273Z"
   },
   {
    "duration": 21,
    "start_time": "2022-01-19T17:57:41.371Z"
   },
   {
    "duration": 28,
    "start_time": "2022-01-19T17:57:41.394Z"
   },
   {
    "duration": 18,
    "start_time": "2022-01-19T17:57:41.423Z"
   },
   {
    "duration": 5,
    "start_time": "2022-01-19T17:57:41.442Z"
   },
   {
    "duration": 296,
    "start_time": "2022-01-19T17:57:41.448Z"
   },
   {
    "duration": 12,
    "start_time": "2022-01-19T17:57:41.745Z"
   },
   {
    "duration": 9,
    "start_time": "2022-01-19T17:57:41.758Z"
   },
   {
    "duration": 8,
    "start_time": "2022-01-19T17:57:41.769Z"
   },
   {
    "duration": 38,
    "start_time": "2022-01-19T17:57:41.779Z"
   },
   {
    "duration": 30,
    "start_time": "2022-01-19T17:57:41.820Z"
   },
   {
    "duration": 303,
    "start_time": "2022-01-19T17:57:41.852Z"
   },
   {
    "duration": 290,
    "start_time": "2022-01-19T17:57:42.157Z"
   },
   {
    "duration": 283,
    "start_time": "2022-01-19T17:57:42.448Z"
   },
   {
    "duration": 268,
    "start_time": "2022-01-19T17:57:42.732Z"
   },
   {
    "duration": 264,
    "start_time": "2022-01-19T17:57:43.002Z"
   },
   {
    "duration": 269,
    "start_time": "2022-01-19T17:57:43.268Z"
   },
   {
    "duration": 5,
    "start_time": "2022-01-19T17:57:43.538Z"
   },
   {
    "duration": 13,
    "start_time": "2022-01-19T17:57:43.544Z"
   },
   {
    "duration": 116,
    "start_time": "2022-01-20T18:19:24.854Z"
   }
  ],
  "kernelspec": {
   "display_name": "Python 3 (ipykernel)",
   "language": "python",
   "name": "python3"
  },
  "language_info": {
   "codemirror_mode": {
    "name": "ipython",
    "version": 3
   },
   "file_extension": ".py",
   "mimetype": "text/x-python",
   "name": "python",
   "nbconvert_exporter": "python",
   "pygments_lexer": "ipython3",
   "version": "3.7.8"
  },
  "toc": {
   "base_numbering": 1,
   "nav_menu": {},
   "number_sections": true,
   "sideBar": true,
   "skip_h1_title": true,
   "title_cell": "Table of Contents",
   "title_sidebar": "Contents",
   "toc_cell": false,
   "toc_position": {},
   "toc_section_display": true,
   "toc_window_display": false
  }
 },
 "nbformat": 4,
 "nbformat_minor": 5
}
